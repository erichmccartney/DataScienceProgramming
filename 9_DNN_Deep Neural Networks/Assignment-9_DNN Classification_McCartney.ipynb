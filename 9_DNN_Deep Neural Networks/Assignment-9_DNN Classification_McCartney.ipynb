{
 "cells": [
  {
   "cell_type": "markdown",
   "metadata": {},
   "source": [
    "# Assignment - Deep Neural Network - Classification - McCartney"
   ]
  },
  {
   "cell_type": "markdown",
   "metadata": {},
   "source": [
    "In this assignment, we will focus transportation mode detection. It contains data about smarthphone sensors as people are using different modes of transportation. Each row represents a specific mode of transportation and the corresponding readings in the smartphone sensors (for that mode of transportation). This is a multiclass classification task: predict whether the mode of transportation based on a smartphone's sensor readings. Transportation mode prediction can provide context information to enhance applications and provide a better user experience. It can be crucial for many different applications, such as device profiling, monitoring road and traffic conditions, healthcare, travel support etc."
   ]
  },
  {
   "cell_type": "markdown",
   "metadata": {},
   "source": [
    "## Description of Variables\n",
    "\n",
    "The description of variables are provided in \"Transportation - Data Dictionary.docx\""
   ]
  },
  {
   "cell_type": "markdown",
   "metadata": {},
   "source": [
    "## Goal\n",
    "\n",
    "Use the **transportation.csv** data set and build a model to predict **target**. Build at least **three neural network models**."
   ]
  },
  {
   "cell_type": "markdown",
   "metadata": {},
   "source": [
    "## Submission:\n",
    "\n",
    "Please save and submit this Jupyter notebook file. The correctness of the code matters for your grade. **Readability and organization of your code is also important.** You may lose points for submitting unreadable/undecipherable code. Therefore, use markdown cells to create sections, and use comments where necessary.\n"
   ]
  },
  {
   "cell_type": "markdown",
   "metadata": {},
   "source": [
    "# Read and Prepare the Data\n",
    "## Also, perform feature engineering: create one new variable from existing ones"
   ]
  },
  {
   "cell_type": "code",
   "execution_count": 2,
   "metadata": {},
   "outputs": [],
   "source": [
    "# Common imports\n",
    "import numpy as np\n",
    "import pandas as pd\n",
    "\n",
    "np.random.seed(42)"
   ]
  },
  {
   "cell_type": "code",
   "execution_count": 22,
   "metadata": {},
   "outputs": [
    {
     "data": {
      "text/html": [
       "<div>\n",
       "<style scoped>\n",
       "    .dataframe tbody tr th:only-of-type {\n",
       "        vertical-align: middle;\n",
       "    }\n",
       "\n",
       "    .dataframe tbody tr th {\n",
       "        vertical-align: top;\n",
       "    }\n",
       "\n",
       "    .dataframe thead th {\n",
       "        text-align: right;\n",
       "    }\n",
       "</style>\n",
       "<table border=\"1\" class=\"dataframe\">\n",
       "  <thead>\n",
       "    <tr style=\"text-align: right;\">\n",
       "      <th></th>\n",
       "      <th>androidsensoraccelerometermean</th>\n",
       "      <th>androidsensoraccelerometermin</th>\n",
       "      <th>androidsensoraccelerometermax</th>\n",
       "      <th>androidsensoraccelerometerstd</th>\n",
       "      <th>androidsensorgyroscopemean</th>\n",
       "      <th>androidsensorgyroscopemin</th>\n",
       "      <th>androidsensorgyroscopemax</th>\n",
       "      <th>androidsensorgyroscopestd</th>\n",
       "      <th>soundmean</th>\n",
       "      <th>soundmin</th>\n",
       "      <th>soundmax</th>\n",
       "      <th>soundstd</th>\n",
       "      <th>target</th>\n",
       "    </tr>\n",
       "  </thead>\n",
       "  <tbody>\n",
       "    <tr>\n",
       "      <th>0</th>\n",
       "      <td>9.701276</td>\n",
       "      <td>9.520186</td>\n",
       "      <td>9.826383</td>\n",
       "      <td>0.074273</td>\n",
       "      <td>0.021729</td>\n",
       "      <td>0.012970</td>\n",
       "      <td>0.033699</td>\n",
       "      <td>0.005727</td>\n",
       "      <td>88.111708</td>\n",
       "      <td>88.111708</td>\n",
       "      <td>88.111708</td>\n",
       "      <td>0.000000</td>\n",
       "      <td>Train</td>\n",
       "    </tr>\n",
       "    <tr>\n",
       "      <th>1</th>\n",
       "      <td>9.240731</td>\n",
       "      <td>6.927889</td>\n",
       "      <td>11.371441</td>\n",
       "      <td>1.157460</td>\n",
       "      <td>0.114340</td>\n",
       "      <td>0.018950</td>\n",
       "      <td>0.291155</td>\n",
       "      <td>0.071189</td>\n",
       "      <td>89.771860</td>\n",
       "      <td>89.771860</td>\n",
       "      <td>89.771860</td>\n",
       "      <td>0.008778</td>\n",
       "      <td>Bus</td>\n",
       "    </tr>\n",
       "    <tr>\n",
       "      <th>2</th>\n",
       "      <td>10.397750</td>\n",
       "      <td>8.649993</td>\n",
       "      <td>11.105722</td>\n",
       "      <td>0.614978</td>\n",
       "      <td>0.301824</td>\n",
       "      <td>0.260226</td>\n",
       "      <td>0.339794</td>\n",
       "      <td>0.021420</td>\n",
       "      <td>89.797764</td>\n",
       "      <td>89.797764</td>\n",
       "      <td>89.797764</td>\n",
       "      <td>0.039875</td>\n",
       "      <td>Car</td>\n",
       "    </tr>\n",
       "    <tr>\n",
       "      <th>3</th>\n",
       "      <td>10.197564</td>\n",
       "      <td>9.977808</td>\n",
       "      <td>10.417198</td>\n",
       "      <td>0.137675</td>\n",
       "      <td>0.017742</td>\n",
       "      <td>0.003502</td>\n",
       "      <td>0.039349</td>\n",
       "      <td>0.009800</td>\n",
       "      <td>89.746162</td>\n",
       "      <td>89.746162</td>\n",
       "      <td>89.746162</td>\n",
       "      <td>0.122969</td>\n",
       "      <td>Train</td>\n",
       "    </tr>\n",
       "    <tr>\n",
       "      <th>4</th>\n",
       "      <td>9.812239</td>\n",
       "      <td>8.290205</td>\n",
       "      <td>11.913782</td>\n",
       "      <td>1.016052</td>\n",
       "      <td>0.109497</td>\n",
       "      <td>0.005390</td>\n",
       "      <td>0.277880</td>\n",
       "      <td>0.070489</td>\n",
       "      <td>89.768758</td>\n",
       "      <td>89.768758</td>\n",
       "      <td>89.768758</td>\n",
       "      <td>1.023191</td>\n",
       "      <td>Bus</td>\n",
       "    </tr>\n",
       "  </tbody>\n",
       "</table>\n",
       "</div>"
      ],
      "text/plain": [
       "   androidsensoraccelerometermean  androidsensoraccelerometermin  \\\n",
       "0                        9.701276                       9.520186   \n",
       "1                        9.240731                       6.927889   \n",
       "2                       10.397750                       8.649993   \n",
       "3                       10.197564                       9.977808   \n",
       "4                        9.812239                       8.290205   \n",
       "\n",
       "   androidsensoraccelerometermax  androidsensoraccelerometerstd  \\\n",
       "0                       9.826383                       0.074273   \n",
       "1                      11.371441                       1.157460   \n",
       "2                      11.105722                       0.614978   \n",
       "3                      10.417198                       0.137675   \n",
       "4                      11.913782                       1.016052   \n",
       "\n",
       "   androidsensorgyroscopemean  androidsensorgyroscopemin  \\\n",
       "0                    0.021729                   0.012970   \n",
       "1                    0.114340                   0.018950   \n",
       "2                    0.301824                   0.260226   \n",
       "3                    0.017742                   0.003502   \n",
       "4                    0.109497                   0.005390   \n",
       "\n",
       "   androidsensorgyroscopemax  androidsensorgyroscopestd  soundmean   soundmin  \\\n",
       "0                   0.033699                   0.005727  88.111708  88.111708   \n",
       "1                   0.291155                   0.071189  89.771860  89.771860   \n",
       "2                   0.339794                   0.021420  89.797764  89.797764   \n",
       "3                   0.039349                   0.009800  89.746162  89.746162   \n",
       "4                   0.277880                   0.070489  89.768758  89.768758   \n",
       "\n",
       "    soundmax  soundstd target  \n",
       "0  88.111708  0.000000  Train  \n",
       "1  89.771860  0.008778    Bus  \n",
       "2  89.797764  0.039875    Car  \n",
       "3  89.746162  0.122969  Train  \n",
       "4  89.768758  1.023191    Bus  "
      ]
     },
     "execution_count": 22,
     "metadata": {},
     "output_type": "execute_result"
    }
   ],
   "source": [
    "transportation = pd.read_csv(\"transportation.csv\")\n",
    "transportation.head()"
   ]
  },
  {
   "cell_type": "code",
   "execution_count": 23,
   "metadata": {},
   "outputs": [],
   "source": [
    "from sklearn.model_selection import train_test_split\n",
    "\n",
    "train_set, test_set = train_test_split(transportation, test_size=0.3)"
   ]
  },
  {
   "cell_type": "code",
   "execution_count": 25,
   "metadata": {},
   "outputs": [
    {
     "data": {
      "text/plain": [
       "androidsensoraccelerometermean    0\n",
       "androidsensoraccelerometermin     0\n",
       "androidsensoraccelerometermax     0\n",
       "androidsensoraccelerometerstd     0\n",
       "androidsensorgyroscopemean        0\n",
       "androidsensorgyroscopemin         0\n",
       "androidsensorgyroscopemax         0\n",
       "androidsensorgyroscopestd         0\n",
       "soundmean                         0\n",
       "soundmin                          0\n",
       "soundmax                          0\n",
       "soundstd                          0\n",
       "target                            0\n",
       "dtype: int64"
      ]
     },
     "execution_count": 25,
     "metadata": {},
     "output_type": "execute_result"
    }
   ],
   "source": [
    "train_set.isna().sum()"
   ]
  },
  {
   "cell_type": "code",
   "execution_count": 26,
   "metadata": {},
   "outputs": [
    {
     "data": {
      "text/plain": [
       "androidsensoraccelerometermean    0\n",
       "androidsensoraccelerometermin     0\n",
       "androidsensoraccelerometermax     0\n",
       "androidsensoraccelerometerstd     0\n",
       "androidsensorgyroscopemean        0\n",
       "androidsensorgyroscopemin         0\n",
       "androidsensorgyroscopemax         0\n",
       "androidsensorgyroscopestd         0\n",
       "soundmean                         0\n",
       "soundmin                          0\n",
       "soundmax                          0\n",
       "soundstd                          0\n",
       "target                            0\n",
       "dtype: int64"
      ]
     },
     "execution_count": 26,
     "metadata": {},
     "output_type": "execute_result"
    }
   ],
   "source": [
    "test_set.isna().sum()"
   ]
  },
  {
   "cell_type": "code",
   "execution_count": 27,
   "metadata": {},
   "outputs": [],
   "source": [
    "from sklearn.compose import ColumnTransformer\n",
    "from sklearn.pipeline import Pipeline\n",
    "from sklearn.impute import SimpleImputer\n",
    "from sklearn.preprocessing import StandardScaler\n",
    "from sklearn.preprocessing import OneHotEncoder\n",
    "\n",
    "from sklearn.preprocessing import FunctionTransformer"
   ]
  },
  {
   "cell_type": "code",
   "execution_count": 28,
   "metadata": {},
   "outputs": [],
   "source": [
    "# We can't use the following columns in this tutorial, because they are not for binary classification tasks\n",
    "\n",
    "train = train_set.drop([], axis=1)\n",
    "test = test_set.drop([], axis=1)"
   ]
  },
  {
   "cell_type": "code",
   "execution_count": 29,
   "metadata": {},
   "outputs": [],
   "source": [
    "train_target = train[['target']]\n",
    "test_target = test[['target']]\n",
    "\n",
    "train_inputs = train.drop(['target'], axis=1)\n",
    "test_inputs = test.drop(['target'], axis=1)"
   ]
  },
  {
   "cell_type": "markdown",
   "metadata": {},
   "source": [
    "### Feature Engineering"
   ]
  },
  {
   "cell_type": "code",
   "execution_count": 30,
   "metadata": {},
   "outputs": [
    {
     "data": {
      "text/plain": [
       "0.000000    429\n",
       "0.003665     19\n",
       "0.001728     15\n",
       "0.002732      7\n",
       "0.061094      6\n",
       "           ... \n",
       "0.067099      1\n",
       "0.534092      1\n",
       "1.195875      1\n",
       "0.001704      1\n",
       "2.176901      1\n",
       "Name: androidsensorgyroscopemean, Length: 2995, dtype: int64"
      ]
     },
     "execution_count": 30,
     "metadata": {},
     "output_type": "execute_result"
    }
   ],
   "source": [
    "train_inputs['androidsensorgyroscopemean'].value_counts()"
   ]
  },
  {
   "cell_type": "code",
   "execution_count": 31,
   "metadata": {
    "scrolled": true
   },
   "outputs": [
    {
     "data": {
      "text/plain": [
       "<AxesSubplot:>"
      ]
     },
     "execution_count": 31,
     "metadata": {},
     "output_type": "execute_result"
    },
    {
     "data": {
      "image/png": "[encoded data removed]",
      "text/plain": [
       "<Figure size 432x288 with 1 Axes>"
      ]
     },
     "metadata": {
      "needs_background": "light"
     },
     "output_type": "display_data"
    }
   ],
   "source": [
    "train_inputs['androidsensorgyroscopemean'].hist()"
   ]
  },
  {
   "cell_type": "code",
   "execution_count": 32,
   "metadata": {},
   "outputs": [],
   "source": [
    "# Import power transformer from sklearn. It will help us create a \"normal distribution\"\n",
    "from sklearn.preprocessing import PowerTransformer\n",
    "\n",
    "PT = PowerTransformer(method = 'yeo-johnson', standardize=True)"
   ]
  },
  {
   "cell_type": "code",
   "execution_count": 33,
   "metadata": {},
   "outputs": [],
   "source": [
    "transformed_androidsensorgyroscopemean = PT.fit_transform(train_inputs[['androidsensorgyroscopemean']])"
   ]
  },
  {
   "cell_type": "code",
   "execution_count": 34,
   "metadata": {},
   "outputs": [
    {
     "data": {
      "text/plain": [
       "array([[<AxesSubplot:title={'center':'0'}>]], dtype=object)"
      ]
     },
     "execution_count": 34,
     "metadata": {},
     "output_type": "execute_result"
    },
    {
     "data": {
      "image/png": "[encoded data removed]",
      "text/plain": [
       "<Figure size 432x288 with 1 Axes>"
      ]
     },
     "metadata": {
      "needs_background": "light"
     },
     "output_type": "display_data"
    }
   ],
   "source": [
    "pd.DataFrame(transformed_androidsensorgyroscopemean).hist()"
   ]
  },
  {
   "cell_type": "code",
   "execution_count": 35,
   "metadata": {},
   "outputs": [
    {
     "data": {
      "text/plain": [
       "androidsensoraccelerometermean    float64\n",
       "androidsensoraccelerometermin     float64\n",
       "androidsensoraccelerometermax     float64\n",
       "androidsensoraccelerometerstd     float64\n",
       "androidsensorgyroscopemean        float64\n",
       "androidsensorgyroscopemin         float64\n",
       "androidsensorgyroscopemax         float64\n",
       "androidsensorgyroscopestd         float64\n",
       "soundmean                         float64\n",
       "soundmin                          float64\n",
       "soundmax                          float64\n",
       "soundstd                          float64\n",
       "dtype: object"
      ]
     },
     "execution_count": 35,
     "metadata": {},
     "output_type": "execute_result"
    }
   ],
   "source": [
    "train_inputs.dtypes"
   ]
  },
  {
   "cell_type": "code",
   "execution_count": 36,
   "metadata": {},
   "outputs": [],
   "source": [
    "# Identify the numerical columns\n",
    "numeric_columns = train_inputs.select_dtypes(include=[np.number]).columns.to_list()"
   ]
  },
  {
   "cell_type": "code",
   "execution_count": 37,
   "metadata": {},
   "outputs": [
    {
     "data": {
      "text/plain": [
       "['androidsensoraccelerometermean',\n",
       " 'androidsensoraccelerometermin',\n",
       " 'androidsensoraccelerometermax',\n",
       " 'androidsensoraccelerometerstd',\n",
       " 'androidsensorgyroscopemean',\n",
       " 'androidsensorgyroscopemin',\n",
       " 'androidsensorgyroscopemax',\n",
       " 'androidsensorgyroscopestd',\n",
       " 'soundmean',\n",
       " 'soundmin',\n",
       " 'soundmax',\n",
       " 'soundstd']"
      ]
     },
     "execution_count": 37,
     "metadata": {},
     "output_type": "execute_result"
    }
   ],
   "source": [
    "numeric_columns"
   ]
  },
  {
   "cell_type": "code",
   "execution_count": 38,
   "metadata": {},
   "outputs": [],
   "source": [
    "transformed_columns = ['androidsensorgyroscopemean']"
   ]
  },
  {
   "cell_type": "markdown",
   "metadata": {},
   "source": [
    "### Pipeline"
   ]
  },
  {
   "cell_type": "code",
   "execution_count": 39,
   "metadata": {},
   "outputs": [],
   "source": [
    "numeric_transformer = Pipeline(steps=[\n",
    "                ('imputer', SimpleImputer(strategy='median')),\n",
    "                ('scaler', StandardScaler())])"
   ]
  },
  {
   "cell_type": "code",
   "execution_count": 40,
   "metadata": {},
   "outputs": [],
   "source": [
    "my_new_column = Pipeline(steps=[\n",
    "                ('imputer', SimpleImputer(strategy='median')),\n",
    "                ('powertransformer', PowerTransformer(method = 'yeo-johnson', standardize=True))])"
   ]
  },
  {
   "cell_type": "code",
   "execution_count": 41,
   "metadata": {},
   "outputs": [],
   "source": [
    "preprocessor = ColumnTransformer([\n",
    "        ('num', numeric_transformer, numeric_columns),\n",
    "        #('cat', categorical_transformer, categorical_columns),\n",
    "        #('binary', binary_transformer, binary_columns),\n",
    "        ('trans', my_new_column, transformed_columns)],\n",
    "        remainder='passthrough')\n",
    "\n",
    "#passtrough is an optional step. You don't have to use it."
   ]
  },
  {
   "cell_type": "markdown",
   "metadata": {},
   "source": [
    "### Transform"
   ]
  },
  {
   "cell_type": "code",
   "execution_count": 42,
   "metadata": {},
   "outputs": [
    {
     "data": {
      "text/plain": [
       "array([[-0.96502736,  0.18813864, -0.47059151, ..., -2.03871059,\n",
       "        -0.46595122, -0.54204567],\n",
       "       [-0.44993714,  0.39374271, -0.45801539, ...,  0.41327939,\n",
       "         0.45606711, -0.49684724],\n",
       "       [-0.2398556 , -0.1440191 , -0.0460587 , ...,  0.11094777,\n",
       "        -0.06080159, -0.91181332],\n",
       "       ...,\n",
       "       [ 0.81775282,  0.66660056, -0.16738671, ...,  0.2894401 ,\n",
       "        -0.32030219,  0.14341749],\n",
       "       [ 0.91256496,  0.92118101, -0.15963158, ...,  0.12363989,\n",
       "        -0.17193402, -0.07642557],\n",
       "       [-0.00741434,  0.86171927, -0.4353211 , ...,  0.7542238 ,\n",
       "        -0.46525574, -0.83020435]])"
      ]
     },
     "execution_count": 42,
     "metadata": {},
     "output_type": "execute_result"
    }
   ],
   "source": [
    "#Fit and transform the train data\n",
    "train_x = preprocessor.fit_transform(train_inputs)\n",
    "\n",
    "train_x"
   ]
  },
  {
   "cell_type": "code",
   "execution_count": 43,
   "metadata": {},
   "outputs": [
    {
     "data": {
      "text/plain": [
       "(3500, 13)"
      ]
     },
     "execution_count": 43,
     "metadata": {},
     "output_type": "execute_result"
    }
   ],
   "source": [
    "train_x.shape"
   ]
  },
  {
   "cell_type": "code",
   "execution_count": 44,
   "metadata": {},
   "outputs": [
    {
     "data": {
      "text/plain": [
       "array([[-0.47186822,  0.67141103, -0.46687855, ..., -0.50464325,\n",
       "        -0.11498009, -0.91181332],\n",
       "       [-0.19484422,  0.32231464, -0.22875245, ..., -2.03871059,\n",
       "        -0.46595122, -0.64136491],\n",
       "       [-0.35212761,  0.68145389, -0.45852856, ...,  0.15745292,\n",
       "         0.80725399, -0.82512189],\n",
       "       ...,\n",
       "       [ 0.53222872,  0.38577108, -0.15379124, ...,  0.26856399,\n",
       "        -0.46595122,  1.24627251],\n",
       "       [ 2.7725744 , -1.4377839 ,  1.19230982, ..., -2.03871059,\n",
       "        -0.46595122,  1.92998202],\n",
       "       [ 0.35875065,  0.77523588, -0.24882557, ...,  0.6100174 ,\n",
       "        -0.46595122,  1.36387137]])"
      ]
     },
     "execution_count": 44,
     "metadata": {},
     "output_type": "execute_result"
    }
   ],
   "source": [
    "# Transform the test data\n",
    "test_x = preprocessor.transform(test_inputs)\n",
    "\n",
    "test_x"
   ]
  },
  {
   "cell_type": "code",
   "execution_count": 45,
   "metadata": {},
   "outputs": [
    {
     "data": {
      "text/plain": [
       "(1500, 13)"
      ]
     },
     "execution_count": 45,
     "metadata": {},
     "output_type": "execute_result"
    }
   ],
   "source": [
    "test_x.shape"
   ]
  },
  {
   "cell_type": "code",
   "execution_count": 46,
   "metadata": {},
   "outputs": [
    {
     "data": {
      "text/html": [
       "<div>\n",
       "<style scoped>\n",
       "    .dataframe tbody tr th:only-of-type {\n",
       "        vertical-align: middle;\n",
       "    }\n",
       "\n",
       "    .dataframe tbody tr th {\n",
       "        vertical-align: top;\n",
       "    }\n",
       "\n",
       "    .dataframe thead th {\n",
       "        text-align: right;\n",
       "    }\n",
       "</style>\n",
       "<table border=\"1\" class=\"dataframe\">\n",
       "  <thead>\n",
       "    <tr style=\"text-align: right;\">\n",
       "      <th></th>\n",
       "      <th>target</th>\n",
       "    </tr>\n",
       "  </thead>\n",
       "  <tbody>\n",
       "    <tr>\n",
       "      <th>3298</th>\n",
       "      <td>Bus</td>\n",
       "    </tr>\n",
       "    <tr>\n",
       "      <th>1662</th>\n",
       "      <td>Train</td>\n",
       "    </tr>\n",
       "    <tr>\n",
       "      <th>1528</th>\n",
       "      <td>Train</td>\n",
       "    </tr>\n",
       "    <tr>\n",
       "      <th>3651</th>\n",
       "      <td>Train</td>\n",
       "    </tr>\n",
       "    <tr>\n",
       "      <th>4988</th>\n",
       "      <td>Car</td>\n",
       "    </tr>\n",
       "    <tr>\n",
       "      <th>...</th>\n",
       "      <td>...</td>\n",
       "    </tr>\n",
       "    <tr>\n",
       "      <th>1504</th>\n",
       "      <td>Bus</td>\n",
       "    </tr>\n",
       "    <tr>\n",
       "      <th>2662</th>\n",
       "      <td>Train</td>\n",
       "    </tr>\n",
       "    <tr>\n",
       "      <th>4234</th>\n",
       "      <td>Train</td>\n",
       "    </tr>\n",
       "    <tr>\n",
       "      <th>882</th>\n",
       "      <td>Train</td>\n",
       "    </tr>\n",
       "    <tr>\n",
       "      <th>3113</th>\n",
       "      <td>Still</td>\n",
       "    </tr>\n",
       "  </tbody>\n",
       "</table>\n",
       "<p>3500 rows × 1 columns</p>\n",
       "</div>"
      ],
      "text/plain": [
       "     target\n",
       "3298    Bus\n",
       "1662  Train\n",
       "1528  Train\n",
       "3651  Train\n",
       "4988    Car\n",
       "...     ...\n",
       "1504    Bus\n",
       "2662  Train\n",
       "4234  Train\n",
       "882   Train\n",
       "3113  Still\n",
       "\n",
       "[3500 rows x 1 columns]"
      ]
     },
     "execution_count": 46,
     "metadata": {},
     "output_type": "execute_result"
    }
   ],
   "source": [
    "train_target"
   ]
  },
  {
   "cell_type": "markdown",
   "metadata": {},
   "source": [
    "## Keras needs Ordinal target values for classification"
   ]
  },
  {
   "cell_type": "code",
   "execution_count": 47,
   "metadata": {},
   "outputs": [
    {
     "data": {
      "text/plain": [
       "array([[0.],\n",
       "       [3.],\n",
       "       [3.],\n",
       "       ...,\n",
       "       [3.],\n",
       "       [3.],\n",
       "       [2.]])"
      ]
     },
     "execution_count": 47,
     "metadata": {},
     "output_type": "execute_result"
    }
   ],
   "source": [
    "from sklearn.preprocessing import OrdinalEncoder\n",
    "\n",
    "ord_enc = OrdinalEncoder()\n",
    "\n",
    "train_y = ord_enc.fit_transform(train_target)\n",
    "\n",
    "train_y"
   ]
  },
  {
   "cell_type": "code",
   "execution_count": 48,
   "metadata": {},
   "outputs": [
    {
     "data": {
      "text/plain": [
       "array([[1.],\n",
       "       [1.],\n",
       "       [0.],\n",
       "       ...,\n",
       "       [0.],\n",
       "       [4.],\n",
       "       [4.]])"
      ]
     },
     "execution_count": 48,
     "metadata": {},
     "output_type": "execute_result"
    }
   ],
   "source": [
    "test_y = ord_enc.transform(test_target)\n",
    "\n",
    "test_y"
   ]
  },
  {
   "cell_type": "code",
   "execution_count": 49,
   "metadata": {},
   "outputs": [
    {
     "data": {
      "text/plain": [
       "[array(['Bus', 'Car', 'Still', 'Train', 'Walking'], dtype=object)]"
      ]
     },
     "execution_count": 49,
     "metadata": {},
     "output_type": "execute_result"
    }
   ],
   "source": [
    "ord_enc.categories_"
   ]
  },
  {
   "cell_type": "markdown",
   "metadata": {},
   "source": [
    "## Baseline"
   ]
  },
  {
   "cell_type": "code",
   "execution_count": 50,
   "metadata": {},
   "outputs": [
    {
     "data": {
      "text/plain": [
       "target \n",
       "Still      0.203714\n",
       "Walking    0.203429\n",
       "Car        0.202000\n",
       "Train      0.196000\n",
       "Bus        0.194857\n",
       "dtype: float64"
      ]
     },
     "execution_count": 50,
     "metadata": {},
     "output_type": "execute_result"
    }
   ],
   "source": [
    "train_target.value_counts()/len(train_target)"
   ]
  },
  {
   "cell_type": "markdown",
   "metadata": {},
   "source": [
    "# Keras DNN model 1 - Multiclass"
   ]
  },
  {
   "cell_type": "code",
   "execution_count": 51,
   "metadata": {},
   "outputs": [],
   "source": [
    "import tensorflow as tf\n",
    "from tensorflow import keras\n",
    "\n",
    "# fix random seed for reproducibility\n",
    "np.random.seed(42)\n",
    "tf.random.set_seed(42)"
   ]
  },
  {
   "cell_type": "code",
   "execution_count": 52,
   "metadata": {},
   "outputs": [
    {
     "data": {
      "text/plain": [
       "(3500, 13)"
      ]
     },
     "execution_count": 52,
     "metadata": {},
     "output_type": "execute_result"
    }
   ],
   "source": [
    "train_x.shape"
   ]
  },
  {
   "cell_type": "code",
   "execution_count": 53,
   "metadata": {},
   "outputs": [],
   "source": [
    "#Define the model: for multi-class\n",
    "\n",
    "model = keras.models.Sequential()\n",
    "\n",
    "model.add(keras.layers.Input(shape=13)) #match nerons with column count or train shape (train_x.shape[1])\n",
    "model.add(keras.layers.Dense(100, activation='relu'))\n",
    "model.add(keras.layers.Dense(100, activation='relu'))\n",
    "model.add(keras.layers.Dense(100, activation='relu'))\n",
    "\n",
    "#final layer: there has to be 4 nodes with softmax (because we have 4 categories)\n",
    "model.add(keras.layers.Dense(4, activation='softmax'))"
   ]
  },
  {
   "cell_type": "code",
   "execution_count": 54,
   "metadata": {},
   "outputs": [
    {
     "name": "stdout",
     "output_type": "stream",
     "text": [
      "Model: \"sequential\"\n",
      "_________________________________________________________________\n",
      "Layer (type)                 Output Shape              Param #   \n",
      "=================================================================\n",
      "dense (Dense)                (None, 100)               1400      \n",
      "_________________________________________________________________\n",
      "dense_1 (Dense)              (None, 100)               10100     \n",
      "_________________________________________________________________\n",
      "dense_2 (Dense)              (None, 100)               10100     \n",
      "_________________________________________________________________\n",
      "dense_3 (Dense)              (None, 4)                 404       \n",
      "=================================================================\n",
      "Total params: 22,004\n",
      "Trainable params: 22,004\n",
      "Non-trainable params: 0\n",
      "_________________________________________________________________\n"
     ]
    }
   ],
   "source": [
    "model.summary()"
   ]
  },
  {
   "cell_type": "code",
   "execution_count": 55,
   "metadata": {},
   "outputs": [],
   "source": [
    "# Compile model\n",
    "\n",
    "#Optimizer:\n",
    "adam = keras.optimizers.Adam(learning_rate=0.01)\n",
    "\n",
    "model.compile(loss='sparse_categorical_crossentropy', optimizer=adam, metrics=['accuracy'])"
   ]
  },
  {
   "cell_type": "code",
   "execution_count": 56,
   "metadata": {},
   "outputs": [
    {
     "name": "stdout",
     "output_type": "stream",
     "text": [
      "Epoch 1/20\n"
     ]
    },
    {
     "ename": "InvalidArgumentError",
     "evalue": " Received a label value of 4 which is outside the valid range of [0, 4).  Label values: 4 2 4 4 4 3 0 4 3 1 1 3 0 1 4 1 4 3 3 2 4 2 1 4 0 0 1 0 3 0 4 1 4 1 3 2 4 0 3 0 1 4 0 2 1 2 3 0 4 1 3 1 1 0 1 3 1 4 2 0 0 3 1 2 3 2 1 1 0 0 0 2 1 0 2 3 0 1 2 0 0 4 2 0 2 1 3 4 1 2 2 2 2 4 3 4 4 1 3 1 3 3 2 0 3 3 0 1 4 0 0 4 1 2 4 1 3 3 0 2 1 3 0 3 0 4 2 1 3 2 2 2 1 2 4 0 1 1 1 2 0 3 3 4 2 4 3 2 4 1 2 4 1 2 0 3 4 2 4 3 2 1 0 2 1 0 2 3 0 4 2 2 3 4 4 2 0 2 0 2 0 4 4 1 1 0 0 1 1 1 2 0 2 3 4 0 4 2 1 1 0 4 1 1 4 2 1 4 1 4 3 0 4 3 4 2 2 4 4 2 0 1 3 0 1 0 3 3 2 4 2 2 2 2 1 1 0 4 2 0 0 1 3 0 1 4 2 1 0 3 1 2 2 2 0 1 0 0 2 1 2 2 2 2 1 0 2 0 0 1 2 2 3 0 0 2 2 4 3 0 0 4 2 1 0 0 1 3 2 1 1 3 3 1 4 0 2 0 2 1 3 1 2 2 0 4 4 2 0 4 4 0 3 4 3 3 1 1 0 2 0 4 1 1 2 0 0 4 1 1 2 0 3 0 1 4 1 2 4 4 3 2 1 1 0 4 3 0 0 2 2 2 3 1 1 0 2 1 3 3 2 3 2 3 3 4 1 2 3 4 0 4 1 3 1 1 2 4 3 1 0 2 1 4 0 1 4 2 0 1 2 2 0 3 3 4 4 0 4 2 0 3 1 2 2 3 0 4 2 3 1 4 2 2 2 3 0 2 1 1 4 3 0 3 0 4 3 3 2 2 4 3 4 3 4 3 3 2 0 1 4 4 4 0 1 3 4 0 1 1 4 1 2 3 1 2 3 3 0 0 3 3 2 4 1 0 0 1 0 1 4 0 4 0 3 2 2 4 3 2 2 4 4 4 3 0 2 2 0 0 3 4 0 3 1 3 4 0 4 3\n\t [[node sparse_categorical_crossentropy/SparseSoftmaxCrossEntropyWithLogits/SparseSoftmaxCrossEntropyWithLogits (defined at <ipython-input-56-4f941ad93d35>:3) ]] [Op:__inference_train_function_681]\n\nFunction call stack:\ntrain_function\n",
     "output_type": "error",
     "traceback": [
      "\u001b[1;31m---------------------------------------------------------------------------\u001b[0m",
      "\u001b[1;31mInvalidArgumentError\u001b[0m                      Traceback (most recent call last)",
      "\u001b[1;32m<ipython-input-56-4f941ad93d35>\u001b[0m in \u001b[0;36m<module>\u001b[1;34m\u001b[0m\n\u001b[0;32m      1\u001b[0m \u001b[1;31m# Fit the model\u001b[0m\u001b[1;33m\u001b[0m\u001b[1;33m\u001b[0m\u001b[1;33m\u001b[0m\u001b[0m\n\u001b[0;32m      2\u001b[0m \u001b[1;33m\u001b[0m\u001b[0m\n\u001b[1;32m----> 3\u001b[1;33m history = model.fit(train_x, train_y, \n\u001b[0m\u001b[0;32m      4\u001b[0m                     \u001b[0mvalidation_data\u001b[0m\u001b[1;33m=\u001b[0m\u001b[1;33m(\u001b[0m\u001b[0mtest_x\u001b[0m\u001b[1;33m,\u001b[0m \u001b[0mtest_y\u001b[0m\u001b[1;33m)\u001b[0m\u001b[1;33m,\u001b[0m\u001b[1;33m\u001b[0m\u001b[1;33m\u001b[0m\u001b[0m\n\u001b[0;32m      5\u001b[0m                     epochs=20, batch_size=500)\n",
      "\u001b[1;32m~\\anaconda3\\lib\\site-packages\\keras\\engine\\training.py\u001b[0m in \u001b[0;36mfit\u001b[1;34m(self, x, y, batch_size, epochs, verbose, callbacks, validation_split, validation_data, shuffle, class_weight, sample_weight, initial_epoch, steps_per_epoch, validation_steps, validation_batch_size, validation_freq, max_queue_size, workers, use_multiprocessing)\u001b[0m\n\u001b[0;32m   1182\u001b[0m                 _r=1):\n\u001b[0;32m   1183\u001b[0m               \u001b[0mcallbacks\u001b[0m\u001b[1;33m.\u001b[0m\u001b[0mon_train_batch_begin\u001b[0m\u001b[1;33m(\u001b[0m\u001b[0mstep\u001b[0m\u001b[1;33m)\u001b[0m\u001b[1;33m\u001b[0m\u001b[1;33m\u001b[0m\u001b[0m\n\u001b[1;32m-> 1184\u001b[1;33m               \u001b[0mtmp_logs\u001b[0m \u001b[1;33m=\u001b[0m \u001b[0mself\u001b[0m\u001b[1;33m.\u001b[0m\u001b[0mtrain_function\u001b[0m\u001b[1;33m(\u001b[0m\u001b[0miterator\u001b[0m\u001b[1;33m)\u001b[0m\u001b[1;33m\u001b[0m\u001b[1;33m\u001b[0m\u001b[0m\n\u001b[0m\u001b[0;32m   1185\u001b[0m               \u001b[1;32mif\u001b[0m \u001b[0mdata_handler\u001b[0m\u001b[1;33m.\u001b[0m\u001b[0mshould_sync\u001b[0m\u001b[1;33m:\u001b[0m\u001b[1;33m\u001b[0m\u001b[1;33m\u001b[0m\u001b[0m\n\u001b[0;32m   1186\u001b[0m                 \u001b[0mcontext\u001b[0m\u001b[1;33m.\u001b[0m\u001b[0masync_wait\u001b[0m\u001b[1;33m(\u001b[0m\u001b[1;33m)\u001b[0m\u001b[1;33m\u001b[0m\u001b[1;33m\u001b[0m\u001b[0m\n",
      "\u001b[1;32m~\\anaconda3\\lib\\site-packages\\tensorflow\\python\\eager\\def_function.py\u001b[0m in \u001b[0;36m__call__\u001b[1;34m(self, *args, **kwds)\u001b[0m\n\u001b[0;32m    883\u001b[0m \u001b[1;33m\u001b[0m\u001b[0m\n\u001b[0;32m    884\u001b[0m       \u001b[1;32mwith\u001b[0m \u001b[0mOptionalXlaContext\u001b[0m\u001b[1;33m(\u001b[0m\u001b[0mself\u001b[0m\u001b[1;33m.\u001b[0m\u001b[0m_jit_compile\u001b[0m\u001b[1;33m)\u001b[0m\u001b[1;33m:\u001b[0m\u001b[1;33m\u001b[0m\u001b[1;33m\u001b[0m\u001b[0m\n\u001b[1;32m--> 885\u001b[1;33m         \u001b[0mresult\u001b[0m \u001b[1;33m=\u001b[0m \u001b[0mself\u001b[0m\u001b[1;33m.\u001b[0m\u001b[0m_call\u001b[0m\u001b[1;33m(\u001b[0m\u001b[1;33m*\u001b[0m\u001b[0margs\u001b[0m\u001b[1;33m,\u001b[0m \u001b[1;33m**\u001b[0m\u001b[0mkwds\u001b[0m\u001b[1;33m)\u001b[0m\u001b[1;33m\u001b[0m\u001b[1;33m\u001b[0m\u001b[0m\n\u001b[0m\u001b[0;32m    886\u001b[0m \u001b[1;33m\u001b[0m\u001b[0m\n\u001b[0;32m    887\u001b[0m       \u001b[0mnew_tracing_count\u001b[0m \u001b[1;33m=\u001b[0m \u001b[0mself\u001b[0m\u001b[1;33m.\u001b[0m\u001b[0mexperimental_get_tracing_count\u001b[0m\u001b[1;33m(\u001b[0m\u001b[1;33m)\u001b[0m\u001b[1;33m\u001b[0m\u001b[1;33m\u001b[0m\u001b[0m\n",
      "\u001b[1;32m~\\anaconda3\\lib\\site-packages\\tensorflow\\python\\eager\\def_function.py\u001b[0m in \u001b[0;36m_call\u001b[1;34m(self, *args, **kwds)\u001b[0m\n\u001b[0;32m    948\u001b[0m         \u001b[1;31m# Lifting succeeded, so variables are initialized and we can run the\u001b[0m\u001b[1;33m\u001b[0m\u001b[1;33m\u001b[0m\u001b[1;33m\u001b[0m\u001b[0m\n\u001b[0;32m    949\u001b[0m         \u001b[1;31m# stateless function.\u001b[0m\u001b[1;33m\u001b[0m\u001b[1;33m\u001b[0m\u001b[1;33m\u001b[0m\u001b[0m\n\u001b[1;32m--> 950\u001b[1;33m         \u001b[1;32mreturn\u001b[0m \u001b[0mself\u001b[0m\u001b[1;33m.\u001b[0m\u001b[0m_stateless_fn\u001b[0m\u001b[1;33m(\u001b[0m\u001b[1;33m*\u001b[0m\u001b[0margs\u001b[0m\u001b[1;33m,\u001b[0m \u001b[1;33m**\u001b[0m\u001b[0mkwds\u001b[0m\u001b[1;33m)\u001b[0m\u001b[1;33m\u001b[0m\u001b[1;33m\u001b[0m\u001b[0m\n\u001b[0m\u001b[0;32m    951\u001b[0m     \u001b[1;32melse\u001b[0m\u001b[1;33m:\u001b[0m\u001b[1;33m\u001b[0m\u001b[1;33m\u001b[0m\u001b[0m\n\u001b[0;32m    952\u001b[0m       \u001b[0m_\u001b[0m\u001b[1;33m,\u001b[0m \u001b[0m_\u001b[0m\u001b[1;33m,\u001b[0m \u001b[0m_\u001b[0m\u001b[1;33m,\u001b[0m \u001b[0mfiltered_flat_args\u001b[0m \u001b[1;33m=\u001b[0m\u001b[0;31m \u001b[0m\u001b[0;31m\\\u001b[0m\u001b[1;33m\u001b[0m\u001b[1;33m\u001b[0m\u001b[0m\n",
      "\u001b[1;32m~\\anaconda3\\lib\\site-packages\\tensorflow\\python\\eager\\function.py\u001b[0m in \u001b[0;36m__call__\u001b[1;34m(self, *args, **kwargs)\u001b[0m\n\u001b[0;32m   3037\u001b[0m       (graph_function,\n\u001b[0;32m   3038\u001b[0m        filtered_flat_args) = self._maybe_define_function(args, kwargs)\n\u001b[1;32m-> 3039\u001b[1;33m     return graph_function._call_flat(\n\u001b[0m\u001b[0;32m   3040\u001b[0m         filtered_flat_args, captured_inputs=graph_function.captured_inputs)  # pylint: disable=protected-access\n\u001b[0;32m   3041\u001b[0m \u001b[1;33m\u001b[0m\u001b[0m\n",
      "\u001b[1;32m~\\anaconda3\\lib\\site-packages\\tensorflow\\python\\eager\\function.py\u001b[0m in \u001b[0;36m_call_flat\u001b[1;34m(self, args, captured_inputs, cancellation_manager)\u001b[0m\n\u001b[0;32m   1961\u001b[0m         and executing_eagerly):\n\u001b[0;32m   1962\u001b[0m       \u001b[1;31m# No tape is watching; skip to running the function.\u001b[0m\u001b[1;33m\u001b[0m\u001b[1;33m\u001b[0m\u001b[1;33m\u001b[0m\u001b[0m\n\u001b[1;32m-> 1963\u001b[1;33m       return self._build_call_outputs(self._inference_function.call(\n\u001b[0m\u001b[0;32m   1964\u001b[0m           ctx, args, cancellation_manager=cancellation_manager))\n\u001b[0;32m   1965\u001b[0m     forward_backward = self._select_forward_and_backward_functions(\n",
      "\u001b[1;32m~\\anaconda3\\lib\\site-packages\\tensorflow\\python\\eager\\function.py\u001b[0m in \u001b[0;36mcall\u001b[1;34m(self, ctx, args, cancellation_manager)\u001b[0m\n\u001b[0;32m    589\u001b[0m       \u001b[1;32mwith\u001b[0m \u001b[0m_InterpolateFunctionError\u001b[0m\u001b[1;33m(\u001b[0m\u001b[0mself\u001b[0m\u001b[1;33m)\u001b[0m\u001b[1;33m:\u001b[0m\u001b[1;33m\u001b[0m\u001b[1;33m\u001b[0m\u001b[0m\n\u001b[0;32m    590\u001b[0m         \u001b[1;32mif\u001b[0m \u001b[0mcancellation_manager\u001b[0m \u001b[1;32mis\u001b[0m \u001b[1;32mNone\u001b[0m\u001b[1;33m:\u001b[0m\u001b[1;33m\u001b[0m\u001b[1;33m\u001b[0m\u001b[0m\n\u001b[1;32m--> 591\u001b[1;33m           outputs = execute.execute(\n\u001b[0m\u001b[0;32m    592\u001b[0m               \u001b[0mstr\u001b[0m\u001b[1;33m(\u001b[0m\u001b[0mself\u001b[0m\u001b[1;33m.\u001b[0m\u001b[0msignature\u001b[0m\u001b[1;33m.\u001b[0m\u001b[0mname\u001b[0m\u001b[1;33m)\u001b[0m\u001b[1;33m,\u001b[0m\u001b[1;33m\u001b[0m\u001b[1;33m\u001b[0m\u001b[0m\n\u001b[0;32m    593\u001b[0m               \u001b[0mnum_outputs\u001b[0m\u001b[1;33m=\u001b[0m\u001b[0mself\u001b[0m\u001b[1;33m.\u001b[0m\u001b[0m_num_outputs\u001b[0m\u001b[1;33m,\u001b[0m\u001b[1;33m\u001b[0m\u001b[1;33m\u001b[0m\u001b[0m\n",
      "\u001b[1;32m~\\anaconda3\\lib\\site-packages\\tensorflow\\python\\eager\\execute.py\u001b[0m in \u001b[0;36mquick_execute\u001b[1;34m(op_name, num_outputs, inputs, attrs, ctx, name)\u001b[0m\n\u001b[0;32m     57\u001b[0m   \u001b[1;32mtry\u001b[0m\u001b[1;33m:\u001b[0m\u001b[1;33m\u001b[0m\u001b[1;33m\u001b[0m\u001b[0m\n\u001b[0;32m     58\u001b[0m     \u001b[0mctx\u001b[0m\u001b[1;33m.\u001b[0m\u001b[0mensure_initialized\u001b[0m\u001b[1;33m(\u001b[0m\u001b[1;33m)\u001b[0m\u001b[1;33m\u001b[0m\u001b[1;33m\u001b[0m\u001b[0m\n\u001b[1;32m---> 59\u001b[1;33m     tensors = pywrap_tfe.TFE_Py_Execute(ctx._handle, device_name, op_name,\n\u001b[0m\u001b[0;32m     60\u001b[0m                                         inputs, attrs, num_outputs)\n\u001b[0;32m     61\u001b[0m   \u001b[1;32mexcept\u001b[0m \u001b[0mcore\u001b[0m\u001b[1;33m.\u001b[0m\u001b[0m_NotOkStatusException\u001b[0m \u001b[1;32mas\u001b[0m \u001b[0me\u001b[0m\u001b[1;33m:\u001b[0m\u001b[1;33m\u001b[0m\u001b[1;33m\u001b[0m\u001b[0m\n",
      "\u001b[1;31mInvalidArgumentError\u001b[0m:  Received a label value of 4 which is outside the valid range of [0, 4).  Label values: 4 2 4 4 4 3 0 4 3 1 1 3 0 1 4 1 4 3 3 2 4 2 1 4 0 0 1 0 3 0 4 1 4 1 3 2 4 0 3 0 1 4 0 2 1 2 3 0 4 1 3 1 1 0 1 3 1 4 2 0 0 3 1 2 3 2 1 1 0 0 0 2 1 0 2 3 0 1 2 0 0 4 2 0 2 1 3 4 1 2 2 2 2 4 3 4 4 1 3 1 3 3 2 0 3 3 0 1 4 0 0 4 1 2 4 1 3 3 0 2 1 3 0 3 0 4 2 1 3 2 2 2 1 2 4 0 1 1 1 2 0 3 3 4 2 4 3 2 4 1 2 4 1 2 0 3 4 2 4 3 2 1 0 2 1 0 2 3 0 4 2 2 3 4 4 2 0 2 0 2 0 4 4 1 1 0 0 1 1 1 2 0 2 3 4 0 4 2 1 1 0 4 1 1 4 2 1 4 1 4 3 0 4 3 4 2 2 4 4 2 0 1 3 0 1 0 3 3 2 4 2 2 2 2 1 1 0 4 2 0 0 1 3 0 1 4 2 1 0 3 1 2 2 2 0 1 0 0 2 1 2 2 2 2 1 0 2 0 0 1 2 2 3 0 0 2 2 4 3 0 0 4 2 1 0 0 1 3 2 1 1 3 3 1 4 0 2 0 2 1 3 1 2 2 0 4 4 2 0 4 4 0 3 4 3 3 1 1 0 2 0 4 1 1 2 0 0 4 1 1 2 0 3 0 1 4 1 2 4 4 3 2 1 1 0 4 3 0 0 2 2 2 3 1 1 0 2 1 3 3 2 3 2 3 3 4 1 2 3 4 0 4 1 3 1 1 2 4 3 1 0 2 1 4 0 1 4 2 0 1 2 2 0 3 3 4 4 0 4 2 0 3 1 2 2 3 0 4 2 3 1 4 2 2 2 3 0 2 1 1 4 3 0 3 0 4 3 3 2 2 4 3 4 3 4 3 3 2 0 1 4 4 4 0 1 3 4 0 1 1 4 1 2 3 1 2 3 3 0 0 3 3 2 4 1 0 0 1 0 1 4 0 4 0 3 2 2 4 3 2 2 4 4 4 3 0 2 2 0 0 3 4 0 3 1 3 4 0 4 3\n\t [[node sparse_categorical_crossentropy/SparseSoftmaxCrossEntropyWithLogits/SparseSoftmaxCrossEntropyWithLogits (defined at <ipython-input-56-4f941ad93d35>:3) ]] [Op:__inference_train_function_681]\n\nFunction call stack:\ntrain_function\n"
     ]
    }
   ],
   "source": [
    "# Fit the model\n",
    "\n",
    "history = model.fit(train_x, train_y, \n",
    "                    validation_data=(test_x, test_y), \n",
    "                    epochs=20, batch_size=500)"
   ]
  },
  {
   "cell_type": "code",
   "execution_count": null,
   "metadata": {},
   "outputs": [],
   "source": [
    "# evaluate the model\n",
    "\n",
    "scores = model.evaluate(test_x, test_y, verbose=0)\n",
    "\n",
    "scores\n",
    "\n",
    "# In results, first is loss, second is accuracy"
   ]
  },
  {
   "cell_type": "code",
   "execution_count": null,
   "metadata": {},
   "outputs": [],
   "source": [
    "# extract the accuracy from model.evaluate\n",
    "\n",
    "print(\"%s: %.2f\" % (model.metrics_names[0], scores[0]))\n",
    "print(\"%s: %.2f%%\" % (model.metrics_names[1], scores[1]*100))"
   ]
  },
  {
   "cell_type": "markdown",
   "metadata": {},
   "source": [
    "# Keras DNN model 2"
   ]
  },
  {
   "cell_type": "code",
   "execution_count": null,
   "metadata": {},
   "outputs": [],
   "source": [
    "# Make sure to try deep networks"
   ]
  },
  {
   "cell_type": "code",
   "execution_count": null,
   "metadata": {},
   "outputs": [],
   "source": []
  },
  {
   "cell_type": "markdown",
   "metadata": {},
   "source": [
    "# MLPClassifier (one model for comparison purposes)"
   ]
  },
  {
   "cell_type": "code",
   "execution_count": null,
   "metadata": {},
   "outputs": [],
   "source": []
  },
  {
   "cell_type": "code",
   "execution_count": null,
   "metadata": {},
   "outputs": [],
   "source": []
  },
  {
   "cell_type": "markdown",
   "metadata": {},
   "source": [
    "# Discussion\n",
    "\n",
    "Briefly answer the following questions: (2 points) \n",
    "1) Which model performs the best (and why)?<br>\n",
    "2) What is the baseline value? <br>\n",
    "3) Does the best model perform better than the baseline (and why)?<br>\n",
    "4) Does the best model exhibit any overfitting; what did you do about it?"
   ]
  },
  {
   "cell_type": "raw",
   "metadata": {},
   "source": []
  }
 ],
 "metadata": {
  "kernelspec": {
   "display_name": "Python 3",
   "language": "python",
   "name": "python3"
  },
  "language_info": {
   "codemirror_mode": {
    "name": "ipython",
    "version": 3
   },
   "file_extension": ".py",
   "mimetype": "text/x-python",
   "name": "python",
   "nbconvert_exporter": "python",
   "pygments_lexer": "ipython3",
   "version": "3.8.8"
  }
 },
 "nbformat": 4,
 "nbformat_minor": 2
}
