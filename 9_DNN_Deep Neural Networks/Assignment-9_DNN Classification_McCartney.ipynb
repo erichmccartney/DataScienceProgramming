{
 "cells": [
  {
   "cell_type": "markdown",
   "metadata": {},
   "source": [
    "# Assignment - Deep Neural Network - Classification - McCartney"
   ]
  },
  {
   "cell_type": "markdown",
   "metadata": {},
   "source": [
    "In this assignment, we will focus transportation mode detection. It contains data about smarthphone sensors as people are using different modes of transportation. Each row represents a specific mode of transportation and the corresponding readings in the smartphone sensors (for that mode of transportation). This is a multiclass classification task: predict whether the mode of transportation based on a smartphone's sensor readings. Transportation mode prediction can provide context information to enhance applications and provide a better user experience. It can be crucial for many different applications, such as device profiling, monitoring road and traffic conditions, healthcare, travel support etc."
   ]
  },
  {
   "cell_type": "markdown",
   "metadata": {},
   "source": [
    "## Description of Variables\n",
    "\n",
    "The description of variables are provided in \"Transportation - Data Dictionary.docx\""
   ]
  },
  {
   "cell_type": "markdown",
   "metadata": {},
   "source": [
    "## Goal\n",
    "\n",
    "Use the **transportation.csv** data set and build a model to predict **target**. Build at least **three neural network models**."
   ]
  },
  {
   "cell_type": "markdown",
   "metadata": {},
   "source": [
    "## Submission:\n",
    "\n",
    "Please save and submit this Jupyter notebook file. The correctness of the code matters for your grade. **Readability and organization of your code is also important.** You may lose points for submitting unreadable/undecipherable code. Therefore, use markdown cells to create sections, and use comments where necessary.\n"
   ]
  },
  {
   "cell_type": "markdown",
   "metadata": {},
   "source": [
    "# Read and Prepare the Data\n",
    "## Also, perform feature engineering: create one new variable from existing ones"
   ]
  },
  {
   "cell_type": "code",
   "execution_count": 1,
   "metadata": {},
   "outputs": [],
   "source": [
    "# Common imports\n",
    "import numpy as np\n",
    "import pandas as pd\n",
    "\n",
    "np.random.seed(42)"
   ]
  },
  {
   "cell_type": "code",
   "execution_count": 2,
   "metadata": {},
   "outputs": [
    {
     "data": {
      "text/html": [
       "<div>\n",
       "<style scoped>\n",
       "    .dataframe tbody tr th:only-of-type {\n",
       "        vertical-align: middle;\n",
       "    }\n",
       "\n",
       "    .dataframe tbody tr th {\n",
       "        vertical-align: top;\n",
       "    }\n",
       "\n",
       "    .dataframe thead th {\n",
       "        text-align: right;\n",
       "    }\n",
       "</style>\n",
       "<table border=\"1\" class=\"dataframe\">\n",
       "  <thead>\n",
       "    <tr style=\"text-align: right;\">\n",
       "      <th></th>\n",
       "      <th>androidsensoraccelerometermean</th>\n",
       "      <th>androidsensoraccelerometermin</th>\n",
       "      <th>androidsensoraccelerometermax</th>\n",
       "      <th>androidsensoraccelerometerstd</th>\n",
       "      <th>androidsensorgyroscopemean</th>\n",
       "      <th>androidsensorgyroscopemin</th>\n",
       "      <th>androidsensorgyroscopemax</th>\n",
       "      <th>androidsensorgyroscopestd</th>\n",
       "      <th>soundmean</th>\n",
       "      <th>soundmin</th>\n",
       "      <th>soundmax</th>\n",
       "      <th>soundstd</th>\n",
       "      <th>target</th>\n",
       "    </tr>\n",
       "  </thead>\n",
       "  <tbody>\n",
       "    <tr>\n",
       "      <th>0</th>\n",
       "      <td>9.701276</td>\n",
       "      <td>9.520186</td>\n",
       "      <td>9.826383</td>\n",
       "      <td>0.074273</td>\n",
       "      <td>0.021729</td>\n",
       "      <td>0.012970</td>\n",
       "      <td>0.033699</td>\n",
       "      <td>0.005727</td>\n",
       "      <td>88.111708</td>\n",
       "      <td>88.111708</td>\n",
       "      <td>88.111708</td>\n",
       "      <td>0.000000</td>\n",
       "      <td>Train</td>\n",
       "    </tr>\n",
       "    <tr>\n",
       "      <th>1</th>\n",
       "      <td>9.240731</td>\n",
       "      <td>6.927889</td>\n",
       "      <td>11.371441</td>\n",
       "      <td>1.157460</td>\n",
       "      <td>0.114340</td>\n",
       "      <td>0.018950</td>\n",
       "      <td>0.291155</td>\n",
       "      <td>0.071189</td>\n",
       "      <td>89.771860</td>\n",
       "      <td>89.771860</td>\n",
       "      <td>89.771860</td>\n",
       "      <td>0.008778</td>\n",
       "      <td>Bus</td>\n",
       "    </tr>\n",
       "    <tr>\n",
       "      <th>2</th>\n",
       "      <td>10.397750</td>\n",
       "      <td>8.649993</td>\n",
       "      <td>11.105722</td>\n",
       "      <td>0.614978</td>\n",
       "      <td>0.301824</td>\n",
       "      <td>0.260226</td>\n",
       "      <td>0.339794</td>\n",
       "      <td>0.021420</td>\n",
       "      <td>89.797764</td>\n",
       "      <td>89.797764</td>\n",
       "      <td>89.797764</td>\n",
       "      <td>0.039875</td>\n",
       "      <td>Car</td>\n",
       "    </tr>\n",
       "    <tr>\n",
       "      <th>3</th>\n",
       "      <td>10.197564</td>\n",
       "      <td>9.977808</td>\n",
       "      <td>10.417198</td>\n",
       "      <td>0.137675</td>\n",
       "      <td>0.017742</td>\n",
       "      <td>0.003502</td>\n",
       "      <td>0.039349</td>\n",
       "      <td>0.009800</td>\n",
       "      <td>89.746162</td>\n",
       "      <td>89.746162</td>\n",
       "      <td>89.746162</td>\n",
       "      <td>0.122969</td>\n",
       "      <td>Train</td>\n",
       "    </tr>\n",
       "    <tr>\n",
       "      <th>4</th>\n",
       "      <td>9.812239</td>\n",
       "      <td>8.290205</td>\n",
       "      <td>11.913782</td>\n",
       "      <td>1.016052</td>\n",
       "      <td>0.109497</td>\n",
       "      <td>0.005390</td>\n",
       "      <td>0.277880</td>\n",
       "      <td>0.070489</td>\n",
       "      <td>89.768758</td>\n",
       "      <td>89.768758</td>\n",
       "      <td>89.768758</td>\n",
       "      <td>1.023191</td>\n",
       "      <td>Bus</td>\n",
       "    </tr>\n",
       "  </tbody>\n",
       "</table>\n",
       "</div>"
      ],
      "text/plain": [
       "   androidsensoraccelerometermean  androidsensoraccelerometermin  \\\n",
       "0                        9.701276                       9.520186   \n",
       "1                        9.240731                       6.927889   \n",
       "2                       10.397750                       8.649993   \n",
       "3                       10.197564                       9.977808   \n",
       "4                        9.812239                       8.290205   \n",
       "\n",
       "   androidsensoraccelerometermax  androidsensoraccelerometerstd  \\\n",
       "0                       9.826383                       0.074273   \n",
       "1                      11.371441                       1.157460   \n",
       "2                      11.105722                       0.614978   \n",
       "3                      10.417198                       0.137675   \n",
       "4                      11.913782                       1.016052   \n",
       "\n",
       "   androidsensorgyroscopemean  androidsensorgyroscopemin  \\\n",
       "0                    0.021729                   0.012970   \n",
       "1                    0.114340                   0.018950   \n",
       "2                    0.301824                   0.260226   \n",
       "3                    0.017742                   0.003502   \n",
       "4                    0.109497                   0.005390   \n",
       "\n",
       "   androidsensorgyroscopemax  androidsensorgyroscopestd  soundmean   soundmin  \\\n",
       "0                   0.033699                   0.005727  88.111708  88.111708   \n",
       "1                   0.291155                   0.071189  89.771860  89.771860   \n",
       "2                   0.339794                   0.021420  89.797764  89.797764   \n",
       "3                   0.039349                   0.009800  89.746162  89.746162   \n",
       "4                   0.277880                   0.070489  89.768758  89.768758   \n",
       "\n",
       "    soundmax  soundstd target  \n",
       "0  88.111708  0.000000  Train  \n",
       "1  89.771860  0.008778    Bus  \n",
       "2  89.797764  0.039875    Car  \n",
       "3  89.746162  0.122969  Train  \n",
       "4  89.768758  1.023191    Bus  "
      ]
     },
     "execution_count": 2,
     "metadata": {},
     "output_type": "execute_result"
    }
   ],
   "source": [
    "transportation = pd.read_csv(\"transportation.csv\")\n",
    "transportation.head()"
   ]
  },
  {
   "cell_type": "code",
   "execution_count": 3,
   "metadata": {},
   "outputs": [],
   "source": [
    "from sklearn.model_selection import train_test_split\n",
    "\n",
    "train_set, test_set = train_test_split(transportation, test_size=0.3)"
   ]
  },
  {
   "cell_type": "code",
   "execution_count": 4,
   "metadata": {},
   "outputs": [
    {
     "data": {
      "text/plain": [
       "androidsensoraccelerometermean    0\n",
       "androidsensoraccelerometermin     0\n",
       "androidsensoraccelerometermax     0\n",
       "androidsensoraccelerometerstd     0\n",
       "androidsensorgyroscopemean        0\n",
       "androidsensorgyroscopemin         0\n",
       "androidsensorgyroscopemax         0\n",
       "androidsensorgyroscopestd         0\n",
       "soundmean                         0\n",
       "soundmin                          0\n",
       "soundmax                          0\n",
       "soundstd                          0\n",
       "target                            0\n",
       "dtype: int64"
      ]
     },
     "execution_count": 4,
     "metadata": {},
     "output_type": "execute_result"
    }
   ],
   "source": [
    "train_set.isna().sum()"
   ]
  },
  {
   "cell_type": "code",
   "execution_count": 5,
   "metadata": {},
   "outputs": [
    {
     "data": {
      "text/plain": [
       "androidsensoraccelerometermean    0\n",
       "androidsensoraccelerometermin     0\n",
       "androidsensoraccelerometermax     0\n",
       "androidsensoraccelerometerstd     0\n",
       "androidsensorgyroscopemean        0\n",
       "androidsensorgyroscopemin         0\n",
       "androidsensorgyroscopemax         0\n",
       "androidsensorgyroscopestd         0\n",
       "soundmean                         0\n",
       "soundmin                          0\n",
       "soundmax                          0\n",
       "soundstd                          0\n",
       "target                            0\n",
       "dtype: int64"
      ]
     },
     "execution_count": 5,
     "metadata": {},
     "output_type": "execute_result"
    }
   ],
   "source": [
    "test_set.isna().sum()"
   ]
  },
  {
   "cell_type": "code",
   "execution_count": 6,
   "metadata": {},
   "outputs": [],
   "source": [
    "from sklearn.compose import ColumnTransformer\n",
    "from sklearn.pipeline import Pipeline\n",
    "from sklearn.impute import SimpleImputer\n",
    "from sklearn.preprocessing import StandardScaler\n",
    "from sklearn.preprocessing import OneHotEncoder\n",
    "\n",
    "from sklearn.preprocessing import FunctionTransformer"
   ]
  },
  {
   "cell_type": "code",
   "execution_count": 7,
   "metadata": {},
   "outputs": [],
   "source": [
    "# We can't use the following columns in this tutorial, because they are not for binary classification tasks\n",
    "\n",
    "train = train_set.drop([], axis=1)\n",
    "test = test_set.drop([], axis=1)"
   ]
  },
  {
   "cell_type": "code",
   "execution_count": 8,
   "metadata": {},
   "outputs": [],
   "source": [
    "train_target = train[['target']]\n",
    "test_target = test[['target']]\n",
    "\n",
    "train_inputs = train.drop(['target'], axis=1)\n",
    "test_inputs = test.drop(['target'], axis=1)"
   ]
  },
  {
   "cell_type": "markdown",
   "metadata": {},
   "source": [
    "### Feature Engineering"
   ]
  },
  {
   "cell_type": "code",
   "execution_count": 10,
   "metadata": {},
   "outputs": [
    {
     "data": {
      "text/plain": [
       "0.000000    444\n",
       "0.003665     15\n",
       "0.001728     10\n",
       "0.061094      5\n",
       "0.020480      4\n",
       "           ... \n",
       "1.519574      1\n",
       "0.006355      1\n",
       "0.023980      1\n",
       "1.935844      1\n",
       "0.996766      1\n",
       "Name: androidsensorgyroscopemean, Length: 2999, dtype: int64"
      ]
     },
     "execution_count": 10,
     "metadata": {},
     "output_type": "execute_result"
    }
   ],
   "source": [
    "train_inputs['androidsensorgyroscopemean'].value_counts()"
   ]
  },
  {
   "cell_type": "code",
   "execution_count": 11,
   "metadata": {
    "scrolled": true
   },
   "outputs": [
    {
     "data": {
      "text/plain": [
       "<AxesSubplot:>"
      ]
     },
     "execution_count": 11,
     "metadata": {},
     "output_type": "execute_result"
    },
    {
     "data": {
      "image/png": "[encoded data removed]",
      "text/plain": [
       "<Figure size 432x288 with 1 Axes>"
      ]
     },
     "metadata": {
      "needs_background": "light"
     },
     "output_type": "display_data"
    }
   ],
   "source": [
    "train_inputs['androidsensorgyroscopemean'].hist()"
   ]
  },
  {
   "cell_type": "code",
   "execution_count": 12,
   "metadata": {},
   "outputs": [],
   "source": [
    "# Import power transformer from sklearn. It will help us create a \"normal distribution\"\n",
    "from sklearn.preprocessing import PowerTransformer\n",
    "\n",
    "PT = PowerTransformer(method = 'yeo-johnson', standardize=True)"
   ]
  },
  {
   "cell_type": "code",
   "execution_count": 13,
   "metadata": {},
   "outputs": [],
   "source": [
    "transformed_androidsensorgyroscopemean = PT.fit_transform(train_inputs[['androidsensorgyroscopemean']])"
   ]
  },
  {
   "cell_type": "code",
   "execution_count": 14,
   "metadata": {},
   "outputs": [
    {
     "data": {
      "text/plain": [
       "array([[<AxesSubplot:title={'center':'0'}>]], dtype=object)"
      ]
     },
     "execution_count": 14,
     "metadata": {},
     "output_type": "execute_result"
    },
    {
     "data": {
      "image/png": "[encoded data removed]",
      "text/plain": [
       "<Figure size 432x288 with 1 Axes>"
      ]
     },
     "metadata": {
      "needs_background": "light"
     },
     "output_type": "display_data"
    }
   ],
   "source": [
    "pd.DataFrame(transformed_androidsensorgyroscopemean).hist()"
   ]
  },
  {
   "cell_type": "code",
   "execution_count": 15,
   "metadata": {},
   "outputs": [
    {
     "data": {
      "text/plain": [
       "androidsensoraccelerometermean    float64\n",
       "androidsensoraccelerometermin     float64\n",
       "androidsensoraccelerometermax     float64\n",
       "androidsensoraccelerometerstd     float64\n",
       "androidsensorgyroscopemean        float64\n",
       "androidsensorgyroscopemin         float64\n",
       "androidsensorgyroscopemax         float64\n",
       "androidsensorgyroscopestd         float64\n",
       "soundmean                         float64\n",
       "soundmin                          float64\n",
       "soundmax                          float64\n",
       "soundstd                          float64\n",
       "dtype: object"
      ]
     },
     "execution_count": 15,
     "metadata": {},
     "output_type": "execute_result"
    }
   ],
   "source": [
    "train_inputs.dtypes"
   ]
  },
  {
   "cell_type": "code",
   "execution_count": 16,
   "metadata": {},
   "outputs": [],
   "source": [
    "# Identify the numerical columns\n",
    "numeric_columns = train_inputs.select_dtypes(include=[np.number]).columns.to_list()"
   ]
  },
  {
   "cell_type": "code",
   "execution_count": 17,
   "metadata": {},
   "outputs": [
    {
     "data": {
      "text/plain": [
       "['androidsensoraccelerometermean',\n",
       " 'androidsensoraccelerometermin',\n",
       " 'androidsensoraccelerometermax',\n",
       " 'androidsensoraccelerometerstd',\n",
       " 'androidsensorgyroscopemean',\n",
       " 'androidsensorgyroscopemin',\n",
       " 'androidsensorgyroscopemax',\n",
       " 'androidsensorgyroscopestd',\n",
       " 'soundmean',\n",
       " 'soundmin',\n",
       " 'soundmax',\n",
       " 'soundstd']"
      ]
     },
     "execution_count": 17,
     "metadata": {},
     "output_type": "execute_result"
    }
   ],
   "source": [
    "numeric_columns"
   ]
  },
  {
   "cell_type": "code",
   "execution_count": 18,
   "metadata": {},
   "outputs": [],
   "source": [
    "transformed_columns = ['androidsensorgyroscopemean']"
   ]
  },
  {
   "cell_type": "markdown",
   "metadata": {},
   "source": [
    "### Pipeline"
   ]
  },
  {
   "cell_type": "code",
   "execution_count": 19,
   "metadata": {},
   "outputs": [],
   "source": [
    "numeric_transformer = Pipeline(steps=[\n",
    "                ('imputer', SimpleImputer(strategy='median')),\n",
    "                ('scaler', StandardScaler())])"
   ]
  },
  {
   "cell_type": "code",
   "execution_count": 20,
   "metadata": {},
   "outputs": [],
   "source": [
    "my_new_column = Pipeline(steps=[\n",
    "                ('imputer', SimpleImputer(strategy='median')),\n",
    "                ('powertransformer', PowerTransformer(method = 'yeo-johnson', standardize=True))])"
   ]
  },
  {
   "cell_type": "code",
   "execution_count": 21,
   "metadata": {},
   "outputs": [],
   "source": [
    "preprocessor = ColumnTransformer([\n",
    "        ('num', numeric_transformer, numeric_columns),\n",
    "        #('cat', categorical_transformer, categorical_columns),\n",
    "        #('binary', binary_transformer, binary_columns),\n",
    "        ('trans', my_new_column, transformed_columns)],\n",
    "        remainder='passthrough')\n",
    "\n",
    "#passtrough is an optional step. You don't have to use it."
   ]
  },
  {
   "cell_type": "markdown",
   "metadata": {},
   "source": [
    "### Transform"
   ]
  },
  {
   "cell_type": "code",
   "execution_count": 22,
   "metadata": {},
   "outputs": [
    {
     "data": {
      "text/plain": [
       "array([[-1.74886686e-01,  2.77326456e-03, -5.99315610e-02, ...,\n",
       "         5.25446848e-01,  6.62693768e-01,  1.53390828e+00],\n",
       "       [ 5.30439796e+00, -3.81970427e+00,  9.68226289e+00, ...,\n",
       "        -2.02531331e+00, -4.59510230e-01,  1.92811414e+00],\n",
       "       [-6.89177749e-01,  5.48634204e-01, -4.96676441e-01, ...,\n",
       "         7.45506062e-01, -4.51528627e-01, -6.72794013e-01],\n",
       "       ...,\n",
       "       [-4.34786689e-01,  6.01754279e-01, -4.54446532e-01, ...,\n",
       "         2.65893332e-01,  3.06596409e-01, -8.26400265e-01],\n",
       "       [ 4.54454105e-01, -2.35371258e+00,  2.48388209e+00, ...,\n",
       "         7.48723847e-01, -3.77548557e-01,  1.91778552e+00],\n",
       "       [-1.96270300e-01,  4.93180855e-01, -3.99497977e-01, ...,\n",
       "         7.48741421e-01, -1.15978071e-01, -5.32378012e-01]])"
      ]
     },
     "execution_count": 22,
     "metadata": {},
     "output_type": "execute_result"
    }
   ],
   "source": [
    "#Fit and transform the train data\n",
    "train_x = preprocessor.fit_transform(train_inputs)\n",
    "\n",
    "train_x"
   ]
  },
  {
   "cell_type": "code",
   "execution_count": 23,
   "metadata": {},
   "outputs": [
    {
     "data": {
      "text/plain": [
       "(3500, 13)"
      ]
     },
     "execution_count": 23,
     "metadata": {},
     "output_type": "execute_result"
    }
   ],
   "source": [
    "train_x.shape"
   ]
  },
  {
   "cell_type": "code",
   "execution_count": 24,
   "metadata": {},
   "outputs": [
    {
     "data": {
      "text/plain": [
       "array([[-0.32025512,  0.76100101, -0.4612405 , ..., -0.05407139,\n",
       "        -0.45951023, -0.8626876 ],\n",
       "       [-0.3753657 , -0.16063805, -0.20714456, ...,  0.50047109,\n",
       "        -0.37680808, -0.00233947],\n",
       "       [-1.01943413,  0.46313497, -0.5521988 , ..., -0.01864124,\n",
       "        -0.45951023, -0.72854034],\n",
       "       ...,\n",
       "       [ 0.00412727,  0.87321484, -0.41794116, ...,  0.11887343,\n",
       "         0.10361519, -0.91904612],\n",
       "       [ 0.09581334,  0.91294408, -0.41518271, ...,  0.5263533 ,\n",
       "        -0.41269376, -0.8288752 ],\n",
       "       [-0.3038126 ,  0.70052755, -0.44874281, ..., -2.02531331,\n",
       "        -0.45951023, -0.72460851]])"
      ]
     },
     "execution_count": 24,
     "metadata": {},
     "output_type": "execute_result"
    }
   ],
   "source": [
    "# Transform the test data\n",
    "test_x = preprocessor.transform(test_inputs)\n",
    "\n",
    "test_x"
   ]
  },
  {
   "cell_type": "code",
   "execution_count": 25,
   "metadata": {},
   "outputs": [
    {
     "data": {
      "text/plain": [
       "(1500, 13)"
      ]
     },
     "execution_count": 25,
     "metadata": {},
     "output_type": "execute_result"
    }
   ],
   "source": [
    "test_x.shape"
   ]
  },
  {
   "cell_type": "code",
   "execution_count": 26,
   "metadata": {},
   "outputs": [
    {
     "data": {
      "text/html": [
       "<div>\n",
       "<style scoped>\n",
       "    .dataframe tbody tr th:only-of-type {\n",
       "        vertical-align: middle;\n",
       "    }\n",
       "\n",
       "    .dataframe tbody tr th {\n",
       "        vertical-align: top;\n",
       "    }\n",
       "\n",
       "    .dataframe thead th {\n",
       "        text-align: right;\n",
       "    }\n",
       "</style>\n",
       "<table border=\"1\" class=\"dataframe\">\n",
       "  <thead>\n",
       "    <tr style=\"text-align: right;\">\n",
       "      <th></th>\n",
       "      <th>target</th>\n",
       "    </tr>\n",
       "  </thead>\n",
       "  <tbody>\n",
       "    <tr>\n",
       "      <th>1840</th>\n",
       "      <td>Train</td>\n",
       "    </tr>\n",
       "    <tr>\n",
       "      <th>2115</th>\n",
       "      <td>Walking</td>\n",
       "    </tr>\n",
       "    <tr>\n",
       "      <th>4437</th>\n",
       "      <td>Train</td>\n",
       "    </tr>\n",
       "    <tr>\n",
       "      <th>1146</th>\n",
       "      <td>Train</td>\n",
       "    </tr>\n",
       "    <tr>\n",
       "      <th>2486</th>\n",
       "      <td>Walking</td>\n",
       "    </tr>\n",
       "    <tr>\n",
       "      <th>...</th>\n",
       "      <td>...</td>\n",
       "    </tr>\n",
       "    <tr>\n",
       "      <th>4426</th>\n",
       "      <td>Bus</td>\n",
       "    </tr>\n",
       "    <tr>\n",
       "      <th>466</th>\n",
       "      <td>Bus</td>\n",
       "    </tr>\n",
       "    <tr>\n",
       "      <th>3092</th>\n",
       "      <td>Train</td>\n",
       "    </tr>\n",
       "    <tr>\n",
       "      <th>3772</th>\n",
       "      <td>Walking</td>\n",
       "    </tr>\n",
       "    <tr>\n",
       "      <th>860</th>\n",
       "      <td>Bus</td>\n",
       "    </tr>\n",
       "  </tbody>\n",
       "</table>\n",
       "<p>3500 rows × 1 columns</p>\n",
       "</div>"
      ],
      "text/plain": [
       "       target\n",
       "1840    Train\n",
       "2115  Walking\n",
       "4437    Train\n",
       "1146    Train\n",
       "2486  Walking\n",
       "...       ...\n",
       "4426      Bus\n",
       "466       Bus\n",
       "3092    Train\n",
       "3772  Walking\n",
       "860       Bus\n",
       "\n",
       "[3500 rows x 1 columns]"
      ]
     },
     "execution_count": 26,
     "metadata": {},
     "output_type": "execute_result"
    }
   ],
   "source": [
    "train_target"
   ]
  },
  {
   "cell_type": "markdown",
   "metadata": {},
   "source": [
    "## Keras needs Ordinal target values for classification"
   ]
  },
  {
   "cell_type": "code",
   "execution_count": 27,
   "metadata": {},
   "outputs": [
    {
     "data": {
      "text/plain": [
       "array([[3.],\n",
       "       [4.],\n",
       "       [3.],\n",
       "       ...,\n",
       "       [3.],\n",
       "       [4.],\n",
       "       [0.]])"
      ]
     },
     "execution_count": 27,
     "metadata": {},
     "output_type": "execute_result"
    }
   ],
   "source": [
    "from sklearn.preprocessing import OrdinalEncoder\n",
    "\n",
    "ord_enc = OrdinalEncoder()\n",
    "\n",
    "train_y = ord_enc.fit_transform(train_target)\n",
    "\n",
    "train_y"
   ]
  },
  {
   "cell_type": "code",
   "execution_count": 28,
   "metadata": {},
   "outputs": [
    {
     "data": {
      "text/plain": [
       "array([[3.],\n",
       "       [0.],\n",
       "       [0.],\n",
       "       ...,\n",
       "       [2.],\n",
       "       [2.],\n",
       "       [2.]])"
      ]
     },
     "execution_count": 28,
     "metadata": {},
     "output_type": "execute_result"
    }
   ],
   "source": [
    "test_y = ord_enc.transform(test_target)\n",
    "\n",
    "test_y"
   ]
  },
  {
   "cell_type": "code",
   "execution_count": 29,
   "metadata": {},
   "outputs": [
    {
     "data": {
      "text/plain": [
       "[array(['Bus', 'Car', 'Still', 'Train', 'Walking'], dtype=object)]"
      ]
     },
     "execution_count": 29,
     "metadata": {},
     "output_type": "execute_result"
    }
   ],
   "source": [
    "ord_enc.categories_"
   ]
  },
  {
   "cell_type": "markdown",
   "metadata": {},
   "source": [
    "## Baseline"
   ]
  },
  {
   "cell_type": "code",
   "execution_count": 30,
   "metadata": {},
   "outputs": [
    {
     "data": {
      "text/plain": [
       "target \n",
       "Still      0.204286\n",
       "Train      0.201429\n",
       "Car        0.201143\n",
       "Walking    0.197714\n",
       "Bus        0.195429\n",
       "dtype: float64"
      ]
     },
     "execution_count": 30,
     "metadata": {},
     "output_type": "execute_result"
    }
   ],
   "source": [
    "train_target.value_counts()/len(train_target)"
   ]
  },
  {
   "cell_type": "markdown",
   "metadata": {},
   "source": [
    "# Keras DNN model 1 - Multiclass"
   ]
  },
  {
   "cell_type": "code",
   "execution_count": 31,
   "metadata": {},
   "outputs": [],
   "source": [
    "import tensorflow as tf\n",
    "from tensorflow import keras\n",
    "\n",
    "# fix random seed for reproducibility\n",
    "np.random.seed(42)\n",
    "tf.random.set_seed(42)"
   ]
  },
  {
   "cell_type": "code",
   "execution_count": 32,
   "metadata": {},
   "outputs": [
    {
     "data": {
      "text/plain": [
       "(3500, 13)"
      ]
     },
     "execution_count": 32,
     "metadata": {},
     "output_type": "execute_result"
    }
   ],
   "source": [
    "train_x.shape"
   ]
  },
  {
   "cell_type": "code",
   "execution_count": 37,
   "metadata": {},
   "outputs": [],
   "source": [
    "#Define the model: for multi-class\n",
    "\n",
    "model = keras.models.Sequential()\n",
    "\n",
    "model.add(keras.layers.Input(shape=13)) #match nerons with column count or train shape (train_x.shape[1])\n",
    "model.add(keras.layers.Dense(100, activation='relu'))\n",
    "model.add(keras.layers.Dense(100, activation='relu'))\n",
    "model.add(keras.layers.Dense(100, activation='relu'))\n",
    "\n",
    "#final layer: there has to be 5 nodes with softmax (because we have 5 categories)\n",
    "model.add(keras.layers.Dense(5, activation='softmax'))"
   ]
  },
  {
   "cell_type": "code",
   "execution_count": 38,
   "metadata": {},
   "outputs": [
    {
     "name": "stdout",
     "output_type": "stream",
     "text": [
      "Model: \"sequential_1\"\n",
      "_________________________________________________________________\n",
      "Layer (type)                 Output Shape              Param #   \n",
      "=================================================================\n",
      "dense_4 (Dense)              (None, 100)               1400      \n",
      "_________________________________________________________________\n",
      "dense_5 (Dense)              (None, 100)               10100     \n",
      "_________________________________________________________________\n",
      "dense_6 (Dense)              (None, 100)               10100     \n",
      "_________________________________________________________________\n",
      "dense_7 (Dense)              (None, 5)                 505       \n",
      "=================================================================\n",
      "Total params: 22,105\n",
      "Trainable params: 22,105\n",
      "Non-trainable params: 0\n",
      "_________________________________________________________________\n"
     ]
    }
   ],
   "source": [
    "model.summary()"
   ]
  },
  {
   "cell_type": "code",
   "execution_count": 39,
   "metadata": {},
   "outputs": [],
   "source": [
    "# Compile model\n",
    "\n",
    "#Optimizer:\n",
    "adam = keras.optimizers.Adam(learning_rate=0.01)\n",
    "\n",
    "model.compile(loss='sparse_categorical_crossentropy', optimizer=adam, metrics=['accuracy'])"
   ]
  },
  {
   "cell_type": "code",
   "execution_count": 40,
   "metadata": {},
   "outputs": [
    {
     "name": "stdout",
     "output_type": "stream",
     "text": [
      "Epoch 1/20\n",
      "7/7 [==============================] - 0s 17ms/step - loss: 1.2342 - accuracy: 0.4917 - val_loss: 1.0850 - val_accuracy: 0.5867\n",
      "Epoch 2/20\n",
      "7/7 [==============================] - 0s 4ms/step - loss: 1.0000 - accuracy: 0.6169 - val_loss: 0.9372 - val_accuracy: 0.6173\n",
      "Epoch 3/20\n",
      "7/7 [==============================] - 0s 4ms/step - loss: 0.9266 - accuracy: 0.6271 - val_loss: 0.9177 - val_accuracy: 0.6347\n",
      "Epoch 4/20\n",
      "7/7 [==============================] - 0s 3ms/step - loss: 0.8617 - accuracy: 0.6646 - val_loss: 0.8469 - val_accuracy: 0.6667\n",
      "Epoch 5/20\n",
      "7/7 [==============================] - 0s 4ms/step - loss: 0.8148 - accuracy: 0.6809 - val_loss: 0.8108 - val_accuracy: 0.6753\n",
      "Epoch 6/20\n",
      "7/7 [==============================] - 0s 3ms/step - loss: 0.7890 - accuracy: 0.6860 - val_loss: 0.7764 - val_accuracy: 0.6873\n",
      "Epoch 7/20\n",
      "7/7 [==============================] - 0s 3ms/step - loss: 0.7517 - accuracy: 0.7031 - val_loss: 0.7718 - val_accuracy: 0.6920\n",
      "Epoch 8/20\n",
      "7/7 [==============================] - 0s 4ms/step - loss: 0.7140 - accuracy: 0.7240 - val_loss: 0.7191 - val_accuracy: 0.7220\n",
      "Epoch 9/20\n",
      "7/7 [==============================] - 0s 3ms/step - loss: 0.6853 - accuracy: 0.7263 - val_loss: 0.7183 - val_accuracy: 0.7100\n",
      "Epoch 10/20\n",
      "7/7 [==============================] - 0s 3ms/step - loss: 0.6809 - accuracy: 0.7340 - val_loss: 0.7136 - val_accuracy: 0.7233\n",
      "Epoch 11/20\n",
      "7/7 [==============================] - 0s 3ms/step - loss: 0.6626 - accuracy: 0.7489 - val_loss: 0.7197 - val_accuracy: 0.7047\n",
      "Epoch 12/20\n",
      "7/7 [==============================] - 0s 3ms/step - loss: 0.6439 - accuracy: 0.7489 - val_loss: 0.6746 - val_accuracy: 0.7453\n",
      "Epoch 13/20\n",
      "7/7 [==============================] - 0s 3ms/step - loss: 0.6295 - accuracy: 0.7626 - val_loss: 0.6641 - val_accuracy: 0.7413\n",
      "Epoch 14/20\n",
      "7/7 [==============================] - 0s 3ms/step - loss: 0.5966 - accuracy: 0.7709 - val_loss: 0.6358 - val_accuracy: 0.7527\n",
      "Epoch 15/20\n",
      "7/7 [==============================] - 0s 3ms/step - loss: 0.5748 - accuracy: 0.7774 - val_loss: 0.6398 - val_accuracy: 0.7593\n",
      "Epoch 16/20\n",
      "7/7 [==============================] - 0s 3ms/step - loss: 0.5552 - accuracy: 0.7854 - val_loss: 0.6322 - val_accuracy: 0.7580\n",
      "Epoch 17/20\n",
      "7/7 [==============================] - 0s 3ms/step - loss: 0.5542 - accuracy: 0.7903 - val_loss: 0.6395 - val_accuracy: 0.7487\n",
      "Epoch 18/20\n",
      "7/7 [==============================] - 0s 4ms/step - loss: 0.5588 - accuracy: 0.7797 - val_loss: 0.6269 - val_accuracy: 0.7720\n",
      "Epoch 19/20\n",
      "7/7 [==============================] - 0s 3ms/step - loss: 0.5427 - accuracy: 0.7909 - val_loss: 0.6620 - val_accuracy: 0.7567\n",
      "Epoch 20/20\n",
      "7/7 [==============================] - 0s 3ms/step - loss: 0.5367 - accuracy: 0.7963 - val_loss: 0.6481 - val_accuracy: 0.7480\n"
     ]
    }
   ],
   "source": [
    "# Fit the model\n",
    "\n",
    "history = model.fit(train_x, train_y, \n",
    "                    validation_data=(test_x, test_y), \n",
    "                    epochs=20, batch_size=500)"
   ]
  },
  {
   "cell_type": "code",
   "execution_count": 41,
   "metadata": {},
   "outputs": [
    {
     "data": {
      "text/plain": [
       "[0.6481308937072754, 0.7480000257492065]"
      ]
     },
     "execution_count": 41,
     "metadata": {},
     "output_type": "execute_result"
    }
   ],
   "source": [
    "# evaluate the model\n",
    "\n",
    "scores = model.evaluate(test_x, test_y, verbose=0)\n",
    "\n",
    "scores\n",
    "\n",
    "# In results, first is loss, second is accuracy"
   ]
  },
  {
   "cell_type": "code",
   "execution_count": 42,
   "metadata": {},
   "outputs": [
    {
     "name": "stdout",
     "output_type": "stream",
     "text": [
      "loss: 0.65\n",
      "accuracy: 74.80%\n"
     ]
    }
   ],
   "source": [
    "# extract the accuracy from model.evaluate\n",
    "\n",
    "print(\"%s: %.2f\" % (model.metrics_names[0], scores[0]))\n",
    "print(\"%s: %.2f%%\" % (model.metrics_names[1], scores[1]*100))"
   ]
  },
  {
   "cell_type": "markdown",
   "metadata": {},
   "source": [
    "# Keras DNN model 2"
   ]
  },
  {
   "cell_type": "code",
   "execution_count": 47,
   "metadata": {},
   "outputs": [],
   "source": [
    "# Make sure to try deep networks\n",
    "model = keras.models.Sequential()\n",
    "\n",
    "\n",
    "inputlayer = keras.layers.Input(shape=13) #match nerons with column count or train shape (train_x.shape[1])\n",
    "\n",
    "hidden1 = keras.layers.Dense(100, activation='relu')(inputlayer)\n",
    "hidden2 = keras.layers.Dense(100, activation='relu')(hidden1)\n",
    "hidden3 = keras.layers.Dense(100, activation='relu')(hidden2)\n",
    "\n",
    "concat = keras.layers.Concatenate()([inputlayer, hidden3])\n",
    "\n",
    "#final layer: there has to be 5 nodes with softmax (because we have 5 categories)\n",
    "output = keras.layers.Dense(5, activation='softmax')(concat)\n",
    "\n",
    "model = keras.Model(inputs =[inputlayer], outputs = output)\n"
   ]
  },
  {
   "cell_type": "code",
   "execution_count": 48,
   "metadata": {},
   "outputs": [],
   "source": [
    "# Compile model\n",
    "\n",
    "#Optimizer:\n",
    "adam = keras.optimizers.Adam(learning_rate=0.01)\n",
    "\n",
    "model.compile(loss='sparse_categorical_crossentropy', optimizer=adam, metrics=['accuracy'])"
   ]
  },
  {
   "cell_type": "code",
   "execution_count": 49,
   "metadata": {},
   "outputs": [
    {
     "name": "stdout",
     "output_type": "stream",
     "text": [
      "Epoch 1/20\n",
      "7/7 [==============================] - 0s 13ms/step - loss: 1.3590 - accuracy: 0.4337 - val_loss: 1.1353 - val_accuracy: 0.5727\n",
      "Epoch 2/20\n",
      "7/7 [==============================] - 0s 4ms/step - loss: 1.0513 - accuracy: 0.6029 - val_loss: 0.9937 - val_accuracy: 0.6007\n",
      "Epoch 3/20\n",
      "7/7 [==============================] - 0s 4ms/step - loss: 0.9446 - accuracy: 0.6311 - val_loss: 0.9300 - val_accuracy: 0.6387\n",
      "Epoch 4/20\n",
      "7/7 [==============================] - 0s 3ms/step - loss: 0.8924 - accuracy: 0.6497 - val_loss: 0.8876 - val_accuracy: 0.6507\n",
      "Epoch 5/20\n",
      "7/7 [==============================] - 0s 4ms/step - loss: 0.8428 - accuracy: 0.6720 - val_loss: 0.8427 - val_accuracy: 0.6733\n",
      "Epoch 6/20\n",
      "7/7 [==============================] - 0s 4ms/step - loss: 0.8141 - accuracy: 0.6843 - val_loss: 0.8182 - val_accuracy: 0.6813\n",
      "Epoch 7/20\n",
      "7/7 [==============================] - 0s 3ms/step - loss: 0.7847 - accuracy: 0.6906 - val_loss: 0.8024 - val_accuracy: 0.6913\n",
      "Epoch 8/20\n",
      "7/7 [==============================] - 0s 3ms/step - loss: 0.7414 - accuracy: 0.7186 - val_loss: 0.7450 - val_accuracy: 0.7167\n",
      "Epoch 9/20\n",
      "7/7 [==============================] - 0s 4ms/step - loss: 0.7071 - accuracy: 0.7186 - val_loss: 0.7294 - val_accuracy: 0.7213\n",
      "Epoch 10/20\n",
      "7/7 [==============================] - 0s 4ms/step - loss: 0.6903 - accuracy: 0.7389 - val_loss: 0.7013 - val_accuracy: 0.7460\n",
      "Epoch 11/20\n",
      "7/7 [==============================] - 0s 4ms/step - loss: 0.6671 - accuracy: 0.7363 - val_loss: 0.6965 - val_accuracy: 0.7307\n",
      "Epoch 12/20\n",
      "7/7 [==============================] - 0s 3ms/step - loss: 0.6520 - accuracy: 0.7537 - val_loss: 0.7160 - val_accuracy: 0.7140\n",
      "Epoch 13/20\n",
      "7/7 [==============================] - 0s 3ms/step - loss: 0.6493 - accuracy: 0.7537 - val_loss: 0.6750 - val_accuracy: 0.7440\n",
      "Epoch 14/20\n",
      "7/7 [==============================] - 0s 3ms/step - loss: 0.6241 - accuracy: 0.7577 - val_loss: 0.6562 - val_accuracy: 0.7573\n",
      "Epoch 15/20\n",
      "7/7 [==============================] - 0s 3ms/step - loss: 0.6044 - accuracy: 0.7666 - val_loss: 0.6653 - val_accuracy: 0.7593\n",
      "Epoch 16/20\n",
      "7/7 [==============================] - 0s 4ms/step - loss: 0.5894 - accuracy: 0.7694 - val_loss: 0.6425 - val_accuracy: 0.7547\n",
      "Epoch 17/20\n",
      "7/7 [==============================] - 0s 4ms/step - loss: 0.5865 - accuracy: 0.7774 - val_loss: 0.6595 - val_accuracy: 0.7553\n",
      "Epoch 18/20\n",
      "7/7 [==============================] - 0s 3ms/step - loss: 0.5760 - accuracy: 0.7754 - val_loss: 0.6330 - val_accuracy: 0.7613\n",
      "Epoch 19/20\n",
      "7/7 [==============================] - 0s 3ms/step - loss: 0.5507 - accuracy: 0.7900 - val_loss: 0.6760 - val_accuracy: 0.7420\n",
      "Epoch 20/20\n",
      "7/7 [==============================] - 0s 3ms/step - loss: 0.5589 - accuracy: 0.7831 - val_loss: 0.6314 - val_accuracy: 0.7687\n"
     ]
    }
   ],
   "source": [
    "# Fit the model\n",
    "\n",
    "history = model.fit(train_x, train_y, \n",
    "                    validation_data=(test_x, test_y), \n",
    "                    epochs=20, batch_size=500)"
   ]
  },
  {
   "cell_type": "code",
   "execution_count": 50,
   "metadata": {},
   "outputs": [
    {
     "data": {
      "text/plain": [
       "[0.6314022541046143, 0.768666684627533]"
      ]
     },
     "execution_count": 50,
     "metadata": {},
     "output_type": "execute_result"
    }
   ],
   "source": [
    "# evaluate the model\n",
    "\n",
    "scores = model.evaluate(test_x, test_y, verbose=0)\n",
    "\n",
    "scores\n",
    "\n",
    "# In results, first is loss, second is accuracy"
   ]
  },
  {
   "cell_type": "code",
   "execution_count": 51,
   "metadata": {},
   "outputs": [
    {
     "name": "stdout",
     "output_type": "stream",
     "text": [
      "loss: 0.63\n",
      "accuracy: 76.87%\n"
     ]
    }
   ],
   "source": [
    "# extract the accuracy from model.evaluate\n",
    "\n",
    "print(\"%s: %.2f\" % (model.metrics_names[0], scores[0]))\n",
    "print(\"%s: %.2f%%\" % (model.metrics_names[1], scores[1]*100))"
   ]
  },
  {
   "cell_type": "markdown",
   "metadata": {},
   "source": [
    "# MLPClassifier (one model for comparison purposes)"
   ]
  },
  {
   "cell_type": "code",
   "execution_count": 57,
   "metadata": {},
   "outputs": [
    {
     "name": "stderr",
     "output_type": "stream",
     "text": [
      "C:\\Users\\erich\\anaconda3\\lib\\site-packages\\sklearn\\utils\\validation.py:63: DataConversionWarning: A column-vector y was passed when a 1d array was expected. Please change the shape of y to (n_samples, ), for example using ravel().\n",
      "  return f(*args, **kwargs)\n"
     ]
    },
    {
     "name": "stdout",
     "output_type": "stream",
     "text": [
      "Iteration 1, loss = 1.37373874\n",
      "Iteration 2, loss = 1.23820056\n",
      "Iteration 3, loss = 1.17031172\n",
      "Iteration 4, loss = 1.12627124\n",
      "Iteration 5, loss = 1.09228534\n",
      "Iteration 6, loss = 1.06552421\n",
      "Iteration 7, loss = 1.04370294\n",
      "Iteration 8, loss = 1.02496663\n",
      "Iteration 9, loss = 1.00916813\n",
      "Iteration 10, loss = 0.99525808\n",
      "Iteration 11, loss = 0.98351522\n",
      "Iteration 12, loss = 0.97433391\n",
      "Iteration 13, loss = 0.96552064\n",
      "Iteration 14, loss = 0.95699828\n",
      "Iteration 15, loss = 0.94941183\n",
      "Iteration 16, loss = 0.94293725\n",
      "Iteration 17, loss = 0.93624894\n",
      "Iteration 18, loss = 0.92991083\n",
      "Iteration 19, loss = 0.92435068\n",
      "Iteration 20, loss = 0.91884767\n",
      "Iteration 21, loss = 0.91342290\n",
      "Iteration 22, loss = 0.90820518\n",
      "Iteration 23, loss = 0.90384490\n",
      "Iteration 24, loss = 0.89959296\n",
      "Iteration 25, loss = 0.89579935\n",
      "Iteration 26, loss = 0.89056897\n",
      "Iteration 27, loss = 0.88653972\n",
      "Iteration 28, loss = 0.88244857\n",
      "Iteration 29, loss = 0.87914125\n",
      "Iteration 30, loss = 0.87528791\n",
      "Iteration 31, loss = 0.87210418\n",
      "Iteration 32, loss = 0.86862098\n",
      "Iteration 33, loss = 0.86472781\n",
      "Iteration 34, loss = 0.86184677\n",
      "Iteration 35, loss = 0.85902147\n",
      "Iteration 36, loss = 0.85604657\n",
      "Iteration 37, loss = 0.85189880\n",
      "Iteration 38, loss = 0.85108201\n",
      "Iteration 39, loss = 0.84738113\n",
      "Iteration 40, loss = 0.84390110\n",
      "Iteration 41, loss = 0.84155008\n",
      "Iteration 42, loss = 0.83903679\n",
      "Iteration 43, loss = 0.83564703\n",
      "Iteration 44, loss = 0.83310704\n",
      "Iteration 45, loss = 0.83032852\n",
      "Iteration 46, loss = 0.82787546\n",
      "Iteration 47, loss = 0.82652762\n",
      "Iteration 48, loss = 0.82385196\n",
      "Iteration 49, loss = 0.82146104\n",
      "Iteration 50, loss = 0.81938210\n",
      "Iteration 51, loss = 0.81618779\n",
      "Iteration 52, loss = 0.81373354\n",
      "Iteration 53, loss = 0.81150795\n",
      "Iteration 54, loss = 0.80954709\n",
      "Iteration 55, loss = 0.80581929\n",
      "Iteration 56, loss = 0.80441656\n",
      "Iteration 57, loss = 0.80283023\n",
      "Iteration 58, loss = 0.79993023\n",
      "Iteration 59, loss = 0.79744368\n",
      "Iteration 60, loss = 0.79467836\n",
      "Iteration 61, loss = 0.79376188\n",
      "Iteration 62, loss = 0.79209310\n",
      "Iteration 63, loss = 0.78990975\n",
      "Iteration 64, loss = 0.78690572\n",
      "Iteration 65, loss = 0.78420715\n",
      "Iteration 66, loss = 0.78315514\n",
      "Iteration 67, loss = 0.78051811\n",
      "Iteration 68, loss = 0.77851418\n",
      "Iteration 69, loss = 0.77734903\n",
      "Iteration 70, loss = 0.77422500\n",
      "Iteration 71, loss = 0.77250818\n",
      "Iteration 72, loss = 0.77147791\n",
      "Iteration 73, loss = 0.76840912\n",
      "Iteration 74, loss = 0.76694854\n",
      "Iteration 75, loss = 0.76444304\n",
      "Iteration 76, loss = 0.76213075\n",
      "Iteration 77, loss = 0.76017783\n",
      "Iteration 78, loss = 0.75957772\n",
      "Iteration 79, loss = 0.75666330\n",
      "Iteration 80, loss = 0.75495349\n",
      "Iteration 81, loss = 0.75470076\n",
      "Iteration 82, loss = 0.75223419\n",
      "Iteration 83, loss = 0.74838751\n",
      "Iteration 84, loss = 0.74859764\n",
      "Iteration 85, loss = 0.74660478\n",
      "Iteration 86, loss = 0.74482436\n",
      "Iteration 87, loss = 0.74189242\n",
      "Iteration 88, loss = 0.74115757\n",
      "Iteration 89, loss = 0.73977065\n",
      "Iteration 90, loss = 0.73712807\n",
      "Iteration 91, loss = 0.73762119\n",
      "Iteration 92, loss = 0.73509690\n",
      "Iteration 93, loss = 0.73240886\n",
      "Iteration 94, loss = 0.73135807\n",
      "Iteration 95, loss = 0.72941015\n",
      "Iteration 96, loss = 0.72794130\n",
      "Iteration 97, loss = 0.72662569\n",
      "Iteration 98, loss = 0.72582234\n",
      "Iteration 99, loss = 0.72434663\n",
      "Iteration 100, loss = 0.72186275\n",
      "Iteration 101, loss = 0.72038981\n",
      "Iteration 102, loss = 0.72019402\n",
      "Iteration 103, loss = 0.71932702\n",
      "Iteration 104, loss = 0.71726861\n",
      "Iteration 105, loss = 0.71623802\n",
      "Iteration 106, loss = 0.71560273\n",
      "Iteration 107, loss = 0.71321456\n",
      "Iteration 108, loss = 0.71043502\n",
      "Iteration 109, loss = 0.71008280\n",
      "Iteration 110, loss = 0.70813784\n",
      "Iteration 111, loss = 0.70688659\n",
      "Iteration 112, loss = 0.70593203\n",
      "Iteration 113, loss = 0.70627713\n",
      "Iteration 114, loss = 0.70453423\n",
      "Iteration 115, loss = 0.70247758\n",
      "Iteration 116, loss = 0.70125115\n",
      "Iteration 117, loss = 0.70101925\n",
      "Iteration 118, loss = 0.69938882\n",
      "Iteration 119, loss = 0.69716772\n",
      "Iteration 120, loss = 0.69748214\n",
      "Iteration 121, loss = 0.69609727\n",
      "Iteration 122, loss = 0.69438542\n",
      "Iteration 123, loss = 0.69273424\n",
      "Iteration 124, loss = 0.69235708\n",
      "Iteration 125, loss = 0.69041935\n",
      "Iteration 126, loss = 0.68944148\n",
      "Iteration 127, loss = 0.68847324\n",
      "Iteration 128, loss = 0.68930279\n",
      "Iteration 129, loss = 0.68654138\n",
      "Iteration 130, loss = 0.68557014\n",
      "Iteration 131, loss = 0.68466897\n",
      "Iteration 132, loss = 0.68397975\n",
      "Iteration 133, loss = 0.68291117\n",
      "Iteration 134, loss = 0.68038626\n",
      "Iteration 135, loss = 0.67984579\n",
      "Iteration 136, loss = 0.67952702\n",
      "Iteration 137, loss = 0.67810136\n",
      "Iteration 138, loss = 0.67708072\n",
      "Iteration 139, loss = 0.67569157\n",
      "Iteration 140, loss = 0.67457427\n",
      "Iteration 141, loss = 0.67397633\n",
      "Iteration 142, loss = 0.67258499\n",
      "Iteration 143, loss = 0.67204396\n",
      "Iteration 144, loss = 0.67179363\n",
      "Iteration 145, loss = 0.66976817\n",
      "Iteration 146, loss = 0.66924867\n",
      "Iteration 147, loss = 0.66880520\n",
      "Iteration 148, loss = 0.66771928\n",
      "Iteration 149, loss = 0.66693249\n",
      "Iteration 150, loss = 0.66653993\n",
      "Iteration 151, loss = 0.66712981\n",
      "Iteration 152, loss = 0.66500157\n",
      "Iteration 153, loss = 0.66637174\n",
      "Iteration 154, loss = 0.66302071\n",
      "Iteration 155, loss = 0.66336409\n",
      "Iteration 156, loss = 0.66154790\n",
      "Iteration 157, loss = 0.65986182\n",
      "Iteration 158, loss = 0.65992232\n",
      "Iteration 159, loss = 0.65891258\n",
      "Iteration 160, loss = 0.65751148\n",
      "Iteration 161, loss = 0.65784872\n",
      "Iteration 162, loss = 0.65814887\n",
      "Iteration 163, loss = 0.65575276\n",
      "Iteration 164, loss = 0.65425470\n",
      "Iteration 165, loss = 0.65462134\n",
      "Iteration 166, loss = 0.65346450\n",
      "Iteration 167, loss = 0.65331258\n",
      "Iteration 168, loss = 0.65298211\n",
      "Iteration 169, loss = 0.65187644\n",
      "Iteration 170, loss = 0.65051252\n",
      "Iteration 171, loss = 0.65058643\n",
      "Iteration 172, loss = 0.64936223\n",
      "Iteration 173, loss = 0.64876984\n",
      "Iteration 174, loss = 0.64784672\n",
      "Iteration 175, loss = 0.64745624\n",
      "Iteration 176, loss = 0.64696625\n",
      "Iteration 177, loss = 0.64508841\n",
      "Iteration 178, loss = 0.64432717\n",
      "Iteration 179, loss = 0.64458356\n",
      "Iteration 180, loss = 0.64278406\n",
      "Iteration 181, loss = 0.64347204\n",
      "Iteration 182, loss = 0.64192089\n",
      "Iteration 183, loss = 0.64210382\n",
      "Iteration 184, loss = 0.64087652\n",
      "Iteration 185, loss = 0.63986442\n",
      "Iteration 186, loss = 0.63951291\n",
      "Iteration 187, loss = 0.63869679\n",
      "Iteration 188, loss = 0.63808956\n",
      "Iteration 189, loss = 0.63750006\n",
      "Iteration 190, loss = 0.63761704\n",
      "Iteration 191, loss = 0.63577209\n",
      "Iteration 192, loss = 0.63625952\n",
      "Iteration 193, loss = 0.63634769\n",
      "Iteration 194, loss = 0.63397500\n",
      "Iteration 195, loss = 0.63355537\n",
      "Iteration 196, loss = 0.63454204\n",
      "Iteration 197, loss = 0.63294176\n",
      "Iteration 198, loss = 0.63142689\n",
      "Iteration 199, loss = 0.63046888\n",
      "Iteration 200, loss = 0.62947377\n",
      "Iteration 201, loss = 0.63047209\n",
      "Iteration 202, loss = 0.62890995\n",
      "Iteration 203, loss = 0.62965612\n",
      "Iteration 204, loss = 0.62868785\n",
      "Iteration 205, loss = 0.62791813\n",
      "Iteration 206, loss = 0.62683911\n",
      "Iteration 207, loss = 0.62598308\n",
      "Iteration 208, loss = 0.62553751\n",
      "Iteration 209, loss = 0.62559837\n",
      "Iteration 210, loss = 0.62438912\n",
      "Iteration 211, loss = 0.62403068\n",
      "Iteration 212, loss = 0.62334067\n",
      "Iteration 213, loss = 0.62303587\n",
      "Iteration 214, loss = 0.62313520\n",
      "Iteration 215, loss = 0.62338178\n",
      "Iteration 216, loss = 0.62088334\n",
      "Iteration 217, loss = 0.62023664\n",
      "Iteration 218, loss = 0.61866628\n",
      "Iteration 219, loss = 0.61919889\n",
      "Iteration 220, loss = 0.61832354\n",
      "Iteration 221, loss = 0.61750707\n",
      "Iteration 222, loss = 0.61750325\n",
      "Iteration 223, loss = 0.61598249\n",
      "Iteration 224, loss = 0.61763978\n",
      "Iteration 225, loss = 0.61605400\n",
      "Iteration 226, loss = 0.61591401\n",
      "Iteration 227, loss = 0.61616041\n",
      "Iteration 228, loss = 0.61727463\n",
      "Iteration 229, loss = 0.61455226\n",
      "Iteration 230, loss = 0.61320210\n",
      "Iteration 231, loss = 0.61274419\n",
      "Iteration 232, loss = 0.61212098\n",
      "Iteration 233, loss = 0.61216937\n",
      "Iteration 234, loss = 0.61097930\n",
      "Iteration 235, loss = 0.61267824\n",
      "Iteration 236, loss = 0.61120059\n",
      "Iteration 237, loss = 0.61005758\n",
      "Iteration 238, loss = 0.60941355\n",
      "Iteration 239, loss = 0.60938607\n",
      "Iteration 240, loss = 0.60749989\n",
      "Iteration 241, loss = 0.60735372\n",
      "Iteration 242, loss = 0.60711270\n",
      "Iteration 243, loss = 0.60557901\n",
      "Iteration 244, loss = 0.60616572\n",
      "Iteration 245, loss = 0.60564162\n",
      "Iteration 246, loss = 0.60556255\n",
      "Iteration 247, loss = 0.60617272\n",
      "Iteration 248, loss = 0.60477216\n",
      "Iteration 249, loss = 0.60383364\n",
      "Iteration 250, loss = 0.60266696\n",
      "Iteration 251, loss = 0.60387089\n",
      "Iteration 252, loss = 0.60330345\n",
      "Iteration 253, loss = 0.60210460\n",
      "Iteration 254, loss = 0.60200908\n",
      "Iteration 255, loss = 0.60115126\n",
      "Iteration 256, loss = 0.60105235\n",
      "Iteration 257, loss = 0.59919547\n",
      "Iteration 258, loss = 0.59943720\n",
      "Iteration 259, loss = 0.59921058\n",
      "Iteration 260, loss = 0.59822892\n"
     ]
    },
    {
     "name": "stdout",
     "output_type": "stream",
     "text": [
      "Iteration 261, loss = 0.59797289\n",
      "Iteration 262, loss = 0.59645970\n",
      "Iteration 263, loss = 0.59791084\n",
      "Iteration 264, loss = 0.59656184\n",
      "Iteration 265, loss = 0.59777444\n",
      "Iteration 266, loss = 0.59686535\n",
      "Iteration 267, loss = 0.59535157\n",
      "Iteration 268, loss = 0.59515631\n",
      "Iteration 269, loss = 0.59472573\n",
      "Iteration 270, loss = 0.59479699\n",
      "Iteration 271, loss = 0.59291856\n",
      "Iteration 272, loss = 0.59396897\n",
      "Iteration 273, loss = 0.59332026\n",
      "Iteration 274, loss = 0.59350217\n",
      "Iteration 275, loss = 0.59310316\n",
      "Iteration 276, loss = 0.59109110\n",
      "Iteration 277, loss = 0.59171652\n",
      "Iteration 278, loss = 0.59340597\n",
      "Iteration 279, loss = 0.59077551\n",
      "Iteration 280, loss = 0.58992589\n",
      "Iteration 281, loss = 0.58893733\n",
      "Iteration 282, loss = 0.58833808\n",
      "Iteration 283, loss = 0.58944045\n",
      "Iteration 284, loss = 0.58867946\n",
      "Iteration 285, loss = 0.58737141\n",
      "Iteration 286, loss = 0.58767523\n",
      "Iteration 287, loss = 0.58800308\n",
      "Iteration 288, loss = 0.58713629\n",
      "Iteration 289, loss = 0.58913989\n",
      "Iteration 290, loss = 0.58658189\n",
      "Iteration 291, loss = 0.58572573\n",
      "Iteration 292, loss = 0.58406787\n",
      "Iteration 293, loss = 0.58521610\n",
      "Iteration 294, loss = 0.58408339\n",
      "Iteration 295, loss = 0.58256837\n",
      "Iteration 296, loss = 0.58319488\n",
      "Iteration 297, loss = 0.58430089\n",
      "Iteration 298, loss = 0.58194360\n",
      "Iteration 299, loss = 0.58296509\n",
      "Iteration 300, loss = 0.58376581\n",
      "Iteration 301, loss = 0.58103097\n",
      "Iteration 302, loss = 0.58113241\n",
      "Iteration 303, loss = 0.58070195\n",
      "Iteration 304, loss = 0.58057984\n",
      "Iteration 305, loss = 0.58136174\n",
      "Iteration 306, loss = 0.57921874\n",
      "Iteration 307, loss = 0.57843743\n",
      "Iteration 308, loss = 0.57879342\n",
      "Iteration 309, loss = 0.58037759\n",
      "Iteration 310, loss = 0.57902730\n",
      "Iteration 311, loss = 0.57710047\n",
      "Iteration 312, loss = 0.57691060\n",
      "Iteration 313, loss = 0.57702956\n",
      "Iteration 314, loss = 0.57748215\n",
      "Iteration 315, loss = 0.57605651\n",
      "Iteration 316, loss = 0.57645306\n",
      "Iteration 317, loss = 0.57467295\n",
      "Iteration 318, loss = 0.57498111\n",
      "Iteration 319, loss = 0.57458890\n",
      "Iteration 320, loss = 0.57508284\n",
      "Iteration 321, loss = 0.57284400\n",
      "Iteration 322, loss = 0.57329306\n",
      "Iteration 323, loss = 0.57356123\n",
      "Iteration 324, loss = 0.57202701\n",
      "Iteration 325, loss = 0.57266880\n",
      "Iteration 326, loss = 0.57202350\n",
      "Iteration 327, loss = 0.57410089\n",
      "Iteration 328, loss = 0.57222309\n",
      "Iteration 329, loss = 0.57244141\n",
      "Iteration 330, loss = 0.57054213\n",
      "Iteration 331, loss = 0.57037095\n",
      "Iteration 332, loss = 0.57075392\n",
      "Iteration 333, loss = 0.57019095\n",
      "Iteration 334, loss = 0.56809931\n",
      "Iteration 335, loss = 0.56867565\n",
      "Iteration 336, loss = 0.56864903\n",
      "Iteration 337, loss = 0.56668826\n",
      "Iteration 338, loss = 0.56751340\n",
      "Iteration 339, loss = 0.56534327\n",
      "Iteration 340, loss = 0.56648887\n",
      "Iteration 341, loss = 0.56696588\n",
      "Iteration 342, loss = 0.56706404\n",
      "Iteration 343, loss = 0.56562333\n",
      "Iteration 344, loss = 0.56659606\n",
      "Iteration 345, loss = 0.56578331\n",
      "Iteration 346, loss = 0.56322480\n",
      "Iteration 347, loss = 0.56321232\n",
      "Iteration 348, loss = 0.56328868\n",
      "Iteration 349, loss = 0.56230925\n",
      "Iteration 350, loss = 0.56317039\n",
      "Iteration 351, loss = 0.56172602\n",
      "Iteration 352, loss = 0.56187312\n",
      "Iteration 353, loss = 0.56263936\n",
      "Iteration 354, loss = 0.56208130\n",
      "Iteration 355, loss = 0.56029165\n",
      "Iteration 356, loss = 0.56004383\n",
      "Iteration 357, loss = 0.56059482\n",
      "Iteration 358, loss = 0.55961149\n",
      "Iteration 359, loss = 0.55976609\n",
      "Iteration 360, loss = 0.55920914\n",
      "Iteration 361, loss = 0.56000243\n",
      "Iteration 362, loss = 0.55762225\n",
      "Iteration 363, loss = 0.55686131\n",
      "Iteration 364, loss = 0.55702447\n",
      "Iteration 365, loss = 0.55805455\n",
      "Iteration 366, loss = 0.55762549\n",
      "Iteration 367, loss = 0.55589255\n",
      "Iteration 368, loss = 0.55502041\n",
      "Iteration 369, loss = 0.55530045\n",
      "Iteration 370, loss = 0.55524949\n",
      "Iteration 371, loss = 0.55447770\n",
      "Iteration 372, loss = 0.55520022\n",
      "Iteration 373, loss = 0.55336275\n",
      "Iteration 374, loss = 0.55294323\n",
      "Iteration 375, loss = 0.55240463\n",
      "Iteration 376, loss = 0.55416065\n",
      "Iteration 377, loss = 0.55230851\n",
      "Iteration 378, loss = 0.55269421\n",
      "Iteration 379, loss = 0.55418425\n",
      "Iteration 380, loss = 0.55200667\n",
      "Iteration 381, loss = 0.55350099\n",
      "Iteration 382, loss = 0.54966359\n",
      "Iteration 383, loss = 0.55036568\n",
      "Iteration 384, loss = 0.55185487\n",
      "Iteration 385, loss = 0.55080618\n",
      "Iteration 386, loss = 0.55007622\n",
      "Iteration 387, loss = 0.54940306\n",
      "Iteration 388, loss = 0.54984209\n",
      "Iteration 389, loss = 0.54781273\n",
      "Iteration 390, loss = 0.54880594\n",
      "Iteration 391, loss = 0.54916401\n",
      "Iteration 392, loss = 0.54801332\n",
      "Iteration 393, loss = 0.54726428\n",
      "Iteration 394, loss = 0.54741618\n",
      "Iteration 395, loss = 0.54612383\n",
      "Iteration 396, loss = 0.54552840\n",
      "Iteration 397, loss = 0.54586299\n",
      "Iteration 398, loss = 0.54618069\n",
      "Iteration 399, loss = 0.54587180\n",
      "Iteration 400, loss = 0.54469414\n",
      "Iteration 401, loss = 0.54449521\n",
      "Iteration 402, loss = 0.54588152\n",
      "Iteration 403, loss = 0.54464509\n",
      "Iteration 404, loss = 0.54326742\n",
      "Iteration 405, loss = 0.54330635\n",
      "Iteration 406, loss = 0.54294214\n",
      "Iteration 407, loss = 0.54277342\n",
      "Iteration 408, loss = 0.54289281\n",
      "Iteration 409, loss = 0.54234065\n",
      "Iteration 410, loss = 0.54215298\n",
      "Iteration 411, loss = 0.54124290\n",
      "Iteration 412, loss = 0.54134734\n",
      "Iteration 413, loss = 0.54130119\n",
      "Iteration 414, loss = 0.54137416\n",
      "Iteration 415, loss = 0.54009732\n",
      "Iteration 416, loss = 0.53945918\n",
      "Iteration 417, loss = 0.54076101\n",
      "Iteration 418, loss = 0.53962303\n",
      "Iteration 419, loss = 0.53928374\n",
      "Iteration 420, loss = 0.53859739\n",
      "Iteration 421, loss = 0.53856499\n",
      "Iteration 422, loss = 0.53798146\n",
      "Iteration 423, loss = 0.53802586\n",
      "Iteration 424, loss = 0.53856431\n",
      "Iteration 425, loss = 0.53685754\n",
      "Iteration 426, loss = 0.53715139\n",
      "Iteration 427, loss = 0.53594593\n",
      "Iteration 428, loss = 0.53562721\n",
      "Iteration 429, loss = 0.53707816\n",
      "Iteration 430, loss = 0.53634062\n",
      "Iteration 431, loss = 0.53752755\n",
      "Iteration 432, loss = 0.53537053\n",
      "Iteration 433, loss = 0.53595187\n",
      "Iteration 434, loss = 0.53339056\n",
      "Iteration 435, loss = 0.53410366\n",
      "Iteration 436, loss = 0.53475576\n",
      "Iteration 437, loss = 0.53368595\n",
      "Iteration 438, loss = 0.53437298\n",
      "Iteration 439, loss = 0.53382522\n",
      "Iteration 440, loss = 0.53281463\n",
      "Iteration 441, loss = 0.53227949\n",
      "Iteration 442, loss = 0.53236198\n",
      "Iteration 443, loss = 0.53236217\n",
      "Iteration 444, loss = 0.53176418\n",
      "Iteration 445, loss = 0.53086727\n",
      "Iteration 446, loss = 0.53231279\n",
      "Iteration 447, loss = 0.53040741\n",
      "Iteration 448, loss = 0.53068086\n",
      "Iteration 449, loss = 0.52914436\n",
      "Iteration 450, loss = 0.53214167\n",
      "Iteration 451, loss = 0.53262842\n",
      "Iteration 452, loss = 0.53064891\n",
      "Iteration 453, loss = 0.52942962\n",
      "Iteration 454, loss = 0.52905161\n",
      "Iteration 455, loss = 0.52897564\n",
      "Iteration 456, loss = 0.52940409\n",
      "Iteration 457, loss = 0.52943774\n",
      "Iteration 458, loss = 0.52984845\n",
      "Iteration 459, loss = 0.52850366\n",
      "Iteration 460, loss = 0.52700972\n",
      "Iteration 461, loss = 0.52705244\n",
      "Iteration 462, loss = 0.52732776\n",
      "Iteration 463, loss = 0.52543056\n",
      "Iteration 464, loss = 0.52600167\n",
      "Iteration 465, loss = 0.52726157\n",
      "Iteration 466, loss = 0.52714514\n",
      "Iteration 467, loss = 0.52689268\n",
      "Iteration 468, loss = 0.52613106\n",
      "Iteration 469, loss = 0.52531226\n",
      "Iteration 470, loss = 0.52488741\n",
      "Iteration 471, loss = 0.52721984\n",
      "Iteration 472, loss = 0.52542995\n",
      "Iteration 473, loss = 0.52441156\n",
      "Iteration 474, loss = 0.52323345\n",
      "Iteration 475, loss = 0.52239828\n",
      "Iteration 476, loss = 0.52201091\n",
      "Iteration 477, loss = 0.52454244\n",
      "Iteration 478, loss = 0.52232688\n",
      "Iteration 479, loss = 0.52373904\n",
      "Iteration 480, loss = 0.52002639\n",
      "Iteration 481, loss = 0.52147629\n",
      "Iteration 482, loss = 0.52196454\n",
      "Iteration 483, loss = 0.52197979\n",
      "Iteration 484, loss = 0.52117072\n",
      "Iteration 485, loss = 0.52288249\n",
      "Iteration 486, loss = 0.52054411\n",
      "Iteration 487, loss = 0.52058748\n",
      "Iteration 488, loss = 0.51976070\n",
      "Iteration 489, loss = 0.51916029\n",
      "Iteration 490, loss = 0.52004091\n",
      "Iteration 491, loss = 0.51827628\n",
      "Iteration 492, loss = 0.51941019\n",
      "Iteration 493, loss = 0.51861169\n",
      "Iteration 494, loss = 0.51928099\n",
      "Iteration 495, loss = 0.51909081\n",
      "Iteration 496, loss = 0.51775325\n",
      "Iteration 497, loss = 0.51754459\n",
      "Iteration 498, loss = 0.51691096\n",
      "Iteration 499, loss = 0.51552456\n",
      "Iteration 500, loss = 0.51605145\n",
      "Iteration 501, loss = 0.51659267\n",
      "Iteration 502, loss = 0.51580904\n",
      "Iteration 503, loss = 0.51549289\n",
      "Iteration 504, loss = 0.51785459\n",
      "Iteration 505, loss = 0.51753186\n",
      "Iteration 506, loss = 0.51596221\n",
      "Iteration 507, loss = 0.51446070\n",
      "Iteration 508, loss = 0.51498511\n",
      "Iteration 509, loss = 0.51387667\n"
     ]
    },
    {
     "name": "stdout",
     "output_type": "stream",
     "text": [
      "Iteration 510, loss = 0.51533718\n",
      "Iteration 511, loss = 0.51524349\n",
      "Iteration 512, loss = 0.51400482\n",
      "Iteration 513, loss = 0.51419020\n",
      "Iteration 514, loss = 0.51491527\n",
      "Iteration 515, loss = 0.51382689\n",
      "Iteration 516, loss = 0.51425399\n",
      "Iteration 517, loss = 0.51397224\n",
      "Iteration 518, loss = 0.51158491\n",
      "Iteration 519, loss = 0.51191520\n",
      "Iteration 520, loss = 0.51186726\n",
      "Iteration 521, loss = 0.51105156\n",
      "Iteration 522, loss = 0.51206037\n",
      "Iteration 523, loss = 0.51077859\n",
      "Iteration 524, loss = 0.51112819\n",
      "Iteration 525, loss = 0.51061521\n",
      "Iteration 526, loss = 0.51080622\n",
      "Iteration 527, loss = 0.51182857\n",
      "Iteration 528, loss = 0.51007794\n",
      "Iteration 529, loss = 0.51023523\n",
      "Iteration 530, loss = 0.51194940\n",
      "Iteration 531, loss = 0.51074467\n",
      "Iteration 532, loss = 0.51041050\n",
      "Iteration 533, loss = 0.50893542\n",
      "Iteration 534, loss = 0.50790558\n",
      "Iteration 535, loss = 0.50998908\n",
      "Iteration 536, loss = 0.50822891\n",
      "Iteration 537, loss = 0.50893949\n",
      "Iteration 538, loss = 0.50828176\n",
      "Iteration 539, loss = 0.50950781\n",
      "Iteration 540, loss = 0.50914435\n",
      "Iteration 541, loss = 0.50727880\n",
      "Iteration 542, loss = 0.50630799\n",
      "Iteration 543, loss = 0.50765600\n",
      "Iteration 544, loss = 0.50710307\n",
      "Iteration 545, loss = 0.50746115\n",
      "Iteration 546, loss = 0.50881081\n",
      "Iteration 547, loss = 0.50603869\n",
      "Iteration 548, loss = 0.50714725\n",
      "Iteration 549, loss = 0.50476714\n",
      "Iteration 550, loss = 0.50574400\n",
      "Iteration 551, loss = 0.50539824\n",
      "Iteration 552, loss = 0.50457134\n",
      "Iteration 553, loss = 0.50385305\n",
      "Iteration 554, loss = 0.50445189\n",
      "Iteration 555, loss = 0.50493109\n",
      "Iteration 556, loss = 0.50330447\n",
      "Iteration 557, loss = 0.50300440\n",
      "Iteration 558, loss = 0.50380734\n",
      "Iteration 559, loss = 0.50456877\n",
      "Iteration 560, loss = 0.50446319\n",
      "Iteration 561, loss = 0.50258865\n",
      "Iteration 562, loss = 0.50228494\n",
      "Iteration 563, loss = 0.50198861\n",
      "Iteration 564, loss = 0.50133309\n",
      "Iteration 565, loss = 0.50276988\n",
      "Iteration 566, loss = 0.50282168\n",
      "Iteration 567, loss = 0.50101585\n",
      "Iteration 568, loss = 0.50059923\n",
      "Iteration 569, loss = 0.50035613\n",
      "Iteration 570, loss = 0.50090923\n",
      "Iteration 571, loss = 0.50065210\n",
      "Iteration 572, loss = 0.49968538\n",
      "Iteration 573, loss = 0.50105369\n",
      "Iteration 574, loss = 0.50160476\n",
      "Iteration 575, loss = 0.49991307\n",
      "Iteration 576, loss = 0.49920450\n",
      "Iteration 577, loss = 0.49858630\n",
      "Iteration 578, loss = 0.49907023\n",
      "Iteration 579, loss = 0.49907096\n",
      "Iteration 580, loss = 0.49914521\n",
      "Iteration 581, loss = 0.49955039\n",
      "Iteration 582, loss = 0.50013354\n",
      "Iteration 583, loss = 0.49865776\n",
      "Iteration 584, loss = 0.49868474\n",
      "Iteration 585, loss = 0.49807315\n",
      "Iteration 586, loss = 0.49734635\n",
      "Iteration 587, loss = 0.49837340\n",
      "Iteration 588, loss = 0.49590834\n",
      "Iteration 589, loss = 0.49680418\n",
      "Iteration 590, loss = 0.49781508\n",
      "Iteration 591, loss = 0.49936693\n",
      "Iteration 592, loss = 0.49754203\n",
      "Iteration 593, loss = 0.49757108\n",
      "Iteration 594, loss = 0.49676113\n",
      "Iteration 595, loss = 0.49630832\n",
      "Iteration 596, loss = 0.49480558\n",
      "Iteration 597, loss = 0.49551738\n",
      "Iteration 598, loss = 0.49506610\n",
      "Iteration 599, loss = 0.49559899\n",
      "Iteration 600, loss = 0.49588025\n",
      "Iteration 601, loss = 0.49353070\n",
      "Iteration 602, loss = 0.49487319\n",
      "Iteration 603, loss = 0.49415513\n",
      "Iteration 604, loss = 0.49294194\n",
      "Iteration 605, loss = 0.49317524\n",
      "Iteration 606, loss = 0.49401975\n",
      "Iteration 607, loss = 0.49426227\n",
      "Iteration 608, loss = 0.49475130\n",
      "Iteration 609, loss = 0.49300569\n",
      "Iteration 610, loss = 0.49416835\n",
      "Iteration 611, loss = 0.49099837\n",
      "Iteration 612, loss = 0.49347999\n",
      "Iteration 613, loss = 0.49335517\n",
      "Iteration 614, loss = 0.49359282\n",
      "Iteration 615, loss = 0.49051935\n",
      "Iteration 616, loss = 0.49187048\n",
      "Iteration 617, loss = 0.49405363\n",
      "Iteration 618, loss = 0.49330538\n",
      "Iteration 619, loss = 0.49236984\n",
      "Iteration 620, loss = 0.49259905\n",
      "Iteration 621, loss = 0.49126959\n",
      "Iteration 622, loss = 0.49256329\n",
      "Iteration 623, loss = 0.49098598\n",
      "Iteration 624, loss = 0.49087836\n",
      "Iteration 625, loss = 0.49021569\n",
      "Iteration 626, loss = 0.48936514\n",
      "Iteration 627, loss = 0.48846799\n",
      "Iteration 628, loss = 0.48934598\n",
      "Iteration 629, loss = 0.48803756\n",
      "Iteration 630, loss = 0.48898199\n",
      "Iteration 631, loss = 0.48864633\n",
      "Iteration 632, loss = 0.48957366\n",
      "Iteration 633, loss = 0.49066294\n",
      "Iteration 634, loss = 0.48989451\n",
      "Iteration 635, loss = 0.48762271\n",
      "Iteration 636, loss = 0.48760405\n",
      "Iteration 637, loss = 0.48721178\n",
      "Iteration 638, loss = 0.48626477\n",
      "Iteration 639, loss = 0.48712416\n",
      "Iteration 640, loss = 0.48579755\n",
      "Iteration 641, loss = 0.48624675\n",
      "Iteration 642, loss = 0.48642106\n",
      "Iteration 643, loss = 0.48597817\n",
      "Iteration 644, loss = 0.48584863\n",
      "Iteration 645, loss = 0.48576109\n",
      "Iteration 646, loss = 0.48553183\n",
      "Iteration 647, loss = 0.48686551\n",
      "Iteration 648, loss = 0.48661836\n",
      "Iteration 649, loss = 0.48538553\n",
      "Iteration 650, loss = 0.48504273\n",
      "Iteration 651, loss = 0.48413165\n",
      "Iteration 652, loss = 0.48607602\n",
      "Iteration 653, loss = 0.48358756\n",
      "Iteration 654, loss = 0.48250803\n",
      "Iteration 655, loss = 0.48498366\n",
      "Iteration 656, loss = 0.48410021\n",
      "Iteration 657, loss = 0.48288652\n",
      "Iteration 658, loss = 0.48288115\n",
      "Iteration 659, loss = 0.48216642\n",
      "Iteration 660, loss = 0.48229805\n",
      "Iteration 661, loss = 0.48256413\n",
      "Iteration 662, loss = 0.48181008\n",
      "Iteration 663, loss = 0.48156834\n",
      "Iteration 664, loss = 0.48373049\n",
      "Iteration 665, loss = 0.48435782\n",
      "Iteration 666, loss = 0.48113870\n",
      "Iteration 667, loss = 0.48068130\n",
      "Iteration 668, loss = 0.48052934\n",
      "Iteration 669, loss = 0.48085934\n",
      "Iteration 670, loss = 0.48066774\n",
      "Iteration 671, loss = 0.48090123\n",
      "Iteration 672, loss = 0.48174361\n",
      "Iteration 673, loss = 0.47939420\n",
      "Iteration 674, loss = 0.48007655\n",
      "Iteration 675, loss = 0.47996753\n",
      "Iteration 676, loss = 0.48078170\n",
      "Iteration 677, loss = 0.47922427\n",
      "Iteration 678, loss = 0.48068697\n",
      "Iteration 679, loss = 0.47982219\n",
      "Iteration 680, loss = 0.47772187\n",
      "Iteration 681, loss = 0.47967360\n",
      "Iteration 682, loss = 0.48193821\n",
      "Iteration 683, loss = 0.48043606\n",
      "Iteration 684, loss = 0.47976185\n",
      "Iteration 685, loss = 0.47871161\n",
      "Iteration 686, loss = 0.47992020\n",
      "Iteration 687, loss = 0.47996433\n",
      "Iteration 688, loss = 0.47753269\n",
      "Iteration 689, loss = 0.47715265\n",
      "Iteration 690, loss = 0.47837291\n",
      "Iteration 691, loss = 0.47867997\n",
      "Iteration 692, loss = 0.47745000\n",
      "Iteration 693, loss = 0.47601987\n",
      "Iteration 694, loss = 0.47660746\n",
      "Iteration 695, loss = 0.47532657\n",
      "Iteration 696, loss = 0.47734277\n",
      "Iteration 697, loss = 0.47683932\n",
      "Iteration 698, loss = 0.47619456\n",
      "Iteration 699, loss = 0.47574759\n",
      "Iteration 700, loss = 0.47621659\n",
      "Iteration 701, loss = 0.47432684\n",
      "Iteration 702, loss = 0.47511069\n",
      "Iteration 703, loss = 0.47416410\n",
      "Iteration 704, loss = 0.47637248\n",
      "Iteration 705, loss = 0.47481150\n",
      "Iteration 706, loss = 0.47410320\n",
      "Iteration 707, loss = 0.47404552\n",
      "Iteration 708, loss = 0.47378250\n",
      "Iteration 709, loss = 0.47722946\n",
      "Iteration 710, loss = 0.47681011\n",
      "Iteration 711, loss = 0.47407594\n",
      "Iteration 712, loss = 0.47379111\n",
      "Iteration 713, loss = 0.47425461\n",
      "Iteration 714, loss = 0.47251391\n",
      "Iteration 715, loss = 0.47298355\n",
      "Iteration 716, loss = 0.47077990\n",
      "Iteration 717, loss = 0.47229112\n",
      "Iteration 718, loss = 0.47190409\n",
      "Iteration 719, loss = 0.47250999\n",
      "Iteration 720, loss = 0.47098724\n",
      "Iteration 721, loss = 0.47081421\n",
      "Iteration 722, loss = 0.47141179\n",
      "Iteration 723, loss = 0.47068971\n",
      "Iteration 724, loss = 0.47048977\n",
      "Iteration 725, loss = 0.47146435\n",
      "Iteration 726, loss = 0.46908255\n",
      "Iteration 727, loss = 0.47033798\n",
      "Iteration 728, loss = 0.47087469\n",
      "Iteration 729, loss = 0.47016631\n",
      "Iteration 730, loss = 0.46979554\n",
      "Iteration 731, loss = 0.47007940\n",
      "Iteration 732, loss = 0.47131925\n",
      "Iteration 733, loss = 0.46876453\n",
      "Iteration 734, loss = 0.46854069\n",
      "Iteration 735, loss = 0.46791918\n",
      "Iteration 736, loss = 0.46711384\n",
      "Iteration 737, loss = 0.46948019\n",
      "Iteration 738, loss = 0.46728814\n",
      "Iteration 739, loss = 0.46757119\n",
      "Iteration 740, loss = 0.46806139\n",
      "Iteration 741, loss = 0.46685545\n",
      "Iteration 742, loss = 0.46785510\n",
      "Iteration 743, loss = 0.46769763\n",
      "Iteration 744, loss = 0.46806453\n",
      "Iteration 745, loss = 0.46841203\n",
      "Iteration 746, loss = 0.46805068\n",
      "Iteration 747, loss = 0.46731357\n",
      "Iteration 748, loss = 0.46659175\n",
      "Iteration 749, loss = 0.46553613\n",
      "Iteration 750, loss = 0.46555332\n",
      "Iteration 751, loss = 0.46698322\n",
      "Iteration 752, loss = 0.46643324\n",
      "Iteration 753, loss = 0.46922706\n",
      "Iteration 754, loss = 0.46593315\n",
      "Iteration 755, loss = 0.46710728\n",
      "Iteration 756, loss = 0.46693902\n",
      "Iteration 757, loss = 0.46525593\n",
      "Iteration 758, loss = 0.46729884\n",
      "Iteration 759, loss = 0.46517487\n",
      "Iteration 760, loss = 0.46618844\n",
      "Iteration 761, loss = 0.46702471\n",
      "Iteration 762, loss = 0.46551372\n",
      "Iteration 763, loss = 0.46314632\n",
      "Iteration 764, loss = 0.46414246\n",
      "Iteration 765, loss = 0.46359100\n",
      "Iteration 766, loss = 0.46354974\n",
      "Iteration 767, loss = 0.46486013\n",
      "Iteration 768, loss = 0.46413372\n",
      "Iteration 769, loss = 0.46365021\n",
      "Iteration 770, loss = 0.46305438\n",
      "Iteration 771, loss = 0.46290522\n",
      "Iteration 772, loss = 0.46331767\n"
     ]
    },
    {
     "name": "stdout",
     "output_type": "stream",
     "text": [
      "Iteration 773, loss = 0.46153280\n",
      "Iteration 774, loss = 0.46332252\n",
      "Iteration 775, loss = 0.46156660\n",
      "Iteration 776, loss = 0.46532527\n",
      "Iteration 777, loss = 0.46379510\n",
      "Iteration 778, loss = 0.46269510\n",
      "Iteration 779, loss = 0.46138189\n",
      "Iteration 780, loss = 0.46165186\n",
      "Iteration 781, loss = 0.46288264\n",
      "Iteration 782, loss = 0.46080851\n",
      "Iteration 783, loss = 0.46133508\n",
      "Iteration 784, loss = 0.46079408\n",
      "Iteration 785, loss = 0.46398165\n",
      "Iteration 786, loss = 0.46539054\n",
      "Iteration 787, loss = 0.45922500\n",
      "Iteration 788, loss = 0.46095617\n",
      "Iteration 789, loss = 0.45993086\n",
      "Iteration 790, loss = 0.46111527\n",
      "Iteration 791, loss = 0.46040869\n",
      "Iteration 792, loss = 0.45912827\n",
      "Iteration 793, loss = 0.45898047\n",
      "Iteration 794, loss = 0.45958616\n",
      "Iteration 795, loss = 0.46039063\n",
      "Iteration 796, loss = 0.46104702\n",
      "Iteration 797, loss = 0.45996814\n",
      "Iteration 798, loss = 0.45935176\n",
      "Iteration 799, loss = 0.45839257\n",
      "Iteration 800, loss = 0.45866654\n",
      "Iteration 801, loss = 0.45862812\n",
      "Iteration 802, loss = 0.45910565\n",
      "Iteration 803, loss = 0.45795476\n",
      "Iteration 804, loss = 0.45806982\n",
      "Iteration 805, loss = 0.45888093\n",
      "Iteration 806, loss = 0.46020211\n",
      "Iteration 807, loss = 0.45839916\n",
      "Iteration 808, loss = 0.45803608\n",
      "Iteration 809, loss = 0.45706162\n",
      "Iteration 810, loss = 0.45829763\n",
      "Iteration 811, loss = 0.45835361\n",
      "Iteration 812, loss = 0.45737981\n",
      "Iteration 813, loss = 0.45637024\n",
      "Iteration 814, loss = 0.45739624\n",
      "Iteration 815, loss = 0.45827323\n",
      "Iteration 816, loss = 0.45646209\n",
      "Iteration 817, loss = 0.45483294\n",
      "Iteration 818, loss = 0.45515906\n",
      "Iteration 819, loss = 0.45415501\n",
      "Iteration 820, loss = 0.45766796\n",
      "Iteration 821, loss = 0.45622423\n",
      "Iteration 822, loss = 0.45765815\n",
      "Iteration 823, loss = 0.45697962\n",
      "Iteration 824, loss = 0.45759679\n",
      "Iteration 825, loss = 0.45808684\n",
      "Iteration 826, loss = 0.45404579\n",
      "Iteration 827, loss = 0.45510180\n",
      "Iteration 828, loss = 0.45620880\n",
      "Iteration 829, loss = 0.45426454\n",
      "Iteration 830, loss = 0.45347408\n",
      "Iteration 831, loss = 0.45338482\n",
      "Iteration 832, loss = 0.45333123\n",
      "Iteration 833, loss = 0.45338267\n",
      "Iteration 834, loss = 0.45767060\n",
      "Iteration 835, loss = 0.45577139\n",
      "Iteration 836, loss = 0.45445740\n",
      "Iteration 837, loss = 0.45311641\n",
      "Iteration 838, loss = 0.45243411\n",
      "Iteration 839, loss = 0.45280626\n",
      "Iteration 840, loss = 0.45245674\n",
      "Iteration 841, loss = 0.45327125\n",
      "Iteration 842, loss = 0.45326171\n",
      "Iteration 843, loss = 0.45224485\n",
      "Iteration 844, loss = 0.45301329\n",
      "Iteration 845, loss = 0.45243363\n",
      "Iteration 846, loss = 0.45235188\n",
      "Iteration 847, loss = 0.45061758\n",
      "Iteration 848, loss = 0.45232847\n",
      "Iteration 849, loss = 0.45266454\n",
      "Iteration 850, loss = 0.45204703\n",
      "Iteration 851, loss = 0.45128446\n",
      "Iteration 852, loss = 0.45154264\n",
      "Iteration 853, loss = 0.45055793\n",
      "Iteration 854, loss = 0.45195910\n",
      "Iteration 855, loss = 0.45146821\n",
      "Iteration 856, loss = 0.45134164\n",
      "Iteration 857, loss = 0.44989616\n",
      "Iteration 858, loss = 0.45176472\n",
      "Iteration 859, loss = 0.45040963\n",
      "Iteration 860, loss = 0.44981657\n",
      "Iteration 861, loss = 0.44990028\n",
      "Iteration 862, loss = 0.45168860\n",
      "Iteration 863, loss = 0.45033770\n",
      "Iteration 864, loss = 0.44949125\n",
      "Iteration 865, loss = 0.44942751\n",
      "Iteration 866, loss = 0.44973795\n",
      "Iteration 867, loss = 0.44984333\n",
      "Iteration 868, loss = 0.44940515\n",
      "Iteration 869, loss = 0.44964884\n",
      "Iteration 870, loss = 0.44927427\n",
      "Iteration 871, loss = 0.44843816\n",
      "Iteration 872, loss = 0.44907896\n",
      "Iteration 873, loss = 0.44960030\n",
      "Iteration 874, loss = 0.44923970\n",
      "Iteration 875, loss = 0.44675454\n",
      "Iteration 876, loss = 0.44685195\n",
      "Iteration 877, loss = 0.45028819\n",
      "Iteration 878, loss = 0.44798014\n",
      "Iteration 879, loss = 0.44754132\n",
      "Iteration 880, loss = 0.44733965\n",
      "Iteration 881, loss = 0.44733711\n",
      "Iteration 882, loss = 0.44646889\n",
      "Iteration 883, loss = 0.44642459\n",
      "Iteration 884, loss = 0.44748074\n",
      "Iteration 885, loss = 0.44719919\n",
      "Iteration 886, loss = 0.44815189\n",
      "Iteration 887, loss = 0.44825913\n",
      "Iteration 888, loss = 0.44643230\n",
      "Iteration 889, loss = 0.44644348\n",
      "Iteration 890, loss = 0.44498734\n",
      "Iteration 891, loss = 0.44582060\n",
      "Iteration 892, loss = 0.44492628\n",
      "Iteration 893, loss = 0.44725603\n",
      "Iteration 894, loss = 0.44415395\n",
      "Iteration 895, loss = 0.44561332\n",
      "Iteration 896, loss = 0.44570445\n",
      "Iteration 897, loss = 0.44606665\n",
      "Iteration 898, loss = 0.44371149\n",
      "Iteration 899, loss = 0.44438097\n",
      "Iteration 900, loss = 0.44555720\n",
      "Iteration 901, loss = 0.44437020\n",
      "Iteration 902, loss = 0.44516957\n",
      "Iteration 903, loss = 0.44331188\n",
      "Iteration 904, loss = 0.44318664\n",
      "Iteration 905, loss = 0.44608480\n",
      "Iteration 906, loss = 0.44669835\n",
      "Iteration 907, loss = 0.44391840\n",
      "Iteration 908, loss = 0.44378525\n",
      "Iteration 909, loss = 0.44400188\n",
      "Iteration 910, loss = 0.44605147\n",
      "Iteration 911, loss = 0.44438886\n",
      "Iteration 912, loss = 0.44229820\n",
      "Iteration 913, loss = 0.44387390\n",
      "Iteration 914, loss = 0.44385009\n",
      "Iteration 915, loss = 0.44284397\n",
      "Iteration 916, loss = 0.44341999\n",
      "Iteration 917, loss = 0.44328065\n",
      "Iteration 918, loss = 0.44203141\n",
      "Iteration 919, loss = 0.44076631\n",
      "Iteration 920, loss = 0.44201649\n",
      "Iteration 921, loss = 0.44168652\n",
      "Iteration 922, loss = 0.44253085\n",
      "Iteration 923, loss = 0.44189935\n",
      "Iteration 924, loss = 0.43973901\n",
      "Iteration 925, loss = 0.43960194\n",
      "Iteration 926, loss = 0.44301251\n",
      "Iteration 927, loss = 0.43981753\n",
      "Iteration 928, loss = 0.44114779\n",
      "Iteration 929, loss = 0.44197647\n",
      "Iteration 930, loss = 0.44146662\n",
      "Iteration 931, loss = 0.44136947\n",
      "Iteration 932, loss = 0.44194571\n",
      "Iteration 933, loss = 0.44259254\n",
      "Iteration 934, loss = 0.44071027\n",
      "Iteration 935, loss = 0.43931244\n",
      "Iteration 936, loss = 0.44008756\n",
      "Iteration 937, loss = 0.43845501\n",
      "Iteration 938, loss = 0.44189398\n",
      "Iteration 939, loss = 0.43940934\n",
      "Iteration 940, loss = 0.44001509\n",
      "Iteration 941, loss = 0.43799759\n",
      "Iteration 942, loss = 0.43915904\n",
      "Iteration 943, loss = 0.43908420\n",
      "Iteration 944, loss = 0.43961623\n",
      "Iteration 945, loss = 0.43914156\n",
      "Iteration 946, loss = 0.43763908\n",
      "Iteration 947, loss = 0.44115561\n",
      "Iteration 948, loss = 0.43841923\n",
      "Iteration 949, loss = 0.43803396\n",
      "Iteration 950, loss = 0.43803723\n",
      "Iteration 951, loss = 0.43744471\n",
      "Iteration 952, loss = 0.43754494\n",
      "Iteration 953, loss = 0.43518847\n",
      "Iteration 954, loss = 0.43530058\n",
      "Iteration 955, loss = 0.43684039\n",
      "Iteration 956, loss = 0.43545368\n",
      "Iteration 957, loss = 0.43725762\n",
      "Iteration 958, loss = 0.43667026\n",
      "Iteration 959, loss = 0.43571869\n",
      "Iteration 960, loss = 0.43546845\n",
      "Iteration 961, loss = 0.43467604\n",
      "Iteration 962, loss = 0.43701043\n",
      "Iteration 963, loss = 0.43805283\n",
      "Iteration 964, loss = 0.44275601\n",
      "Iteration 965, loss = 0.43711542\n",
      "Iteration 966, loss = 0.43698248\n",
      "Iteration 967, loss = 0.43423026\n",
      "Iteration 968, loss = 0.43535561\n",
      "Iteration 969, loss = 0.43652806\n",
      "Iteration 970, loss = 0.43484310\n",
      "Iteration 971, loss = 0.43517308\n",
      "Iteration 972, loss = 0.43604045\n",
      "Iteration 973, loss = 0.43566287\n",
      "Iteration 974, loss = 0.43427557\n",
      "Iteration 975, loss = 0.43658951\n",
      "Iteration 976, loss = 0.43504859\n",
      "Iteration 977, loss = 0.43385992\n",
      "Iteration 978, loss = 0.43390130\n",
      "Iteration 979, loss = 0.43388067\n",
      "Iteration 980, loss = 0.43165825\n",
      "Iteration 981, loss = 0.43637876\n",
      "Iteration 982, loss = 0.43385637\n",
      "Iteration 983, loss = 0.43569778\n",
      "Iteration 984, loss = 0.43276575\n",
      "Iteration 985, loss = 0.43386557\n",
      "Iteration 986, loss = 0.43458020\n",
      "Iteration 987, loss = 0.43637029\n",
      "Iteration 988, loss = 0.43335589\n",
      "Iteration 989, loss = 0.43298236\n",
      "Iteration 990, loss = 0.43298598\n",
      "Iteration 991, loss = 0.43143561\n",
      "Iteration 992, loss = 0.43181365\n",
      "Iteration 993, loss = 0.43124267\n",
      "Iteration 994, loss = 0.43281483\n",
      "Iteration 995, loss = 0.43202212\n",
      "Iteration 996, loss = 0.43084311\n",
      "Iteration 997, loss = 0.43235917\n",
      "Iteration 998, loss = 0.43027894\n",
      "Iteration 999, loss = 0.43529671\n",
      "Iteration 1000, loss = 0.43245450\n"
     ]
    },
    {
     "name": "stderr",
     "output_type": "stream",
     "text": [
      "C:\\Users\\erich\\anaconda3\\lib\\site-packages\\sklearn\\neural_network\\_multilayer_perceptron.py:614: ConvergenceWarning: Stochastic Optimizer: Maximum iterations (1000) reached and the optimization hasn't converged yet.\n",
      "  warnings.warn(\n"
     ]
    },
    {
     "data": {
      "text/plain": [
       "MLPClassifier(max_iter=1000, verbose=True)"
      ]
     },
     "execution_count": 57,
     "metadata": {},
     "output_type": "execute_result"
    }
   ],
   "source": [
    "from sklearn.neural_network import MLPClassifier\n",
    "\n",
    "#Default settings create 1 hidden layer with 100 neurons\n",
    "mlp_clf = MLPClassifier(hidden_layer_sizes=(100,), max_iter=1000, verbose=True)\n",
    "\n",
    "mlp_clf.fit(train_x, train_y)"
   ]
  },
  {
   "cell_type": "code",
   "execution_count": 58,
   "metadata": {},
   "outputs": [],
   "source": [
    "from sklearn.metrics import accuracy_score"
   ]
  },
  {
   "cell_type": "code",
   "execution_count": 59,
   "metadata": {},
   "outputs": [
    {
     "data": {
      "text/plain": [
       "0.8397142857142857"
      ]
     },
     "execution_count": 59,
     "metadata": {},
     "output_type": "execute_result"
    }
   ],
   "source": [
    "#Predict the train values\n",
    "train_y_pred = mlp_clf.predict(train_x)\n",
    "\n",
    "#Train accuracy\n",
    "accuracy_score(train_y, train_y_pred)"
   ]
  },
  {
   "cell_type": "code",
   "execution_count": 60,
   "metadata": {},
   "outputs": [
    {
     "data": {
      "text/plain": [
       "0.7726666666666666"
      ]
     },
     "execution_count": 60,
     "metadata": {},
     "output_type": "execute_result"
    }
   ],
   "source": [
    "#Predict the test values\n",
    "test_y_pred = mlp_clf.predict(test_x)\n",
    "\n",
    "#Test accuracy\n",
    "accuracy_score(test_y, test_y_pred)"
   ]
  },
  {
   "cell_type": "markdown",
   "metadata": {},
   "source": [
    "# Discussion\n",
    "\n",
    "Briefly answer the following questions: (2 points) \n",
    "1) Which model performs the best (and why)?<br>\n",
    "2) What is the baseline value? <br>\n",
    "3) Does the best model perform better than the baseline (and why)?<br>\n",
    "4) Does the best model exhibit any overfitting; what did you do about it?"
   ]
  },
  {
   "cell_type": "markdown",
   "metadata": {},
   "source": [
    "1- MLP perfomred best with 77.3% accuarcy <br>\n",
    "2- 20% accuarcy<br>\n",
    "3- Yes, MLP was 77.3% accuarte and baseline was 20%<br>\n",
    "4- No overfitting observed."
   ]
  }
 ],
 "metadata": {
  "kernelspec": {
   "display_name": "Python 3",
   "language": "python",
   "name": "python3"
  },
  "language_info": {
   "codemirror_mode": {
    "name": "ipython",
    "version": 3
   },
   "file_extension": ".py",
   "mimetype": "text/x-python",
   "name": "python",
   "nbconvert_exporter": "python",
   "pygments_lexer": "ipython3",
   "version": "3.8.8"
  }
 },
 "nbformat": 4,
 "nbformat_minor": 2
}
