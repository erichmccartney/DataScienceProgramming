{
 "cells": [
  {
   "cell_type": "markdown",
   "metadata": {},
   "source": [
    "# Tutorial - Text Mining - Classification - SCIKIT-LEARN\n",
    "\n",
    "We will predict the category of discussion posts in a newsgroup.\n",
    "\n",
    "**The unit of analysis is a discussion post**"
   ]
  },
  {
   "cell_type": "code",
   "execution_count": 1,
   "metadata": {},
   "outputs": [],
   "source": [
    "import pandas as pd\n",
    "import numpy as np"
   ]
  },
  {
   "cell_type": "code",
   "execution_count": 2,
   "metadata": {},
   "outputs": [],
   "source": [
    "news = pd.read_csv('news.csv')"
   ]
  },
  {
   "cell_type": "code",
   "execution_count": 4,
   "metadata": {},
   "outputs": [
    {
     "data": {
      "text/html": [
       "<div>\n",
       "<style scoped>\n",
       "    .dataframe tbody tr th:only-of-type {\n",
       "        vertical-align: middle;\n",
       "    }\n",
       "\n",
       "    .dataframe tbody tr th {\n",
       "        vertical-align: top;\n",
       "    }\n",
       "\n",
       "    .dataframe thead th {\n",
       "        text-align: right;\n",
       "    }\n",
       "</style>\n",
       "<table border=\"1\" class=\"dataframe\">\n",
       "  <thead>\n",
       "    <tr style=\"text-align: right;\">\n",
       "      <th></th>\n",
       "      <th>TEXT</th>\n",
       "      <th>graphics</th>\n",
       "      <th>hockey</th>\n",
       "      <th>medical</th>\n",
       "      <th>newsgroup</th>\n",
       "    </tr>\n",
       "  </thead>\n",
       "  <tbody>\n",
       "    <tr>\n",
       "      <th>0</th>\n",
       "      <td>I have a few reprints left of chapters from my...</td>\n",
       "      <td>1</td>\n",
       "      <td>0</td>\n",
       "      <td>0</td>\n",
       "      <td>graphics</td>\n",
       "    </tr>\n",
       "    <tr>\n",
       "      <th>1</th>\n",
       "      <td>gnuplot, etc. make it easy to plot real valued...</td>\n",
       "      <td>1</td>\n",
       "      <td>0</td>\n",
       "      <td>0</td>\n",
       "      <td>graphics</td>\n",
       "    </tr>\n",
       "    <tr>\n",
       "      <th>2</th>\n",
       "      <td>Article-I.D.: snoopy.1pqlhnINN8k1 References: ...</td>\n",
       "      <td>1</td>\n",
       "      <td>0</td>\n",
       "      <td>0</td>\n",
       "      <td>graphics</td>\n",
       "    </tr>\n",
       "    <tr>\n",
       "      <th>3</th>\n",
       "      <td>Hello, I am looking to add voice input capabil...</td>\n",
       "      <td>1</td>\n",
       "      <td>0</td>\n",
       "      <td>0</td>\n",
       "      <td>graphics</td>\n",
       "    </tr>\n",
       "    <tr>\n",
       "      <th>4</th>\n",
       "      <td>I recently got a file describing a library of ...</td>\n",
       "      <td>1</td>\n",
       "      <td>0</td>\n",
       "      <td>0</td>\n",
       "      <td>graphics</td>\n",
       "    </tr>\n",
       "  </tbody>\n",
       "</table>\n",
       "</div>"
      ],
      "text/plain": [
       "                                                TEXT  graphics  hockey  \\\n",
       "0  I have a few reprints left of chapters from my...         1       0   \n",
       "1  gnuplot, etc. make it easy to plot real valued...         1       0   \n",
       "2  Article-I.D.: snoopy.1pqlhnINN8k1 References: ...         1       0   \n",
       "3  Hello, I am looking to add voice input capabil...         1       0   \n",
       "4  I recently got a file describing a library of ...         1       0   \n",
       "\n",
       "   medical newsgroup  \n",
       "0        0  graphics  \n",
       "1        0  graphics  \n",
       "2        0  graphics  \n",
       "3        0  graphics  \n",
       "4        0  graphics  "
      ]
     },
     "execution_count": 4,
     "metadata": {},
     "output_type": "execute_result"
    }
   ],
   "source": [
    "news.head(5)"
   ]
  },
  {
   "cell_type": "markdown",
   "metadata": {},
   "source": [
    "## Change the target variable to ordinal\n",
    "\n",
    "This is a multi-class classification problem. There are three categories we will predict:<br>\n",
    "Whether a post is \"graphics,\" \"hockey,\" or \"medical\" related"
   ]
  },
  {
   "cell_type": "code",
   "execution_count": 5,
   "metadata": {},
   "outputs": [],
   "source": [
    "#Convert the target to ordinal\n",
    "from sklearn.preprocessing import OrdinalEncoder\n",
    "\n",
    "enc = OrdinalEncoder()\n",
    "\n",
    "news['target'] = enc.fit_transform(news[['newsgroup']])\n",
    "\n"
   ]
  },
  {
   "cell_type": "code",
   "execution_count": 6,
   "metadata": {},
   "outputs": [
    {
     "data": {
      "text/html": [
       "<div>\n",
       "<style scoped>\n",
       "    .dataframe tbody tr th:only-of-type {\n",
       "        vertical-align: middle;\n",
       "    }\n",
       "\n",
       "    .dataframe tbody tr th {\n",
       "        vertical-align: top;\n",
       "    }\n",
       "\n",
       "    .dataframe thead th {\n",
       "        text-align: right;\n",
       "    }\n",
       "</style>\n",
       "<table border=\"1\" class=\"dataframe\">\n",
       "  <thead>\n",
       "    <tr style=\"text-align: right;\">\n",
       "      <th></th>\n",
       "      <th>TEXT</th>\n",
       "      <th>graphics</th>\n",
       "      <th>hockey</th>\n",
       "      <th>medical</th>\n",
       "      <th>newsgroup</th>\n",
       "      <th>target</th>\n",
       "    </tr>\n",
       "  </thead>\n",
       "  <tbody>\n",
       "    <tr>\n",
       "      <th>0</th>\n",
       "      <td>I have a few reprints left of chapters from my...</td>\n",
       "      <td>1</td>\n",
       "      <td>0</td>\n",
       "      <td>0</td>\n",
       "      <td>graphics</td>\n",
       "      <td>0.0</td>\n",
       "    </tr>\n",
       "    <tr>\n",
       "      <th>1</th>\n",
       "      <td>gnuplot, etc. make it easy to plot real valued...</td>\n",
       "      <td>1</td>\n",
       "      <td>0</td>\n",
       "      <td>0</td>\n",
       "      <td>graphics</td>\n",
       "      <td>0.0</td>\n",
       "    </tr>\n",
       "    <tr>\n",
       "      <th>2</th>\n",
       "      <td>Article-I.D.: snoopy.1pqlhnINN8k1 References: ...</td>\n",
       "      <td>1</td>\n",
       "      <td>0</td>\n",
       "      <td>0</td>\n",
       "      <td>graphics</td>\n",
       "      <td>0.0</td>\n",
       "    </tr>\n",
       "    <tr>\n",
       "      <th>3</th>\n",
       "      <td>Hello, I am looking to add voice input capabil...</td>\n",
       "      <td>1</td>\n",
       "      <td>0</td>\n",
       "      <td>0</td>\n",
       "      <td>graphics</td>\n",
       "      <td>0.0</td>\n",
       "    </tr>\n",
       "    <tr>\n",
       "      <th>4</th>\n",
       "      <td>I recently got a file describing a library of ...</td>\n",
       "      <td>1</td>\n",
       "      <td>0</td>\n",
       "      <td>0</td>\n",
       "      <td>graphics</td>\n",
       "      <td>0.0</td>\n",
       "    </tr>\n",
       "  </tbody>\n",
       "</table>\n",
       "</div>"
      ],
      "text/plain": [
       "                                                TEXT  graphics  hockey  \\\n",
       "0  I have a few reprints left of chapters from my...         1       0   \n",
       "1  gnuplot, etc. make it easy to plot real valued...         1       0   \n",
       "2  Article-I.D.: snoopy.1pqlhnINN8k1 References: ...         1       0   \n",
       "3  Hello, I am looking to add voice input capabil...         1       0   \n",
       "4  I recently got a file describing a library of ...         1       0   \n",
       "\n",
       "   medical newsgroup  target  \n",
       "0        0  graphics     0.0  \n",
       "1        0  graphics     0.0  \n",
       "2        0  graphics     0.0  \n",
       "3        0  graphics     0.0  \n",
       "4        0  graphics     0.0  "
      ]
     },
     "execution_count": 6,
     "metadata": {},
     "output_type": "execute_result"
    }
   ],
   "source": [
    "news.head()"
   ]
  },
  {
   "cell_type": "code",
   "execution_count": 9,
   "metadata": {},
   "outputs": [
    {
     "data": {
      "text/plain": [
       "2.0    200\n",
       "1.0    200\n",
       "0.0    197\n",
       "Name: target, dtype: int64"
      ]
     },
     "execution_count": 9,
     "metadata": {},
     "output_type": "execute_result"
    }
   ],
   "source": [
    "news['target'].value_counts()"
   ]
  },
  {
   "cell_type": "code",
   "execution_count": 10,
   "metadata": {},
   "outputs": [
    {
     "data": {
      "text/plain": [
       "597"
      ]
     },
     "execution_count": 10,
     "metadata": {},
     "output_type": "execute_result"
    }
   ],
   "source": [
    "len(news)"
   ]
  },
  {
   "cell_type": "code",
   "execution_count": 7,
   "metadata": {},
   "outputs": [],
   "source": [
    "target = news['target']"
   ]
  },
  {
   "cell_type": "markdown",
   "metadata": {},
   "source": [
    "## Select the \"text\" (input) variable"
   ]
  },
  {
   "cell_type": "code",
   "execution_count": 11,
   "metadata": {},
   "outputs": [
    {
     "data": {
      "text/plain": [
       "TEXT    0\n",
       "dtype: int64"
      ]
     },
     "execution_count": 11,
     "metadata": {},
     "output_type": "execute_result"
    }
   ],
   "source": [
    "# Check for missing values\n",
    "\n",
    "news[['TEXT']].isna().sum()"
   ]
  },
  {
   "cell_type": "raw",
   "metadata": {},
   "source": [
    "# If there were missing values:\n",
    "\n",
    "news['TEXT'].fillna('missing', inplace=True)"
   ]
  },
  {
   "cell_type": "code",
   "execution_count": 12,
   "metadata": {},
   "outputs": [],
   "source": [
    "input_data = news['TEXT']"
   ]
  },
  {
   "cell_type": "markdown",
   "metadata": {},
   "source": [
    "## Split the data"
   ]
  },
  {
   "cell_type": "code",
   "execution_count": 13,
   "metadata": {},
   "outputs": [],
   "source": [
    "from sklearn.model_selection import train_test_split\n",
    "\n",
    "train_set, test_set, train_y, test_y = train_test_split(input_data, target, test_size=0.3, random_state=42)"
   ]
  },
  {
   "cell_type": "code",
   "execution_count": 14,
   "metadata": {},
   "outputs": [
    {
     "data": {
      "text/plain": [
       "((417,), (417,))"
      ]
     },
     "execution_count": 14,
     "metadata": {},
     "output_type": "execute_result"
    }
   ],
   "source": [
    "train_set.shape, train_y.shape"
   ]
  },
  {
   "cell_type": "code",
   "execution_count": 15,
   "metadata": {},
   "outputs": [
    {
     "data": {
      "text/plain": [
       "((180,), (180,))"
      ]
     },
     "execution_count": 15,
     "metadata": {},
     "output_type": "execute_result"
    }
   ],
   "source": [
    "test_set.shape, test_y.shape"
   ]
  },
  {
   "cell_type": "markdown",
   "metadata": {},
   "source": [
    "## Sklearn: Text preparation\n",
    "\n",
    "We need to prepare the text data. We'll use sklearn's CountVectorizer, which counts the frequency of words that appear in your entire data set.<br>\n",
    "CountVectorizer: https://scikit-learn.org/stable/modules/generated/sklearn.feature_extraction.text.CountVectorizer.html\n",
    "\n",
    "If you don't use the CountVectorizer, you have to do all the text prep on your own:<br>\n",
    "1- Convert to lowercase<br>\n",
    "2- Remove numbers (if needed)<br>\n",
    "3- Remove punctuation<br>\n",
    "4- Remove whitespace<br>\n",
    "5- Tokenize<br>\n",
    "6- Stemming<br>\n",
    "etc.\n",
    "\n",
    "Note that, CountVectorizer doesn't do stemming, or lemmatizing. You may want to use NLTK for that (import NLTK)"
   ]
  },
  {
   "cell_type": "code",
   "execution_count": 16,
   "metadata": {},
   "outputs": [],
   "source": [
    "#TfidfVectorizer includes pre-processing, tokenization, filtering stop words\n",
    "from sklearn.feature_extraction.text import TfidfVectorizer\n",
    "\n",
    "tfidf_vect = TfidfVectorizer(stop_words='english')\n",
    "\n",
    "train_x_tr = tfidf_vect.fit_transform(train_set)"
   ]
  },
  {
   "cell_type": "markdown",
   "metadata": {},
   "source": [
    "**Notice in the previous step that we use `fit_transform` on TRAIN. When we transform the TEST data, we need to use `transform` only. This enables us to keep the number of columns (features) the same across the data sets. Otherwise, they WILL be different, and no model will work!**"
   ]
  },
  {
   "cell_type": "code",
   "execution_count": 17,
   "metadata": {},
   "outputs": [],
   "source": [
    "# Perform the TfidfVectorizer transformation\n",
    "# Be careful: We are using the train fit to transform the test data set. Otherwise, the test data \n",
    "# features will be very different and match the train set!!!\n",
    "\n",
    "test_x_tr = tfidf_vect.transform(test_set)\n"
   ]
  },
  {
   "cell_type": "code",
   "execution_count": 20,
   "metadata": {},
   "outputs": [
    {
     "data": {
      "text/plain": [
       "(417, 11716)"
      ]
     },
     "execution_count": 20,
     "metadata": {},
     "output_type": "execute_result"
    }
   ],
   "source": [
    "train_x_tr.shape"
   ]
  },
  {
   "cell_type": "code",
   "execution_count": 21,
   "metadata": {},
   "outputs": [
    {
     "data": {
      "text/plain": [
       "(180, 11716)"
      ]
     },
     "execution_count": 21,
     "metadata": {},
     "output_type": "execute_result"
    }
   ],
   "source": [
    "test_x_tr.shape"
   ]
  },
  {
   "cell_type": "code",
   "execution_count": 19,
   "metadata": {},
   "outputs": [
    {
     "data": {
      "text/plain": [
       "<417x11716 sparse matrix of type '<class 'numpy.float64'>'\n",
       "\twith 32087 stored elements in Compressed Sparse Row format>"
      ]
     },
     "execution_count": 19,
     "metadata": {},
     "output_type": "execute_result"
    }
   ],
   "source": [
    "# These data sets are \"sparse matrix\". We can't see them unless we convert using toarray()\n",
    "train_x_tr"
   ]
  },
  {
   "cell_type": "code",
   "execution_count": 22,
   "metadata": {},
   "outputs": [
    {
     "data": {
      "text/plain": [
       "array([[0.        , 0.        , 0.        , ..., 0.        , 0.        ,\n",
       "        0.        ],\n",
       "       [0.        , 0.07535523, 0.        , ..., 0.        , 0.        ,\n",
       "        0.        ],\n",
       "       [0.        , 0.        , 0.        , ..., 0.        , 0.        ,\n",
       "        0.        ],\n",
       "       ...,\n",
       "       [0.        , 0.        , 0.        , ..., 0.        , 0.        ,\n",
       "        0.        ],\n",
       "       [0.        , 0.        , 0.        , ..., 0.        , 0.        ,\n",
       "        0.        ],\n",
       "       [0.        , 0.        , 0.        , ..., 0.        , 0.        ,\n",
       "        0.        ]])"
      ]
     },
     "execution_count": 22,
     "metadata": {},
     "output_type": "execute_result"
    }
   ],
   "source": [
    "# These data sets are \"sparse matrix\". We can't see them unless we convert using toarray()\n",
    "train_x_tr.toarray()"
   ]
  },
  {
   "cell_type": "code",
   "execution_count": 34,
   "metadata": {},
   "outputs": [
    {
     "data": {
      "text/plain": [
       "{'article': 2031,\n",
       " 'alchemy': 1770,\n",
       " '1993apr6': 641,\n",
       " '142037': 395,\n",
       " '9246': 1390,\n",
       " 'references': 8961,\n",
       " 'rauser': 8857,\n",
       " '734062608': 1207,\n",
       " 'sfu': 9663,\n",
       " 'ca': 2760,\n",
       " '044323': 40,\n",
       " '22829': 768,\n",
       " 'pasteur': 8105,\n",
       " 'berkeley': 2358,\n",
       " 'edu': 4390,\n",
       " 'organization': 7932,\n",
       " 'university': 11029,\n",
       " 'toronto': 10748,\n",
       " 'chemistry': 3036,\n",
       " 'department': 3930,\n",
       " 'lines': 6760,\n",
       " '14': 382,\n",
       " 'daniell': 3775,\n",
       " 'cory': 3554,\n",
       " 'daniel': 3774,\n",
       " 'lyddy': 6909,\n",
       " 'writes': 11563,\n",
       " 'don': 4209,\n",
       " 'americans': 1828,\n",
       " 'study': 10238,\n",
       " 'history': 5690,\n",
       " 'french': 5115,\n",
       " 'settled': 9644,\n",
       " 'north': 7725,\n",
       " 'america': 1826,\n",
       " 'early': 4352,\n",
       " 'british': 2602,\n",
       " 'lemieux': 6673,\n",
       " 'probably': 8582,\n",
       " 'trace': 10765,\n",
       " 'american': 1827,\n",
       " 'heritage': 5644,\n",
       " 'lot': 6861,\n",
       " 'gerald': 5275,\n",
       " '42': 986,\n",
       " 'yr': 11665,\n",
       " 'old': 7859,\n",
       " 'male': 6983,\n",
       " 'friend': 5124,\n",
       " 'misdiagnosed': 7315,\n",
       " 'having': 5580,\n",
       " 'osteopporosis': 7960,\n",
       " 'years': 11636,\n",
       " 'recently': 8917,\n",
       " 'illness': 5904,\n",
       " 'rare': 8843,\n",
       " 'gaucher': 5217,\n",
       " 'disease': 4115,\n",
       " 'symptoms': 10428,\n",
       " 'include': 5959,\n",
       " 'brittle': 2604,\n",
       " 'bones': 2497,\n",
       " 'lost': 6859,\n",
       " 'inches': 5955,\n",
       " 'hieght': 5666,\n",
       " 'enlarged': 4518,\n",
       " 'liver': 6791,\n",
       " 'spleen': 10029,\n",
       " 'internal': 6126,\n",
       " 'bleeding': 2449,\n",
       " 'fatigue': 4826,\n",
       " 'time': 10678,\n",
       " 'problem': 8584,\n",
       " 'type': 10914,\n",
       " 'attributed': 2116,\n",
       " 'genetic': 5252,\n",
       " 'mutation': 7499,\n",
       " 'lack': 6549,\n",
       " 'enzyme': 4540,\n",
       " 'glucocerebroside': 5329,\n",
       " 'macrophages': 6938,\n",
       " 'cells': 2945,\n",
       " 'swell': 10408,\n",
       " 'eventually': 4636,\n",
       " 'cause': 2911,\n",
       " 'death': 3831,\n",
       " 'enyzme': 4539,\n",
       " 'replacement': 9070,\n",
       " 'therapy': 10610,\n",
       " 'successfully': 10271,\n",
       " 'developed': 3991,\n",
       " 'approved': 1965,\n",
       " 'fda': 4837,\n",
       " 'patients': 8119,\n",
       " 'administered': 1669,\n",
       " 'drug': 4295,\n",
       " 'called': 2793,\n",
       " 'ceredase': 2956,\n",
       " 'report': 9085,\n",
       " 'remarkable': 9032,\n",
       " 'improvement': 5949,\n",
       " 'condition': 3382,\n",
       " 'manufactured': 7008,\n",
       " 'biotech': 2414,\n",
       " 'biggy': 2391,\n",
       " 'company': 3296,\n",
       " 'genzyme': 5260,\n",
       " 'costs': 3559,\n",
       " 'patient': 8118,\n",
       " '380': 953,\n",
       " '000': 1,\n",
       " 'year': 11634,\n",
       " 'justifyably': 6347,\n",
       " 'expensive': 4696,\n",
       " 'world': 11534,\n",
       " 'need': 7575,\n",
       " 'info': 6030,\n",
       " 'researched': 9114,\n",
       " 'library': 6711,\n",
       " 'relying': 9026,\n",
       " 'netlanders': 7610,\n",
       " 'provide': 8667,\n",
       " 'additional': 1641,\n",
       " 'information': 6033,\n",
       " 'news': 7636,\n",
       " 'stories': 10183,\n",
       " 'reports': 9090,\n",
       " 'people': 8179,\n",
       " 'know': 6476,\n",
       " 'ideas': 5876,\n",
       " 'articles': 2032,\n",
       " 'corp': 3541,\n",
       " 'hold': 5709,\n",
       " 'money': 7384,\n",
       " 'buy': 2715,\n",
       " 'programs': 8618,\n",
       " 'available': 2148,\n",
       " 'help': 5623,\n",
       " 'basically': 2254,\n",
       " 'offer': 7835,\n",
       " 'thanks': 10598,\n",
       " 'deborah': 3834,\n",
       " 'c5i2bo': 2752,\n",
       " 'cg9': 2968,\n",
       " 'hawaii': 5582,\n",
       " 'lady': 6558,\n",
       " 'uhunix': 10950,\n",
       " 'uhcc': 10949,\n",
       " 'lee': 6653,\n",
       " 'think': 10621,\n",
       " 'talking': 10471,\n",
       " 'cross': 3644,\n",
       " 'purposes': 8743,\n",
       " 'concerned': 3367,\n",
       " 'contrast': 3479,\n",
       " 'great': 5422,\n",
       " 'science': 9499,\n",
       " 'makes': 6975,\n",
       " 'big': 2388,\n",
       " 'advances': 1688,\n",
       " 'knowledge': 6478,\n",
       " 'mediocre': 7147,\n",
       " 'smaller': 9870,\n",
       " 'steps': 10136,\n",
       " 'thread': 10635,\n",
       " 'difference': 4037,\n",
       " 'correct': 3544,\n",
       " 'asserts': 2056,\n",
       " 'einstein': 4412,\n",
       " 'average': 2153,\n",
       " 'post': 8455,\n",
       " 'doc': 4182,\n",
       " 'physicist': 8275,\n",
       " 'quality': 8762,\n",
       " 'thought': 10632,\n",
       " 'genius': 5256,\n",
       " 'scientist': 9503,\n",
       " 'thoughts': 10633,\n",
       " 'scientifically': 9502,\n",
       " 'screwy': 9530,\n",
       " 'velikovsky': 11188,\n",
       " 'korzybski': 6496,\n",
       " 'examples': 4655,\n",
       " 'like': 6732,\n",
       " 'choose': 3080,\n",
       " 'say': 9462,\n",
       " 'proponent': 8646,\n",
       " 'qi': 8754,\n",
       " 'physcists': 8270,\n",
       " 'disciplined': 4095,\n",
       " 'work': 11523,\n",
       " 'cumulative': 3692,\n",
       " 'previous': 8555,\n",
       " 'researchers': 9115,\n",
       " 'went': 11417,\n",
       " 'wrong': 11567,\n",
       " 'failed': 4770,\n",
       " 'let': 6691,\n",
       " 'approach': 1960,\n",
       " 'second': 9551,\n",
       " 'direction': 4071,\n",
       " 'asked': 2048,\n",
       " 'review': 9185,\n",
       " 'paper': 8061,\n",
       " 'journal': 6314,\n",
       " 'conference': 3394,\n",
       " 'kinds': 6443,\n",
       " 'criticism': 3633,\n",
       " 'make': 6974,\n",
       " 'kind': 6439,\n",
       " 'just': 6343,\n",
       " 'misinformed': 7319,\n",
       " 'technically': 10518,\n",
       " 'important': 5942,\n",
       " 'interesting': 6116,\n",
       " 'pointing': 8397,\n",
       " 'discussing': 4112,\n",
       " 'pointed': 8395,\n",
       " 'homeopathy': 5726,\n",
       " 'considered': 3426,\n",
       " 'scientific': 9501,\n",
       " 'needed': 7576,\n",
       " 'test': 10580,\n",
       " 'theoretical': 10604,\n",
       " 'claims': 3130,\n",
       " 'proposed': 8647,\n",
       " 'remedies': 9035,\n",
       " 'similarly': 9778,\n",
       " 'suspect': 10380,\n",
       " 'traditional': 10778,\n",
       " 'chinese': 3063,\n",
       " 'medicine': 7145,\n",
       " 'lacks': 6553,\n",
       " 'example': 4654,\n",
       " 'experiment': 4700,\n",
       " 'tests': 10584,\n",
       " 'presence': 8533,\n",
       " 'certainly': 2961,\n",
       " 'structure': 10223,\n",
       " 'sense': 9604,\n",
       " 'goal': 5340,\n",
       " 'areas': 1991,\n",
       " 'forming': 5056,\n",
       " 'testing': 10583,\n",
       " 'hypotheses': 5846,\n",
       " 'face': 4754,\n",
       " 'wait': 11312,\n",
       " 'come': 3258,\n",
       " 'clear': 3146,\n",
       " 'plug': 8373,\n",
       " 'small': 9869,\n",
       " 'amounts': 1839,\n",
       " 'progress': 8619,\n",
       " 'best': 2368,\n",
       " 'russell': 9372,\n",
       " 'aio': 1751,\n",
       " '133244': 350,\n",
       " '14717': 413,\n",
       " '1993apr5': 640,\n",
       " '044140': 39,\n",
       " 'vaxc': 11176,\n",
       " 'stevens': 10149,\n",
       " 'tech': 10516,\n",
       " 'sender': 9599,\n",
       " 'jsc': 6324,\n",
       " 'nasa': 7536,\n",
       " 'gov': 5382,\n",
       " 'usenet': 11087,\n",
       " 'distribution': 4150,\n",
       " 'sci': 9498,\n",
       " 'med': 7137,\n",
       " 'lockheed': 6817,\n",
       " 'engineering': 4508,\n",
       " 'sciences': 9500,\n",
       " '17': 492,\n",
       " 'u92_hwong': 10923,\n",
       " 'used': 11084,\n",
       " 'hot': 5762,\n",
       " 'fry': 5135,\n",
       " 'egg': 4406,\n",
       " 'oily': 7850,\n",
       " '50': 1038,\n",
       " 'yrs': 11666,\n",
       " 'skin': 9824,\n",
       " 'looks': 6837,\n",
       " 'younger': 11661,\n",
       " 'told': 10718,\n",
       " '30': 884,\n",
       " 'tiny': 10689,\n",
       " 'wrinkles': 11558,\n",
       " 'thank': 10596,\n",
       " 'lucky': 6885,\n",
       " 'stars': 10094,\n",
       " 'flyers': 5000,\n",
       " 'closed': 3168,\n",
       " 'season': 9544,\n",
       " 'night': 7673,\n",
       " '8th': 1355,\n",
       " 'straight': 10190,\n",
       " 'victory': 11222,\n",
       " 'ot': 7962,\n",
       " 'winner': 11474,\n",
       " 'hartford': 5568,\n",
       " 'whalers': 11438,\n",
       " 'game': 5195,\n",
       " 'came': 2807,\n",
       " 'dimitri': 4061,\n",
       " 'yushkevich': 11673,\n",
       " '5th': 1101,\n",
       " 'led': 6652,\n",
       " 'point': 8394,\n",
       " 'loss': 6857,\n",
       " 'marked': 7028,\n",
       " 'nhl': 7655,\n",
       " 'record': 8933,\n",
       " '9th': 1490,\n",
       " 'roster': 9307,\n",
       " 'gord': 5370,\n",
       " 'hynes': 5839,\n",
       " 'play': 8349,\n",
       " 'place': 8326,\n",
       " 'ryan': 9383,\n",
       " 'mcgill': 7095,\n",
       " 'injuries': 6056,\n",
       " 'injured': 6055,\n",
       " 'hand': 5524,\n",
       " 'fight': 4892,\n",
       " '15': 420,\n",
       " 'scratched': 9525,\n",
       " 'eklund': 4418,\n",
       " 'lindros': 6754,\n",
       " 'recchi': 8911,\n",
       " 'beranek': 2354,\n",
       " 'brind': 2597,\n",
       " 'amour': 1840,\n",
       " 'dineen': 4065,\n",
       " 'lomakin': 6825,\n",
       " 'butsayev': 2705,\n",
       " 'conroy': 3416,\n",
       " 'faust': 4828,\n",
       " 'acton': 1622,\n",
       " 'brown': 2621,\n",
       " 'galley': 5188,\n",
       " 'bowen': 2540,\n",
       " 'hawgood': 5583,\n",
       " 'carkner': 2868,\n",
       " 'dominic': 4208,\n",
       " 'roussel': 9328,\n",
       " 'summary': 10312,\n",
       " 'didn': 4029,\n",
       " 'tv': 10900,\n",
       " 'coverage': 3583,\n",
       " 'stormy': 10187,\n",
       " 'parts': 8095,\n",
       " 'radio': 8810,\n",
       " 'box': 2545,\n",
       " 'score': 9509,\n",
       " 'followed': 5017,\n",
       " 'things': 10620,\n",
       " 'did': 4028,\n",
       " 'pick': 8281,\n",
       " 'period': 8196,\n",
       " 'nylander': 7784,\n",
       " '10': 75,\n",
       " '51': 1046,\n",
       " 'philadelphia': 8249,\n",
       " '53': 1061,\n",
       " '19': 555,\n",
       " '59': 1094,\n",
       " 'pp': 8483,\n",
       " 'penalties': 8167,\n",
       " 'verbeek': 11195,\n",
       " 'har': 5545,\n",
       " 'holding': 5712,\n",
       " '55': 1078,\n",
       " 'phi': 8245,\n",
       " 'roughing': 9317,\n",
       " '13': 332,\n",
       " 'houda': 5766,\n",
       " 'interference': 6119,\n",
       " '18': 524,\n",
       " '43': 989,\n",
       " 'burt': 2695,\n",
       " 'cunneyworth': 3696,\n",
       " 'kron': 6510,\n",
       " '00': 0,\n",
       " '09': 68,\n",
       " '11': 179,\n",
       " 'zalapski': 11681,\n",
       " 'sanderson': 9430,\n",
       " '38': 952,\n",
       " 'major': 6971,\n",
       " 'misconduct': 7313,\n",
       " 'spearing': 9985,\n",
       " '58': 1092,\n",
       " 'tripping': 10846,\n",
       " '22': 746,\n",
       " 'slashing': 9838,\n",
       " 'cassels': 2900,\n",
       " '24': 791,\n",
       " '20': 689,\n",
       " 'overtime': 8000,\n",
       " 'power': 8479,\n",
       " 'goalies': 5343,\n",
       " 'shots': 9735,\n",
       " '26': 829,\n",
       " 'saves': 9458,\n",
       " 'lenarduzzi': 6676,\n",
       " '33': 916,\n",
       " 'misplayed': 7322,\n",
       " 'puck': 8711,\n",
       " 'blue': 2466,\n",
       " 'line': 6756,\n",
       " 'stripped': 10216,\n",
       " 'took': 10736,\n",
       " 'threw': 10640,\n",
       " 'net': 7607,\n",
       " 'got': 5376,\n",
       " 'good': 5364,\n",
       " 'carom': 2877,\n",
       " 'ended': 4492,\n",
       " 'goalie': 5342,\n",
       " 'whacks': 11436,\n",
       " 'frustrating': 5134,\n",
       " 'defense': 3872,\n",
       " 'body': 2486,\n",
       " 'shot': 9734,\n",
       " 'beat': 2293,\n",
       " 'fine': 4915,\n",
       " 'chance': 2985,\n",
       " 'terrible': 10573,\n",
       " 'll': 6793,\n",
       " 'bet': 2369,\n",
       " 'closest': 3171,\n",
       " 'flyer': 4999,\n",
       " 'bad': 2199,\n",
       " 'scored': 9511,\n",
       " 'heard': 5604,\n",
       " 'strong': 10218,\n",
       " 'gene': 5239,\n",
       " 'hart': 5567,\n",
       " 'bobby': 2481,\n",
       " 'taylor': 10504,\n",
       " 'garry': 5209,\n",
       " 'career': 2858,\n",
       " 'high': 5670,\n",
       " 'total': 10751,\n",
       " 'surprised': 10366,\n",
       " 'wouldn': 11548,\n",
       " 'look': 6833,\n",
       " 'closer': 3170,\n",
       " 'defensive': 3875,\n",
       " 'tommy': 10726,\n",
       " 'soderstrom': 9908,\n",
       " 'team': 10512,\n",
       " 'tying': 10911,\n",
       " 'shutouts': 9752,\n",
       " 'mark': 7027,\n",
       " 'single': 9794,\n",
       " 'scoring': 9516,\n",
       " 'odd': 7827,\n",
       " 'couldn': 3563,\n",
       " 'decide': 3843,\n",
       " 'number': 7764,\n",
       " 'picks': 8284,\n",
       " 'hard': 5549,\n",
       " 'choosing': 3081,\n",
       " 'doesn': 4194,\n",
       " 'wanna': 11335,\n",
       " 'eric': 4569,\n",
       " 'dominates': 4206,\n",
       " 'simply': 9784,\n",
       " 'stepping': 10135,\n",
       " 'ice': 5860,\n",
       " 'accident': 1577,\n",
       " 'believe': 2326,\n",
       " 'successful': 10270,\n",
       " 'question': 8779,\n",
       " 'significantly': 9771,\n",
       " 'better': 2374,\n",
       " 'deservedly': 3955,\n",
       " 'wear': 11386,\n",
       " 'jersey': 6261,\n",
       " 'league': 6635,\n",
       " 'ed': 4379,\n",
       " 'belfour': 2324,\n",
       " 'chris': 3087,\n",
       " 'chelios': 3027,\n",
       " 'booo': 2504,\n",
       " 'complete': 3327,\n",
       " 'heart': 5607,\n",
       " 'problems': 8586,\n",
       " 'sentimental': 9612,\n",
       " 'edge': 4382,\n",
       " 'family': 4794,\n",
       " 'mind': 7285,\n",
       " 'teams': 10513,\n",
       " 'future': 5168,\n",
       " 'complains': 3324,\n",
       " 'traded': 10775,\n",
       " 'cann': 2829,\n",
       " 'argue': 1997,\n",
       " 'awful': 2168,\n",
       " 'player': 8352,\n",
       " 'points': 8398,\n",
       " 'plus': 8375,\n",
       " 'entire': 4526,\n",
       " 'tough': 10756,\n",
       " 'choice': 3074,\n",
       " 'honorable': 5734,\n",
       " 'mentions': 7184,\n",
       " 'rod': 9274,\n",
       " 'topped': 10743,\n",
       " 'set': 9639,\n",
       " 'wasn': 11358,\n",
       " 'playing': 8354,\n",
       " 'attention': 2107,\n",
       " 'dimtri': 4062,\n",
       " 'consistent': 3432,\n",
       " 'defenseman': 3873,\n",
       " 'yes': 11642,\n",
       " 'rookie': 9295,\n",
       " 'mistakes': 7330,\n",
       " 'usually': 11098,\n",
       " 'fast': 4817,\n",
       " 'feeling': 4856,\n",
       " 'giving': 5308,\n",
       " 'zone': 11707,\n",
       " 'leader': 6629,\n",
       " 'defensemen': 3874,\n",
       " 'battled': 2269,\n",
       " 'chronic': 3093,\n",
       " 'syndrome': 10432,\n",
       " 'deserves': 3956,\n",
       " 'kudos': 6518,\n",
       " 'missing': 7326,\n",
       " 'wishes': 11491,\n",
       " 'doctors': 4185,\n",
       " 'orders': 7923,\n",
       " 'negates': 7584,\n",
       " 'offensive': 7833,\n",
       " 'contribution': 3482,\n",
       " 'little': 6785,\n",
       " 'caution': 2916,\n",
       " 'bit': 2422,\n",
       " 'smarter': 9872,\n",
       " 'end': 4490,\n",
       " 'brent': 2584,\n",
       " 'fedyk': 4851,\n",
       " 'leagues': 6637,\n",
       " 'biggest': 2390,\n",
       " 'consistency': 3431,\n",
       " 'couple': 3574,\n",
       " 'misc': 7310,\n",
       " 'notes': 7743,\n",
       " 'mailing': 6961,\n",
       " 'list': 6775,\n",
       " 'members': 7162,\n",
       " 'tom': 10722,\n",
       " 'misnik': 7320,\n",
       " 'member': 7161,\n",
       " 'exchange': 4662,\n",
       " 'mail': 6957,\n",
       " 'addresses': 1647,\n",
       " 'want': 11336,\n",
       " 'touch': 10754,\n",
       " 'summer': 10313,\n",
       " 'interested': 6115,\n",
       " 'send': 9598,\n",
       " 'att': 2093,\n",
       " 'acr': 1608,\n",
       " 'org': 7926,\n",
       " 'tmisnik': 10703,\n",
       " '500': 1039,\n",
       " 'winning': 11476,\n",
       " 'percentage': 8184,\n",
       " 'going': 5353,\n",
       " '1988': 619,\n",
       " '89': 1341,\n",
       " 'division': 4162,\n",
       " '4th': 1037,\n",
       " 'patrick': 8121,\n",
       " '23': 771,\n",
       " 'home': 5723,\n",
       " 'finished': 4923,\n",
       " '17th': 523,\n",
       " 'overall': 7991,\n",
       " 'draft': 4251,\n",
       " '10th': 178,\n",
       " 'entry': 4532,\n",
       " 'quebec': 8775,\n",
       " '1st': 688,\n",
       " 'rounder': 9321,\n",
       " 'goals': 5345,\n",
       " 'allowed': 1799,\n",
       " '319': 904,\n",
       " 'wins': 11479,\n",
       " 'won': 11505,\n",
       " 'row': 9332,\n",
       " '1985': 616,\n",
       " 'sending': 9600,\n",
       " 'final': 4905,\n",
       " 'stats': 10119,\n",
       " 'soon': 9939,\n",
       " 'issue': 6192,\n",
       " 'hockey': 5704,\n",
       " 'contains': 3457,\n",
       " 'games': 5196,\n",
       " 'way': 11377,\n",
       " 'getting': 5283,\n",
       " 'hope': 5743,\n",
       " 've': 11179,\n",
       " 'enjoyed': 4517,\n",
       " 'knowing': 6477,\n",
       " 'coming': 3266,\n",
       " 'playoffs': 8356,\n",
       " 'bearable': 2290,\n",
       " 'watch': 11360,\n",
       " '41': 978,\n",
       " '34': 926,\n",
       " 'assists': 2066,\n",
       " '75': 1219,\n",
       " 'records': 8934,\n",
       " 'club': 3176,\n",
       " '40': 968,\n",
       " '1992': 625,\n",
       " '93': 1397,\n",
       " 'dave': 3807,\n",
       " 'poulin': 8471,\n",
       " '76': 1223,\n",
       " '1983': 614,\n",
       " '84': 1298,\n",
       " 'brian': 2590,\n",
       " 'propp': 8649,\n",
       " '1979': 609,\n",
       " '80': 1257,\n",
       " 'ron': 9293,\n",
       " 'flockhart': 4982,\n",
       " '1981': 612,\n",
       " '82': 1285,\n",
       " '31': 899,\n",
       " '72': 1199,\n",
       " 'barber': 2232,\n",
       " '1972': 602,\n",
       " '73': 1204,\n",
       " 'pelle': 8163,\n",
       " '66': 1151,\n",
       " '86': 1314,\n",
       " '70': 1184,\n",
       " '123': 290,\n",
       " 'reggie': 8979,\n",
       " 'leach': 6627,\n",
       " '61': 1112,\n",
       " '1975': 605,\n",
       " 'tim': 10677,\n",
       " 'kerr': 6400,\n",
       " '87': 1322,\n",
       " 'clarke': 3137,\n",
       " '119': 259,\n",
       " '54': 1073,\n",
       " '85': 1304,\n",
       " '116': 232,\n",
       " '1974': 604,\n",
       " '112': 195,\n",
       " 'rick': 9211,\n",
       " 'macliesh': 6935,\n",
       " '104': 122,\n",
       " '100': 76,\n",
       " 'prior': 8572,\n",
       " '113': 203,\n",
       " '90': 1356,\n",
       " '91': 1369,\n",
       " 'penguins': 8173,\n",
       " '77': 1228,\n",
       " '92': 1381,\n",
       " '62': 1119,\n",
       " 'kings': 6449,\n",
       " '35': 933,\n",
       " 'red': 8944,\n",
       " 'wings': 11473,\n",
       " 'pete': 8220,\n",
       " 'clark': 3136,\n",
       " 'jr': 6322,\n",
       " 'rsh': 9343,\n",
       " 'contact': 3450,\n",
       " 'owner': 8007,\n",
       " '1993apr16': 636,\n",
       " '060010': 53,\n",
       " '10012': 80,\n",
       " 'ncsu': 7558,\n",
       " 'cdkaupan': 2933,\n",
       " 'eos': 4543,\n",
       " 'carl': 2869,\n",
       " 'david': 3809,\n",
       " 'kaupang': 6375,\n",
       " 'words': 11521,\n",
       " 'doktor': 4199,\n",
       " 'kultur': 6522,\n",
       " 'ottawa': 7966,\n",
       " 'citizen': 3124,\n",
       " 'remember': 9037,\n",
       " 'unhook': 11011,\n",
       " 'nitrous': 7683,\n",
       " 'oxide': 8013,\n",
       " 'leave': 6645,\n",
       " 'dentist': 3928,\n",
       " 'chair': 2972,\n",
       " 'jets': 6265,\n",
       " 'beg': 2314,\n",
       " 'paul': 8127,\n",
       " 'badertscher': 2200,\n",
       " '35002_2765': 935,\n",
       " 'uwovax': 11124,\n",
       " 'uwo': 11123,\n",
       " 'press': 8543,\n",
       " 'release': 9007,\n",
       " 'natural': 7544,\n",
       " 'resources': 9136,\n",
       " 'council': 3565,\n",
       " 'new': 7630,\n",
       " 'data': 3795,\n",
       " 'water': 11364,\n",
       " 'supplies': 10338,\n",
       " 'vulnerable': 11300,\n",
       " 'milwaukee': 7281,\n",
       " 'outbreak': 7972,\n",
       " 'national': 7541,\n",
       " 'desk': 3963,\n",
       " 'environment': 4534,\n",
       " 'writer': 11562,\n",
       " 'erik': 4572,\n",
       " 'olson': 7864,\n",
       " 'sarah': 9436,\n",
       " 'silver': 9775,\n",
       " '202': 695,\n",
       " '783': 1236,\n",
       " '7800': 1232,\n",
       " 'washington': 11356,\n",
       " 'april': 1969,\n",
       " 'epa': 4545,\n",
       " 'released': 9008,\n",
       " 'today': 10711,\n",
       " 'reveals': 9177,\n",
       " 'large': 6586,\n",
       " 'systems': 10443,\n",
       " 'serving': 9637,\n",
       " 'cities': 3123,\n",
       " 'boston': 2521,\n",
       " 'san': 9428,\n",
       " 'francisco': 5101,\n",
       " 'filter': 4902,\n",
       " 'remove': 9044,\n",
       " 'carrying': 2886,\n",
       " 'organisms': 7930,\n",
       " 'leaving': 6647,\n",
       " 'communities': 3291,\n",
       " 'potentially': 8468,\n",
       " 'similar': 9777,\n",
       " 'affecting': 1705,\n",
       " 'attached': 2095,\n",
       " 'documents': 4190,\n",
       " 'reveal': 9176,\n",
       " 'safety': 9405,\n",
       " 'threatened': 10637,\n",
       " 'inadequate': 5953,\n",
       " 'pollution': 8414,\n",
       " 'controls': 3491,\n",
       " 'filtration': 4903,\n",
       " 'said': 9408,\n",
       " 'senior': 9601,\n",
       " 'attorney': 2112,\n",
       " 'nrdc': 7753,\n",
       " 'contamination': 3458,\n",
       " 'isn': 6189,\n",
       " 'bangladesh': 2224,\n",
       " 'bozeman': 2551,\n",
       " 'june': 6338,\n",
       " '29': 866,\n",
       " '1993': 626,\n",
       " 'surface': 10356,\n",
       " 'breaking': 2574,\n",
       " 'law': 6610,\n",
       " '1986': 617,\n",
       " 'safe': 9404,\n",
       " 'drinking': 4281,\n",
       " 'act': 1614,\n",
       " 'requires': 9109,\n",
       " 'fully': 5146,\n",
       " 'protect': 8659,\n",
       " 'rivers': 9243,\n",
       " 'lakes': 6566,\n",
       " 'use': 11082,\n",
       " 'continued': 3467,\n",
       " 'moving': 7441,\n",
       " 'implementing': 5936,\n",
       " 'expected': 4694,\n",
       " 'miss': 7323,\n",
       " 'deadline': 3824,\n",
       " 'threat': 10636,\n",
       " 'reality': 8890,\n",
       " '1991': 624,\n",
       " 'survey': 10374,\n",
       " 'utility': 11108,\n",
       " 'scientists': 9504,\n",
       " 'percent': 8183,\n",
       " 'raw': 8859,\n",
       " 'samples': 9424,\n",
       " 'contained': 3455,\n",
       " 'organism': 7929,\n",
       " 'cryptosporidium': 3657,\n",
       " '81': 1275,\n",
       " 'parasite': 8076,\n",
       " 'giardia': 5289,\n",
       " 'adding': 1639,\n",
       " 'level': 6697,\n",
       " 'concern': 3366,\n",
       " 'general': 5240,\n",
       " 'accounting': 1584,\n",
       " 'office': 7838,\n",
       " 'house': 5770,\n",
       " 'health': 5601,\n",
       " 'subcommittee': 10249,\n",
       " 'chairman': 2973,\n",
       " 'henry': 5640,\n",
       " 'waxman': 11376,\n",
       " 'indicates': 5986,\n",
       " 'deficiencies': 3876,\n",
       " 'nation': 7540,\n",
       " 'conducting': 3388,\n",
       " 'following': 5018,\n",
       " 'sanitary': 9434,\n",
       " 'surveys': 10375,\n",
       " 'raises': 8820,\n",
       " 'huge': 5798,\n",
       " 'warning': 11344,\n",
       " 'sign': 9763,\n",
       " 'millions': 7277,\n",
       " 'longer': 6830,\n",
       " 'turn': 10888,\n",
       " 'taps': 10490,\n",
       " 'assured': 2077,\n",
       " 'drink': 4280,\n",
       " 'immediately': 5916,\n",
       " 'sources': 9958,\n",
       " 'equipment': 4559,\n",
       " 'installed': 6077,\n",
       " 'public': 8701,\n",
       " 'noted': 7742,\n",
       " 'utilities': 11107,\n",
       " 'stop': 10176,\n",
       " 'dragging': 4258,\n",
       " 'feet': 4860,\n",
       " 'aggressively': 1729,\n",
       " 'consumers': 3447,\n",
       " 'prepared': 8528,\n",
       " 'pay': 8137,\n",
       " 'modest': 7361,\n",
       " 'assure': 2076,\n",
       " 'non': 7710,\n",
       " 'profit': 8613,\n",
       " 'environmental': 4535,\n",
       " 'advocacy': 1696,\n",
       " 'require': 9106,\n",
       " 'adequately': 1653,\n",
       " 'watersheds': 11367,\n",
       " 'connecticut': 3412,\n",
       " 'bridgeport': 2591,\n",
       " 'hydraulic': 5836,\n",
       " 'massachusetts': 7049,\n",
       " 'h2o': 5484,\n",
       " 'resource': 9135,\n",
       " 'author': 2135,\n",
       " 'mwra': 7506,\n",
       " 'medford': 7138,\n",
       " 'dept': 3937,\n",
       " 'melrose': 7159,\n",
       " 'hilton': 5680,\n",
       " 'needham': 7577,\n",
       " 'newtoncenter': 7649,\n",
       " 'newton': 7648,\n",
       " 'marblehead': 7018,\n",
       " 'quincy': 8787,\n",
       " 'norwood': 7732,\n",
       " 'framingham': 5093,\n",
       " 'div': 4156,\n",
       " 'cambridge': 2805,\n",
       " 'canton': 2832,\n",
       " 'dpw': 4248,\n",
       " 'chelsea': 3029,\n",
       " 'everett': 4637,\n",
       " 'lexington': 6702,\n",
       " '201': 694,\n",
       " 'bedford': 2303,\n",
       " 'puo': 8732,\n",
       " 'wrks': 11566,\n",
       " 'lynn': 6914,\n",
       " 'sewer': 9655,\n",
       " 'malden': 6982,\n",
       " 'revere': 9180,\n",
       " 'woburn': 11498,\n",
       " 'swampscott': 10395,\n",
       " 'saugus': 9452,\n",
       " 'somerville': 9930,\n",
       " 'stoneman': 10173,\n",
       " 'brookline': 2614,\n",
       " 'wakefield': 11316,\n",
       " 'waltham': 11330,\n",
       " 'watertown': 11368,\n",
       " 'weston': 11430,\n",
       " 'dedham': 3858,\n",
       " 'westwood': 11432,\n",
       " 'district': 4152,\n",
       " 'winchester': 11466,\n",
       " 'winthrop': 11482,\n",
       " 'hadley': 5498,\n",
       " 'south': 9959,\n",
       " 'dist': 4137,\n",
       " 'arlington': 2008,\n",
       " 'belmont': 2335,\n",
       " 'clinton': 3162,\n",
       " 'attleboro': 2111,\n",
       " 'fitchburg': 4940,\n",
       " 'northampton': 7726,\n",
       " 'adams': 1630,\n",
       " 'amherst': 1830,\n",
       " 'gardner': 5203,\n",
       " 'worcester': 11519,\n",
       " 'oper': 7890,\n",
       " 'westboro': 11424,\n",
       " 'southbridge': 9960,\n",
       " 'supply': 10339,\n",
       " 'newburyport': 7632,\n",
       " 'hingham': 5683,\n",
       " 'brockton': 2609,\n",
       " 'maine': 6966,\n",
       " 'rockland': 9270,\n",
       " 'camden': 2806,\n",
       " 'bath': 2261,\n",
       " 'hampshire': 5520,\n",
       " 'keene': 6382,\n",
       " 'city': 3125,\n",
       " 'salem': 9414,\n",
       " 'vermont': 11201,\n",
       " 'barre': 2243,\n",
       " 'rutland': 9376,\n",
       " 'york': 11655,\n",
       " 'glens': 5322,\n",
       " 'falls': 4786,\n",
       " 'yorktown': 11656,\n",
       " 'hts': 5791,\n",
       " 'storage': 10179,\n",
       " 'rochester': 9264,\n",
       " 'henrietta': 5638,\n",
       " 'wd': 11384,\n",
       " 'mcwa': 7113,\n",
       " 'upland': 11068,\n",
       " 'greece': 5426,\n",
       " 'consolidated': 3435,\n",
       " 'nyc': 7780,\n",
       " 'aquaduct': 1971,\n",
       " 'sys': 10441,\n",
       " 'croton': 3646,\n",
       " 'chappaqua': 2993,\n",
       " 'castle': 2901,\n",
       " 'stanwood': 10089,\n",
       " 'beacon': 2287,\n",
       " 'mamaronek': 6986,\n",
       " 'westchester': 11425,\n",
       " 'joint': 6297,\n",
       " 'works': 11528,\n",
       " 'pennsylvania': 8175,\n",
       " 'bethlehem': 2372,\n",
       " 'johnstown': 6294,\n",
       " 'greater': 5423,\n",
       " 'auth': 2134,\n",
       " 'lock': 6815,\n",
       " 'haven': 5579,\n",
       " 'shamokin': 9678,\n",
       " 'roaring': 9255,\n",
       " 'creek': 3623,\n",
       " 'comp': 3293,\n",
       " 'harrisburg': 5565,\n",
       " 'hazleton': 5587,\n",
       " 'wind': 11467,\n",
       " 'gap': 5199,\n",
       " 'mt': 7463,\n",
       " 'apollo': 1932,\n",
       " 'westmoreland': 11429,\n",
       " 'fayettville': 4836,\n",
       " 'guilford': 5471,\n",
       " 'humlock': 5813,\n",
       " 'pg': 8234,\n",
       " 'ceasetown': 2936,\n",
       " 'reservoir': 9122,\n",
       " 'springbrook': 10055,\n",
       " 'waters': 11366,\n",
       " 'wilkes': 11459,\n",
       " 'gardners': 5204,\n",
       " 'hill': 5677,\n",
       " 'plymouth': 8376,\n",
       " ...}"
      ]
     },
     "execution_count": 34,
     "metadata": {},
     "output_type": "execute_result"
    }
   ],
   "source": [
    "tfidf_vect.vocabulary_ #numeric is the column number of term not a count"
   ]
  },
  {
   "cell_type": "markdown",
   "metadata": {},
   "source": [
    "## Latent Semantic Analysis (Singular Value Decomposition)"
   ]
  },
  {
   "cell_type": "code",
   "execution_count": 23,
   "metadata": {},
   "outputs": [],
   "source": [
    "from sklearn.decomposition import TruncatedSVD"
   ]
  },
  {
   "cell_type": "code",
   "execution_count": 55,
   "metadata": {},
   "outputs": [],
   "source": [
    "#If you are performing Latent Semantic Analysis, recommended number of components is 100\n",
    "\n",
    "svd = TruncatedSVD(n_components=400, n_iter=10)"
   ]
  },
  {
   "cell_type": "code",
   "execution_count": 56,
   "metadata": {},
   "outputs": [],
   "source": [
    "train_x_lsa = svd.fit_transform(train_x_tr)"
   ]
  },
  {
   "cell_type": "code",
   "execution_count": 57,
   "metadata": {},
   "outputs": [
    {
     "data": {
      "text/plain": [
       "(417, 400)"
      ]
     },
     "execution_count": 57,
     "metadata": {},
     "output_type": "execute_result"
    }
   ],
   "source": [
    "train_x_lsa.shape"
   ]
  },
  {
   "cell_type": "code",
   "execution_count": 58,
   "metadata": {},
   "outputs": [
    {
     "data": {
      "text/plain": [
       "array([[ 1.90881906e-01, -7.79143057e-02, -4.31061141e-02, ...,\n",
       "         2.50558626e-02,  3.39829886e-02,  1.99648908e-03],\n",
       "       [ 9.58606619e-02, -2.60948982e-02,  7.46506435e-02, ...,\n",
       "        -4.10024627e-03, -5.84129801e-03, -1.12393224e-02],\n",
       "       [ 1.17993507e-01, -5.07330215e-02,  5.39099455e-02, ...,\n",
       "         1.64138299e-02, -1.86070691e-02, -9.31701595e-03],\n",
       "       ...,\n",
       "       [ 1.84910352e-01, -2.06761773e-01, -1.41444035e-01, ...,\n",
       "        -1.30938040e-02, -7.72025915e-02,  1.42406161e-02],\n",
       "       [ 6.80806341e-02, -3.05288828e-02,  5.89509791e-02, ...,\n",
       "        -4.00680477e-03, -1.39355591e-04, -1.57210391e-02],\n",
       "       [ 4.87594356e-02, -3.78255069e-02,  8.34634697e-02, ...,\n",
       "        -7.95832246e-03,  1.56743114e-03, -1.17517556e-04]])"
      ]
     },
     "execution_count": 58,
     "metadata": {},
     "output_type": "execute_result"
    }
   ],
   "source": [
    "train_x_lsa"
   ]
  },
  {
   "cell_type": "markdown",
   "metadata": {},
   "source": [
    "### Let's transform the test data set"
   ]
  },
  {
   "cell_type": "code",
   "execution_count": 59,
   "metadata": {},
   "outputs": [],
   "source": [
    "test_x_lsa = svd.transform(test_x_tr)"
   ]
  },
  {
   "cell_type": "code",
   "execution_count": 60,
   "metadata": {},
   "outputs": [
    {
     "data": {
      "text/plain": [
       "(180, 400)"
      ]
     },
     "execution_count": 60,
     "metadata": {},
     "output_type": "execute_result"
    }
   ],
   "source": [
    "test_x_lsa.shape"
   ]
  },
  {
   "cell_type": "markdown",
   "metadata": {},
   "source": [
    "### Explore the SVDs - OPTIONAL"
   ]
  },
  {
   "cell_type": "code",
   "execution_count": 61,
   "metadata": {},
   "outputs": [
    {
     "data": {
      "text/plain": [
       "0.9721032833795678"
      ]
     },
     "execution_count": 61,
     "metadata": {},
     "output_type": "execute_result"
    }
   ],
   "source": [
    "svd.explained_variance_.sum()"
   ]
  },
  {
   "cell_type": "code",
   "execution_count": 62,
   "metadata": {},
   "outputs": [
    {
     "data": {
      "text/plain": [
       "array([[ 4.15023038e-03,  7.55367177e-03,  2.10764546e-04, ...,\n",
       "         7.16749137e-04,  2.61284117e-03,  1.50466721e-03],\n",
       "       [-4.99769973e-03, -4.78001354e-03, -1.66731821e-04, ...,\n",
       "        -1.37127790e-03, -8.96681502e-04, -1.57434256e-03],\n",
       "       [ 2.29562423e-03,  4.73562968e-03,  4.14949126e-04, ...,\n",
       "        -1.16802659e-03,  3.23566309e-03,  1.41876821e-03],\n",
       "       ...,\n",
       "       [ 8.29095645e-03, -7.12896612e-03, -2.83443213e-04, ...,\n",
       "         1.97391921e-04, -1.40257182e-03,  8.77373317e-05],\n",
       "       [ 2.73608103e-04,  1.01189073e-03, -2.34234443e-04, ...,\n",
       "         2.03570822e-03, -5.95731957e-04,  2.91703726e-03],\n",
       "       [-7.10477592e-03,  3.22022788e-03,  4.25156733e-04, ...,\n",
       "         3.61845223e-04,  5.09883208e-03,  8.93917451e-04]])"
      ]
     },
     "execution_count": 62,
     "metadata": {},
     "output_type": "execute_result"
    }
   ],
   "source": [
    "#These are the all the components:\n",
    "svd.components_"
   ]
  },
  {
   "cell_type": "code",
   "execution_count": 63,
   "metadata": {},
   "outputs": [
    {
     "data": {
      "text/plain": [
       "(400, 11716)"
      ]
     },
     "execution_count": 63,
     "metadata": {},
     "output_type": "execute_result"
    }
   ],
   "source": [
    "svd.components_.shape"
   ]
  },
  {
   "cell_type": "code",
   "execution_count": 64,
   "metadata": {
    "scrolled": true
   },
   "outputs": [],
   "source": [
    "#Let's select the first component:\n",
    "\n",
    "first_component = svd.components_[0,:]"
   ]
  },
  {
   "cell_type": "code",
   "execution_count": 65,
   "metadata": {},
   "outputs": [],
   "source": [
    "# Sort the weights in the first component, and get the indeces\n",
    "\n",
    "indeces = np.argsort(first_component).tolist()"
   ]
  },
  {
   "cell_type": "code",
   "execution_count": 66,
   "metadata": {},
   "outputs": [
    {
     "name": "stdout",
     "output_type": "stream",
     "text": [
      "[11612, 5402, 11597, 11566, 7560, 8732, 8469, 9678, 2993, 2936, 4258, 9243, 6702, 11425, 5095, 2303, 5936, 3366, 5426, 9637, 9255, 11376, 4938, 5813, 4836, 2224, 1610, 5484, 3876, 6986, 9176, 7649, 9391, 5953, 11108, 10089, 2806, 8820, 5289, 3657, 7780, 9495, 7113, 10249, 3646, 11068, 2516, 11201, 1729, 2901, 3291, 10490, 7890, 5204, 2574, 11367, 9177, 3447, 9434, 5791, 6566, 8076, 1932, 5471, 9436, 7486, 11316, 1232, 11431, 11432, 11366, 10055, 2112, 7049, 5836, 1971, 11429, 1830, 2372, 4637, 2111, 7018, 9452, 11380, 11384, 5203, 7138, 9453, 2832, 10476, 9180, 4902, 5587, 7726, 8183, 2805, 2707, 7732, 11466, 7753, 6294, 7632, 5683, 2614, 9122, 2609, 6815, 6914, 2591, 1816, 11498, 8787, 2008, 8414, 2950, 4940, 11300, 10173, 11656, 5428, 5498, 3435, 11368, 10906, 9960, 7972, 9008, 9376, 5093, 2287, 9414, 5638, 7540, 9930, 5565, 9270, 3029, 3858, 2335, 6982, 1547, 11482, 10395, 6382, 5680, 3162, 11424, 10125, 5983, 4806, 9827, 10111, 2589, 2842, 8374, 3407, 4805, 10120, 7570, 2407, 10322, 882, 10441, 9655, 4137, 11459, 2551, 4248, 5453, 3768, 5480, 8478, 2817, 7517, 3833, 1742, 11663, 1679, 2828, 5415, 1717, 11672, 3042, 9377, 8978, 2909, 7007, 5401, 3900, 9021, 6051, 2957, 2874, 7530, 5476, 8363, 3769, 4752, 11100, 8369, 1563, 9323, 1057, 2175, 8655, 4376, 4370, 997, 2215, 2216, 8025, 6237, 5814, 8690, 8535, 8232, 11266, 6229, 6687, 4575, 918, 9963, 4427, 4976, 9298, 4520, 10572, 10039, 11530, 8138, 9299, 8206, 9304, 2106, 11357, 6593, 4435, 1093, 2122, 2123, 1064, 1299, 11256, 4297, 4166, 7840, 7814, 1824, 4114, 1367, 4077, 5739, 4066, 8832, 6105, 1788, 8306, 10456, 623, 7704, 3996, 4639, 2498, 2484, 2483, 7961, 5153, 6703, 5156, 7934, 11500, 11244, 6326, 6904, 11238, 9491, 6719, 8736, 1891, 9410, 4224, 9913, 7033, 5184, 4192, 10738, 3284, 7071, 3462, 4867, 10487, 7075, 10483, 1567, 4842, 3428, 9704, 10898, 7442, 7363, 5497, 1518, 3228, 7436, 3750, 5795, 4848, 64, 8427, 10220, 3390, 3259, 6371, 10813, 10481, 10142, 10255, 10492, 4903, 3623, 3458, 4152, 5322, 136, 147, 10669, 6404, 1338, 129, 6158, 127, 7851, 5898, 2539, 6500, 5821, 6772, 6519, 5198, 2542, 9493, 285, 5862, 4929, 7917, 125, 2556, 1330, 3627, 2502, 131, 1323, 1324, 1325, 137, 5210, 5212, 9313, 2461, 154, 4196, 2431, 11445, 9779, 9918, 133, 6728, 8252, 9906, 3624, 143, 9228, 2491, 2492, 10475, 134, 6359, 1350, 6786, 1391, 6860, 1792, 2687, 6854, 9873, 5311, 1382, 183, 11619, 10836, 5299, 2668, 4064, 8304, 7755, 2698, 185, 7677, 194, 7100, 6469, 1405, 7102, 2701, 5702, 1398, 1396, 187, 2709, 11640, 2708, 4680, 11607, 1378, 6412, 165, 8295, 9891, 6486, 5269, 9216, 166, 162, 2585, 9218, 124, 6495, 157, 5700, 161, 5523, 9540, 170, 7376, 4079, 5290, 5288, 6484, 8815, 3654, 10158, 1373, 6824, 1372, 172, 171, 1365, 2634, 123, 2349, 118, 6602, 6531, 6385, 5767, 11472, 11539, 8071, 7258, 1556, 9271, 11306, 1568, 8622, 4450, 10895, 9273, 6603, 9101, 11288, 11503, 9266, 9268, 2173, 6636, 11701, 10411, 8062, 1928, 10185, 5679, 3419, 8430, 11291, 2181, 6274, 9446, 6300, 4993, 6303, 4989, 1197, 4968, 2027, 4970, 1201, 11518, 9425, 1968, 11712, 1988, 9429, 1246, 5608, 1233, 6391, 10425, 9280, 1241, 6286, 6571, 10886, 8136, 6570, 1234, 1166, 5015, 1172, 2030, 1155, 1310, 4380, 9263, 105, 104, 7160, 11448, 7317, 5794, 1302, 7167, 97, 94, 92, 1297, 8233, 10060, 1300, 9253, 1303, 4273, 8724, 4261, 5170, 110, 1306, 5341, 4275, 4937, 8713, 108, 8712, 5164, 5163, 2339, 5643, 5083, 1295, 7989, 6666, 2226, 6241, 1280, 10402, 2222, 9083, 9413, 5764, 8224, 11283, 5546, 1273, 1015, 1276, 7177, 6374, 10232, 6684, 84, 4315, 1292, 83, 1291, 1282, 82, 10488, 9980, 1288, 10200, 1286, 3561, 8688, 11414, 2553, 2773, 414, 5724, 6358, 419, 1464, 422, 412, 5599, 425, 2994, 257, 429, 1461, 434, 424, 409, 261, 407, 11680, 390, 263, 393, 1468, 396, 3815, 3017, 399, 400, 3132, 403, 5449, 405, 406, 435, 387, 255, 250, 4889, 1443, 227, 226, 9617, 223, 6960, 222, 6950, 2890, 10301, 3172, 8947, 5705, 3896, 230, 2934, 233, 445, 7528, 248, 6450, 246, 9830, 245, 244, 6973, 241, 240, 3856, 237, 234, 1448, 10151, 7604, 8372, 3808, 279, 1484, 312, 313, 7021, 315, 308, 317, 3777, 322, 323, 324, 10227, 327, 318, 307, 9052, 305, 288, 289, 291, 5715, 1486, 295, 296, 297, 10991, 299, 3100, 7043, 302, 303, 3097, 328, 1472, 278, 331, 358, 272, 364, 271, 270, 368, 357, 369, 371, 372, 9058, 376, 377, 379, 9816, 3794, 354, 351, 1482, 334, 7473, 336, 7475, 1481, 6434, 341, 342, 344, 3788, 3791, 348, 3792, 276, 330, 217, 8566, 6916, 197, 11415, 206, 11660, 3944, 10972, 6059, 3972, 201, 9178, 7414, 5350, 1434, 216, 11689, 9850, 213, 1436, 10527, 2871, 5356, 207, 1654, 202, 7654, 209, 1426, 10319, 211, 1433, 212, 6456, 2815, 7404, 6368, 1383, 1032, 1029, 5553, 9945, 8651, 5811, 10007, 981, 9349, 1060, 1388, 1058, 9716, 11006, 3415, 1387, 1796, 1053, 1026, 3969, 1045, 11114, 8057, 3046, 10539, 11292, 656, 560, 10625, 1278, 7291, 985, 984, 10502, 5460, 1664, 1427, 11277, 3397, 8679, 5978, 8301, 2246, 959, 5536, 3023, 2656, 6523, 950, 1470, 8672, 9261, 994, 1270, 9714, 2189, 9591, 10628, 1063, 1014, 2192, 1656, 8050, 5701, 65, 9059, 11020, 8662, 10448, 67, 1000, 11110, 5465, 8461, 9996, 1065, 11302, 10053, 9732, 2033, 3501, 5009, 1176, 1175, 2034, 5010, 3476, 7665, 1170, 1169, 11133, 5866, 3090, 6562, 8868, 3506, 8149, 10536, 4998, 2024, 1218, 3490, 2, 6896, 1213, 8338, 5, 5999, 3485, 11513, 5585, 2766, 2765, 3767, 10532, 8156, 9683, 1768, 1192, 1160, 1066, 18, 4480, 1108, 4896, 9192, 1105, 2711, 1941, 3526, 4815, 1948, 33, 9030, 6866, 5969, 1080, 9717, 5062, 7010, 3970, 4568, 1110, 1113, 2094, 7241, 1149, 316, 5682, 8130, 1141, 8897, 6577, 9303, 9281, 4458, 1131, 23, 11405, 6581, 1127, 2090, 325, 8109, 3215, 946, 907, 6064, 6920, 5675, 6452, 1308, 3280, 797, 11609, 4188, 10913, 6714, 10783, 448, 7066, 6942, 7875, 3319, 11591, 7427, 9315, 10770, 5274, 473, 883, 2494, 873, 11419, 7521, 7790, 3339, 7870, 8359, 11670, 11027, 10921, 11420, 3924, 3307, 10675, 2441, 3166, 7374, 11220, 2447, 6327, 6411, 10214, 1320, 9149, 9496, 11611, 835, 713, 5128, 10676, 11234, 2473, 7918, 1313, 2472, 2925, 723, 7532, 1361, 808, 247, 7556, 8932, 6515, 7799, 431, 5856, 11588, 5528, 7428, 3006, 11451, 7976, 1842, 9379, 8290, 11606, 2529, 8391, 7366, 925, 7175, 3257, 3133, 2824, 8952, 9782, 10540, 2265, 8778, 3719, 6683, 8946, 6993, 942, 11067, 159, 7114, 1807, 11450, 7551, 8445, 2323, 7954, 902, 4933, 1368, 779, 9647, 692, 8267, 782, 5512, 1808, 5706, 8764, 6218, 9846, 11605, 11608, 11583, 9484, 9550, 9518, 5145, 911, 1114, 1111, 1247, 1344, 1161, 510, 476, 1205, 1159, 1144, 1203, 1239, 1180, 7667, 487, 774, 607, 606, 4168, 732, 6289, 761, 1767, 1327, 1143, 1351, 1446, 1202, 1122, 320, 742, 697, 6458, 6717, 264, 914, 167, 444, 2792, 1281, 410, 360, 972, 1311, 386, 1364, 5110, 1023, 1022, 979, 1005, 2872, 1473, 1301, 7668, 995, 90, 174, 991, 1079, 714, 567, 528, 1097, 940, 954, 949, 4573, 2405, 7263, 838, 947, 1070, 467, 547, 1076, 4371, 1584, 7629, 2886, 1236, 7864, 8234, 2243, 4545, 6364, 11486, 1900, 4671, 8194, 8465, 8399, 1725, 11393, 4789, 4673, 1822, 8332, 1831, 8537, 1735, 1643, 4718, 4728, 1597, 1668, 11400, 8207, 1897, 9308, 4871, 4950, 1956, 6355, 1934, 4759, 4783, 6483, 4909, 4865, 10503, 1712, 6360, 11487, 4944, 9350, 10542, 5855, 1852, 1853, 1659, 6362, 1720, 1269, 1235, 4898, 4666, 5776, 4758, 4911, 6487, 1927, 11399, 9306, 7220, 9565, 11657, 5351, 2786, 10104, 5365, 5371, 5372, 5383, 5386, 3940, 6924, 7589, 9614, 7569, 7564, 9836, 10776, 8976, 10777, 10299, 2938, 2947, 8981, 8984, 11041, 3841, 6038, 9641, 6037, 9179, 3973, 8888, 5335, 2613, 4099, 6823, 10080, 10704, 6828, 4075, 2659, 5298, 2672, 2679, 7737, 6858, 4038, 9645, 2697, 6867, 7727, 9189, 10733, 2722, 8867, 7723, 7705, 5735, 8874, 9851, 6886, 9583, 601, 4542, 9207, 10785, 3000, 10929, 10222, 7334, 3330, 10221, 7165, 3372, 3566, 5896, 3562, 7294, 10267, 7293, 3558, 3556, 5547, 7187, 5558, 5686, 43, 7194, 37, 7256, 5685, 9111, 7254, 9112, 3469, 3486, 3278, 3265, 10842, 7393, 7509, 9009, 5461, 381, 3040, 7494, 11014, 9659, 9661, 11682, 10283, 7467, 10995, 9668, 5445, 5998, 5997, 7054, 3134, 9061, 5900, 3143, 10226, 7411, 3188, 9680, 3698, 3200, 3683, 3229, 3126, 4130, 4180, 951, 2367, 6258, 4255, 6612, 4415, 5194, 4416, 8079, 9269, 836, 5051, 2432, 8624, 5749, 11218, 6177, 7878, 9510, 6268, 10358, 8644, 8648, 2241, 8006, 4333, 6663, 4346, 6243, 5812, 8047, 5756, 922, 6688, 5868, 1007, 2193, 4375, 5637, 1028, 10382, 7974, 2506, 4438, 4478, 4474, 2544, 8590, 7839, 8788, 2091, 2527, 1157, 10046, 9893, 9519, 6296, 8157, 4463, 2016, 10154, 6778, 4175, 5823, 2078, 8122, 2086, 8576, 7866, 4528, 8133, 6156, 9223, 9099, 3361, 8153, 1590, 3534, 2208, 5717, 5918, 3034, 8191, 6674, 4489, 3079, 1929, 6253, 9762, 6582, 9758, 7155, 4963, 7338, 7500, 7126, 2070, 7358, 2127, 1636, 6399, 8400, 8637, 3691, 7090, 10052, 1600, 11698, 3729, 10571, 6615, 9133, 7501, 4133, 6675, 10721, 6766, 10690, 2714, 4677, 10250, 8265, 4631, 4010, 8499, 2439, 6741, 7684, 5207, 10529, 3026, 10458, 2691, 9524, 4058, 10330, 4131, 11184, 1359, 6127, 4122, 4665, 704, 6140, 9921, 10451, 6121, 1811, 4136, 6145, 9897, 8821, 9559, 4060, 8808, 2411, 9585, 7949, 10302, 2356, 7931, 10771, 5838, 9256, 4323, 6696, 4329, 10515, 9477, 7995, 2264, 4734, 2305, 1731, 6947, 8527, 2401, 7915, 11023, 2397, 10066, 2846, 4134, 5731, 6206, 7628, 5443, 7927, 2134, 3412, 4281, 4535, 8859, 3522, 8010, 4558, 3237, 2285, 7768, 3118, 3238, 4022, 4249, 6588, 3219, 3638, 2218, 4544, 5590, 847, 795, 1182, 5591, 1319, 977, 3776, 7099, 9209, 10103, 2396, 976, 4002, 5463, 7671, 6762, 11241, 3650, 2002, 10246, 7459, 6211, 6445, 5554, 4533, 6124, 9183, 7811, 9698, 4495, 1431, 5877, 4974, 10040, 2436, 5819, 8202, 4235, 6739, 4964, 4522, 6034, 8367, 3798, 7266, 6446, 4212, 7267, 7644, 9041, 3800, 10079, 932, 5879, 3799, 8806, 4984, 2010, 6554, 8169, 2341, 5367, 2014, 5527, 8880, 1946, 8303, 7314, 9858, 8510, 3005, 6225, 10209, 2311, 1810, 6725, 6514, 9191, 10552, 4932, 1847, 10905, 10904, 2710, 10032, 5778, 4657, 8278, 11599, 11413, 8305, 2678, 10208, 1944, 10917, 3273, 9186, 10334, 11362, 9187, 3403, 11509, 7744, 9006, 3997, 6883, 5325, 1917, 7329, 3730, 1783, 9855, 4676, 10563, 9005, 3836, 2797, 10259, 6408, 10998, 4336, 10988, 5996, 8639, 4421, 7097, 5789, 7206, 7579, 10203, 2136, 8631, 10260, 10839, 1580, 3779, 1588, 10474, 1589, 11592, 3475, 5398, 2386, 9154, 11455, 3673, 1016, 6008, 2385, 1545, 11069, 10615, 10412, 4802, 10256, 2384, 6054, 7592, 10804, 3891, 2841, 4318, 7998, 1663, 5035, 7371, 2263, 5031, 9155, 3643, 2555, 11531, 5469, 4268, 3773, 5468, 5842, 10252, 11572, 3493, 10780, 4158, 11003, 5496, 6587, 3945, 11194, 9346, 10880, 8033, 4265, 1480, 9421, 2308, 7970, 6470, 11382, 9866, 1876, 11275, 9193, 8658, 10553, 6256, 7186, 8330, 9375, 8997, 10946, 8476, 7032, 6455, 11117, 7057, 10649, 8042, 6511, 6759, 2477, 10729, 3012, 3575, 10061, 9895, 2187, 2625, 11345, 3652, 2444, 6310, 4440, 7842, 4972, 8101, 7001, 4205, 4931, 4157, 2567, 2572, 2271, 10679, 3782, 4966, 1961, 6227, 8540, 11554, 8830, 7331, 10834, 6639, 7502, 10947, 10617, 6638, 8550, 3641, 6617, 6005, 2151, 8205, 2188, 10219, 10399, 3539, 11416, 5326, 3399, 6875, 7430, 451, 10229, 9854, 3905, 6383, 9739, 6465, 9837, 6911, 6724, 3885, 8432, 8450, 11048, 5327, 7706, 5771, 2812, 849, 2304, 8605, 9210, 8706, 2813, 7707, 11101, 9638, 4584, 6876, 3499, 10629, 9902, 3903, 9235, 6393, 1261, 4304, 9347, 3828, 6413, 5324, 10445, 10641, 6317, 1415, 1393, 1455, 1451, 9909, 374, 621, 189, 1411, 1279, 1312, 119, 128, 1334, 2171, 1348, 1156, 617, 427, 1289, 1050, 1328, 4971, 5678, 2626, 7351, 7771, 9708, 4213, 10958, 4349, 10404, 5218, 3753, 5236, 5522, 9844, 6750, 7110, 2120, 11683, 6453, 4439, 6583, 6421, 2552, 11705, 3531, 6561, 2273, 2978, 9294, 8991, 4240, 3045, 11667, 7829, 6357, 6528, 4632, 11624, 7967, 3107, 7714, 8836, 5615, 10386, 6498, 6462, 7577, 739, 163, 537, 359, 415, 164, 456, 806, 758, 461, 762, 1370, 1087, 763, 148, 764, 766, 160, 755, 1392, 219, 741, 1474, 447, 1475, 1389, 2682, 1478, 1385, 156, 301, 749, 401, 1483, 546, 1469, 753, 149, 11510, 747, 152, 805, 176, 191, 831, 1349, 408, 481, 196, 314, 788, 830, 786, 6661, 790, 792, 8449, 200, 310, 6954, 495, 798, 275, 91, 411, 205, 802, 146, 1332, 2357, 804, 184, 770, 522, 772, 776, 777, 803, 265, 6626, 1335, 81, 516, 475, 188, 503, 783, 321, 95, 446, 416, 208, 6686, 827, 1442, 7678, 236, 229, 120, 140, 699, 1294, 1296, 117, 5825, 575, 109, 1453, 113, 375, 139, 366, 126, 115, 252, 821, 1429, 1430, 367, 11502, 130, 251, 254, 135, 220, 825, 826, 816, 600, 1417, 394, 561, 1317, 1305, 1394, 239, 225, 145, 361, 715, 258, 398, 1416, 438, 443, 309, 563, 703, 249, 4428, 2392, 10963, 2315, 7250, 4507, 10429, 7813, 3375, 3889, 5214, 8850, 6231, 10273, 5048, 4643, 7125, 7050, 8951, 5979, 6540, 4467, 10758, 9928, 9163, 1872, 2166, 10719, 2664, 4901, 7255, 6537, 4120, 8809, 6002, 7412, 4441, 10530, 8989, 4020, 7453, 2526, 3921, 9833, 3888, 11684, 10585, 9832, 4345, 11590, 3251, 10064, 6352, 2719, 3728, 8869, 11627, 3984, 5101, 900, 6251, 4564, 8211, 1575, 8557, 6220, 5740, 7770, 1001, 9382, 6191, 1586, 1587, 1030, 3156, 8858, 7733, 1123, 1116, 8923, 6417, 3254, 6373, 2015, 11156, 6594, 10416, 6995, 9789, 8389, 10369, 5502, 11501, 1631, 3580, 1044, 3965, 5391, 3084, 8155, 1188, 852, 7825, 7290, 1142, 4605, 8123, 10506, 5660, 6290, 615, 6832, 10128, 8839, 9813, 7443, 5177, 8323, 7346, 284, 6457, 1357, 1221, 9247, 3821, 5505, 613, 9911, 11574, 1088, 9110, 875, 9431, 3734, 9926, 1020, 4934, 1250, 9119, 5792, 9553, 5972, 8334, 8626, 1010, 3496, 9681, 4457, 3309, 1011, 7463, 4243, 7889, 7843, 6363, 652, 4425, 3387, 9121, 5125, 3630, 2456, 7262, 11015, 3141, 8141, 3436, 4551, 7548, 8263, 1834, 6278, 10685, 10837, 7928, 8691, 5755, 9057, 5061, 7402, 11649, 11651, 8257, 11630, 11631, 11625, 5433, 6557, 11629, 11711, 2365, 7785, 11664, 11626, 11675, 11668, 11601, 11674, 4808, 10489, 7209, 10764, 9861, 9829, 9102, 3822, 6460, 5905, 6889, 6890, 6351, 11703, 6356, 10896, 6420, 5781, 6670, 6507, 9976, 6302, 6555, 9977, 7364, 2632, 2052, 2646, 6787, 9282, 5669, 6272, 3025, 5130, 11157, 4591, 4169, 8078, 11622, 5832, 7862, 10823, 4342, 11171, 5699, 3099, 486, 9626, 6738, 6454, 653, 1744, 6350, 8236, 3804, 6490, 1021, 1534, 5231, 11147, 11710, 7869, 6509, 9314, 11456, 2133, 3152, 896, 5980, 6132, 2352, 2636, 2409, 2635, 2092, 3151, 6406, 7885, 10093, 698, 10300, 5466, 735, 11178, 5407, 1707, 993, 11273, 10519, 100, 1437, 5934, 1145, 1857, 1858, 10417, 10100, 11071, 1109, 3402, 71, 5974, 3352, 1786, 3916, 3917, 3918, 7977, 5389, 1795, 4630, 477, 8538, 9792, 8968, 960, 2040, 7140, 1153, 3194, 1148, 1147, 7709, 1268, 10139, 62, 11412, 3468, 6078, 7292, 5919, 9905, 9582, 4512, 8889, 4715, 3988, 8446, 11496, 4513, 4515, 3287, 5007, 3288, 8209, 5284, 6109, 2651, 7762, 6839, 8060, 10569, 2075, 2096, 1884, 1882, 5531, 11536, 6076, 5668, 3236, 5667, 11294, 10568, 8260, 7355, 5576, 8940, 7983, 1618, 11230, 6052, 1617, 8416, 6049, 5420, 4814, 1648, 2809, 845, 5169, 1633, 6048, 1572, 3717, 3718, 1632, 3968, 6046, 8915, 9051, 6442, 7616, 1457, 5758, 8066, 11298, 4722, 4780, 9206, 10897, 3480, 11296, 3670, 4215, 2248, 11562, 745, 5861, 6091, 2537, 5316, 10597, 11387, 3022, 837, 9439, 11323, 5472, 10141, 5175, 7219, 3801, 9931, 5318, 2490, 10899, 10638, 11543, 9825, 2214, 6913, 10473, 11485, 3552, 8511, 78, 8500, 6647, 10656, 4893, 7594, 11093, 9016, 7941, 5989, 7939, 5611, 7986, 6171, 9182, 7936, 9095, 10067, 4757, 6093, 6212, 3569, 8943, 10739, 11073, 812, 304, 5640, 4091, 9291, 3603, 11464, 9736, 5557, 2607, 5406, 5804, 8180, 5863, 8573, 1977, 9175, 6086, 9768, 8462, 4667, 8856, 4672, 3383, 3560, 9756, 9630, 5569, 6882, 8341, 3002, 1888, 4585, 3897, 5294, 8826, 1762, 8388, 3530, 7555, 6472, 9130, 9489, 921, 5606, 5646, 2363, 3060, 9785, 2060, 7484, 7096, 3101, 7034, 5063, 8770, 5516, 8098, 7382, 8084, 9521, 7900, 10413, 7957, 7865, 7098, 6761, 8652, 9811, 5208, 3620, 8542, 7982, 6708, 2721, 5112, 3899, 2827, 2941, 4679, 6061, 7078, 8012, 2826, 3439, 8682, 5409, 8676, 11653, 7093, 11193, 5560, 2943, 4263, 7287, 10004, 10452, 1804, 10072, 10454, 8721, 10335, 11040, 8720, 8812, 10254, 4326, 10809, 3845, 4505, 1570, 4980, 5967, 4979, 8735, 4102, 6794, 5221, 2037, 5895, 8571, 1959, 6769, 1837, 5330, 11047, 8755, 6538, 7235, 1059, 5909, 11186, 9616, 728, 1315, 1290, 807, 832, 1375, 781, 311, 775, 799, 493, 488, 121, 722, 1463, 529, 712, 215, 433, 345, 538, 525, 548, 1439, 101, 141, 1326, 801, 99, 711, 153, 228, 9044, 2967, 10494, 10308, 1748, 4859, 10511, 9468, 8402, 8685, 11262, 2291, 2995, 10495, 11202, 7882, 10131, 7988, 5897, 8625, 3024, 1598, 3503, 8628, 3139, 4270, 5470, 2654, 10, 10792, 2408, 9353, 5155, 4820, 4484, 8564, 4613, 3304, 5964, 5082, 21, 1560, 10795, 6803, 7373, 1459, 1340, 10077, 834, 1226, 9615, 1940, 9027, 4660, 3461, 5797, 6900, 4849, 6931, 3049, 3103, 6232, 3962, 2207, 6504, 9432, 10056, 2586, 7777, 860, 917, 1171, 5869, 5881, 11200, 5696, 5617, 282, 10684, 923, 5160, 7662, 840, 11092, 1098, 7252, 11030, 7520, 674, 1339, 9341, 1419, 26, 41, 4448, 937, 4003, 8563, 293, 485, 472, 363, 1363, 1428, 204, 426, 155, 190, 298, 186, 281, 79, 150, 85, 86, 168, 158, 151, 1432, 1450, 114, 1466, 1471, 1476, 1462, 1488, 138, 5500, 10508, 8817, 6287, 3664, 11076, 4276, 5786, 7547, 10869, 5157, 9381, 11353, 11579, 3037, 958, 11577, 7658, 7748, 4173, 6337, 7627, 8139, 1692, 934, 9694, 5097, 9972, 9118, 2278, 6513, 7248, 3083, 5820, 1174, 8473, 5029, 10033, 912, 4262, 9417, 2512, 7537, 8831, 9525, 10703, 3324, 4062, 11335, 1490, 1608, 3955, 4208, 11436, 2269, 4206, 2290, 523, 10743, 10135, 7584, 9321, 2504, 9612, 2877, 1355, 9872, 6518, 7320, 10187, 10216, 1266, 10388, 2851, 2538, 1746, 1321, 9483, 5654, 453, 439, 2420, 10714, 3360, 5716, 8164, 9592, 3770, 4687, 10761, 888, 11049, 3377, 3362, 10285, 6266, 7856, 3701, 7876, 6801, 4648, 7873, 8611, 4311, 1072, 2457, 1541, 10403, 10723, 7892, 9625, 8983, 7841, 11533, 4524, 3525, 3565, 6077, 5824, 5892, 10419, 9202, 7289, 11094, 6937, 7321, 6939, 3110, 111, 1414, 924, 930, 2131, 3441, 1106, 2128, 973, 5266, 5267, 2507, 7853, 7065, 10296, 7574, 10579, 8422, 3942, 9979, 9948, 7591, 1013, 7593, 1068, 10375, 10374, 10298, 11167, 1212, 3914, 10555, 9485, 10960, 5965, 5719, 4125, 3263, 6640, 1585, 5245, 1987, 4881, 10561, 10562, 8638, 1843, 8990, 5475, 7533, 6944, 5183, 8507, 9337, 3297, 3963, 1791, 6372, 5242, 10696, 7819, 5684, 7908, 4550, 4353, 11013, 9167, 5634, 10808, 8405, 5635, 10157, 5636, 1705, 11462, 3264, 7077, 983, 10019, 1825, 9108, 11225, 192, 3013, 69, 9302, 7413, 9367, 11236, 2132, 2362, 6887, 9998, 7731, 5224, 8222, 3240, 2979, 253, 5377, 2601, 11713, 10887, 8494, 7003, 8229, 6494, 874, 7485, 10478, 7958, 4330, 5943, 2692, 4100, 7631, 11159, 7221, 7222, 4947, 2445, 9357, 10392, 9354, 4614, 10028, 9643, 10112, 4737, 7800, 9974, 10393, 7652, 9195, 2519, 2360, 1081, 8081, 3576, 2194, 6416, 10415, 6164, 10041, 5982, 2622, 10712, 4844, 61, 1901, 9584, 10531, 4586, 2935, 3529, 11106, 8488, 7205, 5378, 720, 2325, 3401, 9084, 1841, 9790, 6681, 5707, 7389, 6685, 9994, 5534, 5757, 8689, 9143, 8261, 9999, 10787, 1519, 7868, 7861, 1512, 2549, 1511, 11623, 3979, 10894, 1501, 2005, 1509, 1128, 1655, 1507, 9201, 1508, 6107, 10436, 5721, 2468, 8419, 8945, 9092, 7056, 8440, 9488, 11480, 2951, 5829, 9607, 8486, 3595, 2068, 4812, 8485, 8484, 569, 5752, 4607, 10160, 7519, 6098, 10945, 1216, 894, 6199, 4747, 10908, 31, 10427, 2087, 32, 7109, 4748, 8598, 7270, 1150, 1043, 1062, 889, 10915, 4306, 7907, 709, 214, 1358, 4525, 4086, 3634, 11021, 1765, 9711, 7894, 1726, 10845, 9287, 10172, 4957, 2904, 5651, 2272, 8840, 7094, 9073, 9325, 7104, 10410, 3751, 9983, 2573, 2228, 3811, 8659, 462, 3160, 10865, 464, 7201, 6525, 10957, 349, 389, 1441, 112, 465, 181, 507, 533, 1360, 132, 142, 6629, 1447, 556, 1362, 1347, 362, 515, 1333, 3035, 9075, 1513, 1514, 2756, 3477, 5526, 8404, 10847, 11199, 5992, 8768, 8744, 7905, 2412, 9098, 5044, 6508, 9080, 6480, 3705, 3358, 4709, 3359, 3589, 8085, 10631, 4652, 10574, 6144, 5631, 3445, 6345, 6346, 1874, 8905, 8904, 9761, 5843, 2723, 7620, 7922, 9764, 9765, 4579, 3209, 2928, 6758, 4053, 9938, 2595, 3114, 1042, 3170, 904, 4264, 1316, 8020, 2942, 8044, 7311, 4914, 5032, 6580, 10611, 6017, 6788, 9072, 1845, 3568, 5281, 4189, 5815, 1211, 6196, 8570, 3619, 9924, 3169, 6763, 11492, 7438, 3706, 11652, 7896, 4491, 5884, 4736, 8018, 5357, 9927, 6922, 6591, 5120, 9581, 5119, 11613, 2378, 8468, 7557, 102, 193, 144, 173, 116, 1477, 5375, 5891, 10241, 496, 6045, 3957, 4816, 8458, 3910, 459, 1601, 5165, 9226, 5446, 4026, 6106, 4070, 11018, 7063, 6152, 9225, 9508, 8763, 5930, 6074, 4103, 8218, 11409, 8069, 8633, 5091, 2023, 10038, 6551, 8189, 3618, 8694, 1974, 5530, 9769, 6316, 5988, 4426, 1942, 3003, 7701, 7468, 10766, 10217, 4628, 2282, 4429, 1130, 11677, 11647, 4372, 9767, 7164, 5535, 1002, 5736, 11327, 1272, 9970, 2065, 6544, 5672, 10186, 4207, 7424, 2337, 4316, 7396, 6365, 4322, 8379, 8378, 2244, 7426, 4293, 7987, 6539, 3389, 5750, 5647, 4928, 11604, 5851, 7757, 4466, 4310, 620, 9242, 10457, 5790, 6414, 3305, 897, 7407, 10903, 2884, 3224, 2939, 6027, 10350, 2940, 4703, 1337, 1345, 11107, 6517, 6524, 5732, 2209, 3289, 30, 2681, 11378, 11115, 4110, 10587, 9158, 5976, 6654, 7406, 2982, 7730, 4596, 9397, 9359, 3179, 7807, 10541, 10639, 7391, 8056, 10323, 10967, 7445, 6619, 3927, 7635, 7418, 4645, 11055, 9398, 11221, 3598, 6370, 6844, 4644, 1504, 543, 5419, 2418, 5418, 3592, 10117, 2210, 5754, 5065, 5005, 10820, 8656, 11570, 8201, 3756, 3761, 2771, 8539, 3989, 848, 3057, 2211, 9227, 4604, 7981, 11610, 2328, 8872, 428, 10198, 4161, 4101, 6773, 1697, 2522, 2581, 2485, 4810, 5559, 8307, 5870, 11434, 1698, 4229, 3104, 5191, 2381, 5408, 2764, 11386, 4145, 588, 7340, 3635, 3509, 1675, 3599, 10175, 6934, 11265, 6154, 5102, 3913, 7741, 7513, 4287, 10137, 4107, 6257, 7085, 1879, 1989, 2364, 3880, 3870, 8093, 8243, 8503, 9076, 11219, 10693, 7153, 7163, 7367, 5782, 10790, 10791, 7208, 1195, 8594, 8395, 988, 6767, 7046, 6111, 10414, 6609, 1177, 1522, 6997, 8058, 6850, 1178, 4546, 3066, 4841, 5852, 3404, 8143, 7765, 8144, 1503, 7242, 4039, 6712, 4681, 8443, 743, 3411, 6448, 9530, 2968, 10136, 5256, 10518, 6496, 10778, 4095, 9502, 7319, 2056, 6553, 5056, 8270, 2752, 106, 3455, 7752, 3396, 2137, 858, 3909, 6119, 8930, 1907, 10123, 9841, 10907, 4216, 4177, 8683, 3484, 6024, 7146, 3122, 7136, 7973, 10385, 2177, 4891, 2163, 4576, 5574, 4453, 9741, 4320, 4408, 8296, 9753, 6751, 5387, 2480, 5737, 4033, 11645, 10212, 5277, 8723, 2312, 7993, 4314, 7379, 2543, 9241, 2204, 8316, 6964, 1318, 8474, 11522, 6804, 4952, 7583, 3806, 5078, 262, 6840, 7642, 760, 1096, 3198, 4462, 784, 785, 9526, 1003, 6585, 4417, 2448, 5521, 2932, 819, 7310, 6659, 2762, 2257, 2423, 10290, 664, 6270, 2694, 10709, 8040, 4571, 6426, 2638, 8387, 6269, 9539, 10986, 1498, 1773, 5751, 4242, 6112, 4498, 9730, 7405, 2742, 1181, 5929, 11372, 9724, 3102, 9723, 5509, 4247, 4930, 6963, 59, 9887, 11203, 5369, 6831, 4181, 3943, 920, 8147, 6600, 8580, 970, 3682, 11348, 919, 910, 11585, 6863, 859, 1667, 5693, 283, 277, 3182, 9285, 10272, 9014, 7507, 4843, 6473, 2665, 218, 6066, 8145, 9062, 1189, 3325, 1497, 4951, 7568, 4955, 10297, 449, 7045, 10376, 1085, 4082, 4164, 6606, 2645, 7774, 2170, 7561, 2266, 11315, 9871, 6894, 3494, 60, 9646, 8425, 9747, 432, 8725, 3764, 5487, 329, 2954, 4492, 10911, 6709, 7037, 10807, 4538, 8709, 1665, 4252, 9731, 8226, 1722, 7599, 4536, 4537, 1721, 11529, 7600, 5417, 1838, 10883, 3158, 608, 3859, 1785, 3723, 10843, 3249, 7880, 3248, 2740, 2747, 9197, 3342, 5262, 2833, 2203, 6135, 1353, 5803, 3555, 3438, 8441, 1623, 9024, 11214, 5733, 11233, 8052, 6746, 11346, 4335, 6234, 4017, 11390, 10206, 7567, 8240, 4292, 1546, 892, 9164, 1103, 4541, 4214, 5459, 11662, 2770, 731, 1331, 3147, 8215, 5086, 6019, 6576, 9684, 9952, 11439, 7286, 6834, 6395, 6727, 4925, 4171, 5414, 10370, 2674, 8342, 11443, 1635, 7891, 10538, 10970, 5149, 10856, 5833, 9973, 9248, 6649, 3069, 7350, 3671, 3816, 8424, 8032, 11252, 8028, 3308, 1766, 6151, 7924, 6085, 9934, 7116, 3244, 9173, 2169, 7378, 5167, 6841, 4078, 11395, 11454, 4967, 2021, 4813, 1240, 3413, 3409, 1764, 4641, 2620, 4740, 5067, 3904, 10784, 5106, 7816, 3637, 10266, 3277, 3054, 3053, 6781, 9066, 6706, 8950, 2351, 3863, 7802, 3610, 9369, 6069, 1702, 2693, 4787, 3625, 11401, 7336, 3232, 4500, 3173, 5424, 5013, 5012, 9942, 9020, 10763, 6200, 11514, 11311, 9065, 8027, 8219, 11074, 5990, 10742, 6182, 6250, 11676, 5052, 11317, 5849, 8242, 9888, 470, 7805, 10459, 817, 9131, 2864, 10724, 10394, 594, 590, 6720, 4773, 10608, 8731, 3153, 8418, 5232, 3536, 4359, 1467, 326, 5541, 6682, 6217, 11297, 5080, 4006, 5954, 10701, 6235, 3018, 7089, 11352, 4823, 1186, 11351, 9538, 4274, 2704, 562, 9184, 1222, 4035, 1329, 370, 3879, 9494, 63, 4869, 4906, 7578, 169, 10012, 5517, 1559, 8, 7086, 2039, 1009, 5910, 6526, 10879, 6165, 9419, 8505, 1711, 1090, 2373, 8166, 9117, 998, 1198, 10037, 10245, 4878, 430, 9137, 4884, 2183, 8487, 463, 5506, 9512, 346, 1420, 5774, 3220, 2873, 3980, 9701, 7158, 9710, 5935, 5462, 6816, 9360, 5622, 9545, 8403, 3116, 10877, 6842, 3848, 9033, 11343, 9475, 4465, 7433, 9563, 9170, 6700, 10749, 694, 2318, 10613, 9662, 2799, 4413, 11130, 10153, 6254, 11099, 4482, 8124, 9857, 6574, 5581, 8885, 5300, 10201, 93, 8741, 5850, 2854, 1551, 1550, 4139, 4138, 8591, 11603, 8135, 10692, 9748, 4055, 8999, 580, 11227, 2907, 1487, 1418, 483, 568, 6811, 5695, 2791, 8481, 8985, 8299, 4356, 8170, 677, 10444, 2041, 10422, 5632, 4744, 4499, 10755, 3786, 1975, 4750, 10423, 6136, 8560, 8244, 8288, 2866, 10311, 7398, 857, 6564, 4713, 10989, 7801, 6080, 1760, 693, 4141, 9079, 11396, 8365, 5847, 1869, 7511, 5241, 9160, 9486, 6520, 5945, 8397, 8373, 3350, 8358, 1754, 1536, 11576, 879, 9793, 7211, 6308, 1230, 11131, 3096, 10525, 10524, 24, 6204, 536, 46, 6435, 5001, 3579, 2983, 9424, 10068, 8294, 9697, 4047, 10258, 9071, 2974, 4567, 2867, 9685, 10435, 10558, 6022, 7884, 6546, 6578, 10653, 2970, 6224, 1669, 2604, 3834, 7960, 2391, 5329, 5666, 7008, 7610, 2449, 2414, 7499, 6938, 9026, 6347, 9114, 4539, 9032, 1985, 3857, 1806, 11066, 6432, 1539, 10592, 2180, 2103, 2102, 221, 8585, 8796, 6722, 8798, 7496, 3051, 10314, 6242, 10275, 3144, 4025, 10437, 3201, 3206, 5429, 8722, 9720, 6967, 1910, 8924, 11164, 4434, 566, 3617, 2053, 9605, 6279, 1931, 5166, 2997, 10786, 2198, 4452, 1505, 2404, 8114, 8958, 1500, 6918, 4024, 3449, 9334, 8588, 10802, 7472, 3420, 3085, 1523, 5234, 8925, 5761, 2946, 1687, 5122, 3364, 4619, 9078, 2554, 1817, 6819, 5088, 6255, 7309, 9991, 6082, 2757, 4774, 4599, 7573, 7588, 4870, 9990, 5332, 2259, 2459, 5844, 1870, 5845, 1912, 8053, 10118, 8406, 10651, 8464, 4239, 9129, 4883, 1800, 10794, 6103, 10793, 5439, 6299, 9104, 8154, 10760, 7881, 6245, 3405, 6075, 7036, 8811, 1274, 4706, 2376, 1706, 680, 7282, 7469, 1699, 2964, 10237, 4211, 417, 787, 11349, 740, 6418, 7515, 3371, 10942, 2919, 7695, 70, 5538, 1067, 11586, 5223, 7938, 2661, 7465, 10840, 1719, 7996, 7087, 7713, 1829, 4825, 1489, 3892, 10261, 5609, 3893, 6018, 355, 4762, 6281, 2923, 1071, 5816, 890, 4048, 5255, 3755, 2158, 5510, 4112, 11022, 2077, 11422, 9136, 9002, 8360, 7243, 6210, 11224, 6438, 1672, 6065, 4617, 1898, 3515, 2973, 5444, 10498, 4472, 6333, 3256, 553, 5258, 11158, 11600, 9925, 1168, 9208, 941, 3, 6827, 3186, 4197, 6026, 11394, 6031, 4260, 8496, 1629, 6752, 521, 11097, 11318, 11453, 748, 10922, 3295, 1607, 10284, 1479, 6984, 5655, 6584, 10389, 10092, 8024, 2861, 2862, 4695, 8015, 5310, 8370, 8900, 11598, 8246, 6431, 497, 1380, 5501, 10309, 3720, 3369, 7298, 3852, 828, 8854, 4190, 3431, 1728, 2292, 9884, 2355, 4361, 9457, 10548, 8728, 4279, 8029, 2835, 3021, 1526, 11170, 5550, 2777, 11552, 8343, 4733, 9600, 11046, 1933, 4565, 4308, 5888, 4054, 9123, 1856, 4278, 11183, 2160, 3150, 8909, 3226, 6644, 5991, 5763, 2152, 7120, 6559, 5837, 8203, 11240, 5317, 6952, 7971, 5966, 3388, 5421, 7128, 4716, 966, 177, 8350, 5090, 5081, 3810, 880, 5399, 4985, 9272, 9229, 4455, 3286, 2892, 5094, 913, 4223, 5026, 19, 2184, 2186, 7460, 11643, 1780, 9048, 9165, 2629, 2628, 1887, 4714, 7797, 10811, 2108, 9232, 4580, 5173, 2530, 210, 8266, 6956, 4449, 1890, 2695, 1812, 11053, 10062, 6114, 5932, 11524, 8041, 6137, 3349, 4923, 8934, 10504, 9852, 4731, 4384, 4717, 10630, 1346, 5104, 3479, 3692, 1229, 8070, 5937, 2737, 11391, 1757, 2270, 9244, 3714, 7542, 7773, 11008, 5058, 5694, 4165, 3548, 4846, 8492, 9529, 10455, 8525, 77, 5225, 541, 10806, 7919, 8929, 8502, 11196, 8578, 6641, 5703, 4959, 7794, 17, 9693, 7195, 8760, 3685, 11141, 5393, 7831, 4476, 724, 7693, 7906, 6567, 10327, 10359, 8612, 5339, 4948, 6131, 1496, 10943, 10826, 5883, 9392, 2035, 2509, 6623, 6902, 8030, 6207, 3961, 5237, 10453, 6843, 2058, 663, 9238, 1107, 10841, 2393, 4301, 4220, 7700, 5899, 4583, 2190, 5805, 3120, 6312, 3336, 1544, 10030, 1421, 1871, 8681, 9506, 9200, 3212, 5955, 7103, 4422, 4080, 5354, 10384, 10383, 9740, 4312, 3550, 8171, 5179, 5994, 9838, 4328, 3581, 5172, 4653, 10304, 2531, 5552, 6354, 4088, 2114, 4854, 11441, 8227, 7101, 10257, 8293, 4960, 6656, 11406, 3268, 8772, 1036, 10997, 673, 3311, 6376, 6427, 657, 5648, 6981, 11050, 8195, 5710, 3178, 9224, 8549, 5503, 4943, 8495, 6601, 6040, 2064, 6330, 11042, 4621, 8629, 8834, 7339, 8842, 4638, 11044, 7240, 4620, 1919, 8660, 6873, 8673, 5314, 4746, 4005, 9060, 1517, 3639, 3952, 3590, 7011, 2117, 1708, 1715, 6818, 5107, 10371, 4072, 780, 8321, 10496, 7408, 8322, 10059, 11217, 2790, 10058, 862, 11083, 10048, 6146, 44, 2073, 8939, 11700, 2532, 2650, 9971, 2054, 4685, 7365, 11120, 2155, 10107, 11537, 3982, 8895, 8931, 6948, 4819, 10767, 6690, 9750, 9514, 11516, 5827, 3789, 2268, 7067, 107, 4414, 10210, 9134, 3960, 89, 1374, 9283, 5158, 1152, 5975, 11575, 3163, 7084, 1051, 9845, 9978, 11488, 4965, 531, 1823, 10179, 5381, 9461, 1440, 6288, 3860, 8067, 269, 442, 554, 2361, 9416, 1753, 7750, 4479, 7117, 3218, 10396, 6980, 7415, 9469, 9966, 3331, 9450, 1727, 3065, 3376, 10772, 10293, 10674, 2705, 726, 4294, 9190, 813, 4303, 11620, 11679, 11615, 11580, 11584, 11614, 178, 1658, 11105, 10057, 2217, 3052, 9660, 10143, 610, 8439, 4398, 11162, 7190, 474, 6905, 7349, 2690, 2937, 8094, 2359, 1271, 6367, 1263, 7606, 238, 6094, 3489, 4502, 9941, 1465, 2558, 3306, 232, 10390, 1366, 6328, 11198, 10681, 12, 6497, 3076, 854, 2026, 2025, 2018, 11182, 1386, 8256, 1089, 10940, 29, 1095, 11160, 1217, 5338, 1121, 5370, 5109, 3601, 9151, 5596, 7189, 11525, 3855, 5987, 8120, 5801, 4234, 10439, 3666, 10874, 4514, 9324, 2044, 3628, 681, 9153, 8640, 2617, 1794, 6493, 6236, 3448, 3430, 10952, 7014, 9135, 11319, 822, 511, 9310, 5142, 8661, 7212, 11185, 4610, 10264, 2713, 4609, 1017, 7956, 6000, 10577, 6530, 1225, 765, 9507, 7217, 5134, 498, 4633, 6941, 9587, 957, 8009, 421, 4705, 2463, 1646, 5768, 10975, 9882, 8766, 2185, 3370, 6436, 8163, 1774, 10509, 9903, 6970, 2837, 5681, 8737, 6502, 1681, 5572, 1949, 7624, 5780, 8011, 2808, 10853, 4389, 5799, 6293, 54, 9783, 4447, 4147, 2172, 1069, 5147, 6888, 10909, 2717, 9505, 7661, 1384, 5495, 6705, 8545, 9667, 10446, 9480, 2675, 1265, 9342, 6157, 7244, 7887, 7480, 4995, 10854, 9564, 55, 8159, 6172, 7812, 5049, 2496, 8073, 893, 8771, 4529, 10215, 1248, 7872, 5687, 3010, 9560, 4423, 9479, 906, 7315, 3488, 5504, 3912, 10955, 103, 710, 9532, 5630, 4581, 6313, 4203, 339, 2406, 3164, 5508, 3696, 1846, 1936, 4864, 552, 11467, 8519, 4872, 7586, 628, 4873, 701, 6248, 5315, 4852, 1249, 8552, 353, 4785, 10360, 6704, 5931, 7605, 11103, 9378, 9823, 10926, 800, 5295, 4246, 3227, 1650, 1640, 9653, 5688, 1973, 10144, 5718, 2081, 929, 945, 5765, 4391, 2176, 4327, 9603, 10318, 3591, 10797, 4735, 5004, 8068, 3081, 10578, 4019, 1903, 2309, 9528, 1404, 4646, 11086, 7132, 3886, 8087, 5926, 3868, 9523, 3911, 7316, 10086, 72, 8311, 4132, 5344, 6650, 3967, 6648, 1343, 6680, 7082, 3300, 4719, 8966, 1524, 6475, 8816, 3261, 678, 6168, 6068, 8871, 6166, 4958, 9406, 1126, 2633, 5334, 3354, 1342, 518, 10901, 11245, 5831, 10725, 3662, 10009, 7638, 9648, 9520, 8995, 2403, 3851, 5347, 1972, 6932, 8178, 7347, 3302, 10768, 1637, 5114, 7342, 4126, 11305, 3665, 7470, 1528, 5400, 5412, 6543, 4018, 5137, 9787, 2140, 5738, 10589, 2781, 3061, 9772, 2848, 5343, 11342, 7237, 8959, 10274, 7300, 11175, 9676, 10162, 11299, 8710, 8193, 10734, 8719, 8674, 6271, 8300, 3837, 5729, 1963, 6955, 6679, 5213, 4612, 10981, 5025, 2221, 6380, 1515, 5885, 7341, 6142, 7327, 2748, 5924, 9144, 10788, 3246, 1880, 8100, 9309, 122, 259, 5902, 9400, 8091, 6901, 1056, 4519, 3498, 5118, 11628, 10941, 9937, 4046, 3082, 11290, 7845, 378, 8001, 5440, 2191, 886, 4531, 10501, 7775, 6314, 8216, 9797, 8489, 7690, 669, 6809, 9889, 10150, 10138, 9595, 10833, 1136, 814, 1137, 1208, 887, 2724, 1049, 1740, 2783, 1134, 1019, 8727, 4146, 8199, 4012, 5874, 2482, 7449, 7182, 11064, 11132, 2115, 1140, 9188, 8017, 3184, 6731, 1047, 2763, 1444, 2452, 11192, 3374, 6810, 10242, 8877, 1154, 10170, 3511, 4042, 4367, 3337, 3446, 9867, 506, 11435, 2150, 982, 3517, 10164, 11403, 9567, 6280, 1873, 2750, 9019, 4089, 4148, 1256, 6933, 4093, 8339, 6304, 2716, 3130, 10078, 7039, 2464, 4142, 5649, 1802, 1602, 3887, 5278, 2262, 3749, 1695, 469, 3190, 2451, 597, 8059, 3735, 287, 3681, 3478, 7394, 10582, 10333, 5331, 10827, 6361, 10543, 2334, 10228, 1620, 1577, 7024, 10773, 3338, 4986, 479, 3058, 7239, 8115, 11568, 6141, 9326, 1894, 2410, 11250, 4702, 6953, 9423, 9404, 8589, 4563, 2333, 450, 5458, 5578, 2006, 1075, 999, 4807, 4460, 10191, 7191, 2855, 5268, 5238, 7076, 3521, 10407, 9596, 9602, 5818, 10262, 10634, 1410, 8472, 11181, 1173, 9172, 4973, 11258, 4726, 1737, 5021, 4608, 9633, 11373, 4419, 11308, 1538, 4468, 10018, 5176, 3540, 5254, 679, 11155, 1982, 5828, 3145, 10969, 1510, 11375, 4394, 4369, 8264, 2275, 11254, 10588, 1558, 6563, 4862, 4755, 2712, 6396, 1074, 1190, 9278, 2343, 9091, 11440, 11550, 1533, 1700, 383, 8843, 1621, 5745, 4504, 9835, 7933, 6713, 2963, 11696, 1935, 9985, 4595, 9771, 10286, 10618, 7767, 3931, 4172, 1895, 5361, 10418, 7062, 5304, 9140, 11581, 4597, 1283, 8140, 975, 1309, 2822, 2240, 3528, 11715, 4085, 4856, 3626, 7508, 8777, 7105, 10939, 11271, 4939, 11213, 9068, 9340, 6667, 9487, 3941, 9696, 2619, 5933, 45, 4271, 895, 7226, 9109, 7184, 1925, 7332, 11460, 9848, 4540, 5178, 6332, 943, 759, 5968, 440, 4517, 5199, 3470, 9107, 7337, 7421, 2621, 4999, 7672, 5742, 3512, 7476, 10575, 10993, 10757, 9706, 2863, 11695, 1209, 5518, 1998, 2045, 11269, 11270, 9654, 2623, 6325, 10992, 11549, 3174, 7877, 8663, 11571, 4833, 4084, 9594, 1527, 4834, 7344, 10467, 3148, 7280, 11255, 3443, 7955, 5698, 2453, 2443, 11242, 2689, 3778, 8730, 9944, 1516, 8715, 869, 10832, 7053, 5853, 9234, 10626, 5089, 1752, 1583, 3171, 4282, 6723, 3586, 9982, 5766, 2743, 9658, 10987, 404, 1035, 744, 2801, 5486, 6945, 1981, 2119, 1532, 5882, 11039, 10306, 7487, 7722, 9896, 1260, 8035, 3818, 8152, 2450, 4128, 7072, 9120, 2229, 9318, 11497, 2517, 9320, 8366, 2686, 5551, 5840, 4588, 6489, 9755, 7512, 3986, 3922, 4587, 4253, 3216, 3659, 3616, 8506, 2998, 2042, 2427, 6025, 11484, 6550, 2346, 10878, 7275, 2126, 7761, 3294, 3538, 7893, 4858, 2125, 6820, 9055, 4826, 6338, 8269, 4348, 9791, 6147, 5800, 1710, 7549, 10097, 1782, 9914, 696, 769, 6672, 1529, 1139, 1138, 6318, 5848, 1521, 5235, 2488, 683, 2299, 10601, 4494, 4407, 1124, 7451, 8380, 9795, 11350, 10171, 5673, 3281, 4981, 7474, 11016, 5722, 8642, 10849, 7395, 5513, 10554, 7645, 6838, 3230, 3270, 3271, 7299, 10984, 3115, 3221, 2652, 1896, 8386, 3587, 6003, 1803, 3518, 268, 180, 6020, 10978, 10697, 1690, 7133, 7284, 6323, 6336, 7188, 6423, 6004, 8283, 7681, 8903, 6188, 9126, 5711, 2223, 1996, 3832, 10461, 10276, 4781, 3549, 6167, 6930, 2533, 1578, 9142, 8587, 3835, 9251, 2079, 5520, 2394, 2345, 5514, 10332, 2588, 7803, 2599, 5841, 6169, 1750, 2113, 508, 534, 4511, 4477, 7178, 3648, 7088, 4051, 10753, 9147, 6194, 10468, 2057, 1995, 10196, 1052, 4920, 5042, 8717, 3649, 9093, 2462, 4481, 8668, 3542, 2962, 10116, 8188, 8883, 10570, 6892, 544, 6870, 8055, 8309, 8308, 2237, 2245, 9403, 6903, 6219, 4863, 3044, 7997, 9656, 9975, 589, 10642, 3199, 3721, 11687, 8987, 6148, 9348, 11426, 11427, 8636, 2515, 7169, 9217, 10645, 6028, 11246, 7170, 7172, 4838, 8381, 8382, 4548, 8383, 7596, 8435, 582, 7173, 5159, 9936, 10916, 11104, 11344, 4068, 6488, 2906, 11239, 10750, 4888, 4711, 3850, 9674, 3919, 11309, 2239, 4090, 10835, 8789, 7566, 8045, 5248, 9842, 8186, 11310, 1196, 3547, 8460, 11321, 5133, 10977, 8223, 6097, 501, 5656, 733, 5132, 7679, 2083, 3427, 5657, 9570, 4778, 2641, 7975, 2446, 1793, 1422, 5264, 5265, 5226, 9810, 6474, 9401, 5138, 2336, 3031, 8963, 10745, 8851, 6263, 8364, 8524, 5614, 4832, 6441, 5358, 6527, 7992, 494, 9847, 3898, 2022, 10122, 3312, 789, 8165, 3432, 7303, 3353, 2610, 5251, 2295, 7025, 4256, 3510, 2958, 6349, 6249, 6740, 4451, 10600, 11407, 8251, 3577, 10050, 5181, 10591, 2276, 2277, 3038, 10706, 5438, 10434, 4656, 4552, 9883, 1886, 6784, 5543, 3410, 3674, 10133, 9036, 333, 938, 1077, 231, 750, 2865, 684, 2380, 11458, 3805, 1040, 6621, 4603, 6092, 7247, 702, 4266, 2560, 1167, 3398, 863, 6689, 2745, 1227, 6403, 6402, 9951, 4044, 3977, 504, 10747, 5598, 56, 7022, 4225, 10090, 7068, 5200, 1454, 11478, 25, 5368, 9700, 11313, 2327, 5662, 2419, 687, 3234, 4936, 3715, 6620, 11172, 10344, 9445, 7383, 11433, 7009, 11587, 5069, 5483, 9935, 3492, 7203, 5092, 5689, 1701, 3983, 9949, 4081, 5515, 7312, 4487, 3418, 418, 11280, 8039, 1953, 8822, 8828, 1605, 9074, 1408, 8547, 66, 8746, 5034, 4153, 2823, 3847, 10824, 5403, 11495, 6039, 2524, 455, 1844, 10961, 3333, 630, 5411, 8783, 4669, 864, 9230, 2350, 9405, 4523, 7738, 4483, 11072, 4347, 718, 2043, 2082, 7968, 3341, 5575, 7612, 10796, 11493, 2085, 1855, 10521, 10862, 8847, 3269, 876, 10035, 11709, 505, 10127, 3094, 3702, 3746, 6807, 3939, 1542, 4424, 8518, 2669, 3935, 2124, 3936, 1649, 3314, 5072, 4063, 8132, 4008, 4732, 4151, 6170, 6622, 3019, 9669, 1082, 2395, 8616, 2007, 6928, 3676, 9004, 2342, 11507, 7857, 8908, 3545, 1622, 2836, 2847, 8546, 1215, 7675, 3440, 1861, 717, 3537, 7506, 1125, 5239, 1778, 5589, 9240, 5917, 2655, 4566, 1833, 6765, 6120, 9169, 8438, 9611, 3854, 11515, 5492, 7149, 8942, 6276, 10381, 2298, 796, 3744, 2548, 5186, 539, 3117, 10951, 10798, 8994, 7698, 5410, 9053, 4241, 4615, 10944, 3165, 1293, 3457, 3523, 3895, 3680, 6505, 3629, 3513, 6138, 1878, 9619, 8707, 2296, 10006, 6201, 1592, 4994, 11369, 9139, 8213, 9828, 4045, 4767, 8275, 11188, 8646, 243, 6630, 1255, 5043, 6139, 9023, 1797, 2739, 2606, 6123, 2320, 8065, 242, 2945, 8982, 2644, 4121, 5447, 11447, 1688, 8619, 7952, 4446, 7306, 9839, 7756, 5627, 8684, 10398, 4231, 1540, 3067, 10672, 11621, 10343, 8176, 9286, 10586, 1848, 2400, 8776, 7947, 2329, 7719, 2300, 10265, 5555, 1911, 8891, 6812, 8559, 8297, 7002, 7791, 3716, 6424, 4436, 4442, 9580, 9467, 9997, 10400, 9737, 1024, 11026, 11281, 4431, 6205, 9474, 3365, 2955, 6389, 1264, 6340, 5131, 8129, 2541, 8513, 9448, 3605, 3771, 3678, 10166, 9221, 8814, 3570, 7999, 2471, 7874, 10337, 8935, 5920, 5060, 10101, 4910, 6029, 2518, 3849, 9100, 11017, 6422, 5182, 5066, 7466, 7040, 10716, 11274, 9943, 10567, 9679, 1530, 10367, 6321, 1758, 4954, 6397, 2676, 2761, 7159, 3211, 4360, 8190, 8972, 7161, 4041, 3283, 9070, 6996, 5442, 3346, 2055, 9562, 9022, 3214, 2322, 6047, 4786, 7763, 10861, 2353, 10065, 10042, 7200, 1277, 2205, 2283, 391, 490, 8853, 5605, 11582, 5100, 517, 7895, 9296, 10547, 754, 3464, 11007, 9384, 3519, 10324, 4218, 7112, 1678, 672, 8324, 7041, 6468, 4664, 2778, 3757, 915, 7196, 8514, 7197, 9407, 7274, 4949, 6943, 10864, 9105, 9533, 9898, 11232, 7357, 6173, 8569, 2627, 2338, 7656, 6149, 5301, 6737, 4437, 1682, 8949, 4049, 7883, 6319, 10624, 5981, 5189, 10994, 6503, 682, 9222, 6378, 6377, 9275, 1435, 11293, 9395, 356, 10069, 7950, 74, 7948, 4388, 347, 7925, 10821, 6348, 8649, 6825, 6935, 6627, 8979, 4982, 6400, 3602, 6676, 7322, 4140, 9618, 266, 11654, 7978, 4036, 9040, 10990, 7901, 3203, 2430, 10857, 5379, 4445, 2575, 3946, 2174, 3954, 1626, 11646, 3223, 9254, 6252, 1033, 4201, 4887, 1445, 6631, 10924, 5563, 8110, 5626, 9821, 9954, 5328, 2442, 9904, 1676, 1520, 7587, 5676, 3645, 2046, 8609, 7092, 6698, 5561, 10927, 6729, 9132, 2568, 4916, 6160, 7795, 6568, 6335, 5839, 6202, 9156, 8696, 4291, 2535, 695, 9774, 3460, 9962, 11383, 10421, 2888, 1012, 3088, 7787, 4922, 4975, 11326, 195, 7818, 10355, 1652, 7510, 500, 4997, 11421, 9476, 2663, 7135, 9124, 855, 5600, 4004, 338, 6035, 5958, 853, 1449, 384, 9046, 4298, 8579, 10204, 7313, 10889, 4488, 10372, 11596, 8818, 2129, 11538, 6668, 2424, 6198, 3553, 1889, 3253, 4918, 8635, 4149, 5986, 7273, 10460, 8761, 10211, 861, 10728, 752, 9362, 3871, 11392, 9932, 11519, 11560, 8034, 8962, 3932, 11341, 10294, 7798, 10730, 9568, 9695, 2576, 3551, 6735, 2796, 4222, 7157, 7747, 5613, 5297, 8451, 7148, 2683, 9593, 10910, 3437, 1341, 1535, 4684, 2013, 6906, 2889, 2212, 10320, 4341, 3089, 3442, 10268, 6962, 10336, 8437, 8781, 8117, 9478, 9010, 9916, 10964, 2776, 11060, 3113, 11328, 4232, 5246, 8804, 10022, 6613, 9875, 11136, 11658, 8938, 2510, 2953, 9038, 8000, 11001, 3964, 8148, 11573, 6881, 7823, 7457, 10231, 2996, 1253, 1412, 9473, 3724, 2733, 9776, 1371, 2653, 6745, 7953, 1129, 3866, 591, 1037, 9116, 8038, 6771, 6822, 489, 478, 10670, 8992, 666, 10351, 8797, 8312, 8669, 4720, 10550, 5180, 7728, 4111, 5858, 878, 4788, 10031, 9537, 3985, 6853, 10140, 8971, 9094, 2167, 1594, 3712, 6329, 603, 5904, 1736, 843, 7769, 10668, 851, 2195, 1220, 5441, 10671, 3636, 1354, 5728, 5286, 9620, 5490, 4861, 4210, 685, 3128, 4302, 51, 9422, 6929, 9166, 10686, 7490, 10075, 3951, 8072, 8920, 2159, 1165, 4693, 1709, 5261, 2920, 9017, 2603, 4094, 980, 5474, 5473, 842, 8054, 7083, 2596, 4839, 11028, 9548, 6989, 2969, 3274, 2059, 9819, 11354, 6777, 7944, 5077, 9627, 10663, 7940, 11325, 6813, 3803, 3950, 9571, 8922, 6415, 7456, 1424, 10985, 9666, 3406, 8680, 6130, 4921, 6533, 901, 1238, 8641, 6174, 1352, 2741, 1237, 6716, 629, 3731, 2744, 1525, 4098, 509, 11075, 11054, 4658, 2344, 1099, 4154, 2017, 3454, 2918, 10305, 2121, 6895, 11334, 3726, 3738, 11126, 6485, 9557, 1980, 4461, 2680, 11127, 4174, 8653, 2399, 9531, 8664, 10182, 4847, 5941, 9447, 8536, 7666, 9870, 10933, 8666, 7565, 7479, 7534, 2201, 9042, 8705, 6298, 8993, 10129, 4592, 11681, 5070, 3004, 2286, 1905, 670, 1970, 4868, 7696, 3864, 6940, 2667, 6181, 4721, 8217, 11589, 1814, 5872, 11205, 2514, 9664, 5726, 9067, 10593, 10029, 2916, 2571, 7129, 1881, 6565, 6879, 4554, 2139, 8592, 6646, 6908, 1485, 203, 9993, 7354, 4119, 8491, 5260, 2956, 9045, 10108, 10184, 10036, 8328, 4406, 350, 11558, 5135, 413, 9703, 3739, 3978, 10063, 1581, 8632, 1938, 5957, 8610, 3020, 5129, 3181, 7420, 557, 4589, 9028, 11517, 4792, 2493, 7641, 10225, 4135, 2110, 867, 8088, 1815, 8049, 4259, 10803, 4969, 9364, 3168, 10648, 9773, 1703, 3686, 8181, 11045, 3869, 5028, 3075, 2164, 6155, 10263, 9233, 4074, 4104, 3906, 8601, 8282, 5793, 7202, 319, 5770, 9399, 7176, 3106, 2775, 10424, 6893, 8362, 6959, 2578, 10559, 5201, 7375, 4945, 9965, 3740, 9043, 8795, 290, 9778, 6510, 3874, 5273, 11180, 2594, 3785, 2437, 4549, 7597, 11661, 5431, 4791, 484, 10789, 9064, 810, 10008, 4023, 5663, 3533, 1922, 4284, 3414, 2219, 9522, 11235, 8080, 3135, 1755, 7740, 11389, 10996, 50, 4574, 2754, 2101, 6215, 6592, 8613, 9801, 1670, 6795, 7455, 343, 8230, 7522, 793, 2774, 4534, 4924, 3745, 1377, 3241, 9, 7923, 10291, 2839, 9063, 11578, 7028, 8277, 8262, 2235, 9276, 7980, 3196, 1718, 437, 6244, 3677, 373, 11024, 10431, 6598, 3381, 6369, 6532, 5253, 8086, 1554, 579, 3451, 3109, 7142, 8158, 2612, 8919, 5566, 2145, 8844, 8556, 8411, 3073, 4430, 8700, 7127, 4990, 1955, 1662, 27, 6021, 3925, 5830, 6651, 4397, 903, 3323, 7718, 10688, 4245, 7031, 9472, 4627, 1456, 7023, 4904, 6010, 6753, 7345, 7261, 2729, 6053, 7969, 8238, 5914, 671, 8531, 5276, 11187, 10251, 2508, 2728, 385, 235, 1376, 737, 6275, 8393, 5616, 3356, 2926, 5562, 1865, 3743, 4309, 2220, 11644, 4821, 9013, 3532, 5249, 8965, 5567, 5113, 7545, 6864, 9622, 7441, 5532, 7328, 8996, 4675, 10707, 10535, 7703, 1741, 3340, 11535, 10109, 6552, 7269, 5432, 10485, 7325, 468, 3095, 10213, 1008, 6800, 6239, 1403, 2703, 6214, 1452, 4678, 3417, 6855, 3423, 9087, 5390, 2141, 5944, 1200, 7042, 3736, 9969, 1596, 7183, 9034, 4686, 8973, 7524, 8910, 7432, 3416, 1409, 5586, 9168, 707, 4831, 716, 2897, 13, 6958, 6978, 3161, 11333, 7401, 10713, 8344, 5040, 955, 10825, 8630, 5489, 7758, 3175, 5488, 6994, 5002, 8921, 10115, 11481, 6657, 953, 2478, 650, 4983, 2753, 961, 5963, 11397, 2247, 2503, 10074, 4890, 8452, 4313, 5653, 2991, 4497, 68, 4485, 9388, 9859, 8371, 10965, 1119, 2109, 6501, 11287, 8543, 7580, 8967, 8819, 5019, 3732, 1018, 2288, 2959, 3783, 10430, 9624, 990, 1713, 6009, 987, 9721, 7657, 676, 3741, 5220, 3647, 8988, 10270, 11688, 7670, 5491, 7073, 7669, 871, 527, 1671, 7232, 7625, 2402, 1210, 11697, 8855, 7622, 939, 9786, 10708, 7687, 402, 8280, 8287, 6898, 3853, 3422, 11165, 4784, 10581, 10346, 10614, 2425, 6153, 9573, 9054, 9877, 8773, 8757, 10844, 9138, 5633, 1704, 9427, 520, 3817, 526, 11411, 2260, 5455, 9956, 3429, 7279, 7278, 10741, 7711, 3092, 10695, 8377, 9744, 5247, 7192, 2525, 8802, 3613, 1661, 3901, 6006, 6779, 4106, 4699, 7410, 1918, 2849, 5867, 3661, 8434, 6044, 11005, 9393, 8182, 224, 10973, 3933, 9746, 5197, 1835, 2782, 11708, 5995, 9812, 6226, 7609, 2469, 4109, 5730, 2000, 2382, 6677, 2976, 3385, 519, 545, 2975, 2231, 2142, 4766, 4770, 4828, 5108, 9631, 11483, 9712, 675, 10603, 8134, 5363, 6512, 7531, 1966, 6874, 9297, 6536, 4804, 2147, 2116, 734, 8096, 6499, 3425, 11057, 5023, 1798, 8849, 4280, 6306, 4325, 8051, 9689, 8600, 6444, 8023, 3016, 8533, 2810, 3452, 11189, 4942, 1859, 3813, 6664, 10779, 8756, 2196, 4927, 1832, 3711, 5079, 8102, 9691, 3993, 7017, 4160, 3030, 4818, 7613, 8092, 4689, 2398, 1499, 1502, 9077, 7422, 6548, 618, 52, 5618, 10174, 8361, 10034, 540, 514, 5727, 4377, 9561, 1287, 9481, 6529, 8912, 3408, 3971, 7151, 4793, 6159, 11231, 9383, 4663, 1769, 3467, 2784, 6084, 6669, 9542, 10888, 6223, 10405, 11430, 6305, 6917, 611, 662, 7246, 6264, 7462, 3742, 667, 3127, 7461, 3687, 6180, 9338, 1104, 4124, 5099, 3279, 10307, 4518, 2593, 10735, 2001, 8200, 1994, 2004, 73, 11080, 9390, 9814, 1194, 3347, 627, 756, 9007, 3310, 6122, 1244, 2144, 7742, 6616, 3582, 8726, 7682, 4332, 7637, 10507, 2751, 8013, 6375, 935, 4199, 80, 6522, 2200, 11011, 7683, 11124, 3124, 2933, 53, 3928, 10848, 7448, 7899, 16, 8185, 2238, 273, 2605, 96, 7447, 10607, 7392, 7343, 9470, 4321, 10932, 5098, 9458, 8433, 3434, 9899, 4977, 8197, 4401, 6405, 11650, 7776, 1460, 11618, 10533, 9012, 8442, 11685, 11704, 9455, 512, 4307, 927, 1120, 1041, 2657, 8702, 8896, 4061, 2700, 3282, 10650, 2843, 499, 11118, 6118, 2105, 2660, 4117, 4257, 2608, 9451, 9874, 8285, 2307, 8692, 8272, 5303, 10882, 5612, 2565, 9726, 2746, 1252, 9725, 2182, 2465, 1999, 8875, 4113, 7106, 11052, 1164, 7590, 651, 10148, 1976, 654, 2759, 3320, 2758, 3262, 8368, 1984, 3725, 2234, 10321, 10717, 6055, 9601, 5027, 9950, 6847, 9441, 10315, 10438, 4227, 1776, 7044, 3459, 3239, 3780, 1978, 6742, 11237, 7660, 3111, 6161, 542, 3865, 3183, 3077, 4410, 8529, 5349, 5809, 4386, 11471, 10949, 10871, 10637, 4108, 1423, 352, 8583, 2894, 1604, 9198, 4354, 10866, 3233, 3907, 11489, 778, 3207, 5437, 1458, 11004, 3444, 8410, 1555, 7619, 5650, 11322, 7651, 11638, 3384, 7942, 8739, 2767, 1734, 6366, 10881, 9274, 6988, 9316, 10126, 5336, 8333, 8873, 4364, 3393, 2267, 3348, 7804, 7121, 559, 8956, 6479, 1506, 865, 292, 10278, 10647, 11693, 11714, 7277, 5154, 5121, 3299, 11206, 36, 9056, 8837, 6163, 4186, 10027, 1904, 8490, 3373, 5875, 8291, 11043, 5597, 5366, 10482, 6429, 571, 6099, 7837, 2999, 2417, 2706, 6095, 3884, 3747, 9675, 885, 2051, 9459, 3500, 7680, 10762, 8174, 2830, 3966, 8953, 2990, 8567, 1259, 1162, 2891, 4651, 11408, 1821, 8340, 2666, 10595, 9050, 9796, 5894, 6665, 10828, 7271, 7362, 8893, 8866, 8420, 2497, 9636, 8671, 8107, 1951, 11632, 10364, 3345, 1132, 4811, 9236, 2536, 6878, 5436, 5146, 1644, 4962, 6233, 7152, 42, 10277, 4118, 1083, 2915, 10976, 5064, 7854, 4824, 3473, 6208, 8002, 11134, 4775, 8595, 8745, 1902, 4324, 6301, 6774, 2460, 3947, 4622, 2816, 10846, 5595, 10015, 4230, 3640, 3483, 4917, 9246, 2389, 9300, 2883, 10195, 5494, 5947, 624, 7429, 1683, 306, 11142, 3908, 642, 87, 10024, 4601, 3881, 7387, 751, 10551, 4857, 2569, 4829, 11285, 11163, 725, 8907, 7370, 6715, 1851, 9815, 7832, 9699, 969, 5423, 9418, 7640, 10161, 3727, 1628, 5984, 4432, 5887, 10472, 5279, 6197, 8429, 6285, 3878, 6410, 8870, 1133, 2302, 6991, 2036, 3722, 9003, 9613, 8654, 6322, 460, 2921, 280, 5588, 9174, 3472, 3471, 6184, 4764, 7834, 1866, 10155, 9673, 8698, 5360, 4894, 1576, 2301, 10517, 7361, 3923, 7623, 6608, 6796, 491, 2438, 9727, 1251, 4143, 8882, 3631, 9265, 8279, 6087, 11243, 4782, 7297, 6780, 10556, 10499, 5216, 4799, 9335, 47, 5259, 5285, 3669, 10863, 2908, 1438, 8926, 5205, 3011, 3400, 11062, 3790, 5068, 10076, 8508, 9090, 690, 7835, 6985, 2168, 10799, 604, 6605, 2354, 10659, 8329, 5039, 9438, 11128, 10931, 6440, 2749, 1100, 6491, 1916, 1854, 11095, 365, 457, 6798, 3748, 4195, 5209, 614, 2232, 6678, 7979, 9953, 1191, 7356, 2860, 10054, 5916, 9923, 9805, 1983, 7910, 7060, 2242, 3765, 4772, 1425, 2550, 631, 6492, 10705, 10658, 9608, 1642, 1921, 10526, 2429, 3275, 260, 4521, 1638, 530, 6013, 6461, 7130, 5548, 3890, 8704, 9327, 10146, 10602, 7965, 9968, 3938, 10303, 4729, 10858, 8769, 1574, 8448, 3915, 7489, 8407, 1395, 3824, 908, 4155, 4992, 3255, 7154, 8043, 2258, 2080, 6910, 5641, 11177, 7759, 11209, 10702, 4067, 4191, 10361, 2029, 4510, 9437, 6133, 6776, 2513, 11059, 11332, 9549, 4879, 3078, 4420, 7676, 10326, 3482, 1179, 2317, 11251, 1304, 612, 7721, 3658, 2564, 4459, 5788, 11112, 11174, 11444, 2804, 5405, 2876, 4741, 10652, 2630, 8825, 10317, 8320, 38, 8131, 1054, 1214, 3862, 11143, 1619, 7483, 6660, 10893, 3231, 10236, 5806, 4556, 6193, 9670, 1877, 10282, 8846, 2253, 2377, 10463, 9426, 256, 4277, 4405, 3572, 5271, 7369, 8906, 8747, 9802, 8792, 3007, 7830, 4895, 6185, 1964, 11079, 10310, 7204, 10694, 3704, 7930, 9025, 7231, 7634, 7702, 11197, 5928, 10192, 8392, 11195, 5309, 5337, 2637, 7064, 4708, 8276, 2072, 6381, 10902, 4682, 2011, 3474, 7653, 11019, 9752, 9722, 9834, 3754, 10867, 8113, 6297, 10979, 11706, 3276, 1183, 7051, 8271, 3992, 5293, 8937, 3959, 7058, 7648, 6179, 7848, 5036, 824, 466, 11038, 8302, 4730, 10937, 9128, 1641, 1805, 7144, 2673, 11301, 3326, 8471, 9634, 7559, 10152, 7538, 1048, 4299, 11602, 3062, 2149, 3322, 5171, 3072, 4471, 6128, 868, 1674, 15, 5323, 9089, 7431, 11263, 11111, 4935, 3709, 6088, 1771, 5392, 7372, 2321, 11279, 4411, 8014, 9989, 8116, 1322, 10510, 8678, 5136, 4337, 619, 10207, 10049, 757, 773, 643, 14, 1118, 2206, 2905, 5397, 3495, 4374, 8955, 8466, 3357, 10165, 9380, 11119, 2255, 729, 705, 7990, 8241, 7937, 4383, 4182, 3797, 10328, 10545, 3247, 8172, 7745, 7478, 9885, 10002, 7035, 5886, 3675, 8886, 9199, 1801, 1724, 6936, 8327, 8780, 2802, 8237, 4800, 9351, 3653, 593, 870, 9454, 5537, 8064, 10520, 10810, 8954, 10000, 8493, 7059, 7827, 6693, 3332, 9412, 6707, 10331, 2902, 11511, 3009, 10450, 8865, 5658, 6430, 6471, 8864, 5233, 6143, 9000, 9961, 5263, 668, 8577, 4692, 5950, 10279, 3315, 2020, 3149, 4659, 7543, 58, 1006, 971, 4562, 4727, 6637, 10433, 4768, 4176, 7951, 2546, 7048, 6032, 1680, 5639, 9705, 11594, 8026, 10805, 4743, 2095, 5773, 3328, 9589, 8401, 8876, 10831, 7381, 4170, 5141, 8074, 4200, 4769, 10289, 11468, 4553, 7902, 10013, 1579, 5313, 5951, 3433, 9709, 9892, 7664, 3395, 10759, 928, 10363, 11593, 5925, 11595, 1262, 8255, 565, 9097, 10102, 9096, 6573, 5747, 9572, 2702, 6134, 5713, 10560, 11361, 5977, 10782, 6178, 8082, 4007, 1685, 4572, 10178, 7265, 8621, 4092, 4882, 1772, 6342, 596, 8475, 1836, 5952, 10699, 8336, 9766, 8331, 8097, 6464, 5206, 8103, 2440, 8005, 9203, 7223, 4503, 1747, 6983, 2584, 5435, 3583, 10891, 4464, 2032, 4600, 992, 8325, 4365, 9919, 9389, 11268, 10340, 658, 4096, 577, 2340, 8192, 8516, 8210, 7650, 10654, 5287, 7826, 9370, 5041, 7539, 2003, 7888, 8941, 4570, 609, 5878, 7598, 11648, 5582, 3091, 10875, 3594, 4433, 7754, 4011, 7550, 6451, 2580, 1112, 7913, 2980, 8204, 10610, 6466, 9588, 4988, 6768, 4254, 5305, 8521, 1086, 480, 5394, 7091, 1784, 595, 10281, 4013, 8031, 6802, 6547, 11267, 5753, 6701, 7715, 9865, 6259, 2727, 9366, 5802, 3028, 1892, 8385, 7074, 7743, 7643, 5915, 4156, 9018, 10872, 11125, 11457, 11150, 8247, 7038, 1862, 11686, 5187, 10744, 1657, 1151, 7385, 10442, 5452, 7688, 7440, 10892, 2154, 6926, 2977, 8765, 5467, 2658, 6652, 8319, 3213, 9001, 8785, 738, 6101, 10387, 5243, 11691, 6007, 10740, 8848, 10636, 4202, 5525, 9672, 10885, 1564, 10715, 8634, 2387, 815, 10070, 794, 6209, 4009, 8753, 9652, 9807, 9146, 10073, 6596, 2879, 6915, 4351, 8346, 8248, 1653, 11475, 7708, 7249, 700, 11340, 8184, 5939, 7493, 7437, 5619, 9535, 4221, 2233, 5151, 10633, 2297, 4763, 11190, 1926, 8759, 8936, 1913, 4473, 3105, 8572, 6113, 1743, 11665, 8665, 5359, 1243, 10084, 4647, 2284, 3382, 8258, 1696, 392, 1336, 4892, 7108, 5017, 3929, 8750, 3386, 4662, 6618, 2454, 6907, 7735, 1691, 3379, 8523, 7844, 7959, 4409, 8046, 3505, 9213, 9546, 5075, 3378, 7471, 1413, 706, 3243, 6579, 9185, 11010, 3693, 1117, 11151, 8146, 10868, 11228, 3787, 10194, 7236, 9231, 380, 3596, 6221, 4065, 5961, 8231, 5577, 9541, 11208, 7377, 5074, 10830, 9029, 7055, 1231, 8890, 7855, 2476, 6535, 1135, 7717, 1245, 1084, 558, 9444, 7245, 2063, 7694, 2534, 9352, 3604, 4331, 9219, 5854, 8150, 9290, 5880, 8151, 8214, 5280, 9749, 7815, 3507, 4683, 11673, 6590, 2944, 11229, 10590, 2981, 2696, 10247, 3292, 10643, 10884, 10202, 11096, 578, 564, 8498, 5784, 7911, 20, 10180, 5416, 2009, 963, 1819, 4381, 10870, 7749, 7168, 10011, 9849, 6749, 10248, 3825, 7828, 11210, 5174, 1553, 9590, 6104, 9482, 2252, 7712, 4875, 8228, 10378, 300, 3926, 4874, 8520, 10280, 4845, 2903, 6783, 4187, 5822, 6398, 1820, 9011, 3615, 513, 767, 11140, 8823, 8436, 9687, 5321, 10923, 274, 2310, 1406, 2313, 9831, 8517, 5544, 10682, 7615, 7423, 4470, 585, 5008, 4105, 10962, 839, 1694, 6108, 1624, 5744, 9262, 5785, 34, 9890, 6117, 9311, 5427, 9629, 2952, 8734, 8292, 9862, 10655, 6067, 11259, 9719, 8390, 4000, 1615, 7229, 6569, 3355, 602, 605, 3318, 4688, 7810, 6925, 4987, 6283, 4179, 2838, 2618, 3546, 4385, 1787, 2787, 2930, 820, 7006, 2831, 9115, 10167, 9688, 1494, 8423, 1543, 1073, 550, 10557, 7213, 4343, 4561, 7562, 9751, 8137, 5583, 9856, 8077, 10113, 11690, 3535, 471, 57, 1614, 8677, 2557, 11616, 9554, 9995, 1991, 6968, 11490, 10014, 10168, 7912, 1199, 7904, 7052, 9552, 2547, 1611, 7784, 8375, 6845, 3894, 11388, 2540, 8534, 10190, 6246, 9964, 11061, 10815, 10379, 6011, 2099, 10691, 2882, 3585, 8845, 4340, 2910, 9371, 2505, 10646, 10156, 3453, 10657, 10666, 2927, 3622, 423, 436, 6036, 9339, 6830, 1960, 1965, 11168, 7318, 6891, 9396, 9387, 4496, 5057, 989, 1777, 3839, 3829, 10230, 1899, 1606, 7004, 9305, 10397, 736, 98, 686, 2725, 11146, 7824, 7945, 3080, 4289, 10239, 441, 549, 3679, 8106, 7005, 11338, 3064, 3593, 6334, 9878, 8620, 10493, 5734, 4635, 11339, 8597, 2028, 616, 10727, 7417, 7697, 10605, 5890, 6050, 936, 1224, 6353, 1034, 2331, 1885, 5477, 8716, 11499, 7984, 5610, 4860, 10819, 2162, 10612, 9809, 3758, 1275, 3502, 8528, 5292, 10665, 3840, 6733, 9257, 9365, 7602, 4577, 4392, 6589, 2768, 9373, 5312, 9702, 2642, 1285, 2814, 4712, 10737, 6764, 11253, 9860, 7238, 4978, 7118, 4129, 10428, 9715, 8463, 2475, 8581, 11540, 1850, 9574, 8554, 8298, 8003, 5697, 3027, 10537, 8198, 5777, 1738, 948, 9713, 2511, 7305, 1809, 10132, 1906, 3123, 10948, 10816, 9657, 4840, 10609, 4616, 4877, 9686, 2840, 8742, 9718, 11669, 10673, 8793, 2314, 10564, 9157, 5652, 3321, 11034, 6821, 11314, 1943, 9876, 9343, 11637, 9449, 3516, 2893, 11557, 9212, 10546, 8568, 6872, 11546, 10223, 2972, 9959, 8095, 0, 10176, 11512, 6203, 9894, 6856, 1979, 9088, 4532, 2600, 8562, 5708, 11365, 5016, 9015, 2720, 9992, 8974, 10342, 4771, 7013, 2726, 3655, 9435, 6437, 5385, 9707, 5047, 10085, 1092, 9917, 4837, 7481, 9031, 8813, 9912, 4159, 10829, 6261, 10781, 10470, 9760, 3180, 2084, 7903, 7836, 8800, 1647, 4830, 10584, 8957, 9086, 11437, 1749, 5217, 8112, 691, 9543, 3958, 8021, 10271, 10689, 2900, 4777, 8345, 8409, 10357, 6089, 7207, 570, 8969, 2306, 1962, 3245, 8063, 3948, 4560, 2143, 7464, 8348, 2347, 9798, 3185, 6320, 3520, 6228, 9799, 9267, 5022, 9650, 10287, 4900, 8824, 2230, 8421, 9864, 11278, 4749, 6339, 9988, 1761, 6100, 5817, 10484, 3543, 3737, 3368, 8927, 5923, 3293, 9840, 3344, 11051, 2138, 4366, 1091, 3867, 11037, 10950, 5712, 8841, 9258, 7403, 8457, 6949, 10752, 10021, 7425, 8948, 6977, 1930, 1046, 10640, 3497, 6401, 6643, 3633, 2736, 4753, 2379, 4412, 10980, 9471, 5055, 5388, 8497, 5202, 7308, 11090, 454, 1031, 7806, 11153, 5533, 2332, 9307, 8408, 10732, 6247, 1954, 10850, 2988, 5451, 4144, 730, 3108, 1863, 5921, 7935, 833, 11089, 8575, 5046, 9808, 7288, 10698, 10534, 4283, 1593, 4850, 8964, 10147, 1242, 7, 8530, 6572, 5573, 9047, 5346, 4393, 1714, 6443, 586, 6998, 4444, 9214, 8075, 2202, 5087, 10935, 8310, 4530, 7218, 7210, 3703, 1915, 9292, 2499, 10852, 9901, 4516, 7789, 8108, 7348, 7156, 4123, 4797, 9466, 5006, 3155, 8555, 8337, 9606, 944, 11671, 2922, 1379, 7233, 9415, 2130, 2795, 8791, 1187, 9729, 1094, 1101, 8695, 2415, 3465, 3793, 6176, 3688, 7162, 11161, 584, 2421, 8004, 3204, 9759, 6072, 7820, 4547, 8980, 4493, 10486, 2324, 8602, 8718, 8913, 3015, 5456, 6965, 8239, 6062, 8647, 10576, 1004, 11070, 9804, 3612, 11284, 4350, 6023, 9576, 3956, 10243, 10966, 2929, 10974, 9204, 1813, 2966, 11381, 10347, 9409, 2899, 3559, 3752, 11359, 2671, 2885, 4626, 3827, 3119, 7663, 7793, 11088, 10183, 11212, 3316, 6307, 10373, 10043, 5037, 6267, 3694, 1307, 3157, 11257, 9433, 8767, 8501, 22, 7061, 3363, 6730, 4853, 7281, 622, 4661, 7946, 7788, 11694, 551, 877, 10447, 9194, 2562, 10205, 3999, 5948, 4590, 4756, 7198, 7228, 10408, 5190, 1967, 9329, 1027, 5671, 4396, 3975, 5677, 9106, 6946, 7388, 10522, 335, 11494, 482, 10700, 4760, 5940, 9035, 1184, 7225, 7689, 7633, 1061, 10466, 7131, 3059, 6295, 1314, 2875, 2069, 9504, 4578, 10121, 8861, 9374, 9763, 10566, 6999, 11559, 2785, 3313, 7444, 9822, 8417, 6972, 4602, 6625, 5592, 850, 1078, 4052, 2426, 1402, 7505, 721, 1591, 5973, 5085, 2914, 9181, 5746, 6477, 4555, 10677, 7734, 3424, 3990, 5625, 2157, 6849, 5014, 9211, 4300, 7621, 9289, 9317, 9547, 10660, 1639, 5624, 2868, 4913, 4269, 4373, 11282, 11547, 3564, 5772, 7330, 10338, 11617, 6425, 2912, 2992, 8428, 2878, 7224, 5481, 4059, 9103, 10234, 11374, 3195, 7419, 2348, 7778, 4285, 5993, 7304, 4725, 11148, 1868, 10345, 8827, 8643, 2887, 7527, 9757, 3607, 2107, 9886, 9245, 9635, 10971, 3651, 7860, 6799, 8879, 9788, 8314, 2755, 5229, 9049, 7368, 5054, 9368, 3699, 638, 10754, 8862, 7833, 10377, 9358, 10497, 7477, 4027, 2375, 9586, 2413, 5798, 4083, 2481, 6927, 11410, 1185, 10616, 7409, 6757, 10083, 1163, 1923, 1381, 9632, 397, 7994, 818, 5938, 3998, 4655, 5922, 6042, 9986, 3796, 2685, 576, 7772, 2647, 6090, 6614, 4403, 10181, 2501, 8975, 637, 10769, 5985, 7272, 4885, 2289, 2592, 8810, 7122, 10010, 6560, 8467, 4827, 573, 2455, 9623, 7674, 898, 2280, 7179, 3846, 3335, 2416, 5949, 5076, 3953, 9651, 2050, 11526, 3710, 1997, 2179, 7921, 3380, 8426, 4069, 1115, 5320, 4701, 6632, 1228, 7699, 7736, 4204, 10514, 9330, 8273, 7434, 6447, 10366, 6692, 502, 872, 8650, 8083, 5628, 7019, 5893, 11707, 6292, 7498, 8794, 8541, 4809, 4127, 4183, 8749, 1298, 6899, 7516, 8161, 1531, 4919, 1206, 8160, 4751, 11215, 4851, 5629, 5889, 7215, 2639, 4598, 8268, 7147, 4670, 6846, 5272, 4404, 5244, 4698, 2577, 8480, 4559, 8007, 3883, 3001, 10339, 11000, 11065, 88, 1223, 2294, 11149, 2965, 1993, 8384, 9577, 7029, 9322, 2370, 1839, 11532, 9621, 6599, 5307, 5542, 4509, 3202, 9604, 1952, 3041, 5796, 2062, 2640, 8703, 10599, 2870, 3882, 9682, 9984, 3759, 2486, 3290, 6624, 2583, 7216, 8617, 6611, 2880, 7324, 2688, 7554, 6516, 2261, 5901, 3823, 3138, 3584, 7296, 9922, 3392, 5384, 11056, 1219, 926, 5430, 5564, 2330, 7257, 7446, 7390, 10313, 1599, 3068, 6848, 9780, 5116, 6806, 11428, 3187, 3877, 7333, 11639, 4015, 3491, 4739, 10573, 3656, 8126, 10110, 8048, 5762, 11461, 7821, 633, 7111, 4163, 3573, 10401, 8599, 5524, 4021, 1603, 2602, 2071, 4031, 2467, 2371, 10900, 5787, 1204, 11264, 2225, 1356, 7526, 7251, 3784, 6770, 11077, 8863, 5906, 6919, 978, 3606, 11449, 10817, 11307, 8522, 965, 8751, 8162, 4991, 4912, 4014, 8090, 9443, 2611, 7809, 2474, 9863, 2236, 2718, 10159, 574, 11137, 39, 7850, 1860, 5912, 7858, 395, 1390, 5644, 6909, 3775, 3554, 4694, 11249, 11012, 6183, 6384, 9386, 9385, 5571, 4418, 1937, 6387, 3991, 3830, 5956, 7492, 9497, 10329, 5834, 2582, 4618, 1849, 6277, 6110, 9803, 3055, 6805, 9284, 9933, 5219, 8733, 1284, 11, 2019, 4056, 5355, 1950, 2066, 4710, 11248, 6041, 1595, 8447, 10731, 9288, 7909, 7435, 10623, 3456, 6175, 8444, 6071, 10873, 2931, 5143, 8512, 10627, 10959, 7582, 7488, 2859, 6826, 8347, 7729, 8693, 8431, 4226, 10876, 7439, 5725, 10635, 3463, 6240, 6001, 3700, 9843, 4996, 1254, 9345, 11169, 2734, 4057, 8714, 2076, 11032, 7546, 8606, 6748, 2662, 8553, 11058, 3995, 7283, 7685, 10720, 3632, 7012, 11678, 3317, 9690, 8558, 11207, 6331, 8482, 11635, 1267, 2643, 5864, 592, 6662, 1883, 7016, 7541, 1733, 7985, 4636, 9239, 7786, 3140, 1039, 8396, 4946, 660, 4395, 8645, 2670, 3588, 10479, 6979, 5148, 1716, 10177, 9039, 10928, 11129, 5642, 4319, 10930, 1612, 2383, 9770, 11139, 11418, 9536, 8928, 2587, 10197, 1867, 10406, 2049, 10822, 1790, 8187, 10269, 7069, 11031, 1158, 7886, 964, 1739, 9818, 2161, 4953, 2012, 3733, 8977, 5117, 1146, 4486, 4097, 7307, 7963, 8526, 8250, 2428, 9649, 5126, 7359, 6012, 6063, 175, 1947, 4, 10594, 7916, 3524, 8286, 4961, 2523, 9692, 10687, 8786, 6315, 3672, 4233, 7626, 2850, 1660, 8509, 6014, 10169, 11564, 6506, 8596, 3843, 2097, 866, 1781, 905, 1939, 4178, 2561, 11666, 8807, 9881, 5720, 7227, 5859, 1571, 6992, 7276, 6586, 10099, 5946, 10982, 5073, 8593, 10051, 199, 583, 809, 8729, 1400, 659, 8752, 8128, 7760, 11692, 6545, 7525, 3481, 9161, 9743, 10352, 2853, 7150, 8762, 10288, 10244, 49, 5665, 5252, 9644, 3217, 8892, 11320, 6102, 9738, 8413, 10420, 9442, 5096, 11222, 8551, 10918, 3033, 8515, 10661, 6125, 5374, 10025, 891, 6262, 599, 6736, 6575, 11116, 10491, 5454, 2732, 5482, 10001, 4866, 7964, 8918, 688, 9069, 6073, 8245, 7792, 10295, 4794, 10726, 10583, 7326, 8699, 5162, 9671, 10409, 2433, 4700, 5865, 4334, 9125, 1893, 572, 9420, 1552, 11542, 6645, 3514, 2684, 5556, 9085, 10349, 7000, 7497, 3191, 5404, 2249, 1986, 10224, 10391, 3920, 6718, 8805, 11138, 4640, 6150, 9806, 8274, 6284, 9640, 7139, 7914, 2061, 9503, 10449, 6695, 11508, 996, 9492, 11452, 10134, 1616, 5395, 7647, 7482, 2856, 1634, 7553, 8799, 9880, 2798, 8284, 2917, 8740, 10356, 6419, 11347, 3976, 4358, 2178, 6556, 4582, 2881, 11324, 4443, 3690, 6467, 11659, 11078, 5741, 5250, 4745, 7166, 4527, 11470, 8335, 6857, 8504, 3222, 9610, 11330, 6222, 1756, 4724, 7134, 11520, 9515, 2048, 3875, 2811, 10710, 6230, 7852, 3994, 956, 1914, 10954, 8803, 3298, 1684, 3819, 9800, 3154, 9915, 7535, 7115, 1609, 7230, 10604, 10380, 8899, 4822, 3831, 6015, 8561, 7454, 6344, 4073, 3614, 11312, 632, 11641, 10081, 6070, 1957, 2434, 2648, 8412, 7838, 5674, 1369, 3621, 9336, 2563, 6595, 10464, 5664, 6, 8970, 6877, 727, 10426, 4344, 3949, 10098, 2100, 11036, 3205, 7603, 6058, 11145, 2098, 11135, 2986, 6628, 7353, 2800, 6921, 11260, 10938, 1258, 6043, 1759, 9252, 5970, 7822, 3642, 581, 35, 974, 11329, 3571, 6057, 6747, 2528, 4032, 3296, 9907, 9879, 6549, 5529, 5161, 1193, 6868, 9534, 8099, 10105, 8916, 6633, 4691, 3426, 11385, 9609, 10765, 10312, 4338, 9728, 3087, 823, 4237, 9745, 4606, 6790, 2479, 655, 5645, 2731, 8111, 4368, 1562, 5127, 8254, 2366, 7253, 8470, 2435, 4286, 8604, 10912, 7452, 3267, 7416, 4926, 3112, 7030, 2279, 6190, 7015, 2852, 4776, 5810, 4907, 11035, 9987, 5033, 2067, 909, 532, 10130, 6390, 3235, 9817, 2579, 5030, 4267, 7576, 9869, 7143, 1, 3937, 6311, 5011, 4290, 4236, 9597, 8901, 4886, 9328, 2489, 7962, 9171, 10890, 5144, 11544, 11286, 10020, 11363, 3597, 5545, 4043, 2281, 4454, 1789, 5192, 5193, 8483, 10775, 1840, 8036, 10683, 2597, 11002, 4742, 2089, 6126, 3225, 1257, 1566, 9742, 1627, 28, 4629, 841, 2088, 10983, 4378, 9295, 844, 9312, 2093, 5807, 2470, 4050, 5152, 4855, 1102, 7323, 6987, 2254, 2615, 3934, 3842, 5714, 2146, 8175, 665, 7808, 846, 48, 3708, 7107, 3527, 1689, 7779, 10044, 6865, 8754, 9967, 11276, 8608, 11446, 3762, 10664, 10662, 1945, 10606, 3142, 3272, 9402, 6961, 7879, 8743, 8833, 2104, 9777, 11355, 4790, 9929, 1569, 2487, 5380, 8220, 8173, 10233, 2038, 5908, 4526, 3043, 8914, 3707, 6016, 4723, 2135, 5959, 7523, 1745, 458, 10801, 340, 4219, 7639, 4915, 3176, 3301, 3131, 6880, 10114, 10163, 6859, 10549, 3327, 4704, 4363, 2369, 2788, 6835, 6192, 1693, 2316, 9344, 2570, 933, 1613, 4400, 5450, 6710, 9277, 198, 1651, 9556, 6260, 5185, 4475, 10920, 5511, 10348, 6079, 4030, 10091, 856, 7926, 9642, 9430, 2794, 10017, 6743, 3056, 5296, 7686, 8657, 4674, 5071, 8748, 1799, 8089, 11331, 2197, 7847, 6969, 3334, 8627, 9394, 9456, 2213, 6478, 5003, 3197, 7716, 10756, 8022, 10047, 11402, 7646, 10477, 3210, 8801, 5942, 4908, 7260, 2677, 3093, 11442, 3036, 9958, 8532, 11527, 8061, 6056, 7601, 6884, 8917, 9332, 7360, 6782, 11655, 9145, 8456, 5038, 3695, 11191, 10440, 4835, 11479, 3047, 5308, 5775, 3760, 1723, 3070, 3071, 661, 7504, 9940, 9465, 7572, 8477, 5499, 8019, 3763, 8104, 5759, 4738, 9249, 2987, 4707, 3689, 768, 40, 7491, 10188, 2985, 5188, 6817, 9331, 5053, 10999, 11226, 4696, 6282, 7214, 8615, 881, 4016, 3329, 9215, 9775, 4362, 5913, 6379, 4668, 2598, 7817, 811, 952, 7581, 3039, 10812, 9196, 388, 1399, 1557, 3981, 8318, 967, 5871, 11545, 3766, 3504, 1565, 4076, 4690, 1875, 6851, 2256, 2820, 8902, 6990, 3781, 5319, 5103, 7386, 5396, 4238, 8289, 11102, 5059, 11304, 3098, 2772, 7782, 639, 8618, 10354, 708, 6428, 11272, 9460, 4649, 3391, 6699, 4594, 10919, 7020, 8675, 4355, 7301, 5593, 10362, 5045, 11176, 5348, 8225, 7544, 3872, 10235, 8670, 3802, 4634, 6216, 10925, 3466, 6852, 1495, 3567, 5539, 10936, 6694, 11166, 4501, 7618, 9355, 6162, 1673, 3838, 6653, 1407, 11699, 3167, 9127, 10193, 11565, 1818, 7352, 3902, 11491, 7199, 182, 535, 4217, 644, 9333, 2319, 3826, 11098, 5333, 1025, 294, 1397, 6187, 6542, 1969, 8784, 9639, 6966, 6309, 10500, 11364, 11216, 6744, 6791, 5230, 10199, 6885, 11009, 3541, 8898, 4272, 8835, 10003, 4817, 9511, 10644, 7595, 587, 10722, 6238, 7397, 8852, 10528, 7991, 7185, 10292, 11211, 3611, 6923, 3713, 6797, 9853, 8884, 9513, 8607, 634, 3177, 7796, 8960, 10736, 10751, 5769, 1630, 829, 1990, 6755, 2730, 5485, 2857, 1779, 10580, 10516, 6324, 4071, 5621, 7746, 1561, 4956, 3421, 7783, 3844, 9356, 7943, 4876, 1548, 10934, 4357, 7514, 2735, 5227, 3609, 2616, 3608, 2274, 10711, 3644, 1763, 4650, 6726, 2545, 6610, 9159, 2858, 7724, 6407, 9900, 2780, 7181, 6642, 7450, 3136, 7193, 3343, 10238, 3129, 3861, 5911, 3487, 9372, 555, 5352, 1909, 10218, 2250, 5659, 2118, 11358, 8667, 7070, 11261, 11506, 5690, 1537, 7563, 4880, 5362, 4382, 7781, 7295, 5594, 8860, 4296, 11144, 3193, 8565, 11289, 2913, 10746, 8774, 7174, 4379, 7285, 2715, 9500, 1775, 3260, 7095, 3086, 5927, 6862, 9162, 5962, 10119, 7180, 7123, 7617, 1666, 286, 6951, 2821, 6081, 4611, 4387, 5691, 9363, 1677, 11303, 7081, 2803, 5493, 9558, 6558, 8603, 2789, 3663, 4244, 1645, 3242, 10005, 5020, 5620, 9946, 9981, 9555, 11173, 10026, 625, 11398, 1055, 2153, 8313, 6671, 5876, 7585, 1582, 11541, 10071, 5971, 3557, 5168, 9498, 4288, 5846, 8697, 7495, 8008, 5835, 5603, 9794, 2898, 8998, 9908, 11521, 4250, 3807, 10096, 9081, 3074, 7234, 8259, 968, 2566, 4469, 5748, 5123, 9826, 8125, 2156, 5270, 3667, 4623, 771, 1492, 7571, 5507, 2807, 916, 645, 6792, 9152, 2834, 7302, 11154, 5903, 9141, 3146, 10480, 7751, 11379, 8357, 5960, 1958, 10088, 10189, 3820, 11504, 4087, 9463, 1828, 11423, 9264, 8212, 9733, 4034, 10596, 1751, 9527, 3367, 636, 8127, 5425, 5519, 9579, 4543, 11081, 10667, 8105, 9148, 4295, 5150, 8249, 7739, 2984, 4765, 10814, 8016, 10565, 8221, 6459, 6388, 8758, 6213, 7691, 9578, 5540, 3600, 337, 7047, 5140, 7608, 9260, 9955, 8253, 11109, 5222, 5257, 8782, 10124, 2960, 3159, 649, 2989, 2251, 9501, 9920, 11561, 6394, 10968, 6386, 9735, 10149, 6814, 10718, 5464, 4795, 931, 9754, 5670, 10016, 10082, 11223, 4642, 5584, 9784, 6837, 5018, 10469, 10023, 3303, 4116, 6116, 646, 8454, 1573, 9781, 5342, 10800, 746, 9517, 9411, 4508, 7614, 5105, 6341, 2844, 5568, 11469, 7536, 11548, 5115, 10253, 8376, 5302, 11702, 10106, 524, 4697, 4037, 5692, 9150, 6604, 899, 11633, 9259, 3508, 7399, 2819, 3450, 4905, 3266, 6789, 9464, 8235, 4654, 5084, 2631, 10523, 884, 3032, 9509, 2738, 5139, 11370, 5709, 11438, 11033, 11556, 9250, 8701, 10087, 4899, 11476, 3544, 8415, 8944, 6658, 5434, 7137, 9566, 9516, 10240, 4779, 6734, 11551, 3814, 7863, 11404, 2699, 5211, 5607, 7529, 10956, 6521, 7846, 7929, 5050, 6597, 10325, 3208, 10045, 8911, 382, 3014, 6482, 5826, 3121, 10851, 3574, 4402, 7659, 10365, 2165, 10774, 2074, 6721, 10914, 11553, 11555, 4185, 4352, 3684, 11505, 8878, 1493, 986, 6871, 4167, 9428, 3137, 1992, 7871, 11473, 11091, 3772, 7380, 10471, 9947, 4228, 10953, 6869, 2971, 3774, 6775, 3125, 6439, 2961, 8121, 6273, 7766, 5124, 8168, 647, 7119, 9824, 6976, 6481, 5570, 11087, 6449, 8708, 8838, 6971, 4941, 332, 9665, 8933, 7849, 10622, 10095, 11371, 5723, 7611, 9490, 8574, 5457, 6711, 2896, 7552, 8167, 1826, 8142, 6808, 7966, 3285, 10432, 8196, 11474, 5291, 6060, 1732, 7026, 8775, 7503, 4339, 9037, 7710, 3192, 11122, 6897, 9575, 3668, 3394, 11528, 11247, 6433, 8711, 11123, 10094, 5808, 9293, 5873, 8986, 11337, 11152, 2388, 2845, 9734, 2825, 3563, 4798, 8887, 2590, 10818, 5743, 10505, 5783, 2624, 8738, 5340, 4625, 3974, 6083, 452, 11360, 10462, 4251, 76, 7268, 6541, 2293, 10443, 10838, 10619, 8355, 5549, 8326, 1924, 7867, 2793, 1038, 4456, 10145, 3987, 4801, 1770, 2047, 5579, 1686, 4150, 9628, 689, 7673, 10341, 5907, 6030, 8623, 4761, 7124, 11204, 9319, 4506, 267, 4001, 6655, 719, 8453, 3063, 5779, 4754, 6115, 4569, 10860, 9301, 492, 1401, 9361, 962, 9957, 2148, 6534, 5602, 7171, 2949, 9408, 11477, 7920, 9237, 9598, 6634, 5240, 8351, 3873, 5860, 648, 11569, 7897, 6186, 2520, 5282, 3795, 1491, 2199, 626, 6756, 791, 10465, 8479, 635, 598, 8118, 6754, 7027, 10680, 5478, 4490, 3048, 4897, 7859, 5479, 5857, 2466, 2869, 8548, 3189, 7335, 5306, 7764, 11356, 2500, 4624, 2911, 6195, 1207, 6409, 4317, 5275, 5215, 6129, 1920, 2779, 2422, 2818, 6697, 5661, 1908, 5345, 8544, 5580, 4557, 179, 6833, 5024, 2521, 9205, 6975, 2948, 10632, 6392, 11567, 10859, 11085, 5601, 4399, 3809, 4184, 4593, 6836, 7384, 8455, 3930, 2559, 7259, 3050, 8586, 7898, 6673, 10855, 420, 10544, 2390, 3812, 4796, 2495, 1625, 8354, 8208, 1730, 6912, 3578, 5448, 1549, 4040, 11063, 5382, 8281, 9868, 1827, 3250, 8356, 6189, 5111, 640, 9910, 4803, 7720, 7725, 8614, 6265, 11417, 5413, 11121, 9113, 4198, 8790, 11082, 9569, 7079, 9440, 5604, 7607, 7141, 75, 11642, 7692, 8352, 7400, 5283, 7264, 1864, 2895, 4162, 9279, 8881, 11084, 7145, 4029, 2358, 10620, 5760, 10316, 9551, 2649, 2458, 11534, 6033, 2326, 5422, 10748, 11463, 4194, 3258, 10513, 8584, 3697, 7558, 2829, 8037, 8119, 5353, 6861, 6785, 9663, 8829, 8177, 6291, 6607, 5000, 6463, 2374, 8459, 11523, 8398, 7458, 11025, 7080, 9220, 5376, 4028, 11465, 5623, 5196, 6957, 11636, 7575, 8394, 7655, 11336, 641, 8779, 9462, 6691, 2368, 4115, 10598, 6974, 6635, 6829, 11377, 9544, 8857, 2924, 11029, 11295, 7630, 8894, 9082, 3351, 5364, 9599, 8179, 11179, 10353, 8582, 11634, 8686, 8687, 9499, 10678, 4193, 8349, 11113, 6793, 8961, 8317, 5704, 8353, 5195, 7932, 6760, 6476, 6732, 7636, 10512, 6343, 10621, 4209, 7518, 9820, 10368, 2769, 4305, 3008, 6096, 9677, 9939, 2760, 3660, 3252, 5373, 5228, 2227, 11563, 2031, 8315, 4390]\n"
     ]
    }
   ],
   "source": [
    "#Be careful, indeces are in descending order (least important first)\n",
    "\n",
    "print(indeces)"
   ]
  },
  {
   "cell_type": "code",
   "execution_count": 67,
   "metadata": {},
   "outputs": [],
   "source": [
    "#Let's get the feature names from the count vectorizer:\n",
    "feat_names = tfidf_vect.get_feature_names()"
   ]
  },
  {
   "cell_type": "code",
   "execution_count": 68,
   "metadata": {},
   "outputs": [
    {
     "name": "stdout",
     "output_type": "stream",
     "text": [
      "ca \t\tweight = 0.11872355068995326\n",
      "cs \t\tweight = 0.12542146929810832\n",
      "com \t\tweight = 0.14113622347157895\n",
      "gordon \t\tweight = 0.14413645467248487\n",
      "geb \t\tweight = 0.14501359988895576\n",
      "banks \t\tweight = 0.14501359988895576\n",
      "writes \t\tweight = 0.14842561656640788\n",
      "article \t\tweight = 0.17897972170136625\n",
      "pitt \t\tweight = 0.23728946728714637\n",
      "edu \t\tweight = 0.3176103795017922\n"
     ]
    }
   ],
   "source": [
    "#Print the last 10 terms (i.e., the 10 terms that have the highest weigths)\n",
    "\n",
    "for index in indeces[-10:]:\n",
    "    print(feat_names[index], \"\\t\\tweight =\", first_component[index])"
   ]
  },
  {
   "cell_type": "markdown",
   "metadata": {},
   "source": [
    "## Random Forest"
   ]
  },
  {
   "cell_type": "code",
   "execution_count": 69,
   "metadata": {},
   "outputs": [],
   "source": [
    "from sklearn.ensemble import RandomForestClassifier \n",
    "\n",
    "from sklearn.metrics import accuracy_score"
   ]
  },
  {
   "cell_type": "code",
   "execution_count": 84,
   "metadata": {},
   "outputs": [
    {
     "data": {
      "text/plain": [
       "RandomForestClassifier(max_depth=3, max_leaf_nodes=16, n_jobs=-1)"
      ]
     },
     "execution_count": 84,
     "metadata": {},
     "output_type": "execute_result"
    }
   ],
   "source": [
    "rnd_clf = RandomForestClassifier(n_estimators=100, max_depth=3, max_leaf_nodes=16, n_jobs=-1) \n",
    "\n",
    "rnd_clf.fit(train_x_lsa, train_y)\n",
    "\n"
   ]
  },
  {
   "cell_type": "markdown",
   "metadata": {},
   "source": [
    "## Accuracy"
   ]
  },
  {
   "cell_type": "code",
   "execution_count": 85,
   "metadata": {},
   "outputs": [],
   "source": [
    "from sklearn.metrics import accuracy_score"
   ]
  },
  {
   "cell_type": "code",
   "execution_count": 86,
   "metadata": {},
   "outputs": [
    {
     "name": "stdout",
     "output_type": "stream",
     "text": [
      "Train acc: 0.9448441247002398\n"
     ]
    }
   ],
   "source": [
    "#Train accuracy\n",
    "\n",
    "train_y_pred = rnd_clf.predict(train_x_lsa)\n",
    "\n",
    "train_acc = accuracy_score(train_y, train_y_pred)\n",
    "\n",
    "print('Train acc: {}' .format(train_acc))"
   ]
  },
  {
   "cell_type": "code",
   "execution_count": 87,
   "metadata": {},
   "outputs": [
    {
     "name": "stdout",
     "output_type": "stream",
     "text": [
      "Test acc: 0.8555555555555555\n"
     ]
    }
   ],
   "source": [
    "#Test accuracy\n",
    "\n",
    "test_y_pred = rnd_clf.predict(test_x_lsa)\n",
    "\n",
    "test_acc = accuracy_score(test_y, test_y_pred)\n",
    "\n",
    "print('Test acc: {}' .format(test_acc))"
   ]
  },
  {
   "cell_type": "markdown",
   "metadata": {},
   "source": [
    "# Confusion Matrix"
   ]
  },
  {
   "cell_type": "code",
   "execution_count": 88,
   "metadata": {},
   "outputs": [
    {
     "data": {
      "text/plain": [
       "array([[58,  0, 11],\n",
       "       [ 2, 51,  2],\n",
       "       [10,  1, 45]], dtype=int64)"
      ]
     },
     "execution_count": 88,
     "metadata": {},
     "output_type": "execute_result"
    }
   ],
   "source": [
    "from sklearn.metrics import confusion_matrix\n",
    "\n",
    "#Usually created on test set\n",
    "confusion_matrix(test_y, test_y_pred)"
   ]
  },
  {
   "cell_type": "markdown",
   "metadata": {},
   "source": [
    "## Stochastic Gradient Descent Classifier"
   ]
  },
  {
   "cell_type": "code",
   "execution_count": 89,
   "metadata": {},
   "outputs": [],
   "source": [
    "from sklearn.linear_model import SGDClassifier\n",
    "\n",
    "sgd_clf = SGDClassifier(max_iter=100, tol=1e-3)\n"
   ]
  },
  {
   "cell_type": "code",
   "execution_count": 90,
   "metadata": {},
   "outputs": [
    {
     "data": {
      "text/plain": [
       "SGDClassifier(max_iter=100)"
      ]
     },
     "execution_count": 90,
     "metadata": {},
     "output_type": "execute_result"
    }
   ],
   "source": [
    "sgd_clf.fit(train_x_lsa, train_y)"
   ]
  },
  {
   "cell_type": "markdown",
   "metadata": {},
   "source": [
    "## Accuracy"
   ]
  },
  {
   "cell_type": "code",
   "execution_count": 91,
   "metadata": {},
   "outputs": [
    {
     "name": "stdout",
     "output_type": "stream",
     "text": [
      "Train acc: 0.9952038369304557\n"
     ]
    }
   ],
   "source": [
    "#Train accuracy\n",
    "\n",
    "train_y_pred = sgd_clf.predict(train_x_lsa)\n",
    "\n",
    "train_acc = accuracy_score(train_y, train_y_pred)\n",
    "\n",
    "print('Train acc: {}' .format(train_acc))"
   ]
  },
  {
   "cell_type": "code",
   "execution_count": 92,
   "metadata": {},
   "outputs": [
    {
     "name": "stdout",
     "output_type": "stream",
     "text": [
      "Test acc: 0.9055555555555556\n"
     ]
    }
   ],
   "source": [
    "#Test accuracy\n",
    "\n",
    "test_y_pred = sgd_clf.predict(test_x_lsa)\n",
    "\n",
    "test_acc = accuracy_score(test_y, test_y_pred)\n",
    "\n",
    "print('Test acc: {}' .format(test_acc))"
   ]
  },
  {
   "cell_type": "markdown",
   "metadata": {},
   "source": [
    "# Confusion Matrix"
   ]
  },
  {
   "cell_type": "code",
   "execution_count": 93,
   "metadata": {},
   "outputs": [
    {
     "data": {
      "text/plain": [
       "array([[65,  2,  2],\n",
       "       [ 1, 54,  0],\n",
       "       [ 7,  5, 44]], dtype=int64)"
      ]
     },
     "execution_count": 93,
     "metadata": {},
     "output_type": "execute_result"
    }
   ],
   "source": [
    "from sklearn.metrics import confusion_matrix\n",
    "\n",
    "#Usually created on test set\n",
    "confusion_matrix(test_y, test_y_pred)"
   ]
  }
 ],
 "metadata": {
  "kernelspec": {
   "display_name": "Python 3",
   "language": "python",
   "name": "python3"
  },
  "language_info": {
   "codemirror_mode": {
    "name": "ipython",
    "version": 3
   },
   "file_extension": ".py",
   "mimetype": "text/x-python",
   "name": "python",
   "nbconvert_exporter": "python",
   "pygments_lexer": "ipython3",
   "version": "3.8.8"
  }
 },
 "nbformat": 4,
 "nbformat_minor": 2
}
