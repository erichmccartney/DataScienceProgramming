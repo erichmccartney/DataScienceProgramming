{
 "cells": [
  {
   "cell_type": "markdown",
   "metadata": {},
   "source": [
    "# Assignment - Text Mining - McCartney"
   ]
  },
  {
   "cell_type": "markdown",
   "metadata": {},
   "source": [
    "In this assignment, we will focus on text mining. The data set for this exercise includes information on job descriptions and salaries. Use this data set to see if you can predict the salary of a job posting (i.e., the `Salary` column in the data set) based on the job description. This is important, because this model can make a salary recommendation as soon as a job description is entered into a system."
   ]
  },
  {
   "cell_type": "markdown",
   "metadata": {},
   "source": [
    "## Description of Variables\n",
    "\n",
    "Use the **jobs.csv** file as the data set. \n",
    "\n",
    "There are only two columns:<br>\n",
    "**Salary:** The salary of that specific job<br>\n",
    "**Job Description:** The description of the job ad<br>"
   ]
  },
  {
   "cell_type": "markdown",
   "metadata": {},
   "source": [
    "## Goal\n",
    "\n",
    "Use the **jobs.csv** data set and build a model to predict **Salary**. <br>\n",
    "\n",
    "**Build at least two  models.**\n",
    "\n",
    "### BE CAREFUL: THIS IS A REGRESSION TASK. USE REGRESSORS ONLY"
   ]
  },
  {
   "cell_type": "markdown",
   "metadata": {},
   "source": [
    "## Submission:\n",
    "\n",
    "Please save and submit this Jupyter notebook file. The correctness of the code matters for your grade. **Readability and organization of your code is also important.** You may lose points for submitting unreadable/undecipherable code. Therefore, use markdown cells to create sections, and use comments where necessary.\n"
   ]
  },
  {
   "cell_type": "markdown",
   "metadata": {},
   "source": [
    "# Read and Prepare the Data"
   ]
  },
  {
   "cell_type": "code",
   "execution_count": 1,
   "metadata": {},
   "outputs": [],
   "source": [
    "import pandas as pd\n",
    "import numpy as np"
   ]
  },
  {
   "cell_type": "code",
   "execution_count": 2,
   "metadata": {},
   "outputs": [],
   "source": [
    "jobs = pd.read_csv('jobs.csv')"
   ]
  },
  {
   "cell_type": "code",
   "execution_count": 3,
   "metadata": {},
   "outputs": [
    {
     "data": {
      "text/html": [
       "<div>\n",
       "<style scoped>\n",
       "    .dataframe tbody tr th:only-of-type {\n",
       "        vertical-align: middle;\n",
       "    }\n",
       "\n",
       "    .dataframe tbody tr th {\n",
       "        vertical-align: top;\n",
       "    }\n",
       "\n",
       "    .dataframe thead th {\n",
       "        text-align: right;\n",
       "    }\n",
       "</style>\n",
       "<table border=\"1\" class=\"dataframe\">\n",
       "  <thead>\n",
       "    <tr style=\"text-align: right;\">\n",
       "      <th></th>\n",
       "      <th>Salary</th>\n",
       "      <th>Job Description</th>\n",
       "    </tr>\n",
       "  </thead>\n",
       "  <tbody>\n",
       "    <tr>\n",
       "      <th>0</th>\n",
       "      <td>67206</td>\n",
       "      <td>Civil Service Title: Regional Director Mental ...</td>\n",
       "    </tr>\n",
       "    <tr>\n",
       "      <th>1</th>\n",
       "      <td>88313</td>\n",
       "      <td>The New York City Comptrollerâ€™s Office Burea...</td>\n",
       "    </tr>\n",
       "    <tr>\n",
       "      <th>2</th>\n",
       "      <td>81315</td>\n",
       "      <td>With minimal supervision from the Deputy Commi...</td>\n",
       "    </tr>\n",
       "    <tr>\n",
       "      <th>3</th>\n",
       "      <td>76426</td>\n",
       "      <td>OPEN TO CURRENT BUSINESS PROMOTION COORDINATOR...</td>\n",
       "    </tr>\n",
       "    <tr>\n",
       "      <th>4</th>\n",
       "      <td>55675</td>\n",
       "      <td>Only candidates who are permanent in the Princ...</td>\n",
       "    </tr>\n",
       "  </tbody>\n",
       "</table>\n",
       "</div>"
      ],
      "text/plain": [
       "   Salary                                    Job Description\n",
       "0   67206  Civil Service Title: Regional Director Mental ...\n",
       "1   88313  The New York City Comptrollerâ€™s Office Burea...\n",
       "2   81315  With minimal supervision from the Deputy Commi...\n",
       "3   76426  OPEN TO CURRENT BUSINESS PROMOTION COORDINATOR...\n",
       "4   55675  Only candidates who are permanent in the Princ..."
      ]
     },
     "execution_count": 3,
     "metadata": {},
     "output_type": "execute_result"
    }
   ],
   "source": [
    "jobs.head(5)"
   ]
  },
  {
   "cell_type": "code",
   "execution_count": 6,
   "metadata": {},
   "outputs": [],
   "source": [
    "target = jobs['Salary']"
   ]
  },
  {
   "cell_type": "code",
   "execution_count": 9,
   "metadata": {},
   "outputs": [
    {
     "data": {
      "text/plain": [
       "Salary             0\n",
       "Job Description    0\n",
       "dtype: int64"
      ]
     },
     "execution_count": 9,
     "metadata": {},
     "output_type": "execute_result"
    }
   ],
   "source": [
    "# Check for missing values\n",
    "\n",
    "jobs.isna().sum()"
   ]
  },
  {
   "cell_type": "code",
   "execution_count": 10,
   "metadata": {},
   "outputs": [],
   "source": [
    "input_data = jobs['Job Description']"
   ]
  },
  {
   "cell_type": "code",
   "execution_count": 11,
   "metadata": {},
   "outputs": [],
   "source": [
    "# Split the Data\n",
    "\n",
    "from sklearn.model_selection import train_test_split\n",
    "\n",
    "train_set, test_set, train_y, test_y = train_test_split(input_data, target, test_size=0.3, random_state=42)"
   ]
  },
  {
   "cell_type": "code",
   "execution_count": 18,
   "metadata": {},
   "outputs": [
    {
     "data": {
      "text/plain": [
       "((1689,), (1689,))"
      ]
     },
     "execution_count": 18,
     "metadata": {},
     "output_type": "execute_result"
    }
   ],
   "source": [
    "train_set.shape, train_y.shape"
   ]
  },
  {
   "cell_type": "code",
   "execution_count": 19,
   "metadata": {},
   "outputs": [
    {
     "data": {
      "text/plain": [
       "((724,), (724,))"
      ]
     },
     "execution_count": 19,
     "metadata": {},
     "output_type": "execute_result"
    }
   ],
   "source": [
    "test_set.shape, test_y.shape"
   ]
  },
  {
   "cell_type": "markdown",
   "metadata": {},
   "source": [
    "# Sklearn: Text preparation"
   ]
  },
  {
   "cell_type": "code",
   "execution_count": 20,
   "metadata": {},
   "outputs": [],
   "source": [
    "#TfidfVectorizer includes pre-processing, tokenization, filtering stop words\n",
    "from sklearn.feature_extraction.text import TfidfVectorizer\n",
    "\n",
    "tfidf_vect = TfidfVectorizer(stop_words='english')\n",
    "\n",
    "train_x_tr = tfidf_vect.fit_transform(train_set)"
   ]
  },
  {
   "cell_type": "code",
   "execution_count": 21,
   "metadata": {},
   "outputs": [],
   "source": [
    "# Perform the TfidfVectorizer transformation\n",
    "# Be careful: We are using the train fit to transform the test data set. Otherwise, the test data \n",
    "# features will be very different and match the train set!!!\n",
    "\n",
    "test_x_tr = tfidf_vect.transform(test_set)"
   ]
  },
  {
   "cell_type": "code",
   "execution_count": 22,
   "metadata": {},
   "outputs": [
    {
     "data": {
      "text/plain": [
       "(1689, 9914)"
      ]
     },
     "execution_count": 22,
     "metadata": {},
     "output_type": "execute_result"
    }
   ],
   "source": [
    "train_x_tr.shape"
   ]
  },
  {
   "cell_type": "code",
   "execution_count": 23,
   "metadata": {},
   "outputs": [
    {
     "data": {
      "text/plain": [
       "(724, 9914)"
      ]
     },
     "execution_count": 23,
     "metadata": {},
     "output_type": "execute_result"
    }
   ],
   "source": [
    "test_x_tr.shape"
   ]
  },
  {
   "cell_type": "code",
   "execution_count": 24,
   "metadata": {},
   "outputs": [
    {
     "data": {
      "text/plain": [
       "<1689x9914 sparse matrix of type '<class 'numpy.float64'>'\n",
       "\twith 250443 stored elements in Compressed Sparse Row format>"
      ]
     },
     "execution_count": 24,
     "metadata": {},
     "output_type": "execute_result"
    }
   ],
   "source": [
    "# These data sets are \"sparse matrix\". We can't see them unless we convert using toarray()\n",
    "train_x_tr"
   ]
  },
  {
   "cell_type": "code",
   "execution_count": 25,
   "metadata": {},
   "outputs": [
    {
     "data": {
      "text/plain": [
       "array([[0.        , 0.        , 0.        , ..., 0.        , 0.        ,\n",
       "        0.        ],\n",
       "       [0.        , 0.        , 0.        , ..., 0.        , 0.        ,\n",
       "        0.        ],\n",
       "       [0.        , 0.02913336, 0.        , ..., 0.        , 0.        ,\n",
       "        0.        ],\n",
       "       ...,\n",
       "       [0.        , 0.        , 0.        , ..., 0.        , 0.        ,\n",
       "        0.        ],\n",
       "       [0.        , 0.        , 0.        , ..., 0.        , 0.        ,\n",
       "        0.        ],\n",
       "       [0.        , 0.        , 0.        , ..., 0.        , 0.        ,\n",
       "        0.        ]])"
      ]
     },
     "execution_count": 25,
     "metadata": {},
     "output_type": "execute_result"
    }
   ],
   "source": [
    "# These data sets are \"sparse matrix\". We can't see them unless we convert using toarray()\n",
    "train_x_tr.toarray()"
   ]
  },
  {
   "cell_type": "code",
   "execution_count": 26,
   "metadata": {},
   "outputs": [
    {
     "data": {
      "text/plain": [
       "{'candidates': 1507,\n",
       " 'permanent': 6504,\n",
       " 'computer': 2036,\n",
       " 'systems': 8779,\n",
       " 'manager': 5450,\n",
       " 'title': 8994,\n",
       " 'provide': 7045,\n",
       " 'proof': 6999,\n",
       " 'successful': 8652,\n",
       " 'registration': 7408,\n",
       " 'october': 6080,\n",
       " '2018': 112,\n",
       " 'open': 6155,\n",
       " 'competitive': 1977,\n",
       " 'promotional': 6991,\n",
       " 'exam': 3569,\n",
       " 'apply': 816,\n",
       " 'failure': 3757,\n",
       " 'result': 7678,\n",
       " 'disqualification': 2944,\n",
       " 'department': 2691,\n",
       " 'design': 2734,\n",
       " 'construction': 2165,\n",
       " 'division': 2984,\n",
       " 'public': 7080,\n",
       " 'buildings': 1420,\n",
       " 'seeks': 8020,\n",
       " 'director': 2858,\n",
       " 'data': 2518,\n",
       " 'analytics': 749,\n",
       " 'team': 8859,\n",
       " 'responsible': 7661,\n",
       " 'providing': 7051,\n",
       " 'descriptive': 2733,\n",
       " 'diagnostic': 2814,\n",
       " 'predictive': 6799,\n",
       " 'insights': 4766,\n",
       " 'based': 1143,\n",
       " 'agency': 633,\n",
       " 'external': 3711,\n",
       " 'sources': 8321,\n",
       " 'dataset': 2524,\n",
       " 'includes': 4631,\n",
       " 'basic': 1148,\n",
       " 'project': 6977,\n",
       " 'management': 5448,\n",
       " 'schedule': 7923,\n",
       " 'budget': 1409,\n",
       " 'internal': 4862,\n",
       " 'information': 4713,\n",
       " 'sensors': 8051,\n",
       " 'including': 4632,\n",
       " 'uncensored': 9246,\n",
       " 'leverage': 5239,\n",
       " 'business': 1448,\n",
       " 'acumen': 494,\n",
       " 'knowledge': 5090,\n",
       " 'science': 7935,\n",
       " 'modern': 5722,\n",
       " 'technical': 8866,\n",
       " 'tools': 9015,\n",
       " 'develop': 2778,\n",
       " 'informed': 4716,\n",
       " 'strategies': 8548,\n",
       " 'action': 476,\n",
       " 'related': 7445,\n",
       " 'strengthening': 8564,\n",
       " 'performance': 6490,\n",
       " 'delivery': 2662,\n",
       " 'quality': 7139,\n",
       " 'capital': 1525,\n",
       " 'projects': 6981,\n",
       " 'time': 8974,\n",
       " 'safe': 7853,\n",
       " 'manner': 5468,\n",
       " 'aggregate': 641,\n",
       " 'diagnose': 2809,\n",
       " 'identified': 4540,\n",
       " 'trends': 9144,\n",
       " 'risks': 7760,\n",
       " 'metrics': 5621,\n",
       " 'oversee': 6302,\n",
       " 'reporting': 7552,\n",
       " 'ensure': 3414,\n",
       " 'effective': 3222,\n",
       " 'flow': 3935,\n",
       " 'dashboards': 2517,\n",
       " 'dashboard': 2516,\n",
       " 'portal': 6716,\n",
       " 'good': 4184,\n",
       " 'understanding': 9270,\n",
       " 'nyc': 5984,\n",
       " 'initiatives': 4737,\n",
       " 'promote': 6986,\n",
       " 'best': 1208,\n",
       " 'practices': 6783,\n",
       " 'thinking': 8940,\n",
       " 'responsibilities': 7658,\n",
       " 'interact': 4832,\n",
       " 'portfolio': 6719,\n",
       " 'managers': 5452,\n",
       " 'ddc': 2547,\n",
       " 'counterparts': 2338,\n",
       " 'mayor': 5526,\n",
       " 'office': 6109,\n",
       " 'operations': 6172,\n",
       " 'academia': 380,\n",
       " 'position': 6729,\n",
       " 'reports': 7553,\n",
       " 'executive': 3613,\n",
       " 'controls': 2240,\n",
       " 'selected': 8033,\n",
       " 'candidate': 1506,\n",
       " 'lead': 5179,\n",
       " 'staff': 8435,\n",
       " 'analysts': 743,\n",
       " 'scientists': 7940,\n",
       " 'nycers': 5996,\n",
       " 'seeking': 8019,\n",
       " 'analyst': 742,\n",
       " 'background': 1104,\n",
       " 'superior': 8690,\n",
       " 'analytical': 747,\n",
       " 'skills': 8244,\n",
       " 'liaison': 5254,\n",
       " 'units': 9304,\n",
       " 'ba': 1097,\n",
       " 'expected': 3647,\n",
       " 'forge': 3991,\n",
       " 'strong': 8580,\n",
       " 'working': 9763,\n",
       " 'relationships': 7452,\n",
       " 'clients': 1796,\n",
       " 'technology': 8876,\n",
       " 'groups': 4250,\n",
       " 'support': 8709,\n",
       " 'process': 6915,\n",
       " 'engineering': 3390,\n",
       " 'improvement': 4606,\n",
       " 'recommendations': 7301,\n",
       " 'pir': 6600,\n",
       " 'duties': 3131,\n",
       " 'include': 4629,\n",
       " 'leading': 5184,\n",
       " 'discussions': 2909,\n",
       " 'requirements': 7583,\n",
       " 'gathering': 4128,\n",
       " 'elicitation': 3278,\n",
       " 'documentation': 3015,\n",
       " 'identifying': 4543,\n",
       " 'disparate': 2923,\n",
       " 'overlapping': 6296,\n",
       " 'current': 2462,\n",
       " 'future': 4094,\n",
       " 'state': 8475,\n",
       " 'workflow': 9756,\n",
       " 'evaluating': 3547,\n",
       " 'solutions': 8303,\n",
       " 'effectively': 3223,\n",
       " 'meet': 5569,\n",
       " 'needs': 5869,\n",
       " 'assisting': 971,\n",
       " 'assurance': 984,\n",
       " 'qa': 7124,\n",
       " 'testing': 8919,\n",
       " 'user': 9373,\n",
       " 'acceptance': 391,\n",
       " 'uat': 9223,\n",
       " 'efforts': 3234,\n",
       " 'flexible': 3927,\n",
       " 'grasp': 4219,\n",
       " 'new': 5892,\n",
       " 'concepts': 2045,\n",
       " 'paradigms': 6358,\n",
       " 'quickly': 7162,\n",
       " 'present': 6833,\n",
       " 'executives': 3614,\n",
       " 'prepared': 6822,\n",
       " 'œout': 9899,\n",
       " 'boxâ': 1338,\n",
       " 'necessary': 5863,\n",
       " 'primary': 6870,\n",
       " 'directors': 2862,\n",
       " 'understand': 9268,\n",
       " 'processes': 6917,\n",
       " 'document': 3013,\n",
       " 'operational': 6167,\n",
       " 'documents': 3018,\n",
       " 'ability': 368,\n",
       " 'facilitate': 3733,\n",
       " 'meetings': 5571,\n",
       " 'determine': 2772,\n",
       " 'prioritize': 6887,\n",
       " 'impact': 4578,\n",
       " 'existing': 3632,\n",
       " 'applications': 812,\n",
       " 'workflows': 9757,\n",
       " 'participate': 6387,\n",
       " 'various': 9430,\n",
       " 'subject': 8608,\n",
       " 'matter': 5515,\n",
       " 'expertise': 3669,\n",
       " 'life': 5272,\n",
       " 'supervise': 8693,\n",
       " 'day': 2528,\n",
       " 'absence': 372,\n",
       " 'unit': 9302,\n",
       " 'environmental': 3449,\n",
       " 'protection': 7032,\n",
       " 'dep': 2690,\n",
       " 'protects': 7036,\n",
       " 'health': 4335,\n",
       " 'environment': 3448,\n",
       " 'supplying': 8708,\n",
       " 'clean': 1776,\n",
       " 'drinking': 3085,\n",
       " 'water': 9623,\n",
       " 'collecting': 1876,\n",
       " 'treating': 9132,\n",
       " 'wastewater': 9617,\n",
       " 'reducing': 7355,\n",
       " 'air': 667,\n",
       " 'noise': 5926,\n",
       " 'hazardous': 4319,\n",
       " 'materials': 5511,\n",
       " 'pollution': 6700,\n",
       " 'largest': 5145,\n",
       " 'combined': 1896,\n",
       " 'municipal': 5819,\n",
       " 'utility': 9385,\n",
       " 'country': 2343,\n",
       " 'nearly': 5859,\n",
       " '000': 1,\n",
       " 'employees': 3318,\n",
       " 'delivers': 2661,\n",
       " 'billion': 1243,\n",
       " 'gallons': 4105,\n",
       " 'highest': 4375,\n",
       " 'million': 5657,\n",
       " 'residents': 7615,\n",
       " 'people': 6484,\n",
       " 'upstate': 9355,\n",
       " 'york': 9828,\n",
       " 'conveyance': 2258,\n",
       " 'treatment': 9133,\n",
       " 'capable': 1521,\n",
       " 'processing': 6918,\n",
       " 'protect': 7029,\n",
       " 'cityâ': 1753,\n",
       " 'surrounding': 8725,\n",
       " 'waterways': 9632,\n",
       " 'bureau': 1433,\n",
       " 'bedc': 1177,\n",
       " 'currently': 2463,\n",
       " '10b': 33,\n",
       " 'active': 484,\n",
       " 'contracts': 2224,\n",
       " '15b': 65,\n",
       " 'planning': 6622,\n",
       " 'responsibility': 7660,\n",
       " 'implement': 4588,\n",
       " 'allow': 708,\n",
       " 'continue': 2209,\n",
       " 'operate': 6162,\n",
       " 'maintain': 5422,\n",
       " 'exemplary': 3615,\n",
       " 'supply': 8707,\n",
       " 'agencyâ': 635,\n",
       " 'vision': 9532,\n",
       " 'safest': 7860,\n",
       " 'efficient': 3230,\n",
       " 'cost': 2318,\n",
       " 'resilient': 7624,\n",
       " 'transparent': 9111,\n",
       " 'nation': 5841,\n",
       " 'order': 6210,\n",
       " 'carry': 1557,\n",
       " 'mission': 5687,\n",
       " 'high': 4373,\n",
       " 'reliable': 7465,\n",
       " 'city': 1748,\n",
       " 'communities': 1947,\n",
       " 'operates': 6164,\n",
       " 'network': 5887,\n",
       " 'watershed': 9630,\n",
       " 'plants': 6629,\n",
       " 'dams': 2512,\n",
       " 'bridges': 1366,\n",
       " 'shafts': 8115,\n",
       " 'reservoirs': 7607,\n",
       " 'tunnels': 9198,\n",
       " 'pumping': 7097,\n",
       " 'stations': 8487,\n",
       " 'ultraviolet': 9236,\n",
       " 'disinfection': 2914,\n",
       " 'filtration': 3867,\n",
       " 'associated': 974,\n",
       " 'facilities': 3741,\n",
       " 'substantial': 8636,\n",
       " 'multibillion': 5810,\n",
       " 'dollar': 3034,\n",
       " 'program': 6957,\n",
       " 'required': 7581,\n",
       " 'infrastructure': 4720,\n",
       " 'reconstruction': 7314,\n",
       " 'assets': 957,\n",
       " 'integrity': 4821,\n",
       " 'continuity': 2213,\n",
       " 'wscp': 9802,\n",
       " 'provides': 7050,\n",
       " 'operating': 6165,\n",
       " 'bureaus': 1436,\n",
       " 'hire': 4390,\n",
       " 'assistant': 967,\n",
       " 'civil': 1756,\n",
       " 'engineer': 3388,\n",
       " 'directorate': 2859,\n",
       " 'located': 5350,\n",
       " 'queens': 7150,\n",
       " 'ny': 5983,\n",
       " 'supervision': 8697,\n",
       " 'report': 7549,\n",
       " 'accountable': 427,\n",
       " 'assist': 965,\n",
       " 'supervising': 8696,\n",
       " 'extends': 3699,\n",
       " '125': 45,\n",
       " 'miles': 5651,\n",
       " 'north': 5940,\n",
       " 'west': 9686,\n",
       " 'aqueducts': 862,\n",
       " 'roadways': 7774,\n",
       " 'miscellaneous': 5680,\n",
       " 'coordinating': 2277,\n",
       " 'directing': 2851,\n",
       " 'implementation': 4590,\n",
       " 'monitor': 5744,\n",
       " 'permit': 6508,\n",
       " 'resolving': 7633,\n",
       " 'issues': 4979,\n",
       " 'task': 8831,\n",
       " 'direct': 2849,\n",
       " 'conduct': 2074,\n",
       " 'skilled': 8242,\n",
       " 'field': 3848,\n",
       " 'condition': 2066,\n",
       " 'surveys': 8732,\n",
       " 'prepares': 6824,\n",
       " 'accurate': 448,\n",
       " 'physical': 6568,\n",
       " 'observation': 6037,\n",
       " 'thorough': 8944,\n",
       " 'review': 7715,\n",
       " 'contract': 2217,\n",
       " 'codes': 1848,\n",
       " 'regulations': 7420,\n",
       " 'accurately': 449,\n",
       " 'compare': 1959,\n",
       " 'identify': 4542,\n",
       " 'deficiencies': 2625,\n",
       " 'actively': 485,\n",
       " 'investigations': 4924,\n",
       " 'alternative': 720,\n",
       " 'approaches': 834,\n",
       " 'objectives': 6031,\n",
       " 'attend': 1003,\n",
       " 'compliance': 2001,\n",
       " 'safety': 7861,\n",
       " 'training': 9070,\n",
       " 'classes': 1770,\n",
       " 'december': 2577,\n",
       " '9026': 335,\n",
       " 'engineers': 3391,\n",
       " 'charge': 1687,\n",
       " 'prepare': 6821,\n",
       " 'specifications': 8362,\n",
       " 'final': 3868,\n",
       " 'estimates': 3526,\n",
       " 'engage': 3380,\n",
       " 'plans': 6624,\n",
       " 'drawings': 3080,\n",
       " 'conditions': 2070,\n",
       " 'reviews': 7721,\n",
       " 'studies': 8594,\n",
       " 'designs': 2743,\n",
       " 'minimal': 5664,\n",
       " 'read': 7231,\n",
       " 'posting': 6749,\n",
       " 'carefully': 1543,\n",
       " 'make': 5435,\n",
       " 'certain': 1648,\n",
       " 'qualification': 7131,\n",
       " 'applying': 817,\n",
       " 'vice': 9503,\n",
       " 'president': 6846,\n",
       " 'vp': 9572,\n",
       " 'wide': 9704,\n",
       " 'latitude': 5152,\n",
       " 'independent': 4661,\n",
       " 'judgment': 5041,\n",
       " 'discretion': 2902,\n",
       " 'senior': 8046,\n",
       " 'level': 5236,\n",
       " 'improve': 4604,\n",
       " 'cpd': 2366,\n",
       " 'incumbent': 4656,\n",
       " 'oversees': 6305,\n",
       " 'streamline': 8553,\n",
       " 'liaises': 5252,\n",
       " 'departments': 2693,\n",
       " 'coordinates': 2276,\n",
       " 'follows': 3964,\n",
       " 'requests': 7579,\n",
       " 'assignments': 963,\n",
       " 'limited': 5288,\n",
       " 'following': 3963,\n",
       " 'discuss': 2906,\n",
       " 'options': 6202,\n",
       " 'follow': 3961,\n",
       " 'enforce': 3374,\n",
       " 'vendor': 9456,\n",
       " 'policies': 6687,\n",
       " 'procedures': 6911,\n",
       " 'recommend': 7299,\n",
       " 'enhancements': 3398,\n",
       " 'scheduling': 7928,\n",
       " 'utilizing': 9390,\n",
       " 'critical': 2418,\n",
       " 'path': 6423,\n",
       " 'method': 5613,\n",
       " 'cpm': 2370,\n",
       " 'quarterly': 7147,\n",
       " 'council': 2324,\n",
       " 'regarding': 7398,\n",
       " 'status': 8493,\n",
       " 'funded': 4080,\n",
       " 'coordinate': 2274,\n",
       " 'intergovernmental': 4853,\n",
       " 'relations': 7450,\n",
       " 'repurpose': 7570,\n",
       " 'funds': 4084,\n",
       " 'feasible': 3805,\n",
       " 'reallocated': 7249,\n",
       " 'summarize': 8674,\n",
       " 'require': 7580,\n",
       " 'attention': 1009,\n",
       " 'direction': 2852,\n",
       " 'needed': 5867,\n",
       " 'key': 5073,\n",
       " 'decisions': 2583,\n",
       " 'change': 1674,\n",
       " 'orders': 6214,\n",
       " 'non': 5929,\n",
       " 'conforming': 2111,\n",
       " 'work': 9747,\n",
       " 'punch': 7099,\n",
       " 'lists': 5309,\n",
       " 'close': 1813,\n",
       " 'validity': 9409,\n",
       " 'forms': 4003,\n",
       " 'extensions': 3701,\n",
       " 'oracle': 6206,\n",
       " 'baseline': 1144,\n",
       " 'accuracy': 447,\n",
       " 'completeness': 1993,\n",
       " 'ready': 7240,\n",
       " 'evpâ': 3568,\n",
       " 'approval': 841,\n",
       " 'request': 7573,\n",
       " 'changes': 1676,\n",
       " 'clarity': 1768,\n",
       " 'comply': 2007,\n",
       " 'nycha': 5997,\n",
       " 'responses': 7657,\n",
       " 'teams': 8861,\n",
       " 'respond': 7648,\n",
       " 'outside': 6278,\n",
       " 'entities': 3433,\n",
       " 'matters': 5516,\n",
       " 'legal': 5215,\n",
       " 'claims': 1764,\n",
       " 'press': 6848,\n",
       " 'inquiries': 4755,\n",
       " 'audit': 1031,\n",
       " 'union': 9297,\n",
       " 'welfare': 9681,\n",
       " 'fund': 4077,\n",
       " 'payments': 6449,\n",
       " 'nychaâ': 5998,\n",
       " 'labor': 5106,\n",
       " 'agreement': 649,\n",
       " 'pla': 6609,\n",
       " '10': 16,\n",
       " 'special': 8348,\n",
       " '11': 34,\n",
       " 'analyze': 750,\n",
       " 'routine': 7815,\n",
       " 'ad': 496,\n",
       " 'hoc': 4409,\n",
       " 'workload': 9766,\n",
       " 'anomalies': 769,\n",
       " 'outlier': 6265,\n",
       " 'need': 5866,\n",
       " 'elevated': 3272,\n",
       " '12': 42,\n",
       " 'issue': 4976,\n",
       " 'memoranda': 5577,\n",
       " 'presidentâ': 6847,\n",
       " 'followed': 3962,\n",
       " 'administration': 552,\n",
       " 'updated': 9340,\n",
       " 'posted': 6747,\n",
       " 'reference': 7363,\n",
       " 'library': 5258,\n",
       " '13': 47,\n",
       " 'track': 9046,\n",
       " 'stay': 8498,\n",
       " 'complete': 1990,\n",
       " 'closeout': 1816,\n",
       " 'approved': 845,\n",
       " 'timeframes': 8976,\n",
       " 'raise': 7183,\n",
       " '14': 53,\n",
       " 'records': 7321,\n",
       " 'inform': 4710,\n",
       " 'pmd': 6665,\n",
       " 'corrections': 2300,\n",
       " '15': 60,\n",
       " 'liaise': 5251,\n",
       " 'obligations': 6034,\n",
       " 'expenditures': 3657,\n",
       " 'plan': 6617,\n",
       " 'assignment': 962,\n",
       " '16': 66,\n",
       " 'analysis': 741,\n",
       " 'updates': 9341,\n",
       " '17': 73,\n",
       " '18': 81,\n",
       " 'serve': 8075,\n",
       " 'designee': 2739,\n",
       " 'committees': 1933,\n",
       " 'note': 5944,\n",
       " 'qualified': 7133,\n",
       " 'persons': 6519,\n",
       " 'disability': 2868,\n",
       " 'eligible': 3280,\n",
       " '55': 226,\n",
       " 'indicate': 4666,\n",
       " 'cover': 2358,\n",
       " 'letter': 5233,\n",
       " 'like': 5283,\n",
       " 'considered': 2140,\n",
       " 'detailed': 2755,\n",
       " 'visit': 9535,\n",
       " 'link': 5298,\n",
       " 'http': 4485,\n",
       " 'www': 9808,\n",
       " 'gov': 4188,\n",
       " 'html': 4483,\n",
       " 'dcas': 2538,\n",
       " 'downloads': 3056,\n",
       " 'pdf': 6462,\n",
       " 'psb': 7068,\n",
       " '100_1': 20,\n",
       " 'works': 9774,\n",
       " 'prevent': 6854,\n",
       " 'control': 2235,\n",
       " 'illness': 4558,\n",
       " 'injury': 4740,\n",
       " 'occupational': 6058,\n",
       " 'outreach': 6274,\n",
       " 'education': 3210,\n",
       " 'surveillance': 8726,\n",
       " 'enforcement': 3376,\n",
       " 'covers': 2362,\n",
       " 'broad': 1376,\n",
       " 'range': 7193,\n",
       " 'oversight': 6306,\n",
       " 'poisoning': 6682,\n",
       " 'prevention': 6859,\n",
       " 'food': 3965,\n",
       " 'child': 1713,\n",
       " 'care': 1539,\n",
       " 'radiation': 7173,\n",
       " 'recreational': 7330,\n",
       " 'climate': 1799,\n",
       " 'vector': 9444,\n",
       " 'veterinary': 9494,\n",
       " 'pest': 6530,\n",
       " 'train': 9065,\n",
       " 'sanitarians': 7882,\n",
       " 'inspection': 4770,\n",
       " 'tribunals': 9154,\n",
       " 'inspections': 4772,\n",
       " 'evaluate': 3544,\n",
       " 'assure': 986,\n",
       " 'perform': 6489,\n",
       " 'established': 3517,\n",
       " 'timelines': 8981,\n",
       " 'calls': 1488,\n",
       " 'written': 9799,\n",
       " 'agencies': 631,\n",
       " 'instruct': 4792,\n",
       " 'landlords': 5127,\n",
       " 'code': 1846,\n",
       " 'explain': 3673,\n",
       " 'penalties': 6479,\n",
       " 'difficult': 2830,\n",
       " 'unusual': 9337,\n",
       " 'situations': 8230,\n",
       " 'appropriate': 836,\n",
       " 'corrective': 2301,\n",
       " 'rules': 7837,\n",
       " 'standards': 8463,\n",
       " 'housing': 4464,\n",
       " 'authority': 1047,\n",
       " 'nationâ': 5846,\n",
       " '175': 75,\n",
       " '400': 191,\n",
       " 'real': 7241,\n",
       " 'estate': 3522,\n",
       " 'priorities': 6884,\n",
       " 'managing': 5455,\n",
       " 'development': 2784,\n",
       " 'revenue': 7711,\n",
       " 'generating': 4146,\n",
       " 'opportunities': 6182,\n",
       " 'vacant': 9399,\n",
       " 'underutilized': 9279,\n",
       " 'owned': 6313,\n",
       " 'land': 5119,\n",
       " 'preservation': 6841,\n",
       " 'residential': 7614,\n",
       " 'summary': 8677,\n",
       " 'chair': 1661,\n",
       " 'chief': 1710,\n",
       " 'officer': 6110,\n",
       " 'aspects': 938,\n",
       " 'comprehensive': 2019,\n",
       " 'strategy': 8550,\n",
       " 'supporting': 8713,\n",
       " 'transformation': 9086,\n",
       " 'lives': 5328,\n",
       " 'individual': 4675,\n",
       " 'professional': 6942,\n",
       " 'pre': 6789,\n",
       " 'resident': 7613,\n",
       " 'engagement': 3382,\n",
       " 'maximizing': 5523,\n",
       " 'hudâ': 4492,\n",
       " 'rental': 7517,\n",
       " 'assistance': 966,\n",
       " 'demonstration': 2683,\n",
       " 'programs': 6966,\n",
       " 'affordable': 622,\n",
       " 'mixed': 5699,\n",
       " 'income': 4638,\n",
       " 'properties': 7007,\n",
       " 'spearhead': 8344,\n",
       " 'sale': 7864,\n",
       " 'right': 7746,\n",
       " 'commercial': 1919,\n",
       " 'rad': 7172,\n",
       " 'creating': 2392,\n",
       " 'master': 5504,\n",
       " 'campuses': 1501,\n",
       " 'executing': 3611,\n",
       " 'financing': 3879,\n",
       " 'disputations': 2941,\n",
       " 'transactions': 9077,\n",
       " 'formulate': 4006,\n",
       " 'policy': 6689,\n",
       " 'represent': 7558,\n",
       " 'community': 1949,\n",
       " 'stakeholder': 8449,\n",
       " 'engagements': 3383,\n",
       " 'manage': 5444,\n",
       " 'collaboration': 1863,\n",
       " 'corporation': 2292,\n",
       " 'nys': 6010,\n",
       " 'homes': 4432,\n",
       " 'renewal': 7507,\n",
       " 'urban': 9360,\n",
       " 'creation': 2393,\n",
       " 'administrative': 554,\n",
       " 'achieve': 454,\n",
       " 'goals': 4181,\n",
       " 'sbs': 7902,\n",
       " 'experienced': 3661,\n",
       " 'partner': 6395,\n",
       " 'tasked': 8832,\n",
       " 'developing': 2783,\n",
       " 'partnerships': 6399,\n",
       " 'organizations': 6222,\n",
       " 'institutions': 4791,\n",
       " 'increase': 4650,\n",
       " 'effectiveness': 3224,\n",
       " 'efficiency': 3229,\n",
       " 'recruiting': 7333,\n",
       " 'screening': 7960,\n",
       " 'referring': 7370,\n",
       " 'job': 5017,\n",
       " 'customers': 2476,\n",
       " 'directly': 2857,\n",
       " 'partners': 6397,\n",
       " 'closely': 1815,\n",
       " 'workforce1': 9759,\n",
       " 'driven': 3087,\n",
       " 'model': 5714,\n",
       " 'placement': 6612,\n",
       " 'connection': 2122,\n",
       " 'trainings': 9071,\n",
       " 'center': 1632,\n",
       " 'activities': 486,\n",
       " 'alignment': 688,\n",
       " 'meeting': 5570,\n",
       " 'overall': 6283,\n",
       " 'strategic': 8546,\n",
       " 'specific': 8359,\n",
       " 'neighborhood': 5880,\n",
       " 'diversify': 2976,\n",
       " 'inclusive': 4635,\n",
       " 'social': 8282,\n",
       " 'service': 8080,\n",
       " 'providers': 7048,\n",
       " 'educational': 3211,\n",
       " 'trusted': 9176,\n",
       " 'dependable': 2697,\n",
       " 'points': 6678,\n",
       " 'contact': 2186,\n",
       " 'orient': 6231,\n",
       " 'prospective': 7027,\n",
       " 'refer': 7362,\n",
       " 'seekers': 8018,\n",
       " 'tracking': 9048,\n",
       " 'referral': 7367,\n",
       " 'outcomes': 6258,\n",
       " 'consistent': 2144,\n",
       " 'appropriately': 838,\n",
       " 'referrals': 7368,\n",
       " 'services': 8086,\n",
       " 'offered': 6105,\n",
       " 'monthly': 5752,\n",
       " 'evaluation': 3548,\n",
       " 'consultation': 2174,\n",
       " 'feedback': 3816,\n",
       " 'jobseeker': 5019,\n",
       " 'preparation': 6818,\n",
       " 'expand': 3637,\n",
       " 'inbound': 4617,\n",
       " 'outbound': 6256,\n",
       " 'jobseekers': 5020,\n",
       " 'diverse': 2975,\n",
       " 'geographic': 4151,\n",
       " 'areas': 885,\n",
       " 'populations': 6712,\n",
       " 'gaining': 4102,\n",
       " 'access': 395,\n",
       " 'borough': 1325,\n",
       " 'seamlessly': 7984,\n",
       " 'integrate': 4813,\n",
       " 'general': 4139,\n",
       " 'recruitment': 7334,\n",
       " 'employed': 3316,\n",
       " 'centers': 1634,\n",
       " 'expanding': 3639,\n",
       " 'ones': 6144,\n",
       " 'especially': 3508,\n",
       " 'significant': 8197,\n",
       " 'ongoing': 6146,\n",
       " 'soliciting': 8300,\n",
       " 'occupations': 6059,\n",
       " 'communicate': 1940,\n",
       " 'findings': 3882,\n",
       " 'stakeholders': 8450,\n",
       " 'better': 1209,\n",
       " 'connect': 2119,\n",
       " 'aimed': 664,\n",
       " 'connecting': 2121,\n",
       " 'specialized': 8354,\n",
       " 'employment': 3326,\n",
       " 'serves': 8079,\n",
       " 'designed': 2738,\n",
       " 'strengthen': 8562,\n",
       " 'search': 7985,\n",
       " 'comptrollerâ': 2031,\n",
       " 'asset': 956,\n",
       " 'bam': 1126,\n",
       " 'investment': 4930,\n",
       " 'retirement': 7695,\n",
       " 'comprised': 2023,\n",
       " 'pension': 6483,\n",
       " '200': 97,\n",
       " 'managed': 5446,\n",
       " 'primarily': 6869,\n",
       " 'largely': 5143,\n",
       " 'invested': 4918,\n",
       " 'publicly': 7085,\n",
       " 'traded': 9053,\n",
       " 'securities': 8009,\n",
       " 'growing': 4254,\n",
       " 'allocations': 706,\n",
       " 'private': 6895,\n",
       " 'equity': 3475,\n",
       " 'hedge': 4354,\n",
       " 'opportunistic': 6181,\n",
       " 'fixed': 3915,\n",
       " 'investments': 4931,\n",
       " 'reits': 7441,\n",
       " 'target': 8827,\n",
       " 'allocation': 705,\n",
       " 'approximately': 851,\n",
       " 'class': 1769,\n",
       " 'head': 4329,\n",
       " 'collaborate': 1860,\n",
       " 'risk': 7759,\n",
       " 'diligence': 2840,\n",
       " 'assisted': 970,\n",
       " 'counsel': 2326,\n",
       " 'industry': 4683,\n",
       " 'consultants': 2172,\n",
       " 'members': 5574,\n",
       " 'negotiate': 5873,\n",
       " 'terms': 8908,\n",
       " 'agreements': 650,\n",
       " 'bamâ': 1127,\n",
       " 'systemsâ': 8780,\n",
       " 'boards': 1295,\n",
       " 'trustees': 9177,\n",
       " 'partnership': 6398,\n",
       " 'databases': 2520,\n",
       " 'framework': 4031,\n",
       " 'analyzing': 753,\n",
       " 'attributes': 1024,\n",
       " 'amendment': 731,\n",
       " 'consent': 2131,\n",
       " 'notices': 5949,\n",
       " 'advisory': 598,\n",
       " 'committee': 1932,\n",
       " 'annual': 765,\n",
       " 'update': 9339,\n",
       " 'research': 7595,\n",
       " 'market': 5488,\n",
       " 'industries': 4682,\n",
       " 'sectors': 8004,\n",
       " 'geographies': 4153,\n",
       " 'topics': 9017,\n",
       " 'financial': 3876,\n",
       " 'manages': 5454,\n",
       " 'functions': 4076,\n",
       " 'monitoring': 5747,\n",
       " 'expense': 3658,\n",
       " 'fy14': 4095,\n",
       " 'ensuring': 3416,\n",
       " 'federal': 3809,\n",
       " 'revenues': 7712,\n",
       " 'maintaining': 5428,\n",
       " 'reconciling': 7310,\n",
       " 'bank': 1130,\n",
       " 'accounts': 433,\n",
       " 'payment': 6448,\n",
       " 'invoices': 4939,\n",
       " 'annually': 766,\n",
       " 'provider': 7047,\n",
       " 'reviewing': 7720,\n",
       " 'statements': 8478,\n",
       " 'audits': 1036,\n",
       " 'deputy': 2720,\n",
       " 'complex': 1998,\n",
       " 'analytic': 746,\n",
       " 'exercises': 3623,\n",
       " 'relating': 7447,\n",
       " 'early': 3156,\n",
       " 'learn': 5192,\n",
       " 'progam': 6956,\n",
       " 'standardized': 8461,\n",
       " 'timely': 8983,\n",
       " 'using': 9379,\n",
       " 'large': 5142,\n",
       " 'volumes': 9563,\n",
       " 'models': 5718,\n",
       " 'create': 2389,\n",
       " 'expenditure': 3656,\n",
       " 'forecasts': 3978,\n",
       " 'advanced': 574,\n",
       " 'excel': 3587,\n",
       " 'base': 1141,\n",
       " 'cyclical': 2497,\n",
       " 'omb': 6135,\n",
       " 'concerning': 2050,\n",
       " 'pegs': 6476,\n",
       " 'surplus': 8724,\n",
       " 'modifications': 5728,\n",
       " 'acs': 472,\n",
       " 'multi': 5808,\n",
       " 'year': 9822,\n",
       " 'cycle': 2495,\n",
       " 'constructs': 2168,\n",
       " 'funding': 4083,\n",
       " 'category': 1590,\n",
       " 'budgets': 1413,\n",
       " 'answer': 772,\n",
       " 'resolve': 7630,\n",
       " 'fiscal': 3907,\n",
       " 'availability': 1074,\n",
       " 'sufficient': 8659,\n",
       " 'processed': 6916,\n",
       " 'fms': 3949,\n",
       " 'forecast': 3975,\n",
       " 'substantive': 8639,\n",
       " 'produce': 6928,\n",
       " 'directed': 2850,\n",
       " 'assigned': 960,\n",
       " 'force': 3970,\n",
       " 'oth': 6251,\n",
       " '19': 87,\n",
       " '03': 7,\n",
       " 'mayorâ': 5528,\n",
       " 'government': 4193,\n",
       " 'experts': 3671,\n",
       " 'assembles': 944,\n",
       " '70': 265,\n",
       " 'ombâ': 6137,\n",
       " 'tbm': 8849,\n",
       " 'shaping': 8120,\n",
       " 'landscape': 5131,\n",
       " 'monitors': 5748,\n",
       " 'citywide': 1752,\n",
       " 'analyzes': 752,\n",
       " 'regard': 7396,\n",
       " 'feasibility': 3804,\n",
       " 'justification': 5057,\n",
       " 'programmatic': 6961,\n",
       " 'merit': 5597,\n",
       " 'procurement': 6924,\n",
       " 'methodology': 5617,\n",
       " 'acquisition': 465,\n",
       " 'telecommunication': 8880,\n",
       " 'description': 2731,\n",
       " 'encompass': 3346,\n",
       " 'preparing': 6825,\n",
       " 'alternatives': 721,\n",
       " 'proposals': 7011,\n",
       " 'hardware': 4305,\n",
       " 'software': 8287,\n",
       " 'focusing': 3956,\n",
       " 'budgetary': 1410,\n",
       " 'proposed': 7013,\n",
       " 'implementations': 4591,\n",
       " 'representing': 7564,\n",
       " 'personnel': 6518,\n",
       " 'acquiring': 464,\n",
       " 'planting': 6627,\n",
       " 'cultivating': 2448,\n",
       " 'trees': 9138,\n",
       " 'flowers': 3938,\n",
       " 'shrubs': 8173,\n",
       " 'tasks': 8835,\n",
       " 'digging': 2835,\n",
       " 'balling': 1124,\n",
       " 'burlapping': 1442,\n",
       " 'transplanting': 9114,\n",
       " 'sod': 8286,\n",
       " 'potting': 6759,\n",
       " 'propagating': 7003,\n",
       " 'plant': 6625,\n",
       " 'pruning': 7063,\n",
       " 'spraying': 8399,\n",
       " 'maintenance': 5431,\n",
       " 'greenhouses': 4232,\n",
       " 'nurseries': 5974,\n",
       " 'soil': 8289,\n",
       " 'seed': 8014,\n",
       " 'beds': 1180,\n",
       " 'grade': 4199,\n",
       " 'weed': 9666,\n",
       " 'mulch': 5807,\n",
       " 'mow': 5791,\n",
       " 'lawns': 5161,\n",
       " 'repair': 7530,\n",
       " 'damaged': 2508,\n",
       " 'planted': 6626,\n",
       " 'fertilizing': 3835,\n",
       " 'watering': 9627,\n",
       " 'involved': 4942,\n",
       " 'operation': 6166,\n",
       " 'hand': 4284,\n",
       " 'power': 6764,\n",
       " 'gardening': 4117,\n",
       " 'equipment': 3472,\n",
       " 'adjustments': 542,\n",
       " 'repairs': 7534,\n",
       " 'replacements': 7542,\n",
       " 'supervisor': 8698,\n",
       " 'simple': 8205,\n",
       " 'record': 7315,\n",
       " 'keeping': 5068,\n",
       " 'drive': 3086,\n",
       " 'vehicles': 9449,\n",
       " 'motorized': 5781,\n",
       " ...}"
      ]
     },
     "execution_count": 26,
     "metadata": {},
     "output_type": "execute_result"
    }
   ],
   "source": [
    "tfidf_vect.vocabulary_ #numeric is the column number of term not a count"
   ]
  },
  {
   "cell_type": "markdown",
   "metadata": {},
   "source": [
    "# Latent Semantic Analyis (LSA) [Singular Value Decomposition (SVD)]"
   ]
  },
  {
   "cell_type": "code",
   "execution_count": 92,
   "metadata": {},
   "outputs": [],
   "source": [
    "from sklearn.decomposition import TruncatedSVD\n",
    "\n",
    "#If you are performing Latent Semantic Analysis, recommended number of components is 100\n",
    "# adjusted to 1000 for better results increasing belond 1000 didn't improve results\n",
    "\n",
    "svd = TruncatedSVD(n_components=1000, n_iter=10)"
   ]
  },
  {
   "cell_type": "code",
   "execution_count": 93,
   "metadata": {},
   "outputs": [],
   "source": [
    "train_x_lsa = svd.fit_transform(train_x_tr)"
   ]
  },
  {
   "cell_type": "code",
   "execution_count": 94,
   "metadata": {},
   "outputs": [
    {
     "data": {
      "text/plain": [
       "(1689, 1000)"
      ]
     },
     "execution_count": 94,
     "metadata": {},
     "output_type": "execute_result"
    }
   ],
   "source": [
    "train_x_lsa.shape"
   ]
  },
  {
   "cell_type": "code",
   "execution_count": 95,
   "metadata": {},
   "outputs": [
    {
     "data": {
      "text/plain": [
       "array([[ 2.47205981e-01, -2.03271254e-01,  1.14899112e-01, ...,\n",
       "         8.77539948e-03, -6.20937095e-03, -4.93151395e-03],\n",
       "       [ 1.72948207e-01, -1.30748862e-01,  4.77585353e-03, ...,\n",
       "         1.18678512e-02, -6.86054018e-03, -1.08827150e-02],\n",
       "       [ 5.87776099e-01,  3.65734004e-01,  1.34432287e-01, ...,\n",
       "         3.36750999e-03,  9.23260261e-04,  1.65015880e-03],\n",
       "       ...,\n",
       "       [ 1.33857761e-01, -1.06052106e-01, -4.01844658e-02, ...,\n",
       "        -1.66707219e-03, -1.64577436e-03, -8.58008575e-04],\n",
       "       [ 1.53406212e-01, -1.23536443e-01, -4.28305610e-02, ...,\n",
       "        -1.54601262e-03,  2.38994933e-03,  1.29440605e-03],\n",
       "       [ 2.17227521e-01, -5.64243368e-02,  3.15270243e-01, ...,\n",
       "         5.81602771e-04, -5.74854318e-03, -7.28616891e-03]])"
      ]
     },
     "execution_count": 95,
     "metadata": {},
     "output_type": "execute_result"
    }
   ],
   "source": [
    "train_x_lsa"
   ]
  },
  {
   "cell_type": "code",
   "execution_count": 96,
   "metadata": {},
   "outputs": [],
   "source": [
    "# Transform Test Data\n",
    "\n",
    "test_x_lsa = svd.transform(test_x_tr)"
   ]
  },
  {
   "cell_type": "code",
   "execution_count": 97,
   "metadata": {},
   "outputs": [
    {
     "data": {
      "text/plain": [
       "(724, 1000)"
      ]
     },
     "execution_count": 97,
     "metadata": {},
     "output_type": "execute_result"
    }
   ],
   "source": [
    "test_x_lsa.shape"
   ]
  },
  {
   "cell_type": "markdown",
   "metadata": {},
   "source": [
    "# Explore the SVDs"
   ]
  },
  {
   "cell_type": "code",
   "execution_count": 98,
   "metadata": {},
   "outputs": [
    {
     "data": {
      "text/plain": [
       "0.9313244137466226"
      ]
     },
     "execution_count": 98,
     "metadata": {},
     "output_type": "execute_result"
    }
   ],
   "source": [
    "svd.explained_variance_.sum()"
   ]
  },
  {
   "cell_type": "code",
   "execution_count": 99,
   "metadata": {},
   "outputs": [
    {
     "data": {
      "text/plain": [
       "array([[ 6.88496587e-04,  8.57475540e-02,  9.35138953e-05, ...,\n",
       "         2.58331510e-04,  2.64894838e-04,  4.74548918e-04],\n",
       "       [-4.24457233e-04,  9.21278086e-02, -8.70152800e-05, ...,\n",
       "        -5.37307789e-04,  4.90695772e-04, -9.88739389e-04],\n",
       "       [-5.92600177e-04, -6.23455368e-02, -1.68140617e-04, ...,\n",
       "        -3.77315274e-04, -3.92896112e-04, -5.15104924e-04],\n",
       "       ...,\n",
       "       [ 1.16194256e-02, -1.38046777e-02,  2.76821981e-03, ...,\n",
       "         3.46936044e-04, -5.17929150e-03,  4.05395168e-04],\n",
       "       [ 4.43129704e-03,  5.28992517e-03, -1.42810634e-03, ...,\n",
       "         5.38024769e-04, -4.25462948e-03,  3.95263596e-04],\n",
       "       [ 1.10663449e-02, -5.53266813e-03, -5.67943632e-03, ...,\n",
       "         2.32397619e-03,  1.07069294e-03,  4.53821115e-03]])"
      ]
     },
     "execution_count": 99,
     "metadata": {},
     "output_type": "execute_result"
    }
   ],
   "source": [
    "#These are the all the components:\n",
    "svd.components_"
   ]
  },
  {
   "cell_type": "code",
   "execution_count": 77,
   "metadata": {},
   "outputs": [
    {
     "data": {
      "text/plain": [
       "(500, 9914)"
      ]
     },
     "execution_count": 77,
     "metadata": {},
     "output_type": "execute_result"
    }
   ],
   "source": [
    "svd.components_.shape"
   ]
  },
  {
   "cell_type": "code",
   "execution_count": 100,
   "metadata": {},
   "outputs": [],
   "source": [
    "#Let's select the first component:\n",
    "\n",
    "first_component = svd.components_[0,:]"
   ]
  },
  {
   "cell_type": "code",
   "execution_count": 101,
   "metadata": {},
   "outputs": [],
   "source": [
    "# Sort the weights in the first component, and get the indeces\n",
    "\n",
    "indeces = np.argsort(first_component).tolist()"
   ]
  },
  {
   "cell_type": "code",
   "execution_count": 102,
   "metadata": {},
   "outputs": [],
   "source": [
    "#Get the feature names from the count vectorizer:\n",
    "feat_names = tfidf_vect.get_feature_names()"
   ]
  },
  {
   "cell_type": "code",
   "execution_count": 103,
   "metadata": {},
   "outputs": [
    {
     "name": "stdout",
     "output_type": "stream",
     "text": [
      "bureau \t\tweight = 0.10717931879805587\n",
      "management \t\tweight = 0.10960765437645162\n",
      "new \t\tweight = 0.1223038615911278\n",
      "design \t\tweight = 0.12986195254896968\n",
      "city \t\tweight = 0.13608521123029874\n",
      "project \t\tweight = 0.13846106935768077\n",
      "dep \t\tweight = 0.14965285958787955\n",
      "construction \t\tweight = 0.15479839429867356\n",
      "wastewater \t\tweight = 0.15841529884565192\n",
      "water \t\tweight = 0.26425044968095257\n"
     ]
    }
   ],
   "source": [
    "#Print the last 10 terms (i.e., the 10 terms that have the highest weigths)\n",
    "#Be careful, indeces are in descending order (least important first)\n",
    "\n",
    "for index in indeces[-10:]:\n",
    "    print(feat_names[index], \"\\t\\tweight =\", first_component[index])"
   ]
  },
  {
   "cell_type": "markdown",
   "metadata": {},
   "source": [
    "# Calculate the baseline"
   ]
  },
  {
   "cell_type": "code",
   "execution_count": 139,
   "metadata": {},
   "outputs": [
    {
     "data": {
      "text/plain": [
       "78566.0307874482"
      ]
     },
     "execution_count": 139,
     "metadata": {},
     "output_type": "execute_result"
    }
   ],
   "source": [
    "from sklearn.metrics import mean_squared_error\n",
    "\n",
    "#First find the average value of the target\n",
    "\n",
    "mean_value = np.mean(train_y)\n",
    "\n",
    "mean_value"
   ]
  },
  {
   "cell_type": "code",
   "execution_count": 137,
   "metadata": {},
   "outputs": [
    {
     "name": "stdout",
     "output_type": "stream",
     "text": [
      "Baseline RMSE: 28261.69063660107\n"
     ]
    }
   ],
   "source": [
    "baseline_mse = mean_squared_error(test_y, baseline_pred)\n",
    "\n",
    "baseline_rmse = np.sqrt(baseline_mse)\n",
    "\n",
    "print('Baseline RMSE: {}' .format(baseline_rmse))"
   ]
  },
  {
   "cell_type": "markdown",
   "metadata": {},
   "source": [
    "# Model 1 - Decision Tree"
   ]
  },
  {
   "cell_type": "code",
   "execution_count": 144,
   "metadata": {},
   "outputs": [
    {
     "data": {
      "text/plain": [
       "DecisionTreeRegressor(max_depth=5, min_samples_leaf=10)"
      ]
     },
     "execution_count": 144,
     "metadata": {},
     "output_type": "execute_result"
    }
   ],
   "source": [
    "from sklearn.tree import DecisionTreeRegressor\n",
    "\n",
    "tree_reg = DecisionTreeRegressor(min_samples_leaf = 10, max_depth=5) # remove parameter to have un-restricted learning\n",
    "\n",
    "tree_reg.fit(train_x_lsa, train_y)"
   ]
  },
  {
   "cell_type": "code",
   "execution_count": 145,
   "metadata": {},
   "outputs": [
    {
     "name": "stdout",
     "output_type": "stream",
     "text": [
      "Train RMSE: 21978.54348483159\n"
     ]
    }
   ],
   "source": [
    "from sklearn.metrics import mean_squared_error\n",
    "\n",
    "#Train RMSE\n",
    "train_pred = tree_reg.predict(train_x_lsa)\n",
    "\n",
    "train_mse = mean_squared_error(train_y, train_pred)\n",
    "\n",
    "train_rmse = np.sqrt(train_mse)\n",
    "\n",
    "print('Train RMSE: {}' .format(train_rmse))"
   ]
  },
  {
   "cell_type": "code",
   "execution_count": 146,
   "metadata": {},
   "outputs": [
    {
     "name": "stdout",
     "output_type": "stream",
     "text": [
      "Test RMSE: 24919.31128806112\n"
     ]
    }
   ],
   "source": [
    "#Test RMSE\n",
    "test_pred = tree_reg.predict(test_x_lsa)\n",
    "\n",
    "test_mse = mean_squared_error(test_y, test_pred)\n",
    "\n",
    "test_rmse = np.sqrt(test_mse)\n",
    "\n",
    "print('Test RMSE: {}' .format(test_rmse))"
   ]
  },
  {
   "cell_type": "markdown",
   "metadata": {},
   "source": [
    "# Model 2 - Randomized Grid Search"
   ]
  },
  {
   "cell_type": "code",
   "execution_count": 148,
   "metadata": {},
   "outputs": [
    {
     "name": "stdout",
     "output_type": "stream",
     "text": [
      "Fitting 5 folds for each of 10 candidates, totalling 50 fits\n"
     ]
    },
    {
     "data": {
      "text/plain": [
       "RandomizedSearchCV(cv=5, estimator=DecisionTreeRegressor(),\n",
       "                   param_distributions=[{'max_depth': array([10, 11, 12, 13, 14, 15, 16, 17, 18, 19, 20, 21, 22, 23, 24, 25, 26,\n",
       "       27, 28, 29]),\n",
       "                                         'min_samples_leaf': array([10, 11, 12, 13, 14, 15, 16, 17, 18, 19, 20, 21, 22, 23, 24, 25, 26,\n",
       "       27, 28, 29])}],\n",
       "                   return_train_score=True, scoring='neg_mean_squared_error',\n",
       "                   verbose=1)"
      ]
     },
     "execution_count": 148,
     "metadata": {},
     "output_type": "execute_result"
    }
   ],
   "source": [
    "from sklearn.model_selection import RandomizedSearchCV\n",
    "\n",
    "param_grid = [\n",
    "    {'min_samples_leaf': np.arange(10, 30), \n",
    "     'max_depth': np.arange(10,30)}\n",
    "  ]\n",
    "\n",
    "tree_reg = DecisionTreeRegressor()\n",
    "\n",
    "grid_search = RandomizedSearchCV(tree_reg, param_grid, cv=5, n_iter=10,\n",
    "                           scoring='neg_mean_squared_error', verbose=1,\n",
    "                           return_train_score=True)\n",
    "\n",
    "grid_search.fit(train_x_lsa, train_y)"
   ]
  },
  {
   "cell_type": "code",
   "execution_count": 149,
   "metadata": {},
   "outputs": [
    {
     "name": "stdout",
     "output_type": "stream",
     "text": [
      "28510.71525015047 {'min_samples_leaf': 10, 'max_depth': 21}\n",
      "27585.61621297857 {'min_samples_leaf': 23, 'max_depth': 14}\n",
      "27923.662740091222 {'min_samples_leaf': 12, 'max_depth': 25}\n",
      "27689.447775489632 {'min_samples_leaf': 26, 'max_depth': 29}\n",
      "27170.681177144634 {'min_samples_leaf': 22, 'max_depth': 25}\n",
      "27695.075112332197 {'min_samples_leaf': 27, 'max_depth': 14}\n",
      "27817.282241032608 {'min_samples_leaf': 21, 'max_depth': 28}\n",
      "28630.041261079463 {'min_samples_leaf': 11, 'max_depth': 13}\n",
      "27170.681177144634 {'min_samples_leaf': 22, 'max_depth': 14}\n",
      "27425.040889138832 {'min_samples_leaf': 24, 'max_depth': 12}\n"
     ]
    }
   ],
   "source": [
    "cvres = grid_search.cv_results_\n",
    "\n",
    "for mean_score, params in zip(cvres[\"mean_test_score\"], cvres[\"params\"]):\n",
    "    print(np.sqrt(-mean_score), params)"
   ]
  },
  {
   "cell_type": "code",
   "execution_count": 150,
   "metadata": {},
   "outputs": [
    {
     "data": {
      "text/plain": [
       "{'min_samples_leaf': 22, 'max_depth': 25}"
      ]
     },
     "execution_count": 150,
     "metadata": {},
     "output_type": "execute_result"
    }
   ],
   "source": [
    "grid_search.best_params_"
   ]
  },
  {
   "cell_type": "code",
   "execution_count": 151,
   "metadata": {},
   "outputs": [
    {
     "data": {
      "text/plain": [
       "DecisionTreeRegressor(max_depth=25, min_samples_leaf=22)"
      ]
     },
     "execution_count": 151,
     "metadata": {},
     "output_type": "execute_result"
    }
   ],
   "source": [
    "grid_search.best_estimator_"
   ]
  },
  {
   "cell_type": "code",
   "execution_count": 153,
   "metadata": {},
   "outputs": [
    {
     "name": "stdout",
     "output_type": "stream",
     "text": [
      "Train RMSE: 18873.672345515817\n"
     ]
    }
   ],
   "source": [
    "#Train RMSE\n",
    "train_pred = grid_search.best_estimator_.predict(train_x_lsa)\n",
    "\n",
    "train_mse = mean_squared_error(train_y, train_pred)\n",
    "\n",
    "train_rmse = np.sqrt(train_mse)\n",
    "\n",
    "print('Train RMSE: {}' .format(train_rmse))"
   ]
  },
  {
   "cell_type": "code",
   "execution_count": 154,
   "metadata": {},
   "outputs": [
    {
     "name": "stdout",
     "output_type": "stream",
     "text": [
      "Test RMSE: 25462.945769219492\n"
     ]
    }
   ],
   "source": [
    "#Test RMSE\n",
    "test_pred = grid_search.best_estimator_.predict(test_x_lsa)\n",
    "\n",
    "test_mse = mean_squared_error(test_y, test_pred)\n",
    "\n",
    "test_rmse = np.sqrt(test_mse)\n",
    "\n",
    "print('Test RMSE: {}' .format(test_rmse))"
   ]
  },
  {
   "cell_type": "markdown",
   "metadata": {},
   "source": [
    "# Discussion\n",
    "\n",
    "Briefly answer the following questions: (2 points) \n",
    "1) Which model performs the best (and why)?<br>\n",
    "2) What is the baseline?<br>\n",
    "3) Does the best model perform better than the baseline (and why)?<br>\n",
    "4) Does the best model exhibit any overfitting; what did you do about it?"
   ]
  },
  {
   "cell_type": "markdown",
   "metadata": {},
   "source": [
    "1- Decision Tree has lowest RSME of 24,919<br>\n",
    "2- Baseline Test RSME is 28,261<br>\n",
    "3- DT performs better that Baseline by predicting more accurate salaries RMSE of 24k vers 28k<br>\n",
    "4- No overfitting test set perfomred wosre than train set<br>"
   ]
  }
 ],
 "metadata": {
  "kernelspec": {
   "display_name": "Python 3",
   "language": "python",
   "name": "python3"
  },
  "language_info": {
   "codemirror_mode": {
    "name": "ipython",
    "version": 3
   },
   "file_extension": ".py",
   "mimetype": "text/x-python",
   "name": "python",
   "nbconvert_exporter": "python",
   "pygments_lexer": "ipython3",
   "version": "3.8.8"
  }
 },
 "nbformat": 4,
 "nbformat_minor": 2
}
