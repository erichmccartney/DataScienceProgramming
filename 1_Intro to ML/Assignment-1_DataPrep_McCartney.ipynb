{
 "cells": [
  {
   "cell_type": "markdown",
   "metadata": {},
   "source": [
    "# Assignment - Data Preparation\n",
    "\n",
    "In this assignment, we will focus on housing. The data set for this exercise includes information on house sales in King County, Washington (between May 2014 and May 2015). (Each row in the data set pertains to one house. There is a total of 21,613 houses in the data set). In a later module, you will use this data set to predict the sale price of a house (i.e., the `price` column) based on the characteristics of the house. In this assignment, we will use the data set to practice our DATA PREP skills ONLY. (We won't do any predictions.)\n",
    "<br><br>\n",
    "Check the descriptions of the variables in the Data Dictionary file. \n",
    "<br><br>\n",
    "In this assignment, we will ONLY perform data prep/transformation."
   ]
  },
  {
   "cell_type": "markdown",
   "metadata": {},
   "source": [
    "## Description of Variables\n",
    "\n",
    "The description and type of each variable is provided in \"KC house data - Data Dictionary.docx\". Make sure to read this document to learn about the variables. Please check if variables are numeric, binary, or categorical."
   ]
  },
  {
   "cell_type": "markdown",
   "metadata": {},
   "source": [
    "## Submission:\n",
    "\n",
    "Please save and submit this Jupyter notebook file. The correctness of the code matters for your grade. **Readability and organization of your code is also important.** You may lose points for submitting unreadable/undecipherable code. Therefore, use markdown cells to create sections, and use comments where necessary.\n"
   ]
  },
  {
   "cell_type": "markdown",
   "metadata": {},
   "source": [
    "# Setup"
   ]
  },
  {
   "cell_type": "code",
   "execution_count": 1,
   "metadata": {},
   "outputs": [],
   "source": [
    "# Common imports\n",
    "import numpy as np\n",
    "import pandas as pd\n",
    "\n",
    "np.random.seed(31484443)"
   ]
  },
  {
   "cell_type": "markdown",
   "metadata": {},
   "source": [
    "# Get the data"
   ]
  },
  {
   "cell_type": "code",
   "execution_count": 2,
   "metadata": {},
   "outputs": [
    {
     "data": {
      "text/html": [
       "<div>\n",
       "<style scoped>\n",
       "    .dataframe tbody tr th:only-of-type {\n",
       "        vertical-align: middle;\n",
       "    }\n",
       "\n",
       "    .dataframe tbody tr th {\n",
       "        vertical-align: top;\n",
       "    }\n",
       "\n",
       "    .dataframe thead th {\n",
       "        text-align: right;\n",
       "    }\n",
       "</style>\n",
       "<table border=\"1\" class=\"dataframe\">\n",
       "  <thead>\n",
       "    <tr style=\"text-align: right;\">\n",
       "      <th></th>\n",
       "      <th>price</th>\n",
       "      <th>bedrooms</th>\n",
       "      <th>bathrooms</th>\n",
       "      <th>sqft_living</th>\n",
       "      <th>sqft_lot</th>\n",
       "      <th>floors</th>\n",
       "      <th>waterfront</th>\n",
       "      <th>view</th>\n",
       "      <th>condition</th>\n",
       "      <th>grade</th>\n",
       "      <th>sqft_above</th>\n",
       "      <th>sqft_basement</th>\n",
       "      <th>yr_built</th>\n",
       "      <th>yr_renovated</th>\n",
       "      <th>zipcode</th>\n",
       "      <th>lat</th>\n",
       "      <th>long</th>\n",
       "      <th>sqft_living15</th>\n",
       "      <th>sqft_lot15</th>\n",
       "    </tr>\n",
       "  </thead>\n",
       "  <tbody>\n",
       "    <tr>\n",
       "      <th>0</th>\n",
       "      <td>432000.0</td>\n",
       "      <td>5.0</td>\n",
       "      <td>2.75</td>\n",
       "      <td>2060.0</td>\n",
       "      <td>329903.0</td>\n",
       "      <td>1.5</td>\n",
       "      <td>0</td>\n",
       "      <td>3</td>\n",
       "      <td>5</td>\n",
       "      <td>7.0</td>\n",
       "      <td>2060</td>\n",
       "      <td>0</td>\n",
       "      <td>1989.0</td>\n",
       "      <td>0</td>\n",
       "      <td>98022.0</td>\n",
       "      <td>47.1776</td>\n",
       "      <td>-121.944</td>\n",
       "      <td>2240</td>\n",
       "      <td>220232.0</td>\n",
       "    </tr>\n",
       "    <tr>\n",
       "      <th>1</th>\n",
       "      <td>170000.0</td>\n",
       "      <td>2.0</td>\n",
       "      <td>1.00</td>\n",
       "      <td>810.0</td>\n",
       "      <td>8424.0</td>\n",
       "      <td>1.0</td>\n",
       "      <td>0</td>\n",
       "      <td>0</td>\n",
       "      <td>4</td>\n",
       "      <td>6.0</td>\n",
       "      <td>810</td>\n",
       "      <td>0</td>\n",
       "      <td>1959.0</td>\n",
       "      <td>0</td>\n",
       "      <td>98023.0</td>\n",
       "      <td>47.3286</td>\n",
       "      <td>-122.346</td>\n",
       "      <td>820</td>\n",
       "      <td>8424.0</td>\n",
       "    </tr>\n",
       "    <tr>\n",
       "      <th>2</th>\n",
       "      <td>235000.0</td>\n",
       "      <td>3.0</td>\n",
       "      <td>1.00</td>\n",
       "      <td>960.0</td>\n",
       "      <td>5030.0</td>\n",
       "      <td>1.0</td>\n",
       "      <td>0</td>\n",
       "      <td>0</td>\n",
       "      <td>3</td>\n",
       "      <td>7.0</td>\n",
       "      <td>960</td>\n",
       "      <td>0</td>\n",
       "      <td>1955.0</td>\n",
       "      <td>0</td>\n",
       "      <td>98118.0</td>\n",
       "      <td>47.5611</td>\n",
       "      <td>-122.280</td>\n",
       "      <td>1460</td>\n",
       "      <td>5400.0</td>\n",
       "    </tr>\n",
       "    <tr>\n",
       "      <th>3</th>\n",
       "      <td>350000.0</td>\n",
       "      <td>2.0</td>\n",
       "      <td>1.00</td>\n",
       "      <td>830.0</td>\n",
       "      <td>5100.0</td>\n",
       "      <td>1.0</td>\n",
       "      <td>0</td>\n",
       "      <td>0</td>\n",
       "      <td>4</td>\n",
       "      <td>7.0</td>\n",
       "      <td>830</td>\n",
       "      <td>0</td>\n",
       "      <td>1942.0</td>\n",
       "      <td>0</td>\n",
       "      <td>98126.0</td>\n",
       "      <td>47.5259</td>\n",
       "      <td>-122.379</td>\n",
       "      <td>1220</td>\n",
       "      <td>5100.0</td>\n",
       "    </tr>\n",
       "    <tr>\n",
       "      <th>4</th>\n",
       "      <td>397380.0</td>\n",
       "      <td>2.0</td>\n",
       "      <td>1.00</td>\n",
       "      <td>1030.0</td>\n",
       "      <td>5072.0</td>\n",
       "      <td>1.0</td>\n",
       "      <td>0</td>\n",
       "      <td>0</td>\n",
       "      <td>3</td>\n",
       "      <td>6.0</td>\n",
       "      <td>1030</td>\n",
       "      <td>0</td>\n",
       "      <td>1924.0</td>\n",
       "      <td>1958</td>\n",
       "      <td>98115.0</td>\n",
       "      <td>47.6962</td>\n",
       "      <td>-122.294</td>\n",
       "      <td>1220</td>\n",
       "      <td>6781.0</td>\n",
       "    </tr>\n",
       "  </tbody>\n",
       "</table>\n",
       "</div>"
      ],
      "text/plain": [
       "      price  bedrooms  bathrooms  sqft_living  sqft_lot  floors  waterfront  \\\n",
       "0  432000.0       5.0       2.75       2060.0  329903.0     1.5           0   \n",
       "1  170000.0       2.0       1.00        810.0    8424.0     1.0           0   \n",
       "2  235000.0       3.0       1.00        960.0    5030.0     1.0           0   \n",
       "3  350000.0       2.0       1.00        830.0    5100.0     1.0           0   \n",
       "4  397380.0       2.0       1.00       1030.0    5072.0     1.0           0   \n",
       "\n",
       "   view  condition  grade  sqft_above  sqft_basement  yr_built  yr_renovated  \\\n",
       "0     3          5    7.0        2060              0    1989.0             0   \n",
       "1     0          4    6.0         810              0    1959.0             0   \n",
       "2     0          3    7.0         960              0    1955.0             0   \n",
       "3     0          4    7.0         830              0    1942.0             0   \n",
       "4     0          3    6.0        1030              0    1924.0          1958   \n",
       "\n",
       "   zipcode      lat     long  sqft_living15  sqft_lot15  \n",
       "0  98022.0  47.1776 -121.944           2240    220232.0  \n",
       "1  98023.0  47.3286 -122.346            820      8424.0  \n",
       "2  98118.0  47.5611 -122.280           1460      5400.0  \n",
       "3  98126.0  47.5259 -122.379           1220      5100.0  \n",
       "4  98115.0  47.6962 -122.294           1220      6781.0  "
      ]
     },
     "execution_count": 2,
     "metadata": {},
     "output_type": "execute_result"
    }
   ],
   "source": [
    "# Import the data set:\n",
    "#We will predict the \"price\" value in the data set:\n",
    "\n",
    "kchouse = pd.read_csv(\"kc_house_data.csv\")\n",
    "kchouse.head()"
   ]
  },
  {
   "cell_type": "code",
   "execution_count": 3,
   "metadata": {},
   "outputs": [
    {
     "data": {
      "text/plain": [
       "(21613, 19)"
      ]
     },
     "execution_count": 3,
     "metadata": {},
     "output_type": "execute_result"
    }
   ],
   "source": [
    "# Find the total number of rows\n",
    "\n",
    "kchouse.shape"
   ]
  },
  {
   "cell_type": "code",
   "execution_count": 7,
   "metadata": {},
   "outputs": [
    {
     "data": {
      "text/plain": [
       "price            0\n",
       "bedrooms         1\n",
       "bathrooms        0\n",
       "sqft_living      1\n",
       "sqft_lot         1\n",
       "floors           1\n",
       "waterfront       0\n",
       "view             0\n",
       "condition        0\n",
       "grade            1\n",
       "sqft_above       0\n",
       "sqft_basement    0\n",
       "yr_built         1\n",
       "yr_renovated     0\n",
       "zipcode          2\n",
       "lat              0\n",
       "long             0\n",
       "sqft_living15    0\n",
       "sqft_lot15       1\n",
       "dtype: int64"
      ]
     },
     "execution_count": 7,
     "metadata": {},
     "output_type": "execute_result"
    }
   ],
   "source": [
    "kchouse.isna().sum()"
   ]
  },
  {
   "cell_type": "code",
   "execution_count": 15,
   "metadata": {},
   "outputs": [
    {
     "data": {
      "text/html": [
       "<div>\n",
       "<style scoped>\n",
       "    .dataframe tbody tr th:only-of-type {\n",
       "        vertical-align: middle;\n",
       "    }\n",
       "\n",
       "    .dataframe tbody tr th {\n",
       "        vertical-align: top;\n",
       "    }\n",
       "\n",
       "    .dataframe thead th {\n",
       "        text-align: right;\n",
       "    }\n",
       "</style>\n",
       "<table border=\"1\" class=\"dataframe\">\n",
       "  <thead>\n",
       "    <tr style=\"text-align: right;\">\n",
       "      <th></th>\n",
       "      <th>price</th>\n",
       "      <th>bedrooms</th>\n",
       "      <th>bathrooms</th>\n",
       "      <th>sqft_living</th>\n",
       "      <th>sqft_lot</th>\n",
       "      <th>floors</th>\n",
       "      <th>waterfront</th>\n",
       "      <th>view</th>\n",
       "      <th>condition</th>\n",
       "      <th>grade</th>\n",
       "      <th>sqft_above</th>\n",
       "      <th>sqft_basement</th>\n",
       "      <th>yr_built</th>\n",
       "      <th>yr_renovated</th>\n",
       "      <th>zipcode</th>\n",
       "      <th>lat</th>\n",
       "      <th>long</th>\n",
       "      <th>sqft_living15</th>\n",
       "      <th>sqft_lot15</th>\n",
       "    </tr>\n",
       "  </thead>\n",
       "  <tbody>\n",
       "    <tr>\n",
       "      <th>0</th>\n",
       "      <td>432000.0</td>\n",
       "      <td>5.0</td>\n",
       "      <td>2.75</td>\n",
       "      <td>2060.0</td>\n",
       "      <td>329903.0</td>\n",
       "      <td>1.5</td>\n",
       "      <td>0</td>\n",
       "      <td>3</td>\n",
       "      <td>5</td>\n",
       "      <td>7.0</td>\n",
       "      <td>2060</td>\n",
       "      <td>0</td>\n",
       "      <td>1989.0</td>\n",
       "      <td>0</td>\n",
       "      <td>98022.0</td>\n",
       "      <td>47.1776</td>\n",
       "      <td>-121.944</td>\n",
       "      <td>2240</td>\n",
       "      <td>220232.0</td>\n",
       "    </tr>\n",
       "    <tr>\n",
       "      <th>1</th>\n",
       "      <td>170000.0</td>\n",
       "      <td>2.0</td>\n",
       "      <td>1.00</td>\n",
       "      <td>810.0</td>\n",
       "      <td>8424.0</td>\n",
       "      <td>1.0</td>\n",
       "      <td>0</td>\n",
       "      <td>0</td>\n",
       "      <td>4</td>\n",
       "      <td>6.0</td>\n",
       "      <td>810</td>\n",
       "      <td>0</td>\n",
       "      <td>1959.0</td>\n",
       "      <td>0</td>\n",
       "      <td>98023.0</td>\n",
       "      <td>47.3286</td>\n",
       "      <td>-122.346</td>\n",
       "      <td>820</td>\n",
       "      <td>8424.0</td>\n",
       "    </tr>\n",
       "    <tr>\n",
       "      <th>2</th>\n",
       "      <td>235000.0</td>\n",
       "      <td>3.0</td>\n",
       "      <td>1.00</td>\n",
       "      <td>960.0</td>\n",
       "      <td>5030.0</td>\n",
       "      <td>1.0</td>\n",
       "      <td>0</td>\n",
       "      <td>0</td>\n",
       "      <td>3</td>\n",
       "      <td>7.0</td>\n",
       "      <td>960</td>\n",
       "      <td>0</td>\n",
       "      <td>1955.0</td>\n",
       "      <td>0</td>\n",
       "      <td>98118.0</td>\n",
       "      <td>47.5611</td>\n",
       "      <td>-122.280</td>\n",
       "      <td>1460</td>\n",
       "      <td>5400.0</td>\n",
       "    </tr>\n",
       "    <tr>\n",
       "      <th>3</th>\n",
       "      <td>350000.0</td>\n",
       "      <td>2.0</td>\n",
       "      <td>1.00</td>\n",
       "      <td>830.0</td>\n",
       "      <td>5100.0</td>\n",
       "      <td>1.0</td>\n",
       "      <td>0</td>\n",
       "      <td>0</td>\n",
       "      <td>4</td>\n",
       "      <td>7.0</td>\n",
       "      <td>830</td>\n",
       "      <td>0</td>\n",
       "      <td>1942.0</td>\n",
       "      <td>0</td>\n",
       "      <td>98126.0</td>\n",
       "      <td>47.5259</td>\n",
       "      <td>-122.379</td>\n",
       "      <td>1220</td>\n",
       "      <td>5100.0</td>\n",
       "    </tr>\n",
       "    <tr>\n",
       "      <th>4</th>\n",
       "      <td>397380.0</td>\n",
       "      <td>2.0</td>\n",
       "      <td>1.00</td>\n",
       "      <td>1030.0</td>\n",
       "      <td>5072.0</td>\n",
       "      <td>1.0</td>\n",
       "      <td>0</td>\n",
       "      <td>0</td>\n",
       "      <td>3</td>\n",
       "      <td>6.0</td>\n",
       "      <td>1030</td>\n",
       "      <td>0</td>\n",
       "      <td>1924.0</td>\n",
       "      <td>1958</td>\n",
       "      <td>98115.0</td>\n",
       "      <td>47.6962</td>\n",
       "      <td>-122.294</td>\n",
       "      <td>1220</td>\n",
       "      <td>6781.0</td>\n",
       "    </tr>\n",
       "    <tr>\n",
       "      <th>...</th>\n",
       "      <td>...</td>\n",
       "      <td>...</td>\n",
       "      <td>...</td>\n",
       "      <td>...</td>\n",
       "      <td>...</td>\n",
       "      <td>...</td>\n",
       "      <td>...</td>\n",
       "      <td>...</td>\n",
       "      <td>...</td>\n",
       "      <td>...</td>\n",
       "      <td>...</td>\n",
       "      <td>...</td>\n",
       "      <td>...</td>\n",
       "      <td>...</td>\n",
       "      <td>...</td>\n",
       "      <td>...</td>\n",
       "      <td>...</td>\n",
       "      <td>...</td>\n",
       "      <td>...</td>\n",
       "    </tr>\n",
       "    <tr>\n",
       "      <th>21608</th>\n",
       "      <td>925500.0</td>\n",
       "      <td>3.0</td>\n",
       "      <td>2.75</td>\n",
       "      <td>1970.0</td>\n",
       "      <td>5200.0</td>\n",
       "      <td>1.5</td>\n",
       "      <td>0</td>\n",
       "      <td>3</td>\n",
       "      <td>3</td>\n",
       "      <td>8.0</td>\n",
       "      <td>1970</td>\n",
       "      <td>0</td>\n",
       "      <td>1915.0</td>\n",
       "      <td>2002</td>\n",
       "      <td>98136.0</td>\n",
       "      <td>47.5374</td>\n",
       "      <td>-122.388</td>\n",
       "      <td>2140</td>\n",
       "      <td>5200.0</td>\n",
       "    </tr>\n",
       "    <tr>\n",
       "      <th>21609</th>\n",
       "      <td>419900.0</td>\n",
       "      <td>5.0</td>\n",
       "      <td>3.50</td>\n",
       "      <td>2880.0</td>\n",
       "      <td>5000.0</td>\n",
       "      <td>2.0</td>\n",
       "      <td>0</td>\n",
       "      <td>0</td>\n",
       "      <td>3</td>\n",
       "      <td>8.0</td>\n",
       "      <td>2260</td>\n",
       "      <td>620</td>\n",
       "      <td>2012.0</td>\n",
       "      <td>0</td>\n",
       "      <td>98038.0</td>\n",
       "      <td>47.3455</td>\n",
       "      <td>-122.023</td>\n",
       "      <td>2590</td>\n",
       "      <td>4800.0</td>\n",
       "    </tr>\n",
       "    <tr>\n",
       "      <th>21610</th>\n",
       "      <td>340000.0</td>\n",
       "      <td>3.0</td>\n",
       "      <td>1.75</td>\n",
       "      <td>1730.0</td>\n",
       "      <td>11986.0</td>\n",
       "      <td>1.0</td>\n",
       "      <td>0</td>\n",
       "      <td>3</td>\n",
       "      <td>5</td>\n",
       "      <td>6.0</td>\n",
       "      <td>1730</td>\n",
       "      <td>0</td>\n",
       "      <td>1918.0</td>\n",
       "      <td>0</td>\n",
       "      <td>98198.0</td>\n",
       "      <td>47.3595</td>\n",
       "      <td>-122.323</td>\n",
       "      <td>2490</td>\n",
       "      <td>9264.0</td>\n",
       "    </tr>\n",
       "    <tr>\n",
       "      <th>21611</th>\n",
       "      <td>740000.0</td>\n",
       "      <td>4.0</td>\n",
       "      <td>2.50</td>\n",
       "      <td>3360.0</td>\n",
       "      <td>15091.0</td>\n",
       "      <td>2.0</td>\n",
       "      <td>0</td>\n",
       "      <td>0</td>\n",
       "      <td>3</td>\n",
       "      <td>9.0</td>\n",
       "      <td>3360</td>\n",
       "      <td>0</td>\n",
       "      <td>1997.0</td>\n",
       "      <td>0</td>\n",
       "      <td>98052.0</td>\n",
       "      <td>47.6649</td>\n",
       "      <td>-122.135</td>\n",
       "      <td>1930</td>\n",
       "      <td>9936.0</td>\n",
       "    </tr>\n",
       "    <tr>\n",
       "      <th>21612</th>\n",
       "      <td>825000.0</td>\n",
       "      <td>3.0</td>\n",
       "      <td>2.50</td>\n",
       "      <td>3280.0</td>\n",
       "      <td>26413.0</td>\n",
       "      <td>1.0</td>\n",
       "      <td>0</td>\n",
       "      <td>3</td>\n",
       "      <td>3</td>\n",
       "      <td>11.0</td>\n",
       "      <td>2670</td>\n",
       "      <td>610</td>\n",
       "      <td>1985.0</td>\n",
       "      <td>0</td>\n",
       "      <td>98074.0</td>\n",
       "      <td>47.6395</td>\n",
       "      <td>-122.050</td>\n",
       "      <td>3280</td>\n",
       "      <td>25211.0</td>\n",
       "    </tr>\n",
       "  </tbody>\n",
       "</table>\n",
       "<p>21605 rows × 19 columns</p>\n",
       "</div>"
      ],
      "text/plain": [
       "          price  bedrooms  bathrooms  sqft_living  sqft_lot  floors  \\\n",
       "0      432000.0       5.0       2.75       2060.0  329903.0     1.5   \n",
       "1      170000.0       2.0       1.00        810.0    8424.0     1.0   \n",
       "2      235000.0       3.0       1.00        960.0    5030.0     1.0   \n",
       "3      350000.0       2.0       1.00        830.0    5100.0     1.0   \n",
       "4      397380.0       2.0       1.00       1030.0    5072.0     1.0   \n",
       "...         ...       ...        ...          ...       ...     ...   \n",
       "21608  925500.0       3.0       2.75       1970.0    5200.0     1.5   \n",
       "21609  419900.0       5.0       3.50       2880.0    5000.0     2.0   \n",
       "21610  340000.0       3.0       1.75       1730.0   11986.0     1.0   \n",
       "21611  740000.0       4.0       2.50       3360.0   15091.0     2.0   \n",
       "21612  825000.0       3.0       2.50       3280.0   26413.0     1.0   \n",
       "\n",
       "       waterfront  view  condition  grade  sqft_above  sqft_basement  \\\n",
       "0               0     3          5    7.0        2060              0   \n",
       "1               0     0          4    6.0         810              0   \n",
       "2               0     0          3    7.0         960              0   \n",
       "3               0     0          4    7.0         830              0   \n",
       "4               0     0          3    6.0        1030              0   \n",
       "...           ...   ...        ...    ...         ...            ...   \n",
       "21608           0     3          3    8.0        1970              0   \n",
       "21609           0     0          3    8.0        2260            620   \n",
       "21610           0     3          5    6.0        1730              0   \n",
       "21611           0     0          3    9.0        3360              0   \n",
       "21612           0     3          3   11.0        2670            610   \n",
       "\n",
       "       yr_built  yr_renovated  zipcode      lat     long  sqft_living15  \\\n",
       "0        1989.0             0  98022.0  47.1776 -121.944           2240   \n",
       "1        1959.0             0  98023.0  47.3286 -122.346            820   \n",
       "2        1955.0             0  98118.0  47.5611 -122.280           1460   \n",
       "3        1942.0             0  98126.0  47.5259 -122.379           1220   \n",
       "4        1924.0          1958  98115.0  47.6962 -122.294           1220   \n",
       "...         ...           ...      ...      ...      ...            ...   \n",
       "21608    1915.0          2002  98136.0  47.5374 -122.388           2140   \n",
       "21609    2012.0             0  98038.0  47.3455 -122.023           2590   \n",
       "21610    1918.0             0  98198.0  47.3595 -122.323           2490   \n",
       "21611    1997.0             0  98052.0  47.6649 -122.135           1930   \n",
       "21612    1985.0             0  98074.0  47.6395 -122.050           3280   \n",
       "\n",
       "       sqft_lot15  \n",
       "0        220232.0  \n",
       "1          8424.0  \n",
       "2          5400.0  \n",
       "3          5100.0  \n",
       "4          6781.0  \n",
       "...           ...  \n",
       "21608      5200.0  \n",
       "21609      4800.0  \n",
       "21610      9264.0  \n",
       "21611      9936.0  \n",
       "21612     25211.0  \n",
       "\n",
       "[21605 rows x 19 columns]"
      ]
     },
     "execution_count": 15,
     "metadata": {},
     "output_type": "execute_result"
    }
   ],
   "source": [
    "#drop rows with missing values since minimial amount\n",
    "\n",
    "kchouse = kchouse.dropna(axis=0, inplace=False)\n",
    "\n",
    "kchouse"
   ]
  },
  {
   "cell_type": "markdown",
   "metadata": {},
   "source": [
    "# Split the data into train and test"
   ]
  },
  {
   "cell_type": "code",
   "execution_count": 16,
   "metadata": {},
   "outputs": [],
   "source": [
    "from sklearn.model_selection import train_test_split\n",
    "\n",
    "train, test = train_test_split(kchouse, test_size=0.3)"
   ]
  },
  {
   "cell_type": "markdown",
   "metadata": {},
   "source": [
    "## Check the missing values"
   ]
  },
  {
   "cell_type": "code",
   "execution_count": 17,
   "metadata": {},
   "outputs": [
    {
     "data": {
      "text/plain": [
       "(15123, 19)"
      ]
     },
     "execution_count": 17,
     "metadata": {},
     "output_type": "execute_result"
    }
   ],
   "source": [
    "train.shape"
   ]
  },
  {
   "cell_type": "code",
   "execution_count": 18,
   "metadata": {},
   "outputs": [
    {
     "data": {
      "text/plain": [
       "price            0\n",
       "bedrooms         0\n",
       "bathrooms        0\n",
       "sqft_living      0\n",
       "sqft_lot         0\n",
       "floors           0\n",
       "waterfront       0\n",
       "view             0\n",
       "condition        0\n",
       "grade            0\n",
       "sqft_above       0\n",
       "sqft_basement    0\n",
       "yr_built         0\n",
       "yr_renovated     0\n",
       "zipcode          0\n",
       "lat              0\n",
       "long             0\n",
       "sqft_living15    0\n",
       "sqft_lot15       0\n",
       "dtype: int64"
      ]
     },
     "execution_count": 18,
     "metadata": {},
     "output_type": "execute_result"
    }
   ],
   "source": [
    "train.isna().sum()"
   ]
  },
  {
   "cell_type": "markdown",
   "metadata": {},
   "source": [
    "# Data Prep"
   ]
  },
  {
   "cell_type": "code",
   "execution_count": 20,
   "metadata": {
    "scrolled": true
   },
   "outputs": [],
   "source": [
    "# Imports:\n",
    "\n",
    "from sklearn.compose import ColumnTransformer\n",
    "from sklearn.pipeline import Pipeline\n",
    "from sklearn.impute import SimpleImputer\n",
    "from sklearn.preprocessing import StandardScaler\n",
    "from sklearn.preprocessing import OneHotEncoder"
   ]
  },
  {
   "cell_type": "markdown",
   "metadata": {},
   "source": [
    "## Separate the target variable (don't transform the target)"
   ]
  },
  {
   "cell_type": "code",
   "execution_count": 21,
   "metadata": {},
   "outputs": [],
   "source": [
    "# Separate the target variable and input variables\n",
    "\n",
    "train_targets = train[['price']]\n",
    "test_targets = test[['price']]\n",
    "\n",
    "train_inputs = train.drop(['price'], axis=1)\n",
    "test_inputs = test.drop(['price'], axis=1)"
   ]
  },
  {
   "cell_type": "markdown",
   "metadata": {},
   "source": [
    "##  Identify the numeric, binary, and categorical columns"
   ]
  },
  {
   "cell_type": "code",
   "execution_count": 22,
   "metadata": {},
   "outputs": [
    {
     "data": {
      "text/plain": [
       "bedrooms         float64\n",
       "bathrooms        float64\n",
       "sqft_living      float64\n",
       "sqft_lot         float64\n",
       "floors           float64\n",
       "waterfront         int64\n",
       "view               int64\n",
       "condition          int64\n",
       "grade            float64\n",
       "sqft_above         int64\n",
       "sqft_basement      int64\n",
       "yr_built         float64\n",
       "yr_renovated       int64\n",
       "zipcode          float64\n",
       "lat              float64\n",
       "long             float64\n",
       "sqft_living15      int64\n",
       "sqft_lot15       float64\n",
       "dtype: object"
      ]
     },
     "execution_count": 22,
     "metadata": {},
     "output_type": "execute_result"
    }
   ],
   "source": [
    "train_inputs.dtypes"
   ]
  },
  {
   "cell_type": "code",
   "execution_count": 23,
   "metadata": {},
   "outputs": [],
   "source": [
    "# Identify the numerical columns\n",
    "numeric_columns = ['sqft_living', 'sqft_lot', 'floors', 'view', 'condition', 'grade',\n",
    " 'sqft_above', 'sqft_basement', 'yr_built', 'yr_renovated', 'lat', 'long', 'sqft_living15', 'sqft_lot15']\n",
    "\n",
    "# Identify the categorical columns\n",
    "categorical_columns = ['zipcode']\n",
    "\n",
    "#Itentify the binary columns\n",
    "binary_columns =['waterfront']"
   ]
  },
  {
   "cell_type": "code",
   "execution_count": 24,
   "metadata": {},
   "outputs": [
    {
     "data": {
      "text/plain": [
       "['sqft_living',\n",
       " 'sqft_lot',\n",
       " 'floors',\n",
       " 'view',\n",
       " 'condition',\n",
       " 'grade',\n",
       " 'sqft_above',\n",
       " 'sqft_basement',\n",
       " 'yr_built',\n",
       " 'yr_renovated',\n",
       " 'lat',\n",
       " 'long',\n",
       " 'sqft_living15',\n",
       " 'sqft_lot15']"
      ]
     },
     "execution_count": 24,
     "metadata": {},
     "output_type": "execute_result"
    }
   ],
   "source": [
    "numeric_columns"
   ]
  },
  {
   "cell_type": "code",
   "execution_count": 25,
   "metadata": {},
   "outputs": [
    {
     "data": {
      "text/plain": [
       "['zipcode']"
      ]
     },
     "execution_count": 25,
     "metadata": {},
     "output_type": "execute_result"
    }
   ],
   "source": [
    "categorical_columns"
   ]
  },
  {
   "cell_type": "code",
   "execution_count": 26,
   "metadata": {},
   "outputs": [
    {
     "data": {
      "text/plain": [
       "['waterfront']"
      ]
     },
     "execution_count": 26,
     "metadata": {},
     "output_type": "execute_result"
    }
   ],
   "source": [
    "binary_columns"
   ]
  },
  {
   "cell_type": "markdown",
   "metadata": {},
   "source": [
    "# Pipeline (recommended)\n",
    "\n",
    "If you don't want to use pipelines, feel free to use your own data prep steps."
   ]
  },
  {
   "cell_type": "code",
   "execution_count": 27,
   "metadata": {},
   "outputs": [],
   "source": [
    "# Numeric transformer:\n",
    "numeric_transformer = Pipeline(steps=[\n",
    "                ('imputer', SimpleImputer(strategy='median')),\n",
    "                ('scaler', StandardScaler())])"
   ]
  },
  {
   "cell_type": "code",
   "execution_count": 35,
   "metadata": {},
   "outputs": [],
   "source": [
    "# Categorical transformer:\n",
    "categorical_transformer = Pipeline(steps=[\n",
    "    ('imputer', SimpleImputer(strategy='constant', fill_value=99999)),\n",
    "    ('onehot', OneHotEncoder(handle_unknown='ignore'))])"
   ]
  },
  {
   "cell_type": "code",
   "execution_count": 36,
   "metadata": {},
   "outputs": [],
   "source": [
    "# Binary transformer:\n",
    "binary_transformer = Pipeline(steps=[\n",
    "    ('imputer', SimpleImputer(strategy='most_frequent'))])"
   ]
  },
  {
   "cell_type": "code",
   "execution_count": 37,
   "metadata": {},
   "outputs": [],
   "source": [
    "# Column transformer:\n",
    "preprocessor = ColumnTransformer([\n",
    "        ('num', numeric_transformer, numeric_columns),\n",
    "        ('cat', categorical_transformer, categorical_columns),\n",
    "        ('binary', binary_transformer, binary_columns)],\n",
    "        remainder='passthrough')\n",
    "\n",
    "#passtrough is an optional step. You don't have to use it."
   ]
  },
  {
   "cell_type": "markdown",
   "metadata": {},
   "source": [
    "# Transform: fit_transform() for TRAIN"
   ]
  },
  {
   "cell_type": "code",
   "execution_count": 38,
   "metadata": {},
   "outputs": [
    {
     "data": {
      "text/plain": [
       "<15123x87 sparse matrix of type '<class 'numpy.float64'>'\n",
       "\twith 257189 stored elements in Compressed Sparse Row format>"
      ]
     },
     "execution_count": 38,
     "metadata": {},
     "output_type": "execute_result"
    }
   ],
   "source": [
    "#Fit and transform the train data\n",
    "train_x = preprocessor.fit_transform(train_inputs)\n",
    "\n",
    "train_x"
   ]
  },
  {
   "cell_type": "code",
   "execution_count": 39,
   "metadata": {},
   "outputs": [
    {
     "data": {
      "text/plain": [
       "(15123, 87)"
      ]
     },
     "execution_count": 39,
     "metadata": {},
     "output_type": "execute_result"
    }
   ],
   "source": [
    "train_x.shape"
   ]
  },
  {
   "cell_type": "markdown",
   "metadata": {},
   "source": [
    "# Tranform: transform() for TEST"
   ]
  },
  {
   "cell_type": "code",
   "execution_count": 40,
   "metadata": {},
   "outputs": [
    {
     "data": {
      "text/plain": [
       "<6482x87 sparse matrix of type '<class 'numpy.float64'>'\n",
       "\twith 110236 stored elements in Compressed Sparse Row format>"
      ]
     },
     "execution_count": 40,
     "metadata": {},
     "output_type": "execute_result"
    }
   ],
   "source": [
    "# Transform the test data\n",
    "test_x = preprocessor.transform(test_inputs)\n",
    "\n",
    "test_x"
   ]
  },
  {
   "cell_type": "code",
   "execution_count": 41,
   "metadata": {},
   "outputs": [
    {
     "data": {
      "text/plain": [
       "(6482, 87)"
      ]
     },
     "execution_count": 41,
     "metadata": {},
     "output_type": "execute_result"
    }
   ],
   "source": [
    "test_x.shape"
   ]
  }
 ],
 "metadata": {
  "kernelspec": {
   "display_name": "Python 3",
   "language": "python",
   "name": "python3"
  },
  "language_info": {
   "codemirror_mode": {
    "name": "ipython",
    "version": 3
   },
   "file_extension": ".py",
   "mimetype": "text/x-python",
   "name": "python",
   "nbconvert_exporter": "python",
   "pygments_lexer": "ipython3",
   "version": "3.8.8"
  },
  "nav_menu": {
   "height": "279px",
   "width": "309px"
  },
  "toc": {
   "nav_menu": {},
   "number_sections": true,
   "sideBar": true,
   "skip_h1_title": false,
   "toc_cell": false,
   "toc_position": {},
   "toc_section_display": "block",
   "toc_window_display": false
  }
 },
 "nbformat": 4,
 "nbformat_minor": 1
}
