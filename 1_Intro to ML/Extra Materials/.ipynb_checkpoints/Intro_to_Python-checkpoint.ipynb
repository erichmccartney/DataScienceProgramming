{
 "cells": [
  {
   "cell_type": "markdown",
   "metadata": {
    "slideshow": {
     "slide_type": "slide"
    }
   },
   "source": [
    "# Intro to Python\n"
   ]
  },
  {
   "cell_type": "markdown",
   "metadata": {},
   "source": [
    "There are so many reference books on Python. You can use one such as: <br>\n",
    "Python Crash Course: A Hands-On, Project-Based Introduction to Programming <br>\n",
    "by Eric Matthes"
   ]
  },
  {
   "cell_type": "markdown",
   "metadata": {},
   "source": [
    "## What is Python?\n",
    "\n",
    "Python is an interpreted, object-oriented, high-level programming language with dynamic semantics.  It supports modules and packages, encouraging modularity in design, and code reuse. There are two main variants of Python in use currently - 2.x (which an older lineage that is still quite popular), and 3.x (which is the new and improved version of Python).  We'll be focusing on Python 3.7 in this course.\n",
    "\n",
    "*Python is a language to automate everyday tasks.*\n",
    "\n",
    "It also comes with an extensive set of libraries. We'll be using some of these libraries. \n",
    "                                                                        "
   ]
  },
  {
   "cell_type": "markdown",
   "metadata": {},
   "source": [
    "## Working in Jupyter Notebook\n",
    "\n",
    "Your Jupyter Notebook consists of a number of cells. When you create a new notebook,  it will have a single empty cell.\n",
    "\n",
    "Cells have types - the most important of which for our purposes are `Markdown` (which is a simple formatting syntax -- these descriptive cells are written in Markdown), or `Code` (which is for Python 3.7 code).\n",
    "\n",
    "You can change the type of a cell by using the dropdown control above.\n",
    "\n",
    "You can enter code directly into a cell marked as type `Code` and run it by clicking on the Run button, by selecting `Cell->Run Cells` from the menu, or by typing `SHIFT` + `Return`.\n",
    "\n",
    "If the cell outputs something, this will be visible right underneath it.  "
   ]
  },
  {
   "cell_type": "markdown",
   "metadata": {},
   "source": [
    "Try running the following cell as follows: click anywhere on the cell, then click on the Run button in the toolbar. You'll see the output underneath the cell."
   ]
  },
  {
   "cell_type": "code",
   "execution_count": null,
   "metadata": {},
   "outputs": [],
   "source": [
    "print(\"Hello World!\")"
   ]
  },
  {
   "cell_type": "markdown",
   "metadata": {},
   "source": [
    "You can also run the cells that only have text in them (like this one). Click anywhere on this cell and click on Run in the toolbar. You'll see that nothing will happen. Instead, the cell selection will move down. "
   ]
  },
  {
   "cell_type": "markdown",
   "metadata": {},
   "source": [
    "You'll also see `In [x]` to the left of the cell. The number indicates the order in which the interpreter has run the code cells in the notebook. If the interpreter is busy running a cell,\n",
    "you will see `In [*]` there instead, and the number will replace the `*` character when the cell has completed running."
   ]
  },
  {
   "cell_type": "markdown",
   "metadata": {},
   "source": [
    "Remember, the shorcut for the Run button is `SHIFT` + `Return`. You can do that combination on this cell to run it.\n",
    "\n",
    "A full list of hotkeys is available in the menu `Help->Keyboard Shortcuts`. This might help you get an overview of \n",
    "how you can interact with the notebook. "
   ]
  },
  {
   "cell_type": "markdown",
   "metadata": {},
   "source": [
    "## New Cells\n",
    "\n",
    "You can add new cells via the `Insert` menu above. You can select `Insert Cell Above` or `Insert Cell Below`.  \n",
    "\n",
    "You can also delete cells by selecting `Cut Cells` or `Delete Cells` from the `Edit` menu, or by selecting the cell and using the Scissors icon above.\n",
    "\n",
    "Try inserting some new cells now below this cell. "
   ]
  },
  {
   "cell_type": "markdown",
   "metadata": {},
   "source": [
    "## Python Basics\n",
    "\n",
    "Python is a dynamically typed language. You don't use an explicit type specifier for declaring variables. \n",
    "You don't need to use separators to mark the end of code lines.\n",
    "\n",
    "In Python, indentation is really important. It replaces brackets to delimit blocks of code. You can use\n",
    "either tabs or spaces to indent code, but you must be consistent or Python will complain! \n",
    "\n",
    "You cannot mix tabs and spaces for indentation in Python 3.  \n",
    "\n",
    "The style guide for Python (https://www.python.org/dev/peps/pep-0008) suggests using 4 spaces per \n",
    "indentation level.\n",
    "\n",
    "Comments in Python use the hash character, `#`."
   ]
  },
  {
   "cell_type": "markdown",
   "metadata": {},
   "source": [
    "## Basic principle in coding (and in Python): \n",
    "    \n",
    "1. Create variable(s), \n",
    "2. Assign value(s) to the variable(s)\n",
    "3. Derive new variables or manipulate existing ones using the \"libraries\""
   ]
  },
  {
   "cell_type": "markdown",
   "metadata": {},
   "source": [
    "### Simple Example: value assignment to variables\n",
    "\n",
    "Let's calculate the area of a square using the `width` and `height` variables. First, let's assign values to these variables:"
   ]
  },
  {
   "cell_type": "code",
   "execution_count": null,
   "metadata": {},
   "outputs": [],
   "source": [
    "# Here, \"width\" and \"height\" are variables we generate on the fly.\n",
    "# Then we assign them values using the equal sign.\n",
    "\n",
    "width = 3\n",
    "height = 4"
   ]
  },
  {
   "cell_type": "code",
   "execution_count": null,
   "metadata": {},
   "outputs": [],
   "source": [
    "# let's check the value assignment using the print() function:\n",
    "\n",
    "print(width)"
   ]
  },
  {
   "cell_type": "markdown",
   "metadata": {},
   "source": [
    "We don't always have to type \"print\" to display values. We can also use the variable name and run it to show the value assigned to it. Try running the below code to see the value of `height`"
   ]
  },
  {
   "cell_type": "code",
   "execution_count": null,
   "metadata": {},
   "outputs": [],
   "source": [
    "height"
   ]
  },
  {
   "cell_type": "markdown",
   "metadata": {},
   "source": [
    "### Simple Example: calculations"
   ]
  },
  {
   "cell_type": "code",
   "execution_count": null,
   "metadata": {},
   "outputs": [],
   "source": [
    "# Let's calculate the area \n",
    "area = width * height\n",
    "\n",
    "# This displays the calculation\n",
    "print(area)"
   ]
  },
  {
   "cell_type": "markdown",
   "metadata": {},
   "source": [
    "### Built-in Python Functions\n",
    "\n",
    "There are a lot of built-in function in Python. We can use them to perform simple tasks."
   ]
  },
  {
   "cell_type": "code",
   "execution_count": null,
   "metadata": {},
   "outputs": [],
   "source": [
    "# Let's use the \"max()\" function to find the maximum of a set of values:\n",
    "\n",
    "max(3,4,5)"
   ]
  },
  {
   "cell_type": "code",
   "execution_count": null,
   "metadata": {},
   "outputs": [],
   "source": [
    "# Let's use the \"round()\" function to round a number\n",
    "# In this example, we are rounding a number to two decimal places\n",
    "\n",
    "round(3.456435, 2)"
   ]
  },
  {
   "cell_type": "markdown",
   "metadata": {},
   "source": [
    "### Custom function\n",
    "You could also create your own \"function\" and *pass* values to this function. This is better than hardcoding the width and height values into the code"
   ]
  },
  {
   "cell_type": "code",
   "execution_count": null,
   "metadata": {},
   "outputs": [],
   "source": [
    "# This creates a function called \"CalculateArea\"\n",
    "# The function takes two values and returns the multiplication of these values\n",
    "\n",
    "def CalculateArea(height, width):\n",
    "    return height * width"
   ]
  },
  {
   "cell_type": "code",
   "execution_count": null,
   "metadata": {},
   "outputs": [],
   "source": [
    "#This passes the value 3 to width, and the value 4 to height\n",
    "\n",
    "area = CalculateArea(3, 4)\n",
    "\n",
    "# This displays the value of area\n",
    "print (area)"
   ]
  },
  {
   "cell_type": "markdown",
   "metadata": {},
   "source": [
    "Once you define a function, it stays there as long as you close the application. (It disappears after closing the notebook). Now, try changing the values 3 and 4 with two different values to calculate another area.\n"
   ]
  },
  {
   "cell_type": "code",
   "execution_count": null,
   "metadata": {},
   "outputs": [],
   "source": [
    "# Change the values X and Y with two integer values and run the cell\n",
    "\n",
    "area = CalculateArea(4, 5)\n",
    "\n",
    "print(area)"
   ]
  },
  {
   "cell_type": "code",
   "execution_count": null,
   "metadata": {},
   "outputs": [],
   "source": [
    "#You can also send the parameters using keywords:\n",
    "\n",
    "area = CalculateArea(height=10, width=4)\n",
    "\n",
    "print(area)"
   ]
  },
  {
   "cell_type": "code",
   "execution_count": null,
   "metadata": {},
   "outputs": [],
   "source": [
    "#You can have default value for some parameters\n",
    "\n",
    "def Volume (height, width, depth=10):\n",
    "    return height * width * depth\n",
    "\n",
    "Volume(2,3)"
   ]
  },
  {
   "cell_type": "code",
   "execution_count": null,
   "metadata": {},
   "outputs": [],
   "source": [
    "# OR orverride the default value\n",
    "\n",
    "Volume(2,3,5)"
   ]
  },
  {
   "cell_type": "markdown",
   "metadata": {},
   "source": [
    "### Basic Data Types\n",
    "\n",
    "- float (numbers with decimals, e.g., 3.14)\n",
    "- int (integer, e.g., 3)\n",
    "- str (string or text, needs double or single quotes)\n",
    " - e.g., “Hello World!”\n",
    " - e.g., ‘Hello World!’\n",
    "- bool (Boolean or True/False)"
   ]
  },
  {
   "cell_type": "markdown",
   "metadata": {},
   "source": [
    "### String example:\n",
    "\n",
    "String literals in Python can be enclosed in either matched single quotes (') or matched double quotes (\"). You can use + to perform concatenation on strings."
   ]
  },
  {
   "cell_type": "code",
   "execution_count": null,
   "metadata": {},
   "outputs": [],
   "source": [
    "# Create two strings\n",
    "string1 = 'Hello'\n",
    "string2 = \"There\"\n"
   ]
  },
  {
   "cell_type": "code",
   "execution_count": null,
   "metadata": {},
   "outputs": [],
   "source": [
    "# This code concatenates both strings using a space character in between\n",
    "string3 = string1 + \" \" + string2\n",
    "\n",
    "print(string3)"
   ]
  },
  {
   "cell_type": "code",
   "execution_count": null,
   "metadata": {},
   "outputs": [],
   "source": [
    "# You can easily change between upper/lowercase by calling the string \"methods\" upper() and lower()\n",
    "\n",
    "print(string1.upper() + \" \" + string2.lower())"
   ]
  },
  {
   "cell_type": "code",
   "execution_count": null,
   "metadata": {},
   "outputs": [],
   "source": [
    "#You can also insert new line while printing\n",
    "\n",
    "print(string1.upper() + \"\\n\" + string2.lower())"
   ]
  },
  {
   "cell_type": "code",
   "execution_count": null,
   "metadata": {},
   "outputs": [],
   "source": [
    "#How do you use the quotation in a string: use the escape character \\\n",
    "\n",
    "print('This is Mary\\'s book')"
   ]
  },
  {
   "cell_type": "markdown",
   "metadata": {},
   "source": [
    "See https://docs.python.org/3.6/library/stdtypes.html#string-methods for more string methods!"
   ]
  },
  {
   "cell_type": "markdown",
   "metadata": {},
   "source": [
    "### Number data type\n",
    "You already saw the number data type. You can store numbers in variables."
   ]
  },
  {
   "cell_type": "code",
   "execution_count": null,
   "metadata": {},
   "outputs": [],
   "source": [
    "# Create an age variable:\n",
    "age = 34\n",
    "\n",
    "print(age)"
   ]
  },
  {
   "cell_type": "code",
   "execution_count": null,
   "metadata": {},
   "outputs": [],
   "source": [
    "#Float is python's decimal numbers:\n",
    "\n",
    "temp = 75.55\n",
    "\n",
    "print(temp)"
   ]
  },
  {
   "cell_type": "code",
   "execution_count": null,
   "metadata": {},
   "outputs": [],
   "source": [
    "#Can't concatenate numbers with strings unless you change the number to string\n",
    "\n",
    "print('My age is ' + str(age))"
   ]
  },
  {
   "cell_type": "code",
   "execution_count": null,
   "metadata": {},
   "outputs": [],
   "source": [
    "#Or, you can use formatting instead of using str\n",
    "\n",
    "print('My age is {}'.format(age))"
   ]
  },
  {
   "cell_type": "code",
   "execution_count": null,
   "metadata": {},
   "outputs": [],
   "source": [
    "#Or, you can use formatting instead of using str\n",
    "\n",
    "print('My age is {}. And the temp is {}'.format(age, temp))"
   ]
  },
  {
   "cell_type": "markdown",
   "metadata": {},
   "source": [
    "For more information on numbers: https://docs.python.org/3.6/library/stdtypes.html#numeric-types-int-float-complex"
   ]
  },
  {
   "cell_type": "markdown",
   "metadata": {},
   "source": [
    "## More Advanced Data Structures\n",
    "\n",
    "In Python, we usually have a lot of variables. For example, imagine having different \"width\" values. We would have to create multiple variables for each of them:\n",
    "\n",
    "width1 = 3\n",
    "\n",
    "width2 = 4\n",
    "\n",
    "width3 = 8\n",
    "\n",
    "(etc.)\n",
    "\n",
    "It becomes difficult to create a new variable each time there is a new value. Instead, we can take advantage of a single variable that can store \"multiple values\". "
   ]
  },
  {
   "cell_type": "markdown",
   "metadata": {},
   "source": [
    "### Python Lists\n",
    "\n",
    "Python supports a list type to store multiple values using a single variable name. \n"
   ]
  },
  {
   "cell_type": "code",
   "execution_count": null,
   "metadata": {},
   "outputs": [],
   "source": [
    "#Let's create a list/array of people:\n",
    "\n",
    "people = [ 'Mary', 'Kevin', 'Venki', 'Cyril', 'Jane', 'Pierre', 'Xin', 'Andre']"
   ]
  },
  {
   "cell_type": "markdown",
   "metadata": {},
   "source": [
    "Python uses index numbers to keep track of the list entries.\n",
    "\n",
    "The index numbers start from zero. For example, for the above list, **'Mary' is the 0th entry.**\n",
    "\n",
    "Therefore, **'Kevin' is the 1st entry.** We need to use these index values to retrieve these values."
   ]
  },
  {
   "cell_type": "code",
   "execution_count": null,
   "metadata": {},
   "outputs": [],
   "source": [
    "people[1]"
   ]
  },
  {
   "cell_type": "markdown",
   "metadata": {},
   "source": [
    "We can also retrieve a slice of the list.\n",
    "\n",
    "In this case, we use the following syntax: [start index : end index]\n",
    "\n",
    "**Be careful: starting index is inclusive, ending index is exclusive**\n",
    "\n",
    "If you omit one of the index values, it means all preceding/succeeding items"
   ]
  },
  {
   "cell_type": "code",
   "execution_count": null,
   "metadata": {},
   "outputs": [],
   "source": [
    "people[0:2]"
   ]
  },
  {
   "cell_type": "code",
   "execution_count": null,
   "metadata": {},
   "outputs": [],
   "source": [
    "#Let's add one more person to the list/array\n",
    "\n",
    "people.append('Susan')\n",
    "\n",
    "people"
   ]
  },
  {
   "cell_type": "code",
   "execution_count": null,
   "metadata": {},
   "outputs": [],
   "source": [
    "#Let's remove from the list/array:\n",
    "\n",
    "people.remove('Kevin')\n",
    "\n",
    "people"
   ]
  },
  {
   "cell_type": "code",
   "execution_count": null,
   "metadata": {},
   "outputs": [],
   "source": [
    "#Sometimes you need the length of a list (so you can go iterate over the items)\n",
    "\n",
    "len(people)"
   ]
  },
  {
   "cell_type": "code",
   "execution_count": null,
   "metadata": {},
   "outputs": [],
   "source": [
    "#Retreiving the last item\n",
    "people[-1]"
   ]
  },
  {
   "cell_type": "markdown",
   "metadata": {},
   "source": [
    "There are many other things you can do with lists, but we will not be concerned with them in this class."
   ]
  },
  {
   "cell_type": "markdown",
   "metadata": {},
   "source": [
    "## Two-dimensional lists\n",
    "\n",
    "We can also create two dimensional lists. You can think of these lists as tables with rows and columns."
   ]
  },
  {
   "cell_type": "code",
   "execution_count": null,
   "metadata": {},
   "outputs": [],
   "source": [
    "# Let's create a two dimensional list\n",
    "\n",
    "ages = [['Mary', 34],\n",
    "        ['Kevin', 43],\n",
    "        ['Venki', 51],\n",
    "        ['Cyril', 22],\n",
    "        ['Jane', 44],\n",
    "        ['Pierre', 38],\n",
    "        ['Xin', 31],\n",
    "        ['Andre', 25]]"
   ]
  },
  {
   "cell_type": "markdown",
   "metadata": {},
   "source": [
    "Here, 'Mary, 34' is considered is row 0.\n",
    "\n",
    "Therefore, row 1 is 'Kevin, 43'.\n",
    "\n",
    "Similarly, the *name* column is considered col 0. So, the *age* column is col 1.\n",
    "\n",
    "We need to use this indexing schema to retrieve values.\n",
    "\n",
    "While retreiveing values, we need the following format: `list[row index][column index]`"
   ]
  },
  {
   "cell_type": "code",
   "execution_count": null,
   "metadata": {},
   "outputs": [],
   "source": [
    "# Let's retrieve Mary. This will be row 0, col 0:\n",
    "\n",
    "print(ages[0][0])"
   ]
  },
  {
   "cell_type": "code",
   "execution_count": null,
   "metadata": {},
   "outputs": [],
   "source": [
    "#Let's retrieve the row for Jane:\n",
    "\n",
    "print(ages[4])"
   ]
  },
  {
   "cell_type": "markdown",
   "metadata": {},
   "source": [
    "## Dictionaries\n",
    "\n",
    "Dictionaries are similar to arrays, but instead of indexing by number, you index with a 'key'. The variable the key responds to is called a 'value'. Like arrays, you can add, modify and remove items from dictionaries.\n"
   ]
  },
  {
   "cell_type": "code",
   "execution_count": null,
   "metadata": {},
   "outputs": [],
   "source": [
    "# Let's create the two dimensional list in a dictionary format. \n",
    "# Be careful, we don't have any square brackets. Instead, we have curly braces and colon.\n",
    "\n",
    "ages_dict = {'Mary': 34,\n",
    "        'Kevin': 43,\n",
    "        'Venki': 51,\n",
    "        'Cyril': 22,\n",
    "        'Jane': 44,\n",
    "        'Pierre': 38,\n",
    "        'Xin': 31,\n",
    "        'Andre': 25}"
   ]
  },
  {
   "cell_type": "code",
   "execution_count": null,
   "metadata": {},
   "outputs": [],
   "source": [
    "# We can retrieve a \"value\" by searching for the \"key\" value. However, we use square brackets this time:\n",
    "\n",
    "ages_dict['Mary']"
   ]
  },
  {
   "cell_type": "code",
   "execution_count": null,
   "metadata": {},
   "outputs": [],
   "source": [
    "# Let's print all \"keys:\n",
    "\n",
    "ages_dict.keys()"
   ]
  },
  {
   "cell_type": "code",
   "execution_count": null,
   "metadata": {},
   "outputs": [],
   "source": [
    "# Let's print all \"values\"\n",
    "\n",
    "ages_dict.values()"
   ]
  },
  {
   "cell_type": "markdown",
   "metadata": {},
   "source": [
    "## Loops in Python\n",
    "\n",
    "`For` loops in Python iterate across a list. (There are multiple ways to write `for` loops.) You can use the range method to create a list for numbers. The range is inclusive of the starting number, but exclusive of the terminating number. For example:\n"
   ]
  },
  {
   "cell_type": "code",
   "execution_count": null,
   "metadata": {},
   "outputs": [],
   "source": [
    "# the variable \"i\" is usually used to to \"iterate\" across a range:\n",
    "\n",
    "for i in range(0,10):\n",
    "    print(i)   "
   ]
  },
  {
   "cell_type": "markdown",
   "metadata": {},
   "source": [
    "You can also create loops using `while`:"
   ]
  },
  {
   "cell_type": "code",
   "execution_count": null,
   "metadata": {},
   "outputs": [],
   "source": [
    "i = 0\n",
    "while i < 10:\n",
    "    print(i)\n",
    "    i = i + 1 \n",
    "\n",
    "# Be careful, here you need to increment i by 1 manually. "
   ]
  },
  {
   "cell_type": "code",
   "execution_count": null,
   "metadata": {},
   "outputs": [],
   "source": [
    "#Iterate through lists/arrays\n",
    "people = [ 'Mary', 'Kevin', 'Venki', 'Cyril', 'Jane', 'Pierre', 'Xin', 'Andre']\n",
    "\n",
    "for person in people:\n",
    "    print (person)"
   ]
  },
  {
   "cell_type": "code",
   "execution_count": null,
   "metadata": {},
   "outputs": [],
   "source": [
    "#Iterate through lists/arrays\n",
    "people = [ 'Mary', 'Kevin', 'Venki', 'Cyril', 'Jane', 'Pierre', 'Xin', 'Andre']\n",
    "\n",
    "for _ in people:\n",
    "    print (_)"
   ]
  },
  {
   "cell_type": "code",
   "execution_count": null,
   "metadata": {},
   "outputs": [],
   "source": [
    "#Iterate through dictionary items\n",
    "ages_dict = {'Mary': 34,\n",
    "        'Kevin': 43,\n",
    "        'Venki': 51,\n",
    "        'Cyril': 22,\n",
    "        'Jane': 44,\n",
    "        'Pierre': 38,\n",
    "        'Xin': 31,\n",
    "        'Andre': 25}\n",
    "\n",
    "\n",
    "for _ in ages_dict.keys():\n",
    "    print (_)"
   ]
  },
  {
   "cell_type": "code",
   "execution_count": null,
   "metadata": {},
   "outputs": [],
   "source": [
    "for _ in ages_dict.values():\n",
    "    print (_)"
   ]
  },
  {
   "cell_type": "markdown",
   "metadata": {},
   "source": [
    "**Loops are very useful when you need to perform the same task over and over again.** We will not be using loops in this class."
   ]
  },
  {
   "cell_type": "markdown",
   "metadata": {},
   "source": [
    "## IF conditions in Python\n",
    "\n",
    "If conditions can help you check for truth values. (They are very similar to the IF functions you use in Excel.) If the condition is true, you can take a certain action, if not, you can take another action. \n",
    "\n",
    "Conditional statements are ended with a colon before the block of code they guard. For example:"
   ]
  },
  {
   "cell_type": "code",
   "execution_count": null,
   "metadata": {},
   "outputs": [],
   "source": [
    "# Let's set the variable \"weather\" to sunny\n",
    "weather = 'sunny'\n"
   ]
  },
  {
   "cell_type": "code",
   "execution_count": null,
   "metadata": {},
   "outputs": [],
   "source": [
    "# This code will display the first statement if condition is True. \n",
    "# Otherwise, it displays the second statement. \n",
    "\n",
    "if weather == 'sunny':\n",
    "    print('It is sunny!')\n",
    "else:\n",
    "    print('It could be rainy!')"
   ]
  },
  {
   "cell_type": "code",
   "execution_count": null,
   "metadata": {},
   "outputs": [],
   "source": [
    "#Checking multiple conditions: \n",
    "temp = 80\n",
    "weather = 'sunny'\n",
    "\n",
    "\n",
    "if (weather == 'sunny') and (temp > 75):\n",
    "    print('It is humid!')\n",
    "else:\n",
    "    print('It could be dry!')"
   ]
  },
  {
   "cell_type": "code",
   "execution_count": null,
   "metadata": {},
   "outputs": [],
   "source": [
    "#Working with lists\n",
    "people = [ 'Mary', 'Kevin', 'Venki', 'Cyril', 'Jane', 'Pierre', 'Xin', 'Andre']\n",
    "\n",
    "if 'Mary' in people:\n",
    "    print ('Mary is in the list')\n",
    "else:\n",
    "    print ('Mary is NOT in the list')"
   ]
  },
  {
   "cell_type": "markdown",
   "metadata": {},
   "source": [
    "## Methods\n",
    "Python has \"methods\" which are functions specific to \"objects\". \n",
    "\n",
    "In fact, you have already used several methods for the list and dictionary objects.\n",
    "\n",
    "Methods are usually appended at the end of objects. Here is the notation to use a method: `object.method()`"
   ]
  },
  {
   "cell_type": "code",
   "execution_count": null,
   "metadata": {},
   "outputs": [],
   "source": [
    "# Recall the ages dictionary array. Let's recreate it:\n",
    "\n",
    "ages_dict = {'Mary': 34,\n",
    "        'Kevin': 43,\n",
    "        'Venki': 51,\n",
    "        'Cyril': 22,\n",
    "        'Jane': 44,\n",
    "        'Pierre': 38,\n",
    "        'Xin': 31,\n",
    "        'Andre': 25}"
   ]
  },
  {
   "cell_type": "code",
   "execution_count": null,
   "metadata": {},
   "outputs": [],
   "source": [
    "# Let's try the keys() function of the dictionary objec\n",
    "\n",
    "ages_dict.keys()"
   ]
  },
  {
   "cell_type": "markdown",
   "metadata": {},
   "source": [
    "The `keys()` method is specific for a dictionary object (here, \"ages_dict\" is called a dictionary object). It won't work with any other data type."
   ]
  },
  {
   "cell_type": "code",
   "execution_count": null,
   "metadata": {},
   "outputs": [],
   "source": [
    "# Try running this code.\n",
    "# It will create an error, because a string object doesn't have a method called \"keys()\"\n",
    "\n",
    "txt = 'Hello World!'\n",
    "\n",
    "txt.keys()"
   ]
  },
  {
   "cell_type": "code",
   "execution_count": null,
   "metadata": {},
   "outputs": [],
   "source": [
    "# But a string object has a method called \"upper()\" to convert it to capitalize it:\n",
    "# Similarly, the dictionary object doesn't have the \"upper()\" method.\n",
    "\n",
    "txt.upper()"
   ]
  },
  {
   "cell_type": "markdown",
   "metadata": {},
   "source": [
    "So, then the question is: how would you know which method to use for each object? The Internet and the Python documentation will be your friend!"
   ]
  },
  {
   "cell_type": "markdown",
   "metadata": {},
   "source": [
    "## Classes"
   ]
  },
  {
   "cell_type": "code",
   "execution_count": null,
   "metadata": {},
   "outputs": [],
   "source": [
    "class car():\n",
    "    \n",
    "    #This method is mandatory to create. self is mandatory as the first attribute\n",
    "    #color and model are aother \"attributes\"\n",
    "    def __init__ (self, color, model):\n",
    "        self.color = color\n",
    "        self.model = model\n",
    "        \n",
    "    #Let's create a \"method\" so it can \"start\":\n",
    "    def start(self):\n",
    "        return print('You started the car')\n",
    "    \n",
    "    #Let's stop the engine:\n",
    "    def stop(self):\n",
    "        return print('You killed the engine')"
   ]
  },
  {
   "cell_type": "code",
   "execution_count": null,
   "metadata": {},
   "outputs": [],
   "source": [
    "#Let's create a car object:\n",
    "\n",
    "mycar = car('red', 'SUV')"
   ]
  },
  {
   "cell_type": "code",
   "execution_count": null,
   "metadata": {},
   "outputs": [],
   "source": [
    "#Let's start the car:\n",
    "\n",
    "mycar.start()"
   ]
  },
  {
   "cell_type": "code",
   "execution_count": null,
   "metadata": {},
   "outputs": [],
   "source": [
    "#Let's stop the engine:\n",
    "\n",
    "mycar.stop()"
   ]
  },
  {
   "cell_type": "code",
   "execution_count": null,
   "metadata": {},
   "outputs": [],
   "source": [
    "#Let's call the \"color\" attribute:\n",
    "\n",
    "mycar.color"
   ]
  },
  {
   "cell_type": "markdown",
   "metadata": {},
   "source": [
    "Now, you can save this class as a .py file and later \"import\" into another file."
   ]
  },
  {
   "cell_type": "markdown",
   "metadata": {},
   "source": [
    "## Python Packages/Libraries\n",
    "\n",
    "The default installation of Python comes with a lot of built-in objects, methods, and functions. But sometimes we need specialized packages (also called libraries) to perform special tasks. \n",
    "\n",
    "These packages/libraries are developed by developers. For example, there is a Matplotlib package that was developed to create nice charts and visualizations in Python. \n",
    "\n",
    "We can use these packages/libraries only by importing them from trusted sources. Libraries in Python are imported using the `import` keyword. "
   ]
  },
  {
   "cell_type": "markdown",
   "metadata": {},
   "source": [
    "## NumPy Package\n",
    "\n",
    "NumPy is the fundamental package for scientific computing with Python. It includes powerful arrays and many sophisticated functions. Numpy arrays are similar to Python **lists** you have seen earlier. NumPy arrays are slightly different. They are generally more compact and faster to access. For data science, we typically prefer using NumPy arrays for performance reasons.\n",
    "\n",
    "**Be careful, numpy wants the values to be of the same data type. It is designed for \"homogeneous\" tables - such as those that consist only of numbers. There shouldn't be any text in a table.**\n",
    "\n",
    "After importing a library like Numpy, we can use its objects/functions only by calling the library's name.\n",
    "\n",
    "\n"
   ]
  },
  {
   "cell_type": "code",
   "execution_count": null,
   "metadata": {},
   "outputs": [],
   "source": [
    "# using this code, we import the numpy library and refer to it as np for short\n",
    "\n",
    "import numpy as np  "
   ]
  },
  {
   "cell_type": "code",
   "execution_count": null,
   "metadata": {},
   "outputs": [],
   "source": [
    "# Let's create a one-dimensional numpy array:\n",
    "myArray = np.array ([1,2,3,4,5,6,7,8])\n"
   ]
  },
  {
   "cell_type": "code",
   "execution_count": null,
   "metadata": {},
   "outputs": [],
   "source": [
    "# Let's print the same numpy array:\n",
    "\n",
    "myArray"
   ]
  },
  {
   "cell_type": "markdown",
   "metadata": {},
   "source": [
    "We can also create two-dimensional arrays. You can think of this as rows and columns again."
   ]
  },
  {
   "cell_type": "code",
   "execution_count": null,
   "metadata": {},
   "outputs": [],
   "source": [
    "# Let's recreate the ages array we did earlier using a numpy array:\n",
    "# Since values need to be homogeneous, let's use numbers for people names.\n",
    "ages_array = np.array(\n",
    "        [[0, 34],\n",
    "        [1, 43],\n",
    "        [2, 51],\n",
    "        [3, 22],\n",
    "        [4, 44],\n",
    "        [5, 38],\n",
    "        [6, 31],\n",
    "        [7, 25]]\n",
    "        )"
   ]
  },
  {
   "cell_type": "code",
   "execution_count": null,
   "metadata": {},
   "outputs": [],
   "source": [
    "print(ages_array)"
   ]
  },
  {
   "cell_type": "code",
   "execution_count": null,
   "metadata": {},
   "outputs": [],
   "source": [
    "# We can retreive the values the same way we did before:\n",
    "ages_array[0][0]"
   ]
  },
  {
   "cell_type": "code",
   "execution_count": null,
   "metadata": {},
   "outputs": [],
   "source": [
    "# This retrieves the first row\n",
    "ages_array[0][:]"
   ]
  },
  {
   "cell_type": "code",
   "execution_count": null,
   "metadata": {},
   "outputs": [],
   "source": [
    "# Let's retrieve all ages. Here, colon means all rows, 1 means the ages column\n",
    "ages_array[:,1]"
   ]
  },
  {
   "cell_type": "code",
   "execution_count": null,
   "metadata": {},
   "outputs": [],
   "source": [
    "# Let's find the mean age:\n",
    "ages_array[:,1].mean()"
   ]
  },
  {
   "cell_type": "code",
   "execution_count": null,
   "metadata": {},
   "outputs": [],
   "source": [
    "# You can also retrieve the size or shape of an array:\n",
    "# When you run this code, the first value corresponds to total number of rows\n",
    "# The second value corresponds to total number of columns\n",
    "ages_array.shape"
   ]
  },
  {
   "cell_type": "markdown",
   "metadata": {},
   "source": [
    "## Matplotlib Package\n",
    "\n",
    "The Matplotlib package helps you create charts and graphs. If you master this package, you can create very nice visualizations."
   ]
  },
  {
   "cell_type": "code",
   "execution_count": null,
   "metadata": {},
   "outputs": [],
   "source": [
    "# First we need to import it and call it \"plt\" for short\n",
    "\n",
    "import matplotlib.pyplot as plt"
   ]
  },
  {
   "cell_type": "code",
   "execution_count": null,
   "metadata": {},
   "outputs": [],
   "source": [
    "# Let's create two Python lists:\n",
    "year = [2000, 2005, 2010, 2015]\n",
    "\n",
    "GDP = [1.17, 2.43, 3.22, 3.02]"
   ]
  },
  {
   "cell_type": "code",
   "execution_count": null,
   "metadata": {},
   "outputs": [],
   "source": [
    "# Now, we need to tell Python to \"display\" the charts as we create them\n",
    "%matplotlib inline"
   ]
  },
  {
   "cell_type": "code",
   "execution_count": null,
   "metadata": {},
   "outputs": [],
   "source": [
    "# Now, create a line chart\n",
    "plt.plot(year, GDP)\n",
    "\n",
    "plt.show()"
   ]
  },
  {
   "cell_type": "code",
   "execution_count": null,
   "metadata": {},
   "outputs": [],
   "source": [
    "# We could also create a bar chart:\n",
    "plt.bar(year, GDP)\n",
    "\n",
    "plt.show()"
   ]
  },
  {
   "cell_type": "markdown",
   "metadata": {},
   "source": [
    "The Pyplot library allows you create highly customized charts. You can insert axis names, data labels, color-coded lines, and other enhancements that make your charts stand out."
   ]
  },
  {
   "cell_type": "code",
   "execution_count": null,
   "metadata": {},
   "outputs": [],
   "source": [
    "# Let's add axis labels:\n",
    "plt.xlabel('Year')\n",
    "plt.ylabel('Gross Domestic Product')\n",
    "\n",
    "# Let's add chart title:\n",
    "plt.title('This is my chart')\n",
    "\n",
    "# Let's fill in some color:\n",
    "plt.fill_between(year, GDP, 0, color='red')\n",
    "\n",
    "# Finally, show the chart:\n",
    "plt.show()"
   ]
  },
  {
   "cell_type": "markdown",
   "metadata": {},
   "source": [
    "## Pandas Package\n",
    "\n",
    "The Pandas library is similar to Numpy. Though, it doesn't require a homogeneous table. Therefore, it is better for non-homogeneous table. You'll be using this library in your assignments.\n",
    "\n",
    "It is specifically designed to analyze tables in SQL databases and Excel sheets. So, it is becoming the preferred library among data scientists. For more information about pandas visit the following link: http://pandas.pydata.org/pandas-docs/stable/"
   ]
  },
  {
   "cell_type": "code",
   "execution_count": null,
   "metadata": {},
   "outputs": [],
   "source": [
    "# Importing pandas\n",
    "\n",
    "import pandas as pd"
   ]
  },
  {
   "cell_type": "markdown",
   "metadata": {},
   "source": [
    "We'll be using the \"DataFrame\" data structure of Pandas. \n",
    "\n",
    "You can think of the \"DataFrame\" as a data type like a Python list, or dictionary. But it provides more features and functionalities.\n",
    "\n",
    "DataFrame is a 2-dimensional labeled data structure with columns of potentially different types. You can think of it like a spreadsheet or SQL table\n",
    "\n",
    "Let's import the ages file - which is in CSV format. It looks like this in Excel: \n",
    "<img src='images\\CSV.jpg' style=\"width: 200px;\">"
   ]
  },
  {
   "cell_type": "code",
   "execution_count": null,
   "metadata": {},
   "outputs": [],
   "source": [
    "# Let's import the CSV file. It imports both the values and the column names. \n",
    "ages_df = pd.read_csv('example_dataframe.csv')\n",
    "\n",
    "ages_df"
   ]
  },
  {
   "cell_type": "markdown",
   "metadata": {},
   "source": [
    "Notice that when you create/import a dataframe, Pandas assigns an \"index\" to each row - if you don't define your own index. You can see the index as the leftmost column (the numbers that start with 0). This index is used to identify and retrieve the data. "
   ]
  },
  {
   "cell_type": "code",
   "execution_count": null,
   "metadata": {},
   "outputs": [],
   "source": [
    "# Let's display the first 5 rows of the dataframe:\n",
    "\n",
    "ages_df.head()"
   ]
  },
  {
   "cell_type": "code",
   "execution_count": null,
   "metadata": {},
   "outputs": [],
   "source": [
    "# We can retrieve using columns names: \n",
    "\n",
    "ages_df['Name']"
   ]
  },
  {
   "cell_type": "code",
   "execution_count": null,
   "metadata": {},
   "outputs": [],
   "source": [
    "# Retrieve the age column:\n",
    "\n",
    "ages_df['Age']"
   ]
  },
  {
   "cell_type": "code",
   "execution_count": null,
   "metadata": {},
   "outputs": [],
   "source": [
    "# Let's add a new column for \"Spouse Age\":\n",
    "ages_df['SpouseAge'] = [31, 44, 50, 25, 48, 35, 29, 28]\n",
    "\n",
    "ages_df"
   ]
  },
  {
   "cell_type": "code",
   "execution_count": null,
   "metadata": {},
   "outputs": [],
   "source": [
    "# Let's create a new calculated column by taking the age difference:\n",
    "ages_df['AgeDiff'] = ages_df['Age'] - ages_df['SpouseAge']\n",
    "\n",
    "ages_df"
   ]
  },
  {
   "cell_type": "code",
   "execution_count": null,
   "metadata": {},
   "outputs": [],
   "source": [
    "# Let's combine several things we learned:\n",
    "# Let's create a new column based on whether the age difference is positive or negative.\n",
    "# If it is negative, the column will have a value of \"negative,\n",
    "# if it is zero or positive, it will have a value of \"zero or positive\"\n",
    "\n",
    "# First we need to create a custom function:\n",
    "\n",
    "def NewColumn (inputdataframe):\n",
    "    if (inputdataframe['AgeDiff'] < 0):\n",
    "        return 'negative'\n",
    "    else:\n",
    "        return 'zero or positive'\n",
    "    \n",
    "\n",
    "# Now, we create a new column called \"Sign\" and apply the function on it:\n",
    "ages_df['Sign'] = ages_df.apply(NewColumn, axis=1)"
   ]
  },
  {
   "cell_type": "code",
   "execution_count": null,
   "metadata": {},
   "outputs": [],
   "source": [
    "# Let's display the dataframe:\n",
    "\n",
    "ages_df"
   ]
  },
  {
   "cell_type": "code",
   "execution_count": null,
   "metadata": {},
   "outputs": [],
   "source": [
    "# Let's retrieve Kevin's row. We need to use its index number, which is 1\n",
    "ages_df.loc[1]\n",
    "\n",
    "# Notice that the record is transposed for presentation purposes:"
   ]
  },
  {
   "cell_type": "code",
   "execution_count": null,
   "metadata": {},
   "outputs": [],
   "source": [
    "# If you want to retrieve only the age difference for Kevin:\n",
    "ages_df['AgeDiff'].loc[1]"
   ]
  },
  {
   "cell_type": "markdown",
   "metadata": {},
   "source": [
    "You can do a lot more with Pandas. For example, you can read CSV files, which makes it an ideal candidate to analyze big data sets with columns names. We'll experiment with some of these features in the activity and deliverable."
   ]
  },
  {
   "cell_type": "markdown",
   "metadata": {},
   "source": [
    "# Jupyter Notebooks: Important Tips and Tricks\n",
    "\n",
    "A Jupyter Notebook is a very useful tools for mixing documentation (in Markdown) and code (in our case, in Python) in a single online editable notebook. You can run the code, and evaluate its output live in the notebook.\n",
    "\n",
    "When you execute code in a Juptyer Notebook, it actually runs in a `kernel` - that is, a small piece of code running locally in your own Jupyter Notebooks server.  The output from this kernel is then rendered in your web browser.\n",
    "\n",
    "The kernel's environment is built up as you run cells of code. Therefore, it is important in many of the labs to run the code blocks in the order they appear in the notebook. Some of these earlier blocks are importing libraries and setting up data structures and variables that will be referenced later in the lab. If you run the code out of order, you might see strange errors. You can always select `Kernel->Restart` to clear the slate if things go funny.\n",
    "\n",
    "There is always the chance that something goes wrong. You can try the menu option `Kernel->Reconnect` to see if it is \n",
    "possible to connect again to running kernel without interrupting computations (but some part of your output may \n",
    "already be lost).\n",
    "\n",
    "If you find the Notebook is becoming fully unresponsive after waiting a significant period of time, you can click on the `Kernel` menu, and select `Interrupt` and try running that cell again. You can also select `Restart` but this will clear the kernel of any memory it had previously, so you will need to start running code from the start of the notebook again.\n",
    "\n",
    "There is a chance that you will see occasional `MemoryError` exception messages in your notebooks. If you do, don't panic -- our advice is simply to select `Restart and Clear Output` under Kernel and try again.  \n",
    "\n",
    "### Saving your notebook\n",
    "\n",
    "Most of your changes are saved automatically to your notebooks. But you should click on the Save button frequently to make sure all changes are saved (I lost changes even in autosave mode).\n",
    "\n",
    "### Timeouts\n",
    "\n",
    "Your notebook server may shutdown after a period of inactivity.\n",
    "\n",
    "Your session is active as long as you are interacting with it. If you are inactive for a long time, you may see an error message on your notebook. However, your notebooks themselves are safe - you just have to restart Jupyter Notebooks to see them. \n"
   ]
  }
 ],
 "metadata": {
  "kernelspec": {
   "display_name": "Python 3",
   "language": "python",
   "name": "python3"
  },
  "language_info": {
   "codemirror_mode": {
    "name": "ipython",
    "version": 3
   },
   "file_extension": ".py",
   "mimetype": "text/x-python",
   "name": "python",
   "nbconvert_exporter": "python",
   "pygments_lexer": "ipython3",
   "version": "3.8.8"
  }
 },
 "nbformat": 4,
 "nbformat_minor": 2
}
