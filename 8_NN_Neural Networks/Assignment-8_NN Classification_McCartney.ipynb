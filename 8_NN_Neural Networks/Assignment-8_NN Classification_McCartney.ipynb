{
 "cells": [
  {
   "cell_type": "markdown",
   "metadata": {},
   "source": [
    "# Assignment - Neural Network - Classification - McCartney"
   ]
  },
  {
   "cell_type": "markdown",
   "metadata": {},
   "source": [
    "In this assignment, we will focus on the banking industry. It contains data about the home loans of 2,500 bank clients. Each row represents a single loan. The columns include the characteristics of the client who used the loan. This is a binary classification task: predict whether a loan will be bad or not (1=Yes, 0=No). This is an important task for banks to prevent bad loans from being issued."
   ]
  },
  {
   "cell_type": "markdown",
   "metadata": {},
   "source": [
    "## Description of Variables\n",
    "\n",
    "The description of variables are provided in \"Loan - Data Dictionary.docx\""
   ]
  },
  {
   "cell_type": "markdown",
   "metadata": {},
   "source": [
    "## Goal\n",
    "\n",
    "Use the **loan.csv** data set and build a model to predict **BAD**. Build at least **two neural network models**.<br>\n",
    "\n",
    "Since you have a relatively small data set, I recommend using cross-validation to evaluate your accuracy."
   ]
  },
  {
   "cell_type": "markdown",
   "metadata": {},
   "source": [
    "## Submission:\n",
    "\n",
    "Please save and submit this Jupyter notebook file. The correctness of the code matters for your grade. **Readability and organization of your code is also important.** You may lose points for submitting unreadable/undecipherable code. Therefore, use markdown cells to create sections, and use comments where necessary.\n"
   ]
  },
  {
   "cell_type": "markdown",
   "metadata": {},
   "source": [
    "# Read and Prepare the Data\n",
    "## Also, perform feature engineering: create one new variable from existing ones"
   ]
  },
  {
   "cell_type": "code",
   "execution_count": 2,
   "metadata": {},
   "outputs": [],
   "source": [
    "# Common imports\n",
    "import numpy as np\n",
    "import pandas as pd\n",
    "\n",
    "np.random.seed(42)"
   ]
  },
  {
   "cell_type": "code",
   "execution_count": 3,
   "metadata": {},
   "outputs": [
    {
     "data": {
      "text/html": [
       "<div>\n",
       "<style scoped>\n",
       "    .dataframe tbody tr th:only-of-type {\n",
       "        vertical-align: middle;\n",
       "    }\n",
       "\n",
       "    .dataframe tbody tr th {\n",
       "        vertical-align: top;\n",
       "    }\n",
       "\n",
       "    .dataframe thead th {\n",
       "        text-align: right;\n",
       "    }\n",
       "</style>\n",
       "<table border=\"1\" class=\"dataframe\">\n",
       "  <thead>\n",
       "    <tr style=\"text-align: right;\">\n",
       "      <th></th>\n",
       "      <th>BAD</th>\n",
       "      <th>LOAN</th>\n",
       "      <th>MORTDUE</th>\n",
       "      <th>VALUE</th>\n",
       "      <th>REASON</th>\n",
       "      <th>JOB</th>\n",
       "      <th>YOJ</th>\n",
       "      <th>DEROG</th>\n",
       "      <th>DELINQ</th>\n",
       "      <th>CLAGE</th>\n",
       "      <th>NINQ</th>\n",
       "      <th>CLNO</th>\n",
       "      <th>DEBTINC</th>\n",
       "    </tr>\n",
       "  </thead>\n",
       "  <tbody>\n",
       "    <tr>\n",
       "      <th>0</th>\n",
       "      <td>0</td>\n",
       "      <td>25900</td>\n",
       "      <td>61064.0</td>\n",
       "      <td>94714.0</td>\n",
       "      <td>DebtCon</td>\n",
       "      <td>Office</td>\n",
       "      <td>2.0</td>\n",
       "      <td>0.0</td>\n",
       "      <td>0.0</td>\n",
       "      <td>98.809375</td>\n",
       "      <td>0.0</td>\n",
       "      <td>23.0</td>\n",
       "      <td>34.565944</td>\n",
       "    </tr>\n",
       "    <tr>\n",
       "      <th>1</th>\n",
       "      <td>0</td>\n",
       "      <td>26100</td>\n",
       "      <td>113266.0</td>\n",
       "      <td>182082.0</td>\n",
       "      <td>DebtCon</td>\n",
       "      <td>Sales</td>\n",
       "      <td>18.0</td>\n",
       "      <td>0.0</td>\n",
       "      <td>0.0</td>\n",
       "      <td>304.852469</td>\n",
       "      <td>1.0</td>\n",
       "      <td>31.0</td>\n",
       "      <td>33.193949</td>\n",
       "    </tr>\n",
       "    <tr>\n",
       "      <th>2</th>\n",
       "      <td>1</td>\n",
       "      <td>50000</td>\n",
       "      <td>220528.0</td>\n",
       "      <td>300900.0</td>\n",
       "      <td>HomeImp</td>\n",
       "      <td>Self</td>\n",
       "      <td>5.0</td>\n",
       "      <td>0.0</td>\n",
       "      <td>0.0</td>\n",
       "      <td>0.000000</td>\n",
       "      <td>0.0</td>\n",
       "      <td>2.0</td>\n",
       "      <td>NaN</td>\n",
       "    </tr>\n",
       "    <tr>\n",
       "      <th>3</th>\n",
       "      <td>1</td>\n",
       "      <td>22400</td>\n",
       "      <td>51470.0</td>\n",
       "      <td>68139.0</td>\n",
       "      <td>DebtCon</td>\n",
       "      <td>Mgr</td>\n",
       "      <td>9.0</td>\n",
       "      <td>0.0</td>\n",
       "      <td>0.0</td>\n",
       "      <td>31.168696</td>\n",
       "      <td>2.0</td>\n",
       "      <td>8.0</td>\n",
       "      <td>37.952180</td>\n",
       "    </tr>\n",
       "    <tr>\n",
       "      <th>4</th>\n",
       "      <td>0</td>\n",
       "      <td>20900</td>\n",
       "      <td>62615.0</td>\n",
       "      <td>87904.0</td>\n",
       "      <td>DebtCon</td>\n",
       "      <td>Office</td>\n",
       "      <td>5.0</td>\n",
       "      <td>NaN</td>\n",
       "      <td>NaN</td>\n",
       "      <td>177.864849</td>\n",
       "      <td>NaN</td>\n",
       "      <td>15.0</td>\n",
       "      <td>36.831076</td>\n",
       "    </tr>\n",
       "  </tbody>\n",
       "</table>\n",
       "</div>"
      ],
      "text/plain": [
       "   BAD   LOAN   MORTDUE     VALUE   REASON     JOB   YOJ  DEROG  DELINQ  \\\n",
       "0    0  25900   61064.0   94714.0  DebtCon  Office   2.0    0.0     0.0   \n",
       "1    0  26100  113266.0  182082.0  DebtCon   Sales  18.0    0.0     0.0   \n",
       "2    1  50000  220528.0  300900.0  HomeImp    Self   5.0    0.0     0.0   \n",
       "3    1  22400   51470.0   68139.0  DebtCon     Mgr   9.0    0.0     0.0   \n",
       "4    0  20900   62615.0   87904.0  DebtCon  Office   5.0    NaN     NaN   \n",
       "\n",
       "        CLAGE  NINQ  CLNO    DEBTINC  \n",
       "0   98.809375   0.0  23.0  34.565944  \n",
       "1  304.852469   1.0  31.0  33.193949  \n",
       "2    0.000000   0.0   2.0        NaN  \n",
       "3   31.168696   2.0   8.0  37.952180  \n",
       "4  177.864849   NaN  15.0  36.831076  "
      ]
     },
     "execution_count": 3,
     "metadata": {},
     "output_type": "execute_result"
    }
   ],
   "source": [
    "loan = pd.read_csv(\"loan.csv\")\n",
    "loan.head()"
   ]
  },
  {
   "cell_type": "code",
   "execution_count": 5,
   "metadata": {},
   "outputs": [],
   "source": [
    "from sklearn.model_selection import train_test_split\n",
    "\n",
    "train_set, test_set = train_test_split(loan, test_size=0.3)"
   ]
  },
  {
   "cell_type": "code",
   "execution_count": 8,
   "metadata": {},
   "outputs": [
    {
     "data": {
      "text/plain": [
       "BAD          0\n",
       "LOAN         0\n",
       "MORTDUE    151\n",
       "VALUE       61\n",
       "REASON      89\n",
       "JOB         74\n",
       "YOJ        156\n",
       "DEROG      194\n",
       "DELINQ     165\n",
       "CLAGE      105\n",
       "NINQ       153\n",
       "CLNO        76\n",
       "DEBTINC    556\n",
       "dtype: int64"
      ]
     },
     "execution_count": 8,
     "metadata": {},
     "output_type": "execute_result"
    }
   ],
   "source": [
    "train_set.isna().sum()"
   ]
  },
  {
   "cell_type": "code",
   "execution_count": 9,
   "metadata": {},
   "outputs": [
    {
     "data": {
      "text/plain": [
       "BAD          0\n",
       "LOAN         0\n",
       "MORTDUE     71\n",
       "VALUE       30\n",
       "REASON      30\n",
       "JOB         32\n",
       "YOJ         60\n",
       "DEROG       76\n",
       "DELINQ      61\n",
       "CLAGE       41\n",
       "NINQ        59\n",
       "CLNO        29\n",
       "DEBTINC    262\n",
       "dtype: int64"
      ]
     },
     "execution_count": 9,
     "metadata": {},
     "output_type": "execute_result"
    }
   ],
   "source": [
    "test_set.isna().sum()"
   ]
  },
  {
   "cell_type": "code",
   "execution_count": 10,
   "metadata": {},
   "outputs": [],
   "source": [
    "from sklearn.compose import ColumnTransformer\n",
    "from sklearn.pipeline import Pipeline\n",
    "from sklearn.impute import SimpleImputer\n",
    "from sklearn.preprocessing import StandardScaler\n",
    "from sklearn.preprocessing import OneHotEncoder\n",
    "\n",
    "from sklearn.preprocessing import FunctionTransformer"
   ]
  },
  {
   "cell_type": "code",
   "execution_count": 11,
   "metadata": {},
   "outputs": [],
   "source": [
    "# We can't use the following columns in this tutorial, because they are not for binary classification tasks\n",
    "\n",
    "train = train_set.drop([], axis=1)\n",
    "test = test_set.drop([], axis=1)"
   ]
  },
  {
   "cell_type": "code",
   "execution_count": 13,
   "metadata": {},
   "outputs": [],
   "source": [
    "train_y = train['BAD']\n",
    "test_y = test['BAD']\n",
    "\n",
    "train_inputs = train.drop(['BAD'], axis=1)\n",
    "test_inputs = test.drop(['BAD'], axis=1)"
   ]
  },
  {
   "cell_type": "markdown",
   "metadata": {},
   "source": [
    "### Feature Engineering"
   ]
  },
  {
   "cell_type": "code",
   "execution_count": 15,
   "metadata": {},
   "outputs": [
    {
     "data": {
      "text/plain": [
       "count      1599.000000\n",
       "mean      72547.961495\n",
       "std       45193.783667\n",
       "min        2800.000000\n",
       "25%       44764.500000\n",
       "50%       63626.000000\n",
       "75%       90360.500000\n",
       "max      399550.000000\n",
       "Name: MORTDUE, dtype: float64"
      ]
     },
     "execution_count": 15,
     "metadata": {},
     "output_type": "execute_result"
    }
   ],
   "source": [
    "# Let's analyze \"MortDue\"\n",
    "\n",
    "train_inputs['MORTDUE'].describe()"
   ]
  },
  {
   "cell_type": "code",
   "execution_count": 16,
   "metadata": {},
   "outputs": [
    {
     "data": {
      "text/plain": [
       "47000.0     6\n",
       "124000.0    5\n",
       "58000.0     5\n",
       "50000.0     4\n",
       "42000.0     4\n",
       "           ..\n",
       "17480.0     1\n",
       "148396.0    1\n",
       "36309.0     1\n",
       "44817.0     1\n",
       "51298.0     1\n",
       "Name: MORTDUE, Length: 1515, dtype: int64"
      ]
     },
     "execution_count": 16,
     "metadata": {},
     "output_type": "execute_result"
    }
   ],
   "source": [
    "train_inputs['MORTDUE'].value_counts()"
   ]
  },
  {
   "cell_type": "code",
   "execution_count": 19,
   "metadata": {},
   "outputs": [
    {
     "data": {
      "text/plain": [
       "<AxesSubplot:>"
      ]
     },
     "execution_count": 19,
     "metadata": {},
     "output_type": "execute_result"
    },
    {
     "data": {
      "image/png": "[encoded data removed]",
      "text/plain": [
       "<Figure size 432x288 with 1 Axes>"
      ]
     },
     "metadata": {
      "needs_background": "light"
     },
     "output_type": "display_data"
    }
   ],
   "source": [
    "train_inputs['MORTDUE'].hist(bins=100)"
   ]
  },
  {
   "cell_type": "code",
   "execution_count": 21,
   "metadata": {},
   "outputs": [
    {
     "data": {
      "text/plain": [
       "1552     (2799.999, 25116.0]\n",
       "2290     (97350.2, 130693.2]\n",
       "1398      (71962.8, 83689.2]\n",
       "1775     (97350.2, 130693.2]\n",
       "2299      (48502.8, 55827.8]\n",
       "                ...         \n",
       "1638      (63626.0, 71962.8]\n",
       "1095      (63626.0, 71962.8]\n",
       "1130      (25116.0, 39037.8]\n",
       "1294    (130693.2, 399550.0]\n",
       "860       (63626.0, 71962.8]\n",
       "Name: MORTDUE, Length: 1750, dtype: category\n",
       "Categories (10, interval[float64]): [(2799.999, 25116.0] < (25116.0, 39037.8] < (39037.8, 48502.8] < (48502.8, 55827.8] ... (71962.8, 83689.2] < (83689.2, 97350.2] < (97350.2, 130693.2] < (130693.2, 399550.0]]"
      ]
     },
     "execution_count": 21,
     "metadata": {},
     "output_type": "execute_result"
    }
   ],
   "source": [
    "# qcut creates n quantiles (it is a discretization technique)\n",
    "\n",
    "pd.qcut(train_inputs['MORTDUE'], 10, duplicates='drop')   "
   ]
  },
  {
   "cell_type": "code",
   "execution_count": 25,
   "metadata": {},
   "outputs": [
    {
     "data": {
      "text/plain": [
       "1      160\n",
       "2      160\n",
       "3      160\n",
       "4      160\n",
       "5      160\n",
       "7      160\n",
       "8      160\n",
       "9      160\n",
       "10+    160\n",
       "6      159\n",
       "Name: MORTDUE, dtype: int64"
      ]
     },
     "execution_count": 25,
     "metadata": {},
     "output_type": "execute_result"
    }
   ],
   "source": [
    "pd.qcut(train_inputs['MORTDUE'],10, duplicates='drop',\n",
    "        labels=['1','2','3','4','5','6','7','8','9','10+']).value_counts()"
   ]
  },
  {
   "cell_type": "code",
   "execution_count": 27,
   "metadata": {},
   "outputs": [],
   "source": [
    "def new_col(df):\n",
    "    #Create a copy so that we don't overwrite the existing dataframe\n",
    "    df1 = df.copy()\n",
    "    \n",
    "    df1['quantile_MORTDUE'] = pd.qcut(train_inputs['MORTDUE'],10, duplicates='drop',\n",
    "                        labels=['1','2','3','4','5','6','7','8','9','10+'])\n",
    "    \n",
    "\n",
    "    return df1[['quantile_MORTDUE']]\n",
    "    # You can use this to check whether the calculation is made correctly:\n",
    "    #return df1"
   ]
  },
  {
   "cell_type": "code",
   "execution_count": 28,
   "metadata": {},
   "outputs": [
    {
     "data": {
      "text/plain": [
       "LOAN         int64\n",
       "MORTDUE    float64\n",
       "VALUE      float64\n",
       "REASON      object\n",
       "JOB         object\n",
       "YOJ        float64\n",
       "DEROG      float64\n",
       "DELINQ     float64\n",
       "CLAGE      float64\n",
       "NINQ       float64\n",
       "CLNO       float64\n",
       "DEBTINC    float64\n",
       "dtype: object"
      ]
     },
     "execution_count": 28,
     "metadata": {},
     "output_type": "execute_result"
    }
   ],
   "source": [
    "train_inputs.dtypes"
   ]
  },
  {
   "cell_type": "code",
   "execution_count": 29,
   "metadata": {},
   "outputs": [],
   "source": [
    "# Identify the numerical columns\n",
    "numeric_columns = train_inputs.select_dtypes(include=[np.number]).columns.to_list()\n",
    "\n",
    "# Identify the categorical columns\n",
    "categorical_columns = train_inputs.select_dtypes('object').columns.to_list()"
   ]
  },
  {
   "cell_type": "code",
   "execution_count": 30,
   "metadata": {},
   "outputs": [
    {
     "data": {
      "text/plain": [
       "['LOAN',\n",
       " 'MORTDUE',\n",
       " 'VALUE',\n",
       " 'YOJ',\n",
       " 'DEROG',\n",
       " 'DELINQ',\n",
       " 'CLAGE',\n",
       " 'NINQ',\n",
       " 'CLNO',\n",
       " 'DEBTINC']"
      ]
     },
     "execution_count": 30,
     "metadata": {},
     "output_type": "execute_result"
    }
   ],
   "source": [
    "numeric_columns"
   ]
  },
  {
   "cell_type": "code",
   "execution_count": 31,
   "metadata": {},
   "outputs": [
    {
     "data": {
      "text/plain": [
       "['REASON', 'JOB']"
      ]
     },
     "execution_count": 31,
     "metadata": {},
     "output_type": "execute_result"
    }
   ],
   "source": [
    "categorical_columns"
   ]
  },
  {
   "cell_type": "code",
   "execution_count": 32,
   "metadata": {},
   "outputs": [],
   "source": [
    "feat_eng_columns = ['MORTDUE']"
   ]
  },
  {
   "cell_type": "markdown",
   "metadata": {},
   "source": [
    "#### Pipeline"
   ]
  },
  {
   "cell_type": "code",
   "execution_count": 33,
   "metadata": {},
   "outputs": [],
   "source": [
    "numeric_transformer = Pipeline(steps=[\n",
    "                ('imputer', SimpleImputer(strategy='median')),\n",
    "                ('scaler', StandardScaler())])"
   ]
  },
  {
   "cell_type": "code",
   "execution_count": 34,
   "metadata": {},
   "outputs": [],
   "source": [
    "categorical_transformer = Pipeline(steps=[\n",
    "    ('imputer', SimpleImputer(strategy='constant', fill_value='unknown')),\n",
    "    ('onehot', OneHotEncoder(handle_unknown='ignore'))])"
   ]
  },
  {
   "cell_type": "code",
   "execution_count": 35,
   "metadata": {},
   "outputs": [],
   "source": [
    "binary_transformer = Pipeline(steps=[\n",
    "    ('imputer', SimpleImputer(strategy='most_frequent'))])"
   ]
  },
  {
   "cell_type": "code",
   "execution_count": 37,
   "metadata": {},
   "outputs": [],
   "source": [
    "my_new_column = Pipeline(steps=[('my_new_column', FunctionTransformer(new_col)),\n",
    "                               ('imputer', SimpleImputer(strategy='constant', fill_value='unknown')),\n",
    "                               ('onehot', OneHotEncoder(handle_unknown='ignore'))])"
   ]
  },
  {
   "cell_type": "code",
   "execution_count": 39,
   "metadata": {},
   "outputs": [],
   "source": [
    "preprocessor = ColumnTransformer([\n",
    "        ('num', numeric_transformer, numeric_columns),\n",
    "        ('cat', categorical_transformer, categorical_columns),\n",
    "        #('binary', binary_transformer, binary_columns),\n",
    "        ('trans', my_new_column, feat_eng_columns)],\n",
    "        remainder='passthrough')\n",
    "\n",
    "#passtrough is an optional step. You don't have to use it."
   ]
  },
  {
   "cell_type": "markdown",
   "metadata": {},
   "source": [
    "## Transform"
   ]
  },
  {
   "cell_type": "code",
   "execution_count": 40,
   "metadata": {},
   "outputs": [
    {
     "data": {
      "text/plain": [
       "array([[-0.31412013, -1.30301181, -0.86148829, ...,  0.        ,\n",
       "         0.        ,  0.        ],\n",
       "       [ 0.45733454,  0.7398414 ,  0.58636192, ...,  0.        ,\n",
       "         1.        ,  0.        ],\n",
       "       [-1.10330939,  0.2001631 ,  0.18146318, ...,  0.        ,\n",
       "         0.        ,  0.        ],\n",
       "       ...,\n",
       "       [-0.21657988, -0.83000156, -0.82081329, ...,  0.        ,\n",
       "         0.        ,  0.        ],\n",
       "       [-0.46486414,  1.79196675,  1.36974799, ...,  0.        ,\n",
       "         0.        ,  0.        ],\n",
       "       [-0.31412013, -0.08740643, -0.21782887, ...,  0.        ,\n",
       "         0.        ,  0.        ]])"
      ]
     },
     "execution_count": 40,
     "metadata": {},
     "output_type": "execute_result"
    }
   ],
   "source": [
    "#Fit and transform the train data\n",
    "train_x = preprocessor.fit_transform(train_inputs)\n",
    "\n",
    "train_x"
   ]
  },
  {
   "cell_type": "code",
   "execution_count": 41,
   "metadata": {},
   "outputs": [
    {
     "data": {
      "text/plain": [
       "(1750, 31)"
      ]
     },
     "execution_count": 41,
     "metadata": {},
     "output_type": "execute_result"
    }
   ],
   "source": [
    "train_x.shape"
   ]
  },
  {
   "cell_type": "code",
   "execution_count": 42,
   "metadata": {},
   "outputs": [
    {
     "data": {
      "text/plain": [
       "array([[ 0.06717356,  0.36706438,  0.32127798, ...,  0.        ,\n",
       "         0.        ,  1.        ],\n",
       "       [ 0.32432512,  0.57631513,  0.42769944, ...,  0.        ,\n",
       "         0.        ,  1.        ],\n",
       "       [-0.33185472,  0.41209537,  0.12227549, ...,  0.        ,\n",
       "         0.        ,  1.        ],\n",
       "       ...,\n",
       "       [-0.8993616 , -0.51071616, -0.32326299, ...,  0.        ,\n",
       "         0.        ,  1.        ],\n",
       "       [-0.5446698 , -0.82706576, -0.8366813 , ...,  0.        ,\n",
       "         0.        ,  1.        ],\n",
       "       [-0.5446698 , -0.06422056, -0.11380525, ...,  0.        ,\n",
       "         0.        ,  1.        ]])"
      ]
     },
     "execution_count": 42,
     "metadata": {},
     "output_type": "execute_result"
    }
   ],
   "source": [
    "# Transform the test data\n",
    "test_x = preprocessor.transform(test_inputs)\n",
    "\n",
    "test_x"
   ]
  },
  {
   "cell_type": "code",
   "execution_count": 43,
   "metadata": {},
   "outputs": [
    {
     "data": {
      "text/plain": [
       "(750, 31)"
      ]
     },
     "execution_count": 43,
     "metadata": {},
     "output_type": "execute_result"
    }
   ],
   "source": [
    "test_x.shape"
   ]
  },
  {
   "cell_type": "markdown",
   "metadata": {},
   "source": [
    "# Baseline:"
   ]
  },
  {
   "cell_type": "code",
   "execution_count": 44,
   "metadata": {},
   "outputs": [
    {
     "data": {
      "text/plain": [
       "0    0.603429\n",
       "1    0.396571\n",
       "Name: BAD, dtype: float64"
      ]
     },
     "execution_count": 44,
     "metadata": {},
     "output_type": "execute_result"
    }
   ],
   "source": [
    "train_y.value_counts()/len(train_y)"
   ]
  },
  {
   "cell_type": "markdown",
   "metadata": {},
   "source": [
    "# Neural Network Model 1 - Multiclass Classification\n",
    "### increased max interations for convergence"
   ]
  },
  {
   "cell_type": "code",
   "execution_count": 65,
   "metadata": {},
   "outputs": [
    {
     "name": "stdout",
     "output_type": "stream",
     "text": [
      "Iteration 1, loss = 0.71111563\n",
      "Iteration 2, loss = 0.65253667\n",
      "Iteration 3, loss = 0.61177981\n",
      "Iteration 4, loss = 0.58184747\n",
      "Iteration 5, loss = 0.55716753\n",
      "Iteration 6, loss = 0.53851713\n",
      "Iteration 7, loss = 0.52377181\n",
      "Iteration 8, loss = 0.51261591\n",
      "Iteration 9, loss = 0.50363325\n",
      "Iteration 10, loss = 0.49627765\n",
      "Iteration 11, loss = 0.49051806\n",
      "Iteration 12, loss = 0.48560517\n",
      "Iteration 13, loss = 0.48112903\n",
      "Iteration 14, loss = 0.47784024\n",
      "Iteration 15, loss = 0.47422782\n",
      "Iteration 16, loss = 0.47105626\n",
      "Iteration 17, loss = 0.46829968\n",
      "Iteration 18, loss = 0.46505303\n",
      "Iteration 19, loss = 0.46240947\n",
      "Iteration 20, loss = 0.45968366\n",
      "Iteration 21, loss = 0.45724656\n",
      "Iteration 22, loss = 0.45420516\n",
      "Iteration 23, loss = 0.45172381\n",
      "Iteration 24, loss = 0.44925170\n",
      "Iteration 25, loss = 0.44676546\n",
      "Iteration 26, loss = 0.44407801\n",
      "Iteration 27, loss = 0.44171806\n",
      "Iteration 28, loss = 0.43916675\n",
      "Iteration 29, loss = 0.43693492\n",
      "Iteration 30, loss = 0.43427482\n",
      "Iteration 31, loss = 0.43229630\n",
      "Iteration 32, loss = 0.42946614\n",
      "Iteration 33, loss = 0.42735761\n",
      "Iteration 34, loss = 0.42526406\n",
      "Iteration 35, loss = 0.42240271\n",
      "Iteration 36, loss = 0.42042331\n",
      "Iteration 37, loss = 0.41824936\n",
      "Iteration 38, loss = 0.41578995\n",
      "Iteration 39, loss = 0.41363118\n",
      "Iteration 40, loss = 0.41125581\n",
      "Iteration 41, loss = 0.40913347\n",
      "Iteration 42, loss = 0.40689937\n",
      "Iteration 43, loss = 0.40454816\n",
      "Iteration 44, loss = 0.40236854\n",
      "Iteration 45, loss = 0.40054435\n",
      "Iteration 46, loss = 0.39862636\n",
      "Iteration 47, loss = 0.39597083\n",
      "Iteration 48, loss = 0.39380798\n",
      "Iteration 49, loss = 0.39170281\n",
      "Iteration 50, loss = 0.38958909\n",
      "Iteration 51, loss = 0.38756367\n",
      "Iteration 52, loss = 0.38542510\n",
      "Iteration 53, loss = 0.38368258\n",
      "Iteration 54, loss = 0.38129500\n",
      "Iteration 55, loss = 0.37948438\n",
      "Iteration 56, loss = 0.37778505\n",
      "Iteration 57, loss = 0.37547585\n",
      "Iteration 58, loss = 0.37345930\n",
      "Iteration 59, loss = 0.37151938\n",
      "Iteration 60, loss = 0.36998269\n",
      "Iteration 61, loss = 0.36773082\n",
      "Iteration 62, loss = 0.36592844\n",
      "Iteration 63, loss = 0.36373948\n",
      "Iteration 64, loss = 0.36187166\n",
      "Iteration 65, loss = 0.36013489\n",
      "Iteration 66, loss = 0.35838722\n",
      "Iteration 67, loss = 0.35674365\n",
      "Iteration 68, loss = 0.35479849\n",
      "Iteration 69, loss = 0.35263095\n",
      "Iteration 70, loss = 0.35093544\n",
      "Iteration 71, loss = 0.34898173\n",
      "Iteration 72, loss = 0.34721887\n",
      "Iteration 73, loss = 0.34523616\n",
      "Iteration 74, loss = 0.34352880\n",
      "Iteration 75, loss = 0.34177732\n",
      "Iteration 76, loss = 0.33990408\n",
      "Iteration 77, loss = 0.33862241\n",
      "Iteration 78, loss = 0.33683338\n",
      "Iteration 79, loss = 0.33538384\n",
      "Iteration 80, loss = 0.33329189\n",
      "Iteration 81, loss = 0.33242012\n",
      "Iteration 82, loss = 0.32979800\n",
      "Iteration 83, loss = 0.32855881\n",
      "Iteration 84, loss = 0.32674331\n",
      "Iteration 85, loss = 0.32497874\n",
      "Iteration 86, loss = 0.32311881\n",
      "Iteration 87, loss = 0.32260393\n",
      "Iteration 88, loss = 0.32063308\n",
      "Iteration 89, loss = 0.31899103\n",
      "Iteration 90, loss = 0.31736114\n",
      "Iteration 91, loss = 0.31544166\n",
      "Iteration 92, loss = 0.31441360\n",
      "Iteration 93, loss = 0.31242680\n",
      "Iteration 94, loss = 0.31100867\n",
      "Iteration 95, loss = 0.30967052\n",
      "Iteration 96, loss = 0.30769318\n",
      "Iteration 97, loss = 0.30644507\n",
      "Iteration 98, loss = 0.30496909\n",
      "Iteration 99, loss = 0.30320832\n",
      "Iteration 100, loss = 0.30193928\n",
      "Iteration 101, loss = 0.30045703\n",
      "Iteration 102, loss = 0.29901154\n",
      "Iteration 103, loss = 0.29799576\n",
      "Iteration 104, loss = 0.29587334\n",
      "Iteration 105, loss = 0.29496811\n",
      "Iteration 106, loss = 0.29339027\n",
      "Iteration 107, loss = 0.29204637\n",
      "Iteration 108, loss = 0.29059123\n",
      "Iteration 109, loss = 0.28924307\n",
      "Iteration 110, loss = 0.28756611\n",
      "Iteration 111, loss = 0.28680299\n",
      "Iteration 112, loss = 0.28503893\n",
      "Iteration 113, loss = 0.28425229\n",
      "Iteration 114, loss = 0.28244575\n",
      "Iteration 115, loss = 0.28142111\n",
      "Iteration 116, loss = 0.28024449\n",
      "Iteration 117, loss = 0.27901305\n",
      "Iteration 118, loss = 0.27745673\n",
      "Iteration 119, loss = 0.27622391\n",
      "Iteration 120, loss = 0.27492846\n",
      "Iteration 121, loss = 0.27356965\n",
      "Iteration 122, loss = 0.27223273\n",
      "Iteration 123, loss = 0.27162143\n",
      "Iteration 124, loss = 0.27003891\n",
      "Iteration 125, loss = 0.26952837\n",
      "Iteration 126, loss = 0.26833443\n",
      "Iteration 127, loss = 0.26639600\n",
      "Iteration 128, loss = 0.26592242\n",
      "Iteration 129, loss = 0.26549750\n",
      "Iteration 130, loss = 0.26319494\n",
      "Iteration 131, loss = 0.26253821\n",
      "Iteration 132, loss = 0.26161500\n",
      "Iteration 133, loss = 0.25978136\n",
      "Iteration 134, loss = 0.25902054\n",
      "Iteration 135, loss = 0.25741169\n",
      "Iteration 136, loss = 0.25705255\n",
      "Iteration 137, loss = 0.25864006\n",
      "Iteration 138, loss = 0.25450104\n",
      "Iteration 139, loss = 0.25388659\n",
      "Iteration 140, loss = 0.25217883\n",
      "Iteration 141, loss = 0.25052819\n",
      "Iteration 142, loss = 0.24972760\n",
      "Iteration 143, loss = 0.24873511\n",
      "Iteration 144, loss = 0.24785547\n",
      "Iteration 145, loss = 0.24661572\n",
      "Iteration 146, loss = 0.24582312\n",
      "Iteration 147, loss = 0.24514523\n",
      "Iteration 148, loss = 0.24424304\n",
      "Iteration 149, loss = 0.24296515\n",
      "Iteration 150, loss = 0.24160489\n",
      "Iteration 151, loss = 0.24049722\n",
      "Iteration 152, loss = 0.23942830\n",
      "Iteration 153, loss = 0.23886244\n",
      "Iteration 154, loss = 0.23758709\n",
      "Iteration 155, loss = 0.23675288\n",
      "Iteration 156, loss = 0.23568395\n",
      "Iteration 157, loss = 0.23438769\n",
      "Iteration 158, loss = 0.23449782\n",
      "Iteration 159, loss = 0.23272808\n",
      "Iteration 160, loss = 0.23147963\n",
      "Iteration 161, loss = 0.23076907\n",
      "Iteration 162, loss = 0.22944089\n",
      "Iteration 163, loss = 0.22894145\n",
      "Iteration 164, loss = 0.22799935\n",
      "Iteration 165, loss = 0.22785074\n",
      "Iteration 166, loss = 0.22558042\n",
      "Iteration 167, loss = 0.22511121\n",
      "Iteration 168, loss = 0.22397861\n",
      "Iteration 169, loss = 0.22295765\n",
      "Iteration 170, loss = 0.22215727\n",
      "Iteration 171, loss = 0.22146710\n",
      "Iteration 172, loss = 0.22114217\n",
      "Iteration 173, loss = 0.21946370\n",
      "Iteration 174, loss = 0.21897442\n",
      "Iteration 175, loss = 0.21791662\n",
      "Iteration 176, loss = 0.21807299\n",
      "Iteration 177, loss = 0.21620376\n",
      "Iteration 178, loss = 0.21564480\n",
      "Iteration 179, loss = 0.21480602\n",
      "Iteration 180, loss = 0.21489562\n",
      "Iteration 181, loss = 0.21282429\n",
      "Iteration 182, loss = 0.21237724\n",
      "Iteration 183, loss = 0.21107252\n",
      "Iteration 184, loss = 0.21106154\n",
      "Iteration 185, loss = 0.20999494\n",
      "Iteration 186, loss = 0.20953326\n",
      "Iteration 187, loss = 0.20769432\n",
      "Iteration 188, loss = 0.20716450\n",
      "Iteration 189, loss = 0.20668058\n",
      "Iteration 190, loss = 0.20547236\n",
      "Iteration 191, loss = 0.20487501\n",
      "Iteration 192, loss = 0.20413773\n",
      "Iteration 193, loss = 0.20349944\n",
      "Iteration 194, loss = 0.20265423\n",
      "Iteration 195, loss = 0.20179772\n",
      "Iteration 196, loss = 0.20117395\n",
      "Iteration 197, loss = 0.20118251\n",
      "Iteration 198, loss = 0.19958541\n",
      "Iteration 199, loss = 0.19882606\n",
      "Iteration 200, loss = 0.19786387\n",
      "Iteration 201, loss = 0.19723386\n",
      "Iteration 202, loss = 0.19633824\n",
      "Iteration 203, loss = 0.19559377\n",
      "Iteration 204, loss = 0.19458927\n",
      "Iteration 205, loss = 0.19397692\n",
      "Iteration 206, loss = 0.19309577\n",
      "Iteration 207, loss = 0.19269908\n",
      "Iteration 208, loss = 0.19208835\n",
      "Iteration 209, loss = 0.19274973\n",
      "Iteration 210, loss = 0.19079273\n",
      "Iteration 211, loss = 0.18972823\n",
      "Iteration 212, loss = 0.18898621\n",
      "Iteration 213, loss = 0.18816625\n",
      "Iteration 214, loss = 0.18734029\n",
      "Iteration 215, loss = 0.18649282\n",
      "Iteration 216, loss = 0.18614777\n",
      "Iteration 217, loss = 0.18521030\n",
      "Iteration 218, loss = 0.18512787\n",
      "Iteration 219, loss = 0.18410857\n",
      "Iteration 220, loss = 0.18367330\n",
      "Iteration 221, loss = 0.18313975\n",
      "Iteration 222, loss = 0.18212991\n",
      "Iteration 223, loss = 0.18081923\n",
      "Iteration 224, loss = 0.18062394\n",
      "Iteration 225, loss = 0.18001486\n",
      "Iteration 226, loss = 0.17906490\n",
      "Iteration 227, loss = 0.17844990\n",
      "Iteration 228, loss = 0.17790408\n",
      "Iteration 229, loss = 0.17693775\n",
      "Iteration 230, loss = 0.17772933\n",
      "Iteration 231, loss = 0.17543470\n",
      "Iteration 232, loss = 0.17548793\n",
      "Iteration 233, loss = 0.17490066\n",
      "Iteration 234, loss = 0.17415044\n",
      "Iteration 235, loss = 0.17264680\n",
      "Iteration 236, loss = 0.17265718\n",
      "Iteration 237, loss = 0.17188945\n",
      "Iteration 238, loss = 0.17181076\n",
      "Iteration 239, loss = 0.17094314\n",
      "Iteration 240, loss = 0.17001134\n",
      "Iteration 241, loss = 0.16940474\n",
      "Iteration 242, loss = 0.16866935\n",
      "Iteration 243, loss = 0.16838459\n",
      "Iteration 244, loss = 0.16772249\n",
      "Iteration 245, loss = 0.16645504\n",
      "Iteration 246, loss = 0.16617915\n",
      "Iteration 247, loss = 0.16625617\n",
      "Iteration 248, loss = 0.16441910\n",
      "Iteration 249, loss = 0.16430929\n",
      "Iteration 250, loss = 0.16329571\n",
      "Iteration 251, loss = 0.16295146\n",
      "Iteration 252, loss = 0.16315316\n",
      "Iteration 253, loss = 0.16176877\n",
      "Iteration 254, loss = 0.16154186\n",
      "Iteration 255, loss = 0.16037923\n",
      "Iteration 256, loss = 0.15949240\n",
      "Iteration 257, loss = 0.15933391\n",
      "Iteration 258, loss = 0.15928882\n",
      "Iteration 259, loss = 0.15839835\n",
      "Iteration 260, loss = 0.15712094\n",
      "Iteration 261, loss = 0.15658885\n",
      "Iteration 262, loss = 0.15603504\n",
      "Iteration 263, loss = 0.15535089\n",
      "Iteration 264, loss = 0.15560165\n",
      "Iteration 265, loss = 0.15463752\n",
      "Iteration 266, loss = 0.15426595\n",
      "Iteration 267, loss = 0.15270321\n",
      "Iteration 268, loss = 0.15239399\n",
      "Iteration 269, loss = 0.15239690\n"
     ]
    },
    {
     "name": "stdout",
     "output_type": "stream",
     "text": [
      "Iteration 270, loss = 0.15171290\n",
      "Iteration 271, loss = 0.15084504\n",
      "Iteration 272, loss = 0.15034033\n",
      "Iteration 273, loss = 0.14962568\n",
      "Iteration 274, loss = 0.14948320\n",
      "Iteration 275, loss = 0.14812245\n",
      "Iteration 276, loss = 0.14837797\n",
      "Iteration 277, loss = 0.14802488\n",
      "Iteration 278, loss = 0.14631717\n",
      "Iteration 279, loss = 0.14629242\n",
      "Iteration 280, loss = 0.14578449\n",
      "Iteration 281, loss = 0.14524359\n",
      "Iteration 282, loss = 0.14463814\n",
      "Iteration 283, loss = 0.14383051\n",
      "Iteration 284, loss = 0.14321441\n",
      "Iteration 285, loss = 0.14337152\n",
      "Iteration 286, loss = 0.14217674\n",
      "Iteration 287, loss = 0.14232488\n",
      "Iteration 288, loss = 0.14111480\n",
      "Iteration 289, loss = 0.14093543\n",
      "Iteration 290, loss = 0.14079121\n",
      "Iteration 291, loss = 0.14001122\n",
      "Iteration 292, loss = 0.13945343\n",
      "Iteration 293, loss = 0.13853805\n",
      "Iteration 294, loss = 0.13799470\n",
      "Iteration 295, loss = 0.13769479\n",
      "Iteration 296, loss = 0.13727694\n",
      "Iteration 297, loss = 0.13644693\n",
      "Iteration 298, loss = 0.13653188\n",
      "Iteration 299, loss = 0.13573519\n",
      "Iteration 300, loss = 0.13499116\n",
      "Iteration 301, loss = 0.13442026\n",
      "Iteration 302, loss = 0.13419226\n",
      "Iteration 303, loss = 0.13365832\n",
      "Iteration 304, loss = 0.13266286\n",
      "Iteration 305, loss = 0.13234741\n",
      "Iteration 306, loss = 0.13224201\n",
      "Iteration 307, loss = 0.13120043\n",
      "Iteration 308, loss = 0.13083681\n",
      "Iteration 309, loss = 0.13021743\n",
      "Iteration 310, loss = 0.12972812\n",
      "Iteration 311, loss = 0.12917389\n",
      "Iteration 312, loss = 0.12940239\n",
      "Iteration 313, loss = 0.12841057\n",
      "Iteration 314, loss = 0.12801112\n",
      "Iteration 315, loss = 0.12720125\n",
      "Iteration 316, loss = 0.12734625\n",
      "Iteration 317, loss = 0.12693439\n",
      "Iteration 318, loss = 0.12542912\n",
      "Iteration 319, loss = 0.12563913\n",
      "Iteration 320, loss = 0.12491958\n",
      "Iteration 321, loss = 0.12512777\n",
      "Iteration 322, loss = 0.12481299\n",
      "Iteration 323, loss = 0.12321480\n",
      "Iteration 324, loss = 0.12292411\n",
      "Iteration 325, loss = 0.12219684\n",
      "Iteration 326, loss = 0.12154357\n",
      "Iteration 327, loss = 0.12113827\n",
      "Iteration 328, loss = 0.12103119\n",
      "Iteration 329, loss = 0.12087314\n",
      "Iteration 330, loss = 0.11933665\n",
      "Iteration 331, loss = 0.11975781\n",
      "Iteration 332, loss = 0.11872135\n",
      "Iteration 333, loss = 0.11838725\n",
      "Iteration 334, loss = 0.11857473\n",
      "Iteration 335, loss = 0.11759538\n",
      "Iteration 336, loss = 0.11680786\n",
      "Iteration 337, loss = 0.11686896\n",
      "Iteration 338, loss = 0.11620182\n",
      "Iteration 339, loss = 0.11586345\n",
      "Iteration 340, loss = 0.11514434\n",
      "Iteration 341, loss = 0.11464906\n",
      "Iteration 342, loss = 0.11456101\n",
      "Iteration 343, loss = 0.11354206\n",
      "Iteration 344, loss = 0.11336681\n",
      "Iteration 345, loss = 0.11295732\n",
      "Iteration 346, loss = 0.11237733\n",
      "Iteration 347, loss = 0.11208310\n",
      "Iteration 348, loss = 0.11161845\n",
      "Iteration 349, loss = 0.11159333\n",
      "Iteration 350, loss = 0.11098122\n",
      "Iteration 351, loss = 0.11059764\n",
      "Iteration 352, loss = 0.11008761\n",
      "Iteration 353, loss = 0.10945109\n",
      "Iteration 354, loss = 0.10946448\n",
      "Iteration 355, loss = 0.10868013\n",
      "Iteration 356, loss = 0.10793221\n",
      "Iteration 357, loss = 0.10867278\n",
      "Iteration 358, loss = 0.10826226\n",
      "Iteration 359, loss = 0.10659032\n",
      "Iteration 360, loss = 0.10654980\n",
      "Iteration 361, loss = 0.10702094\n",
      "Iteration 362, loss = 0.10603174\n",
      "Iteration 363, loss = 0.10579953\n",
      "Iteration 364, loss = 0.10517185\n",
      "Iteration 365, loss = 0.10540114\n",
      "Iteration 366, loss = 0.10543749\n",
      "Iteration 367, loss = 0.10476592\n",
      "Iteration 368, loss = 0.10355004\n",
      "Iteration 369, loss = 0.10322550\n",
      "Iteration 370, loss = 0.10236673\n",
      "Iteration 371, loss = 0.10177975\n",
      "Iteration 372, loss = 0.10179553\n",
      "Iteration 373, loss = 0.10141390\n",
      "Iteration 374, loss = 0.10107495\n",
      "Iteration 375, loss = 0.10171554\n",
      "Iteration 376, loss = 0.10124051\n",
      "Iteration 377, loss = 0.10096717\n",
      "Iteration 378, loss = 0.09943763\n",
      "Iteration 379, loss = 0.09893462\n",
      "Iteration 380, loss = 0.09840291\n",
      "Iteration 381, loss = 0.09848594\n",
      "Iteration 382, loss = 0.09813388\n",
      "Iteration 383, loss = 0.09737471\n",
      "Iteration 384, loss = 0.09672873\n",
      "Iteration 385, loss = 0.09747194\n",
      "Iteration 386, loss = 0.09725272\n",
      "Iteration 387, loss = 0.09617654\n",
      "Iteration 388, loss = 0.09528379\n",
      "Iteration 389, loss = 0.09478902\n",
      "Iteration 390, loss = 0.09480162\n",
      "Iteration 391, loss = 0.09413873\n",
      "Iteration 392, loss = 0.09401047\n",
      "Iteration 393, loss = 0.09339648\n",
      "Iteration 394, loss = 0.09278313\n",
      "Iteration 395, loss = 0.09293765\n",
      "Iteration 396, loss = 0.09245547\n",
      "Iteration 397, loss = 0.09199612\n",
      "Iteration 398, loss = 0.09218041\n",
      "Iteration 399, loss = 0.09114871\n",
      "Iteration 400, loss = 0.09085698\n",
      "Iteration 401, loss = 0.09080862\n",
      "Iteration 402, loss = 0.08991087\n",
      "Iteration 403, loss = 0.09016826\n",
      "Iteration 404, loss = 0.08900466\n",
      "Iteration 405, loss = 0.08899997\n",
      "Iteration 406, loss = 0.08843349\n",
      "Iteration 407, loss = 0.08843932\n",
      "Iteration 408, loss = 0.08770772\n",
      "Iteration 409, loss = 0.08760593\n",
      "Iteration 410, loss = 0.08702603\n",
      "Iteration 411, loss = 0.08671921\n",
      "Iteration 412, loss = 0.08678282\n",
      "Iteration 413, loss = 0.08613818\n",
      "Iteration 414, loss = 0.08586038\n",
      "Iteration 415, loss = 0.08591267\n",
      "Iteration 416, loss = 0.08500431\n",
      "Iteration 417, loss = 0.08471643\n",
      "Iteration 418, loss = 0.08484054\n",
      "Iteration 419, loss = 0.08423449\n",
      "Iteration 420, loss = 0.08377552\n",
      "Iteration 421, loss = 0.08379717\n",
      "Iteration 422, loss = 0.08288634\n",
      "Iteration 423, loss = 0.08284015\n",
      "Iteration 424, loss = 0.08260005\n",
      "Iteration 425, loss = 0.08232197\n",
      "Iteration 426, loss = 0.08245426\n",
      "Iteration 427, loss = 0.08125038\n",
      "Iteration 428, loss = 0.08160934\n",
      "Iteration 429, loss = 0.08122095\n",
      "Iteration 430, loss = 0.08074845\n",
      "Iteration 431, loss = 0.08026691\n",
      "Iteration 432, loss = 0.08008118\n",
      "Iteration 433, loss = 0.07959690\n",
      "Iteration 434, loss = 0.07913175\n",
      "Iteration 435, loss = 0.07980152\n",
      "Iteration 436, loss = 0.07862125\n",
      "Iteration 437, loss = 0.07852084\n",
      "Iteration 438, loss = 0.07799689\n",
      "Iteration 439, loss = 0.07782052\n",
      "Iteration 440, loss = 0.07726060\n",
      "Iteration 441, loss = 0.07715494\n",
      "Iteration 442, loss = 0.07696698\n",
      "Iteration 443, loss = 0.07686725\n",
      "Iteration 444, loss = 0.07613322\n",
      "Iteration 445, loss = 0.07604070\n",
      "Iteration 446, loss = 0.07588736\n",
      "Iteration 447, loss = 0.07505983\n",
      "Iteration 448, loss = 0.07518727\n",
      "Iteration 449, loss = 0.07496942\n",
      "Iteration 450, loss = 0.07408831\n",
      "Iteration 451, loss = 0.07442825\n",
      "Iteration 452, loss = 0.07367463\n",
      "Iteration 453, loss = 0.07370068\n",
      "Iteration 454, loss = 0.07314030\n",
      "Iteration 455, loss = 0.07280621\n",
      "Iteration 456, loss = 0.07266792\n",
      "Iteration 457, loss = 0.07256848\n",
      "Iteration 458, loss = 0.07264805\n",
      "Iteration 459, loss = 0.07277336\n",
      "Iteration 460, loss = 0.07306700\n",
      "Iteration 461, loss = 0.07103927\n",
      "Iteration 462, loss = 0.07120989\n",
      "Iteration 463, loss = 0.07049726\n",
      "Iteration 464, loss = 0.07035531\n",
      "Iteration 465, loss = 0.07006927\n",
      "Iteration 466, loss = 0.07028779\n",
      "Iteration 467, loss = 0.07057053\n",
      "Iteration 468, loss = 0.06982660\n",
      "Iteration 469, loss = 0.07024148\n",
      "Iteration 470, loss = 0.06900013\n",
      "Iteration 471, loss = 0.06844579\n",
      "Iteration 472, loss = 0.06838633\n",
      "Iteration 473, loss = 0.06869969\n",
      "Iteration 474, loss = 0.06780176\n",
      "Iteration 475, loss = 0.06769217\n",
      "Iteration 476, loss = 0.06735411\n",
      "Iteration 477, loss = 0.06687103\n",
      "Iteration 478, loss = 0.06649547\n",
      "Iteration 479, loss = 0.06649472\n",
      "Iteration 480, loss = 0.06628369\n",
      "Iteration 481, loss = 0.06583968\n",
      "Iteration 482, loss = 0.06676065\n",
      "Iteration 483, loss = 0.06611052\n",
      "Iteration 484, loss = 0.06591652\n",
      "Iteration 485, loss = 0.06455006\n",
      "Iteration 486, loss = 0.06475123\n",
      "Iteration 487, loss = 0.06431377\n",
      "Iteration 488, loss = 0.06438062\n",
      "Iteration 489, loss = 0.06467793\n",
      "Iteration 490, loss = 0.06354371\n",
      "Iteration 491, loss = 0.06332883\n",
      "Iteration 492, loss = 0.06295623\n",
      "Iteration 493, loss = 0.06291009\n",
      "Iteration 494, loss = 0.06264075\n",
      "Iteration 495, loss = 0.06280342\n",
      "Iteration 496, loss = 0.06188327\n",
      "Iteration 497, loss = 0.06184369\n",
      "Iteration 498, loss = 0.06125109\n",
      "Iteration 499, loss = 0.06157057\n",
      "Iteration 500, loss = 0.06090151\n",
      "Iteration 501, loss = 0.06062996\n",
      "Iteration 502, loss = 0.06046583\n",
      "Iteration 503, loss = 0.06043159\n",
      "Iteration 504, loss = 0.06057419\n",
      "Iteration 505, loss = 0.05971640\n",
      "Iteration 506, loss = 0.05980589\n",
      "Iteration 507, loss = 0.05927765\n",
      "Iteration 508, loss = 0.05905515\n",
      "Iteration 509, loss = 0.05894591\n",
      "Iteration 510, loss = 0.05849088\n",
      "Iteration 511, loss = 0.05842399\n",
      "Iteration 512, loss = 0.05835991\n",
      "Iteration 513, loss = 0.05796509\n",
      "Iteration 514, loss = 0.05766800\n",
      "Iteration 515, loss = 0.05762245\n",
      "Iteration 516, loss = 0.05725413\n",
      "Iteration 517, loss = 0.05704949\n",
      "Iteration 518, loss = 0.05696465\n",
      "Iteration 519, loss = 0.05669995\n",
      "Iteration 520, loss = 0.05637968\n",
      "Iteration 521, loss = 0.05625338\n",
      "Iteration 522, loss = 0.05590107\n",
      "Iteration 523, loss = 0.05560827\n",
      "Iteration 524, loss = 0.05541758\n",
      "Iteration 525, loss = 0.05529860\n",
      "Iteration 526, loss = 0.05511574\n",
      "Iteration 527, loss = 0.05479204\n",
      "Iteration 528, loss = 0.05470491\n",
      "Iteration 529, loss = 0.05450106\n",
      "Iteration 530, loss = 0.05417003\n",
      "Iteration 531, loss = 0.05440737\n"
     ]
    },
    {
     "name": "stdout",
     "output_type": "stream",
     "text": [
      "Iteration 532, loss = 0.05402134\n",
      "Iteration 533, loss = 0.05356481\n",
      "Iteration 534, loss = 0.05340288\n",
      "Iteration 535, loss = 0.05353410\n",
      "Iteration 536, loss = 0.05309710\n",
      "Iteration 537, loss = 0.05275489\n",
      "Iteration 538, loss = 0.05256224\n",
      "Iteration 539, loss = 0.05227302\n",
      "Iteration 540, loss = 0.05211856\n",
      "Iteration 541, loss = 0.05206190\n",
      "Iteration 542, loss = 0.05178297\n",
      "Iteration 543, loss = 0.05184288\n",
      "Iteration 544, loss = 0.05148116\n",
      "Iteration 545, loss = 0.05164782\n",
      "Iteration 546, loss = 0.05120525\n",
      "Iteration 547, loss = 0.05079327\n",
      "Iteration 548, loss = 0.05066132\n",
      "Iteration 549, loss = 0.05075226\n",
      "Iteration 550, loss = 0.05028463\n",
      "Iteration 551, loss = 0.04995104\n",
      "Iteration 552, loss = 0.04977697\n",
      "Iteration 553, loss = 0.04974848\n",
      "Iteration 554, loss = 0.04941021\n",
      "Iteration 555, loss = 0.04926059\n",
      "Iteration 556, loss = 0.04921173\n",
      "Iteration 557, loss = 0.04888965\n",
      "Iteration 558, loss = 0.04874344\n",
      "Iteration 559, loss = 0.04836116\n",
      "Iteration 560, loss = 0.04828873\n",
      "Iteration 561, loss = 0.04807184\n",
      "Iteration 562, loss = 0.04808286\n",
      "Iteration 563, loss = 0.04773681\n",
      "Iteration 564, loss = 0.04755931\n",
      "Iteration 565, loss = 0.04742929\n",
      "Iteration 566, loss = 0.04735928\n",
      "Iteration 567, loss = 0.04680731\n",
      "Iteration 568, loss = 0.04671631\n",
      "Iteration 569, loss = 0.04668979\n",
      "Iteration 570, loss = 0.04646688\n",
      "Iteration 571, loss = 0.04626461\n",
      "Iteration 572, loss = 0.04625020\n",
      "Iteration 573, loss = 0.04606823\n",
      "Iteration 574, loss = 0.04653263\n",
      "Iteration 575, loss = 0.04671563\n",
      "Iteration 576, loss = 0.04599145\n",
      "Iteration 577, loss = 0.04609021\n",
      "Iteration 578, loss = 0.04575210\n",
      "Iteration 579, loss = 0.04520362\n",
      "Iteration 580, loss = 0.04471164\n",
      "Iteration 581, loss = 0.04439203\n",
      "Iteration 582, loss = 0.04441363\n",
      "Iteration 583, loss = 0.04436906\n",
      "Iteration 584, loss = 0.04413780\n",
      "Iteration 585, loss = 0.04389668\n",
      "Iteration 586, loss = 0.04372502\n",
      "Iteration 587, loss = 0.04340954\n",
      "Iteration 588, loss = 0.04340896\n",
      "Iteration 589, loss = 0.04328269\n",
      "Iteration 590, loss = 0.04309406\n",
      "Iteration 591, loss = 0.04309917\n",
      "Iteration 592, loss = 0.04274172\n",
      "Iteration 593, loss = 0.04301237\n",
      "Iteration 594, loss = 0.04291460\n",
      "Iteration 595, loss = 0.04237681\n",
      "Iteration 596, loss = 0.04223252\n",
      "Iteration 597, loss = 0.04201538\n",
      "Iteration 598, loss = 0.04170245\n",
      "Iteration 599, loss = 0.04171068\n",
      "Iteration 600, loss = 0.04158573\n",
      "Iteration 601, loss = 0.04121328\n",
      "Iteration 602, loss = 0.04116411\n",
      "Iteration 603, loss = 0.04089810\n",
      "Iteration 604, loss = 0.04088547\n",
      "Iteration 605, loss = 0.04090696\n",
      "Iteration 606, loss = 0.04043374\n",
      "Iteration 607, loss = 0.04050916\n",
      "Iteration 608, loss = 0.04023397\n",
      "Iteration 609, loss = 0.04020766\n",
      "Iteration 610, loss = 0.04012994\n",
      "Iteration 611, loss = 0.04009861\n",
      "Iteration 612, loss = 0.03970196\n",
      "Iteration 613, loss = 0.03955604\n",
      "Iteration 614, loss = 0.03949123\n",
      "Iteration 615, loss = 0.03913812\n",
      "Iteration 616, loss = 0.03918352\n",
      "Iteration 617, loss = 0.03900291\n",
      "Iteration 618, loss = 0.03885377\n",
      "Iteration 619, loss = 0.03863498\n",
      "Iteration 620, loss = 0.03841017\n",
      "Iteration 621, loss = 0.03824968\n",
      "Iteration 622, loss = 0.03805821\n",
      "Iteration 623, loss = 0.03825745\n",
      "Iteration 624, loss = 0.03781866\n",
      "Iteration 625, loss = 0.03784485\n",
      "Iteration 626, loss = 0.03755748\n",
      "Iteration 627, loss = 0.03740725\n",
      "Iteration 628, loss = 0.03738659\n",
      "Iteration 629, loss = 0.03714709\n",
      "Iteration 630, loss = 0.03700739\n",
      "Iteration 631, loss = 0.03694390\n",
      "Iteration 632, loss = 0.03716071\n",
      "Iteration 633, loss = 0.03671953\n",
      "Iteration 634, loss = 0.03641385\n",
      "Iteration 635, loss = 0.03678044\n",
      "Iteration 636, loss = 0.03609852\n",
      "Iteration 637, loss = 0.03588192\n",
      "Iteration 638, loss = 0.03584668\n",
      "Iteration 639, loss = 0.03574215\n",
      "Iteration 640, loss = 0.03563667\n",
      "Iteration 641, loss = 0.03542326\n",
      "Iteration 642, loss = 0.03553565\n",
      "Iteration 643, loss = 0.03525315\n",
      "Iteration 644, loss = 0.03496296\n",
      "Iteration 645, loss = 0.03507256\n",
      "Iteration 646, loss = 0.03476204\n",
      "Iteration 647, loss = 0.03506753\n",
      "Iteration 648, loss = 0.03448803\n",
      "Iteration 649, loss = 0.03442362\n",
      "Iteration 650, loss = 0.03425524\n",
      "Iteration 651, loss = 0.03405740\n",
      "Iteration 652, loss = 0.03401821\n",
      "Iteration 653, loss = 0.03381177\n",
      "Iteration 654, loss = 0.03382246\n",
      "Iteration 655, loss = 0.03345739\n",
      "Iteration 656, loss = 0.03396926\n",
      "Iteration 657, loss = 0.03331515\n",
      "Iteration 658, loss = 0.03336998\n",
      "Iteration 659, loss = 0.03313981\n",
      "Iteration 660, loss = 0.03301239\n",
      "Iteration 661, loss = 0.03271884\n",
      "Iteration 662, loss = 0.03277672\n",
      "Iteration 663, loss = 0.03263858\n",
      "Iteration 664, loss = 0.03240368\n",
      "Iteration 665, loss = 0.03243412\n",
      "Iteration 666, loss = 0.03208922\n",
      "Iteration 667, loss = 0.03190647\n",
      "Iteration 668, loss = 0.03180070\n",
      "Iteration 669, loss = 0.03189849\n",
      "Iteration 670, loss = 0.03208849\n",
      "Iteration 671, loss = 0.03173494\n",
      "Iteration 672, loss = 0.03121137\n",
      "Iteration 673, loss = 0.03127900\n",
      "Iteration 674, loss = 0.03155147\n",
      "Iteration 675, loss = 0.03130920\n",
      "Iteration 676, loss = 0.03077344\n",
      "Iteration 677, loss = 0.03123171\n",
      "Iteration 678, loss = 0.03134662\n",
      "Iteration 679, loss = 0.03111758\n",
      "Iteration 680, loss = 0.03089317\n",
      "Iteration 681, loss = 0.03039732\n",
      "Iteration 682, loss = 0.03005477\n",
      "Iteration 683, loss = 0.03003598\n",
      "Iteration 684, loss = 0.02994649\n",
      "Iteration 685, loss = 0.02994275\n",
      "Iteration 686, loss = 0.02995282\n",
      "Iteration 687, loss = 0.02966904\n",
      "Iteration 688, loss = 0.02977568\n",
      "Iteration 689, loss = 0.02946940\n",
      "Iteration 690, loss = 0.02945985\n",
      "Iteration 691, loss = 0.02923015\n",
      "Iteration 692, loss = 0.02897352\n",
      "Iteration 693, loss = 0.02900524\n",
      "Iteration 694, loss = 0.02887369\n",
      "Iteration 695, loss = 0.02889476\n",
      "Iteration 696, loss = 0.02871015\n",
      "Iteration 697, loss = 0.02874127\n",
      "Iteration 698, loss = 0.02835394\n",
      "Iteration 699, loss = 0.02843018\n",
      "Iteration 700, loss = 0.02812782\n",
      "Iteration 701, loss = 0.02811542\n",
      "Iteration 702, loss = 0.02813874\n",
      "Iteration 703, loss = 0.02777610\n",
      "Iteration 704, loss = 0.02784743\n",
      "Iteration 705, loss = 0.02768024\n",
      "Iteration 706, loss = 0.02751895\n",
      "Iteration 707, loss = 0.02746432\n",
      "Iteration 708, loss = 0.02731815\n",
      "Iteration 709, loss = 0.02725264\n",
      "Iteration 710, loss = 0.02707589\n",
      "Iteration 711, loss = 0.02687747\n",
      "Iteration 712, loss = 0.02699911\n",
      "Iteration 713, loss = 0.02694670\n",
      "Iteration 714, loss = 0.02687815\n",
      "Iteration 715, loss = 0.02655451\n",
      "Iteration 716, loss = 0.02639004\n",
      "Iteration 717, loss = 0.02659311\n",
      "Iteration 718, loss = 0.02659016\n",
      "Iteration 719, loss = 0.02666500\n",
      "Iteration 720, loss = 0.02614925\n",
      "Iteration 721, loss = 0.02593373\n",
      "Iteration 722, loss = 0.02574433\n",
      "Iteration 723, loss = 0.02565055\n",
      "Iteration 724, loss = 0.02568414\n",
      "Iteration 725, loss = 0.02560273\n",
      "Iteration 726, loss = 0.02540865\n",
      "Iteration 727, loss = 0.02566282\n",
      "Iteration 728, loss = 0.02555581\n",
      "Iteration 729, loss = 0.02504363\n",
      "Iteration 730, loss = 0.02496827\n",
      "Iteration 731, loss = 0.02502919\n",
      "Iteration 732, loss = 0.02495696\n",
      "Iteration 733, loss = 0.02463811\n",
      "Iteration 734, loss = 0.02453586\n",
      "Iteration 735, loss = 0.02456196\n",
      "Iteration 736, loss = 0.02451871\n",
      "Iteration 737, loss = 0.02421825\n",
      "Iteration 738, loss = 0.02428391\n",
      "Iteration 739, loss = 0.02417964\n",
      "Iteration 740, loss = 0.02416290\n",
      "Iteration 741, loss = 0.02418296\n",
      "Iteration 742, loss = 0.02393329\n",
      "Iteration 743, loss = 0.02387003\n",
      "Iteration 744, loss = 0.02380331\n",
      "Iteration 745, loss = 0.02356945\n",
      "Iteration 746, loss = 0.02339614\n",
      "Iteration 747, loss = 0.02351106\n",
      "Iteration 748, loss = 0.02343969\n",
      "Iteration 749, loss = 0.02313776\n",
      "Iteration 750, loss = 0.02322352\n",
      "Iteration 751, loss = 0.02309780\n",
      "Iteration 752, loss = 0.02309130\n",
      "Iteration 753, loss = 0.02291286\n",
      "Iteration 754, loss = 0.02287749\n",
      "Iteration 755, loss = 0.02268967\n",
      "Iteration 756, loss = 0.02255559\n",
      "Iteration 757, loss = 0.02253901\n",
      "Iteration 758, loss = 0.02235904\n",
      "Iteration 759, loss = 0.02228171\n",
      "Iteration 760, loss = 0.02238148\n",
      "Iteration 761, loss = 0.02224560\n",
      "Iteration 762, loss = 0.02204521\n",
      "Iteration 763, loss = 0.02204049\n",
      "Iteration 764, loss = 0.02188827\n",
      "Iteration 765, loss = 0.02192763\n",
      "Iteration 766, loss = 0.02187747\n",
      "Iteration 767, loss = 0.02157125\n",
      "Iteration 768, loss = 0.02156216\n",
      "Iteration 769, loss = 0.02182753\n",
      "Iteration 770, loss = 0.02194600\n",
      "Iteration 771, loss = 0.02138275\n",
      "Iteration 772, loss = 0.02164302\n",
      "Iteration 773, loss = 0.02171958\n",
      "Iteration 774, loss = 0.02128977\n",
      "Iteration 775, loss = 0.02107548\n",
      "Iteration 776, loss = 0.02118465\n",
      "Iteration 777, loss = 0.02079882\n",
      "Iteration 778, loss = 0.02111844\n",
      "Iteration 779, loss = 0.02085843\n",
      "Iteration 780, loss = 0.02064419\n",
      "Iteration 781, loss = 0.02044104\n",
      "Iteration 782, loss = 0.02035446\n",
      "Iteration 783, loss = 0.02035304\n",
      "Iteration 784, loss = 0.02032171\n",
      "Iteration 785, loss = 0.02027899\n",
      "Iteration 786, loss = 0.02032536\n",
      "Iteration 787, loss = 0.02016911\n",
      "Iteration 788, loss = 0.02003606\n",
      "Iteration 789, loss = 0.02000276\n",
      "Iteration 790, loss = 0.01978984\n",
      "Iteration 791, loss = 0.01970208\n",
      "Iteration 792, loss = 0.01966025\n",
      "Iteration 793, loss = 0.01960965\n",
      "Iteration 794, loss = 0.01952342\n"
     ]
    },
    {
     "name": "stdout",
     "output_type": "stream",
     "text": [
      "Iteration 795, loss = 0.01938333\n",
      "Iteration 796, loss = 0.01945741\n",
      "Iteration 797, loss = 0.01931621\n",
      "Iteration 798, loss = 0.01925424\n",
      "Iteration 799, loss = 0.01911219\n",
      "Iteration 800, loss = 0.01924991\n",
      "Iteration 801, loss = 0.01904624\n",
      "Iteration 802, loss = 0.01894709\n",
      "Iteration 803, loss = 0.01879728\n",
      "Iteration 804, loss = 0.01886672\n",
      "Iteration 805, loss = 0.01892833\n",
      "Iteration 806, loss = 0.01919330\n",
      "Iteration 807, loss = 0.01859393\n",
      "Iteration 808, loss = 0.01846018\n",
      "Iteration 809, loss = 0.01849516\n",
      "Iteration 810, loss = 0.01871091\n",
      "Iteration 811, loss = 0.01853194\n",
      "Iteration 812, loss = 0.01819508\n",
      "Iteration 813, loss = 0.01816061\n",
      "Iteration 814, loss = 0.01810338\n",
      "Iteration 815, loss = 0.01793987\n",
      "Iteration 816, loss = 0.01798350\n",
      "Iteration 817, loss = 0.01798156\n",
      "Iteration 818, loss = 0.01790534\n",
      "Iteration 819, loss = 0.01780223\n",
      "Iteration 820, loss = 0.01774603\n",
      "Iteration 821, loss = 0.01748936\n",
      "Iteration 822, loss = 0.01769306\n",
      "Iteration 823, loss = 0.01742659\n",
      "Iteration 824, loss = 0.01737540\n",
      "Iteration 825, loss = 0.01733830\n",
      "Iteration 826, loss = 0.01724325\n",
      "Iteration 827, loss = 0.01753378\n",
      "Iteration 828, loss = 0.01715348\n",
      "Iteration 829, loss = 0.01708517\n",
      "Iteration 830, loss = 0.01706206\n",
      "Iteration 831, loss = 0.01690535\n",
      "Iteration 832, loss = 0.01685705\n",
      "Iteration 833, loss = 0.01679966\n",
      "Iteration 834, loss = 0.01686753\n",
      "Iteration 835, loss = 0.01670619\n",
      "Iteration 836, loss = 0.01662213\n",
      "Iteration 837, loss = 0.01667301\n",
      "Iteration 838, loss = 0.01645336\n",
      "Iteration 839, loss = 0.01642777\n",
      "Iteration 840, loss = 0.01629521\n",
      "Iteration 841, loss = 0.01630845\n",
      "Iteration 842, loss = 0.01640876\n",
      "Iteration 843, loss = 0.01628017\n",
      "Iteration 844, loss = 0.01604561\n",
      "Iteration 845, loss = 0.01605957\n",
      "Iteration 846, loss = 0.01604183\n",
      "Iteration 847, loss = 0.01602879\n",
      "Iteration 848, loss = 0.01622428\n",
      "Iteration 849, loss = 0.01605067\n",
      "Iteration 850, loss = 0.01568933\n",
      "Iteration 851, loss = 0.01571307\n",
      "Iteration 852, loss = 0.01567348\n",
      "Iteration 853, loss = 0.01590617\n",
      "Iteration 854, loss = 0.01550335\n",
      "Iteration 855, loss = 0.01552615\n",
      "Iteration 856, loss = 0.01538244\n",
      "Iteration 857, loss = 0.01527591\n",
      "Iteration 858, loss = 0.01531651\n",
      "Iteration 859, loss = 0.01524854\n",
      "Iteration 860, loss = 0.01532475\n",
      "Iteration 861, loss = 0.01508930\n",
      "Iteration 862, loss = 0.01508557\n",
      "Iteration 863, loss = 0.01497561\n",
      "Iteration 864, loss = 0.01494989\n",
      "Iteration 865, loss = 0.01498834\n",
      "Iteration 866, loss = 0.01502472\n",
      "Iteration 867, loss = 0.01504283\n",
      "Iteration 868, loss = 0.01544232\n",
      "Iteration 869, loss = 0.01482797\n",
      "Iteration 870, loss = 0.01465019\n",
      "Iteration 871, loss = 0.01451645\n",
      "Iteration 872, loss = 0.01455857\n",
      "Iteration 873, loss = 0.01434715\n",
      "Iteration 874, loss = 0.01442813\n",
      "Iteration 875, loss = 0.01440217\n",
      "Iteration 876, loss = 0.01421118\n",
      "Iteration 877, loss = 0.01424576\n",
      "Iteration 878, loss = 0.01418543\n",
      "Iteration 879, loss = 0.01411712\n",
      "Iteration 880, loss = 0.01403245\n",
      "Iteration 881, loss = 0.01398750\n",
      "Iteration 882, loss = 0.01389062\n",
      "Iteration 883, loss = 0.01382621\n",
      "Iteration 884, loss = 0.01379132\n",
      "Iteration 885, loss = 0.01370402\n",
      "Iteration 886, loss = 0.01376730\n",
      "Iteration 887, loss = 0.01375260\n",
      "Training loss did not improve more than tol=0.000100 for 10 consecutive epochs. Stopping.\n"
     ]
    },
    {
     "data": {
      "text/plain": [
       "MLPClassifier(max_iter=1000, verbose=True)"
      ]
     },
     "execution_count": 65,
     "metadata": {},
     "output_type": "execute_result"
    }
   ],
   "source": [
    "from sklearn.neural_network import MLPClassifier\n",
    "\n",
    "#Default settings create 1 hidden layer with 1000 neurons\n",
    "mlp_clf = MLPClassifier(hidden_layer_sizes=(100,), max_iter=1000, verbose=True)\n",
    "\n",
    "mlp_clf.fit(train_x, train_y)"
   ]
  },
  {
   "cell_type": "code",
   "execution_count": 66,
   "metadata": {},
   "outputs": [
    {
     "data": {
      "text/plain": [
       "1.0"
      ]
     },
     "execution_count": 66,
     "metadata": {},
     "output_type": "execute_result"
    }
   ],
   "source": [
    "from sklearn.metrics import accuracy_score\n",
    "\n",
    "#Predict the train values\n",
    "train_y_pred = mlp_clf.predict(train_x)\n",
    "\n",
    "#Train accuracy\n",
    "accuracy_score(train_y, train_y_pred)"
   ]
  },
  {
   "cell_type": "code",
   "execution_count": 67,
   "metadata": {},
   "outputs": [
    {
     "data": {
      "text/plain": [
       "0.6226666666666667"
      ]
     },
     "execution_count": 67,
     "metadata": {},
     "output_type": "execute_result"
    }
   ],
   "source": [
    "#Predict the test values\n",
    "test_y_pred = mlp_clf.predict(test_x)\n",
    "\n",
    "#Test accuracy\n",
    "accuracy_score(test_y, test_y_pred)"
   ]
  },
  {
   "cell_type": "markdown",
   "metadata": {},
   "source": [
    "# Neural Network Model 2 - Deep Neural Network DNN\n",
    "### 3 layers w/o i/o, funnel shape, no early stopping"
   ]
  },
  {
   "cell_type": "code",
   "execution_count": 84,
   "metadata": {},
   "outputs": [
    {
     "data": {
      "text/plain": [
       "MLPClassifier(hidden_layer_sizes=(50, 25, 10), max_iter=1000)"
      ]
     },
     "execution_count": 84,
     "metadata": {},
     "output_type": "execute_result"
    }
   ],
   "source": [
    "dnn_clf = MLPClassifier(hidden_layer_sizes=(50,25,10),\n",
    "                       max_iter=1000)\n",
    "\n",
    "dnn_clf.fit(train_x, train_y)"
   ]
  },
  {
   "cell_type": "code",
   "execution_count": 85,
   "metadata": {},
   "outputs": [
    {
     "data": {
      "text/plain": [
       "211"
      ]
     },
     "execution_count": 85,
     "metadata": {},
     "output_type": "execute_result"
    }
   ],
   "source": [
    "#Let's check the number of iterations:\n",
    "dnn_clf.n_iter_"
   ]
  },
  {
   "cell_type": "code",
   "execution_count": 86,
   "metadata": {},
   "outputs": [
    {
     "data": {
      "text/plain": [
       "5"
      ]
     },
     "execution_count": 86,
     "metadata": {},
     "output_type": "execute_result"
    }
   ],
   "source": [
    "#Let's check the number of layers:\n",
    "dnn_clf.n_layers_"
   ]
  },
  {
   "cell_type": "code",
   "execution_count": 87,
   "metadata": {},
   "outputs": [
    {
     "data": {
      "text/plain": [
       "1.0"
      ]
     },
     "execution_count": 87,
     "metadata": {},
     "output_type": "execute_result"
    }
   ],
   "source": [
    "#Predict the train values\n",
    "train_y_pred = dnn_clf.predict(train_x)\n",
    "\n",
    "#Train accuracy\n",
    "accuracy_score(train_y, train_y_pred)"
   ]
  },
  {
   "cell_type": "code",
   "execution_count": 88,
   "metadata": {},
   "outputs": [
    {
     "data": {
      "text/plain": [
       "0.6946666666666667"
      ]
     },
     "execution_count": 88,
     "metadata": {},
     "output_type": "execute_result"
    }
   ],
   "source": [
    "#Predict the test values\n",
    "test_y_pred = dnn_clf.predict(test_x)\n",
    "\n",
    "#Test accuracy\n",
    "accuracy_score(test_y, test_y_pred)"
   ]
  },
  {
   "cell_type": "markdown",
   "metadata": {},
   "source": [
    "# Discussion\n",
    "\n",
    "Briefly answer the following questions: (2 points) \n",
    "1) Which model performs the best (and why)?<br>\n",
    "2) What is the baseline value?<br>\n",
    "3) Does the best model perform better than the baseline (and why)?<br>\n",
    "4) Does the best model exhibit any overfitting; what did you do about it?"
   ]
  },
  {
   "cell_type": "markdown",
   "metadata": {},
   "source": [
    "1- Model 2 performs best with test accuacy of 69% <br>\n",
    "2- Baseline is 60% accuracy<br>\n",
    "3- Model 2 outperfoms the baseline by a 9% increase in accuarcy<br>\n",
    "4- Model 2 exhibits overfitting training to 100% accuracy then dropping sigincatly in test accuracy.<br>"
   ]
  }
 ],
 "metadata": {
  "kernelspec": {
   "display_name": "Python 3",
   "language": "python",
   "name": "python3"
  },
  "language_info": {
   "codemirror_mode": {
    "name": "ipython",
    "version": 3
   },
   "file_extension": ".py",
   "mimetype": "text/x-python",
   "name": "python",
   "nbconvert_exporter": "python",
   "pygments_lexer": "ipython3",
   "version": "3.8.8"
  }
 },
 "nbformat": 4,
 "nbformat_minor": 2
}
